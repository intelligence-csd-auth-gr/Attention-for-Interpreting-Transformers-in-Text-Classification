{
  "cells": [
    {
      "cell_type": "markdown",
      "metadata": {
        "id": "FT9CYDnih69b"
      },
      "source": [
        "In this notebook, we will finetune the transformer model 'RoBERTa' on the Ethos dataset and keep track of the performance of the model for a number of 10 to 15 epochs in total. We will also examine the performance of different interpretability techiniques on RoBERTa. Lime was not included in the code."
      ]
    },
    {
      "cell_type": "code",
      "execution_count": null,
      "metadata": {
        "id": "IygDhzVkhn1X",
        "colab": {
          "base_uri": "https://localhost:8080/"
        },
        "outputId": "4efdc5b8-3253-4dd6-d2bf-34a6b9bbf4af"
      },
      "outputs": [
        {
          "output_type": "stream",
          "name": "stdout",
          "text": [
            "Mounted at /content/drive\n"
          ]
        }
      ],
      "source": [
        "#We first need to conect to our drive, in order to access the projects files and store results\n",
        "from google.colab import drive\n",
        "drive.mount('/content/drive')"
      ]
    },
    {
      "cell_type": "code",
      "execution_count": null,
      "metadata": {
        "id": "jobh9GwniSfd"
      },
      "outputs": [],
      "source": [
        "import sys\n",
        "sys.path.append('/content/drive/MyDrive/Thesis')"
      ]
    },
    {
      "cell_type": "code",
      "execution_count": null,
      "metadata": {
        "colab": {
          "base_uri": "https://localhost:8080/"
        },
        "id": "MDGRdNK6kb6S",
        "outputId": "7bb5c8fb-2293-467b-e08b-d9dc84791d72"
      },
      "outputs": [
        {
          "output_type": "stream",
          "name": "stdout",
          "text": [
            "Looking in indexes: https://pypi.org/simple, https://us-python.pkg.dev/colab-wheels/public/simple/\n",
            "Collecting transformers-interpret==0.5.2\n",
            "  Downloading transformers-interpret-0.5.2.tar.gz (29 kB)\n",
            "  Preparing metadata (setup.py) ... \u001b[?25l\u001b[?25hdone\n",
            "Collecting transformers>=3.0.0 (from transformers-interpret==0.5.2)\n",
            "  Downloading transformers-4.30.2-py3-none-any.whl (7.2 MB)\n",
            "\u001b[2K     \u001b[90m━━━━━━━━━━━━━━━━━━━━━━━━━━━━━━━━━━━━━━━━\u001b[0m \u001b[32m7.2/7.2 MB\u001b[0m \u001b[31m58.1 MB/s\u001b[0m eta \u001b[36m0:00:00\u001b[0m\n",
            "\u001b[?25hCollecting captum>=0.3.1 (from transformers-interpret==0.5.2)\n",
            "  Downloading captum-0.6.0-py3-none-any.whl (1.3 MB)\n",
            "\u001b[2K     \u001b[90m━━━━━━━━━━━━━━━━━━━━━━━━━━━━━━━━━━━━━━━━\u001b[0m \u001b[32m1.3/1.3 MB\u001b[0m \u001b[31m76.2 MB/s\u001b[0m eta \u001b[36m0:00:00\u001b[0m\n",
            "\u001b[?25hRequirement already satisfied: matplotlib in /usr/local/lib/python3.10/dist-packages (from captum>=0.3.1->transformers-interpret==0.5.2) (3.7.1)\n",
            "Requirement already satisfied: numpy in /usr/local/lib/python3.10/dist-packages (from captum>=0.3.1->transformers-interpret==0.5.2) (1.22.4)\n",
            "Requirement already satisfied: torch>=1.6 in /usr/local/lib/python3.10/dist-packages (from captum>=0.3.1->transformers-interpret==0.5.2) (2.0.1+cu118)\n",
            "Requirement already satisfied: filelock in /usr/local/lib/python3.10/dist-packages (from transformers>=3.0.0->transformers-interpret==0.5.2) (3.12.0)\n",
            "Collecting huggingface-hub<1.0,>=0.14.1 (from transformers>=3.0.0->transformers-interpret==0.5.2)\n",
            "  Downloading huggingface_hub-0.15.1-py3-none-any.whl (236 kB)\n",
            "\u001b[2K     \u001b[90m━━━━━━━━━━━━━━━━━━━━━━━━━━━━━━━━━━━━━━\u001b[0m \u001b[32m236.8/236.8 kB\u001b[0m \u001b[31m23.6 MB/s\u001b[0m eta \u001b[36m0:00:00\u001b[0m\n",
            "\u001b[?25hRequirement already satisfied: packaging>=20.0 in /usr/local/lib/python3.10/dist-packages (from transformers>=3.0.0->transformers-interpret==0.5.2) (23.1)\n",
            "Requirement already satisfied: pyyaml>=5.1 in /usr/local/lib/python3.10/dist-packages (from transformers>=3.0.0->transformers-interpret==0.5.2) (6.0)\n",
            "Requirement already satisfied: regex!=2019.12.17 in /usr/local/lib/python3.10/dist-packages (from transformers>=3.0.0->transformers-interpret==0.5.2) (2022.10.31)\n",
            "Requirement already satisfied: requests in /usr/local/lib/python3.10/dist-packages (from transformers>=3.0.0->transformers-interpret==0.5.2) (2.27.1)\n",
            "Collecting tokenizers!=0.11.3,<0.14,>=0.11.1 (from transformers>=3.0.0->transformers-interpret==0.5.2)\n",
            "  Downloading tokenizers-0.13.3-cp310-cp310-manylinux_2_17_x86_64.manylinux2014_x86_64.whl (7.8 MB)\n",
            "\u001b[2K     \u001b[90m━━━━━━━━━━━━━━━━━━━━━━━━━━━━━━━━━━━━━━━━\u001b[0m \u001b[32m7.8/7.8 MB\u001b[0m \u001b[31m120.2 MB/s\u001b[0m eta \u001b[36m0:00:00\u001b[0m\n",
            "\u001b[?25hCollecting safetensors>=0.3.1 (from transformers>=3.0.0->transformers-interpret==0.5.2)\n",
            "  Downloading safetensors-0.3.1-cp310-cp310-manylinux_2_17_x86_64.manylinux2014_x86_64.whl (1.3 MB)\n",
            "\u001b[2K     \u001b[90m━━━━━━━━━━━━━━━━━━━━━━━━━━━━━━━━━━━━━━━━\u001b[0m \u001b[32m1.3/1.3 MB\u001b[0m \u001b[31m74.4 MB/s\u001b[0m eta \u001b[36m0:00:00\u001b[0m\n",
            "\u001b[?25hRequirement already satisfied: tqdm>=4.27 in /usr/local/lib/python3.10/dist-packages (from transformers>=3.0.0->transformers-interpret==0.5.2) (4.65.0)\n",
            "Requirement already satisfied: fsspec in /usr/local/lib/python3.10/dist-packages (from huggingface-hub<1.0,>=0.14.1->transformers>=3.0.0->transformers-interpret==0.5.2) (2023.4.0)\n",
            "Requirement already satisfied: typing-extensions>=3.7.4.3 in /usr/local/lib/python3.10/dist-packages (from huggingface-hub<1.0,>=0.14.1->transformers>=3.0.0->transformers-interpret==0.5.2) (4.5.0)\n",
            "Requirement already satisfied: sympy in /usr/local/lib/python3.10/dist-packages (from torch>=1.6->captum>=0.3.1->transformers-interpret==0.5.2) (1.11.1)\n",
            "Requirement already satisfied: networkx in /usr/local/lib/python3.10/dist-packages (from torch>=1.6->captum>=0.3.1->transformers-interpret==0.5.2) (3.1)\n",
            "Requirement already satisfied: jinja2 in /usr/local/lib/python3.10/dist-packages (from torch>=1.6->captum>=0.3.1->transformers-interpret==0.5.2) (3.1.2)\n",
            "Requirement already satisfied: triton==2.0.0 in /usr/local/lib/python3.10/dist-packages (from torch>=1.6->captum>=0.3.1->transformers-interpret==0.5.2) (2.0.0)\n",
            "Requirement already satisfied: cmake in /usr/local/lib/python3.10/dist-packages (from triton==2.0.0->torch>=1.6->captum>=0.3.1->transformers-interpret==0.5.2) (3.25.2)\n",
            "Requirement already satisfied: lit in /usr/local/lib/python3.10/dist-packages (from triton==2.0.0->torch>=1.6->captum>=0.3.1->transformers-interpret==0.5.2) (16.0.5)\n",
            "Requirement already satisfied: contourpy>=1.0.1 in /usr/local/lib/python3.10/dist-packages (from matplotlib->captum>=0.3.1->transformers-interpret==0.5.2) (1.0.7)\n",
            "Requirement already satisfied: cycler>=0.10 in /usr/local/lib/python3.10/dist-packages (from matplotlib->captum>=0.3.1->transformers-interpret==0.5.2) (0.11.0)\n",
            "Requirement already satisfied: fonttools>=4.22.0 in /usr/local/lib/python3.10/dist-packages (from matplotlib->captum>=0.3.1->transformers-interpret==0.5.2) (4.39.3)\n",
            "Requirement already satisfied: kiwisolver>=1.0.1 in /usr/local/lib/python3.10/dist-packages (from matplotlib->captum>=0.3.1->transformers-interpret==0.5.2) (1.4.4)\n",
            "Requirement already satisfied: pillow>=6.2.0 in /usr/local/lib/python3.10/dist-packages (from matplotlib->captum>=0.3.1->transformers-interpret==0.5.2) (8.4.0)\n",
            "Requirement already satisfied: pyparsing>=2.3.1 in /usr/local/lib/python3.10/dist-packages (from matplotlib->captum>=0.3.1->transformers-interpret==0.5.2) (3.0.9)\n",
            "Requirement already satisfied: python-dateutil>=2.7 in /usr/local/lib/python3.10/dist-packages (from matplotlib->captum>=0.3.1->transformers-interpret==0.5.2) (2.8.2)\n",
            "Requirement already satisfied: urllib3<1.27,>=1.21.1 in /usr/local/lib/python3.10/dist-packages (from requests->transformers>=3.0.0->transformers-interpret==0.5.2) (1.26.15)\n",
            "Requirement already satisfied: certifi>=2017.4.17 in /usr/local/lib/python3.10/dist-packages (from requests->transformers>=3.0.0->transformers-interpret==0.5.2) (2022.12.7)\n",
            "Requirement already satisfied: charset-normalizer~=2.0.0 in /usr/local/lib/python3.10/dist-packages (from requests->transformers>=3.0.0->transformers-interpret==0.5.2) (2.0.12)\n",
            "Requirement already satisfied: idna<4,>=2.5 in /usr/local/lib/python3.10/dist-packages (from requests->transformers>=3.0.0->transformers-interpret==0.5.2) (3.4)\n",
            "Requirement already satisfied: six>=1.5 in /usr/local/lib/python3.10/dist-packages (from python-dateutil>=2.7->matplotlib->captum>=0.3.1->transformers-interpret==0.5.2) (1.16.0)\n",
            "Requirement already satisfied: MarkupSafe>=2.0 in /usr/local/lib/python3.10/dist-packages (from jinja2->torch>=1.6->captum>=0.3.1->transformers-interpret==0.5.2) (2.1.2)\n",
            "Requirement already satisfied: mpmath>=0.19 in /usr/local/lib/python3.10/dist-packages (from sympy->torch>=1.6->captum>=0.3.1->transformers-interpret==0.5.2) (1.3.0)\n",
            "Building wheels for collected packages: transformers-interpret\n",
            "  Building wheel for transformers-interpret (setup.py) ... \u001b[?25l\u001b[?25hdone\n",
            "  Created wheel for transformers-interpret: filename=transformers_interpret-0.5.2-py3-none-any.whl size=23501 sha256=540212b6f4a843b0862b8aa0a1e8f88a6f03789853df79d4bbdc6ae393345f77\n",
            "  Stored in directory: /root/.cache/pip/wheels/3f/b6/91/4103e1d2856cf07bb4840a08156f08edf2f63408132ea02cfd\n",
            "Successfully built transformers-interpret\n",
            "Installing collected packages: tokenizers, safetensors, huggingface-hub, transformers, captum, transformers-interpret\n",
            "Successfully installed captum-0.6.0 huggingface-hub-0.15.1 safetensors-0.3.1 tokenizers-0.13.3 transformers-4.30.2 transformers-interpret-0.5.2\n",
            "Looking in indexes: https://pypi.org/simple, https://us-python.pkg.dev/colab-wheels/public/simple/\n",
            "Collecting transformers==4.15.0\n",
            "  Downloading transformers-4.15.0-py3-none-any.whl (3.4 MB)\n",
            "\u001b[2K     \u001b[90m━━━━━━━━━━━━━━━━━━━━━━━━━━━━━━━━━━━━━━━━\u001b[0m \u001b[32m3.4/3.4 MB\u001b[0m \u001b[31m12.6 MB/s\u001b[0m eta \u001b[36m0:00:00\u001b[0m\n",
            "\u001b[?25hRequirement already satisfied: filelock in /usr/local/lib/python3.10/dist-packages (from transformers==4.15.0) (3.12.0)\n",
            "Requirement already satisfied: huggingface-hub<1.0,>=0.1.0 in /usr/local/lib/python3.10/dist-packages (from transformers==4.15.0) (0.15.1)\n",
            "Requirement already satisfied: numpy>=1.17 in /usr/local/lib/python3.10/dist-packages (from transformers==4.15.0) (1.22.4)\n",
            "Requirement already satisfied: packaging>=20.0 in /usr/local/lib/python3.10/dist-packages (from transformers==4.15.0) (23.1)\n",
            "Requirement already satisfied: pyyaml>=5.1 in /usr/local/lib/python3.10/dist-packages (from transformers==4.15.0) (6.0)\n",
            "Requirement already satisfied: regex!=2019.12.17 in /usr/local/lib/python3.10/dist-packages (from transformers==4.15.0) (2022.10.31)\n",
            "Requirement already satisfied: requests in /usr/local/lib/python3.10/dist-packages (from transformers==4.15.0) (2.27.1)\n",
            "Collecting sacremoses (from transformers==4.15.0)\n",
            "  Downloading sacremoses-0.0.53.tar.gz (880 kB)\n",
            "\u001b[2K     \u001b[90m━━━━━━━━━━━━━━━━━━━━━━━━━━━━━━━━━━━━━━\u001b[0m \u001b[32m880.6/880.6 kB\u001b[0m \u001b[31m21.7 MB/s\u001b[0m eta \u001b[36m0:00:00\u001b[0m\n",
            "\u001b[?25h  Preparing metadata (setup.py) ... \u001b[?25l\u001b[?25hdone\n",
            "Collecting tokenizers<0.11,>=0.10.1 (from transformers==4.15.0)\n",
            "  Downloading tokenizers-0.10.3.tar.gz (212 kB)\n",
            "\u001b[2K     \u001b[90m━━━━━━━━━━━━━━━━━━━━━━━━━━━━━━━━━━━━━━\u001b[0m \u001b[32m212.7/212.7 kB\u001b[0m \u001b[31m17.4 MB/s\u001b[0m eta \u001b[36m0:00:00\u001b[0m\n",
            "\u001b[?25h  Installing build dependencies ... \u001b[?25l\u001b[?25hdone\n",
            "  Getting requirements to build wheel ... \u001b[?25l\u001b[?25hdone\n",
            "  Preparing metadata (pyproject.toml) ... \u001b[?25l\u001b[?25hdone\n",
            "Requirement already satisfied: tqdm>=4.27 in /usr/local/lib/python3.10/dist-packages (from transformers==4.15.0) (4.65.0)\n",
            "Requirement already satisfied: fsspec in /usr/local/lib/python3.10/dist-packages (from huggingface-hub<1.0,>=0.1.0->transformers==4.15.0) (2023.4.0)\n",
            "Requirement already satisfied: typing-extensions>=3.7.4.3 in /usr/local/lib/python3.10/dist-packages (from huggingface-hub<1.0,>=0.1.0->transformers==4.15.0) (4.5.0)\n",
            "Requirement already satisfied: urllib3<1.27,>=1.21.1 in /usr/local/lib/python3.10/dist-packages (from requests->transformers==4.15.0) (1.26.15)\n",
            "Requirement already satisfied: certifi>=2017.4.17 in /usr/local/lib/python3.10/dist-packages (from requests->transformers==4.15.0) (2022.12.7)\n",
            "Requirement already satisfied: charset-normalizer~=2.0.0 in /usr/local/lib/python3.10/dist-packages (from requests->transformers==4.15.0) (2.0.12)\n",
            "Requirement already satisfied: idna<4,>=2.5 in /usr/local/lib/python3.10/dist-packages (from requests->transformers==4.15.0) (3.4)\n",
            "Requirement already satisfied: six in /usr/local/lib/python3.10/dist-packages (from sacremoses->transformers==4.15.0) (1.16.0)\n",
            "Requirement already satisfied: click in /usr/local/lib/python3.10/dist-packages (from sacremoses->transformers==4.15.0) (8.1.3)\n",
            "Requirement already satisfied: joblib in /usr/local/lib/python3.10/dist-packages (from sacremoses->transformers==4.15.0) (1.2.0)\n",
            "Building wheels for collected packages: tokenizers, sacremoses\n",
            "  \u001b[1;31merror\u001b[0m: \u001b[1msubprocess-exited-with-error\u001b[0m\n",
            "  \n",
            "  \u001b[31m×\u001b[0m \u001b[32mBuilding wheel for tokenizers \u001b[0m\u001b[1;32m(\u001b[0m\u001b[32mpyproject.toml\u001b[0m\u001b[1;32m)\u001b[0m did not run successfully.\n",
            "  \u001b[31m│\u001b[0m exit code: \u001b[1;36m1\u001b[0m\n",
            "  \u001b[31m╰─>\u001b[0m See above for output.\n",
            "  \n",
            "  \u001b[1;35mnote\u001b[0m: This error originates from a subprocess, and is likely not a problem with pip.\n",
            "  Building wheel for tokenizers (pyproject.toml) ... \u001b[?25l\u001b[?25herror\n",
            "\u001b[31m  ERROR: Failed building wheel for tokenizers\u001b[0m\u001b[31m\n",
            "\u001b[0m  Building wheel for sacremoses (setup.py) ... \u001b[?25l\u001b[?25hdone\n",
            "  Created wheel for sacremoses: filename=sacremoses-0.0.53-py3-none-any.whl size=895241 sha256=2e6a10a66e21a1c5c551ddfd916dd504cf81e804344c57ac337eaf9813c8e414\n",
            "  Stored in directory: /root/.cache/pip/wheels/00/24/97/a2ea5324f36bc626e1ea0267f33db6aa80d157ee977e9e42fb\n",
            "Successfully built sacremoses\n",
            "Failed to build tokenizers\n",
            "\u001b[31mERROR: Could not build wheels for tokenizers, which is required to install pyproject.toml-based projects\u001b[0m\u001b[31m\n",
            "\u001b[0mLooking in indexes: https://pypi.org/simple, https://us-python.pkg.dev/colab-wheels/public/simple/\n",
            "Collecting lime==0.2.0.1\n",
            "  Downloading lime-0.2.0.1.tar.gz (275 kB)\n",
            "\u001b[2K     \u001b[90m━━━━━━━━━━━━━━━━━━━━━━━━━━━━━━━━━━━━━━━\u001b[0m \u001b[32m275.7/275.7 kB\u001b[0m \u001b[31m6.1 MB/s\u001b[0m eta \u001b[36m0:00:00\u001b[0m\n",
            "\u001b[?25h  Preparing metadata (setup.py) ... \u001b[?25l\u001b[?25hdone\n",
            "Requirement already satisfied: matplotlib in /usr/local/lib/python3.10/dist-packages (from lime==0.2.0.1) (3.7.1)\n",
            "Requirement already satisfied: numpy in /usr/local/lib/python3.10/dist-packages (from lime==0.2.0.1) (1.22.4)\n",
            "Requirement already satisfied: scipy in /usr/local/lib/python3.10/dist-packages (from lime==0.2.0.1) (1.10.1)\n",
            "Requirement already satisfied: tqdm in /usr/local/lib/python3.10/dist-packages (from lime==0.2.0.1) (4.65.0)\n",
            "Requirement already satisfied: scikit-learn>=0.18 in /usr/local/lib/python3.10/dist-packages (from lime==0.2.0.1) (1.2.2)\n",
            "Requirement already satisfied: scikit-image>=0.12 in /usr/local/lib/python3.10/dist-packages (from lime==0.2.0.1) (0.19.3)\n",
            "Requirement already satisfied: networkx>=2.2 in /usr/local/lib/python3.10/dist-packages (from scikit-image>=0.12->lime==0.2.0.1) (3.1)\n",
            "Requirement already satisfied: pillow!=7.1.0,!=7.1.1,!=8.3.0,>=6.1.0 in /usr/local/lib/python3.10/dist-packages (from scikit-image>=0.12->lime==0.2.0.1) (8.4.0)\n",
            "Requirement already satisfied: imageio>=2.4.1 in /usr/local/lib/python3.10/dist-packages (from scikit-image>=0.12->lime==0.2.0.1) (2.25.1)\n",
            "Requirement already satisfied: tifffile>=2019.7.26 in /usr/local/lib/python3.10/dist-packages (from scikit-image>=0.12->lime==0.2.0.1) (2023.4.12)\n",
            "Requirement already satisfied: PyWavelets>=1.1.1 in /usr/local/lib/python3.10/dist-packages (from scikit-image>=0.12->lime==0.2.0.1) (1.4.1)\n",
            "Requirement already satisfied: packaging>=20.0 in /usr/local/lib/python3.10/dist-packages (from scikit-image>=0.12->lime==0.2.0.1) (23.1)\n",
            "Requirement already satisfied: joblib>=1.1.1 in /usr/local/lib/python3.10/dist-packages (from scikit-learn>=0.18->lime==0.2.0.1) (1.2.0)\n",
            "Requirement already satisfied: threadpoolctl>=2.0.0 in /usr/local/lib/python3.10/dist-packages (from scikit-learn>=0.18->lime==0.2.0.1) (3.1.0)\n",
            "Requirement already satisfied: contourpy>=1.0.1 in /usr/local/lib/python3.10/dist-packages (from matplotlib->lime==0.2.0.1) (1.0.7)\n",
            "Requirement already satisfied: cycler>=0.10 in /usr/local/lib/python3.10/dist-packages (from matplotlib->lime==0.2.0.1) (0.11.0)\n",
            "Requirement already satisfied: fonttools>=4.22.0 in /usr/local/lib/python3.10/dist-packages (from matplotlib->lime==0.2.0.1) (4.39.3)\n",
            "Requirement already satisfied: kiwisolver>=1.0.1 in /usr/local/lib/python3.10/dist-packages (from matplotlib->lime==0.2.0.1) (1.4.4)\n",
            "Requirement already satisfied: pyparsing>=2.3.1 in /usr/local/lib/python3.10/dist-packages (from matplotlib->lime==0.2.0.1) (3.0.9)\n",
            "Requirement already satisfied: python-dateutil>=2.7 in /usr/local/lib/python3.10/dist-packages (from matplotlib->lime==0.2.0.1) (2.8.2)\n",
            "Requirement already satisfied: six>=1.5 in /usr/local/lib/python3.10/dist-packages (from python-dateutil>=2.7->matplotlib->lime==0.2.0.1) (1.16.0)\n",
            "Building wheels for collected packages: lime\n",
            "  Building wheel for lime (setup.py) ... \u001b[?25l\u001b[?25hdone\n",
            "  Created wheel for lime: filename=lime-0.2.0.1-py3-none-any.whl size=283839 sha256=c12f1b2f45daa09b9b6ceb6904c5070e2ac229ac11caf34ffca3fb0701df28d5\n",
            "  Stored in directory: /root/.cache/pip/wheels/fd/a2/af/9ac0a1a85a27f314a06b39e1f492bee1547d52549a4606ed89\n",
            "Successfully built lime\n",
            "Installing collected packages: lime\n",
            "Successfully installed lime-0.2.0.1\n"
          ]
        }
      ],
      "source": [
        "#Now, it is time to install the appropriate version of the transformers library\n",
        "!pip install transformers-interpret==0.5.2\n",
        "!pip install transformers==4.15.0\n",
        "!pip install lime==0.2.0.1 #this line is included in order for 'myExplainers.py' to load properly"
      ]
    },
    {
      "cell_type": "code",
      "execution_count": null,
      "metadata": {
        "id": "CdKdple7kjqv"
      },
      "outputs": [],
      "source": [
        "#Imports of libraries required for finetuning and explaining RoBERTa\n",
        "from sklearn.metrics import confusion_matrix, f1_score, accuracy_score, precision_score, recall_score, average_precision_score\n",
        "from sklearn.model_selection import train_test_split\n",
        "from helper import print_results, print_results_ap\n",
        "from sklearn.preprocessing import maxabs_scale\n",
        "from myModel import MyModel, MyDataset\n",
        "from myEvaluation import MyEvaluation\n",
        "from myExplainers import MyExplainer\n",
        "from dataset import Dataset\n",
        "import tensorflow as tf\n",
        "from tqdm import tqdm\n",
        "import pandas as pd\n",
        "import numpy as np\n",
        "import warnings\n",
        "import datetime\n",
        "import pickle\n",
        "import torch\n",
        "import time\n",
        "import csv\n",
        "import re"
      ]
    },
    {
      "cell_type": "code",
      "execution_count": null,
      "metadata": {
        "id": "_1NN_CW8no48"
      },
      "outputs": [],
      "source": [
        "#defining the paths of the model and data\n",
        "data_path = '/content/drive/MyDrive/Thesis/'\n",
        "model_path = '/content/drive/MyDrive/Thesis/'\n",
        "save_path = '/content/drive/MyDrive/Thesis/Results/'"
      ]
    },
    {
      "cell_type": "markdown",
      "metadata": {
        "id": "QrS2c-b0nwFj"
      },
      "source": [
        "Now, it is time to name the model and to define the parameters of 'MyModel'\n",
        "class that loads transformer models."
      ]
    },
    {
      "cell_type": "code",
      "execution_count": null,
      "metadata": {
        "id": "zZyUV_K1ntow"
      },
      "outputs": [],
      "source": [
        "model_name = 'roberta'\n",
        "existing_rationales = False #no explanations\n",
        "task = 'multi_label' #multi-labeld ethos\n",
        "labels = 8 #violence, directed_vs_generalized, gender, race, national_origin, disability, religion, sexual_orientation"
      ]
    },
    {
      "cell_type": "markdown",
      "metadata": {
        "id": "4igaKC1Tn7z6"
      },
      "source": [
        "Now, let us load the Ethos dataset, through the 'dataset.py' file and the 'load_ethos' function. X: are the instances, y: are the labels and label names: are the names of the labels(including 'hate speech'). The 'Dataset' class of 'dataset.py' is utilized."
      ]
    },
    {
      "cell_type": "code",
      "execution_count": null,
      "metadata": {
        "id": "BK9wMsuWn7S6"
      },
      "outputs": [],
      "source": [
        "hs = Dataset(path = data_path) #Dataset class is in 'dataset.py': parameters (path, x=None, y=None, rationales=None ,label_names=None)\n",
        "x, y, label_names = hs.load_ethos() #function in Dataset class to load ethos dataset\n",
        "label_names = label_names[1:] #Ethos multiclass labels(without 'hate speech')"
      ]
    },
    {
      "cell_type": "code",
      "execution_count": null,
      "metadata": {
        "id": "CmhGUQwfpj3E"
      },
      "outputs": [],
      "source": [
        "indices = np.arange(len(y)) #len(y) -> 433\n",
        "\n",
        "#at first train instances is 80% of the data\n",
        "train_texts, test_texts, train_labels, test_labels, _, test_indexes = train_test_split(x, y, indices, test_size=.2, random_state=26) #reproducible results\n",
        "#test size -> 20% of all data\n",
        "\n",
        "#in our case there are no rationales in RoBERTa\n",
        "if existing_rationales:\n",
        "    test_rationales = [rationales[x] for x in test_indexes]\n",
        "\n",
        "#We also need a validation dataset:\n",
        "size = (0.1 * len(y)) / len(train_labels) #len(train_labels) -> 346\n",
        "#43.3/346 -> 0.12 size\n",
        "train_texts, validation_texts, train_labels, validation_labels = train_test_split(train_texts, train_labels, test_size=size, random_state=42)"
      ]
    },
    {
      "cell_type": "markdown",
      "metadata": {
        "id": "ed-kpEL7rstz"
      },
      "source": [
        "Now the dataset is not in the appropriate form for the transformer to process. It is necessary to define the tokenizer of the model, so as to call 'myDataset' class in 'myModel.py'."
      ]
    },
    {
      "cell_type": "code",
      "execution_count": null,
      "metadata": {
        "id": "RODlQBAur00f"
      },
      "outputs": [],
      "source": [
        "from transformers import RobertaTokenizerFast\n",
        "\n",
        "#unlike BERT and Distilbert, RoBERTa does not contain 'cs'\n",
        "tokenizer = RobertaTokenizerFast.from_pretrained('roberta-base')"
      ]
    },
    {
      "cell_type": "markdown",
      "metadata": {
        "id": "PYL3G4-OqMos"
      },
      "source": [
        "Now, it is time to transform the train, test and validation sets to the\n",
        "appropriate form. We will use 'MyDataset' class from 'myModel.py'."
      ]
    },
    {
      "cell_type": "code",
      "execution_count": null,
      "metadata": {
        "id": "B3DlJogFpX6c"
      },
      "outputs": [],
      "source": [
        "train_dataset = MyDataset(train_texts, train_labels, tokenizer)\n",
        "validation_dataset = MyDataset(validation_texts, validation_labels, tokenizer)\n",
        "#test_dataset = MyDataset(test_texts, test_labels, tokenizer)"
      ]
    },
    {
      "cell_type": "markdown",
      "metadata": {
        "id": "ZwYifUq0vCqL"
      },
      "source": [
        "But before using 'MyModel' class from 'myModel.py', RoBERTa should be finetuned!"
      ]
    },
    {
      "cell_type": "code",
      "execution_count": null,
      "metadata": {
        "colab": {
          "base_uri": "https://localhost:8080/",
          "height": 719,
          "referenced_widgets": [
            "c289c1bce27d4a3292f62b7e8e3ef8c6",
            "4b5526cc394841bda85ce1097d138b9a",
            "a3d8c84fbbad4fdd82f8e59729352fc1",
            "ea8a85ad3fb94d4aa66b46656216d63d",
            "b8044cbb6dc3422f98ab7807bb8b134f",
            "92f9f2be5d774ae48495b86aefd503b0",
            "1ba3b44c442a40908cdccd6dbc65f748",
            "bbbe2389be4b4e65ad69222cb7ffa506",
            "e26cb35a382446a9b051faeed4dec526",
            "df3f8afb3d624ae8a1393b82fb4c11fa",
            "32ff092a95524f129f75de77bf47eb2c"
          ]
        },
        "id": "GXpeKiIfvDd4",
        "outputId": "ea0aa1d8-1cf5-40a4-9d16-32b0dc769494"
      },
      "outputs": [
        {
          "data": {
            "application/vnd.jupyter.widget-view+json": {
              "model_id": "c289c1bce27d4a3292f62b7e8e3ef8c6",
              "version_major": 2,
              "version_minor": 0
            },
            "text/plain": [
              "Downloading:   0%|          | 0.00/478M [00:00<?, ?B/s]"
            ]
          },
          "metadata": {},
          "output_type": "display_data"
        },
        {
          "name": "stderr",
          "output_type": "stream",
          "text": [
            "Some weights of the model checkpoint at roberta-base were not used when initializing RobertaForMultilabelSequenceClassification: ['roberta.pooler.dense.bias', 'lm_head.layer_norm.weight', 'lm_head.layer_norm.bias', 'roberta.pooler.dense.weight', 'lm_head.dense.bias', 'lm_head.decoder.weight', 'lm_head.bias', 'lm_head.dense.weight']\n",
            "- This IS expected if you are initializing RobertaForMultilabelSequenceClassification from the checkpoint of a model trained on another task or with another architecture (e.g. initializing a BertForSequenceClassification model from a BertForPreTraining model).\n",
            "- This IS NOT expected if you are initializing RobertaForMultilabelSequenceClassification from the checkpoint of a model that you expect to be exactly identical (initializing a BertForSequenceClassification model from a BertForSequenceClassification model).\n",
            "Some weights of RobertaForMultilabelSequenceClassification were not initialized from the model checkpoint at roberta-base and are newly initialized: ['classifier.dense.weight', 'classifier.out_proj.bias', 'classifier.dense.bias', 'classifier.out_proj.weight']\n",
            "You should probably TRAIN this model on a down-stream task to be able to use it for predictions and inference.\n"
          ]
        },
        {
          "data": {
            "text/html": [
              "\n",
              "    <div>\n",
              "      \n",
              "      <progress value='570' max='570' style='width:300px; height:20px; vertical-align: middle;'></progress>\n",
              "      [570/570 07:40, Epoch 15/15]\n",
              "    </div>\n",
              "    <table border=\"1\" class=\"dataframe\">\n",
              "  <thead>\n",
              "    <tr style=\"text-align: left;\">\n",
              "      <th>Epoch</th>\n",
              "      <th>Training Loss</th>\n",
              "      <th>Validation Loss</th>\n",
              "    </tr>\n",
              "  </thead>\n",
              "  <tbody>\n",
              "    <tr>\n",
              "      <td>1</td>\n",
              "      <td>0.686700</td>\n",
              "      <td>0.650396</td>\n",
              "    </tr>\n",
              "    <tr>\n",
              "      <td>2</td>\n",
              "      <td>0.532500</td>\n",
              "      <td>0.488342</td>\n",
              "    </tr>\n",
              "    <tr>\n",
              "      <td>3</td>\n",
              "      <td>0.436500</td>\n",
              "      <td>0.348541</td>\n",
              "    </tr>\n",
              "    <tr>\n",
              "      <td>4</td>\n",
              "      <td>0.310500</td>\n",
              "      <td>0.289782</td>\n",
              "    </tr>\n",
              "    <tr>\n",
              "      <td>5</td>\n",
              "      <td>0.218700</td>\n",
              "      <td>0.258373</td>\n",
              "    </tr>\n",
              "    <tr>\n",
              "      <td>6</td>\n",
              "      <td>0.158000</td>\n",
              "      <td>0.238242</td>\n",
              "    </tr>\n",
              "    <tr>\n",
              "      <td>7</td>\n",
              "      <td>0.113700</td>\n",
              "      <td>0.251526</td>\n",
              "    </tr>\n",
              "    <tr>\n",
              "      <td>8</td>\n",
              "      <td>0.085900</td>\n",
              "      <td>0.254701</td>\n",
              "    </tr>\n",
              "    <tr>\n",
              "      <td>9</td>\n",
              "      <td>0.069100</td>\n",
              "      <td>0.236028</td>\n",
              "    </tr>\n",
              "    <tr>\n",
              "      <td>10</td>\n",
              "      <td>0.053300</td>\n",
              "      <td>0.261550</td>\n",
              "    </tr>\n",
              "    <tr>\n",
              "      <td>11</td>\n",
              "      <td>0.045700</td>\n",
              "      <td>0.240285</td>\n",
              "    </tr>\n",
              "    <tr>\n",
              "      <td>12</td>\n",
              "      <td>0.039400</td>\n",
              "      <td>0.263242</td>\n",
              "    </tr>\n",
              "    <tr>\n",
              "      <td>13</td>\n",
              "      <td>0.034900</td>\n",
              "      <td>0.256566</td>\n",
              "    </tr>\n",
              "    <tr>\n",
              "      <td>14</td>\n",
              "      <td>0.031600</td>\n",
              "      <td>0.256574</td>\n",
              "    </tr>\n",
              "    <tr>\n",
              "      <td>15</td>\n",
              "      <td>0.030800</td>\n",
              "      <td>0.257091</td>\n",
              "    </tr>\n",
              "  </tbody>\n",
              "</table><p>"
            ],
            "text/plain": [
              "<IPython.core.display.HTML object>"
            ]
          },
          "metadata": {},
          "output_type": "display_data"
        },
        {
          "data": {
            "text/plain": [
              "TrainOutput(global_step=570, training_loss=0.18982381506970053, metrics={'train_runtime': 463.2673, 'train_samples_per_second': 9.778, 'train_steps_per_second': 1.23, 'total_flos': 1191957289943040.0, 'train_loss': 0.18982381506970053, 'epoch': 15.0})"
            ]
          },
          "execution_count": 12,
          "metadata": {},
          "output_type": "execute_result"
        }
      ],
      "source": [
        "from transformers import Trainer, TrainingArguments\n",
        "from myTransformer import RobertaForMultilabelSequenceClassification as transformer_model\n",
        "\n",
        "\n",
        "#calling the base pretrained RoBERTa model\n",
        "model = transformer_model.from_pretrained('roberta-base',num_labels = len(label_names), output_attentions=True,\n",
        "                              output_hidden_states=True)\n",
        "\n",
        "#the training arguments that we will pass to the trainer of the transformers. 15 epochs were used for training\n",
        "training_arguments = TrainingArguments(evaluation_strategy='epoch', save_strategy='epoch', logging_strategy='epoch',\n",
        "                                                log_level='critical', output_dir='./results', num_train_epochs=15,\n",
        "                                                per_device_train_batch_size=8, per_device_eval_batch_size=8,\n",
        "                                                warmup_steps=200, weight_decay=0.01, logging_dir='./logs')\n",
        "\n",
        "#passing to the trainer the model, the arguments and all train and validation instances\n",
        "trainer = Trainer(model=model, args=training_arguments, train_dataset=train_dataset, eval_dataset=validation_dataset)\n",
        "\n",
        "#Let's train the model!\n",
        "trainer.train()"
      ]
    },
    {
      "cell_type": "markdown",
      "metadata": {
        "id": "VivYScxBvD1i"
      },
      "source": [
        "Now, a 'roberta_hs' folder will be created, containing the trained model. Now, it is time to make predictions. We will use 'MyModel' with the suitable parameters. It is worth noting that RoBERTa does not contain 'cased' or 'uncased' argument, but this parameter is passed in 'MyModel' anyway, because other transformers use it."
      ]
    },
    {
      "cell_type": "markdown",
      "metadata": {
        "id": "M3eMf3PsAKtT"
      },
      "source": [
        "Now, it is time to save the model in 'roberta_hs' file."
      ]
    },
    {
      "cell_type": "code",
      "execution_count": null,
      "metadata": {
        "id": "8mVskMQdAJXl"
      },
      "outputs": [],
      "source": [
        "trainer.model.save_pretrained('/content/drive/MyDrive/Thesis/roberta_hs')"
      ]
    },
    {
      "cell_type": "markdown",
      "metadata": {
        "id": "A5LST14hASK0"
      },
      "source": [
        "Now, we can use 'MyModel' and make then make predictions."
      ]
    },
    {
      "cell_type": "code",
      "execution_count": null,
      "metadata": {
        "id": "oZ3IIPFYpJJ9",
        "colab": {
          "base_uri": "https://localhost:8080/"
        },
        "outputId": "99abed6d-399f-4882-cd92-da3413b53c8d"
      },
      "outputs": [
        {
          "output_type": "execute_result",
          "data": {
            "text/plain": [
              "RobertaForMultilabelSequenceClassification(\n",
              "  (roberta): RobertaModel(\n",
              "    (embeddings): RobertaEmbeddings(\n",
              "      (word_embeddings): Embedding(50265, 768, padding_idx=1)\n",
              "      (position_embeddings): Embedding(514, 768, padding_idx=1)\n",
              "      (token_type_embeddings): Embedding(1, 768)\n",
              "      (LayerNorm): LayerNorm((768,), eps=1e-05, elementwise_affine=True)\n",
              "      (dropout): Dropout(p=0.1, inplace=False)\n",
              "    )\n",
              "    (encoder): RobertaEncoder(\n",
              "      (layer): ModuleList(\n",
              "        (0-11): 12 x RobertaLayer(\n",
              "          (attention): RobertaAttention(\n",
              "            (self): RobertaSelfAttention(\n",
              "              (query): Linear(in_features=768, out_features=768, bias=True)\n",
              "              (key): Linear(in_features=768, out_features=768, bias=True)\n",
              "              (value): Linear(in_features=768, out_features=768, bias=True)\n",
              "              (dropout): Dropout(p=0.1, inplace=False)\n",
              "            )\n",
              "            (output): RobertaSelfOutput(\n",
              "              (dense): Linear(in_features=768, out_features=768, bias=True)\n",
              "              (LayerNorm): LayerNorm((768,), eps=1e-05, elementwise_affine=True)\n",
              "              (dropout): Dropout(p=0.1, inplace=False)\n",
              "            )\n",
              "          )\n",
              "          (intermediate): RobertaIntermediate(\n",
              "            (dense): Linear(in_features=768, out_features=3072, bias=True)\n",
              "            (intermediate_act_fn): GELUActivation()\n",
              "          )\n",
              "          (output): RobertaOutput(\n",
              "            (dense): Linear(in_features=3072, out_features=768, bias=True)\n",
              "            (LayerNorm): LayerNorm((768,), eps=1e-05, elementwise_affine=True)\n",
              "            (dropout): Dropout(p=0.1, inplace=False)\n",
              "          )\n",
              "        )\n",
              "      )\n",
              "    )\n",
              "  )\n",
              "  (classifier): RobertaClassificationHead(\n",
              "    (dense): Linear(in_features=768, out_features=768, bias=True)\n",
              "    (dropout): Dropout(p=0.1, inplace=False)\n",
              "    (out_proj): Linear(in_features=768, out_features=8, bias=True)\n",
              "  )\n",
              ")"
            ]
          },
          "metadata": {},
          "execution_count": 10
        }
      ],
      "source": [
        "#new model\n",
        "model = MyModel(model_path,'roberta_hs', model_name, task, labels, 'cased')\n",
        "\n",
        "#the maximum number of tokens a single sentence can have e.g. 512\n",
        "max_sequence_len = model.tokenizer.max_len_single_sentence\n",
        "\n",
        "#again the tokenizer is RobertaTokenizerFast, that is selected through 'MyModel' and '__load_model__' function\n",
        "tokenizer = model.tokenizer\n",
        "\n",
        "#gpu training\n",
        "torch.cuda.is_available()\n",
        "model.trainer.model.to('cuda')"
      ]
    },
    {
      "cell_type": "markdown",
      "metadata": {
        "id": "9cSwCAErJv58"
      },
      "source": [
        "It is time to make predictions for the test instances."
      ]
    },
    {
      "cell_type": "code",
      "execution_count": null,
      "metadata": {
        "colab": {
          "base_uri": "https://localhost:8080/",
          "height": 34
        },
        "id": "vtL8FAuxJu-W",
        "outputId": "cdb39eda-5826-4bb6-c612-948093e06440"
      },
      "outputs": [
        {
          "output_type": "display_data",
          "data": {
            "text/plain": [
              "<IPython.core.display.HTML object>"
            ],
            "text/html": []
          },
          "metadata": {}
        },
        {
          "output_type": "display_data",
          "data": {
            "text/plain": [
              "<IPython.core.display.HTML object>"
            ],
            "text/html": []
          },
          "metadata": {}
        },
        {
          "output_type": "display_data",
          "data": {
            "text/plain": [
              "<IPython.core.display.HTML object>"
            ],
            "text/html": []
          },
          "metadata": {}
        },
        {
          "output_type": "display_data",
          "data": {
            "text/plain": [
              "<IPython.core.display.HTML object>"
            ],
            "text/html": []
          },
          "metadata": {}
        },
        {
          "output_type": "display_data",
          "data": {
            "text/plain": [
              "<IPython.core.display.HTML object>"
            ],
            "text/html": []
          },
          "metadata": {}
        },
        {
          "output_type": "display_data",
          "data": {
            "text/plain": [
              "<IPython.core.display.HTML object>"
            ],
            "text/html": []
          },
          "metadata": {}
        },
        {
          "output_type": "display_data",
          "data": {
            "text/plain": [
              "<IPython.core.display.HTML object>"
            ],
            "text/html": []
          },
          "metadata": {}
        },
        {
          "output_type": "display_data",
          "data": {
            "text/plain": [
              "<IPython.core.display.HTML object>"
            ],
            "text/html": []
          },
          "metadata": {}
        },
        {
          "output_type": "display_data",
          "data": {
            "text/plain": [
              "<IPython.core.display.HTML object>"
            ],
            "text/html": []
          },
          "metadata": {}
        },
        {
          "output_type": "display_data",
          "data": {
            "text/plain": [
              "<IPython.core.display.HTML object>"
            ],
            "text/html": []
          },
          "metadata": {}
        },
        {
          "output_type": "display_data",
          "data": {
            "text/plain": [
              "<IPython.core.display.HTML object>"
            ],
            "text/html": []
          },
          "metadata": {}
        },
        {
          "output_type": "display_data",
          "data": {
            "text/plain": [
              "<IPython.core.display.HTML object>"
            ],
            "text/html": []
          },
          "metadata": {}
        },
        {
          "output_type": "display_data",
          "data": {
            "text/plain": [
              "<IPython.core.display.HTML object>"
            ],
            "text/html": []
          },
          "metadata": {}
        },
        {
          "output_type": "display_data",
          "data": {
            "text/plain": [
              "<IPython.core.display.HTML object>"
            ],
            "text/html": []
          },
          "metadata": {}
        },
        {
          "output_type": "display_data",
          "data": {
            "text/plain": [
              "<IPython.core.display.HTML object>"
            ],
            "text/html": []
          },
          "metadata": {}
        },
        {
          "output_type": "display_data",
          "data": {
            "text/plain": [
              "<IPython.core.display.HTML object>"
            ],
            "text/html": []
          },
          "metadata": {}
        },
        {
          "output_type": "display_data",
          "data": {
            "text/plain": [
              "<IPython.core.display.HTML object>"
            ],
            "text/html": []
          },
          "metadata": {}
        },
        {
          "output_type": "display_data",
          "data": {
            "text/plain": [
              "<IPython.core.display.HTML object>"
            ],
            "text/html": []
          },
          "metadata": {}
        },
        {
          "output_type": "display_data",
          "data": {
            "text/plain": [
              "<IPython.core.display.HTML object>"
            ],
            "text/html": []
          },
          "metadata": {}
        },
        {
          "output_type": "display_data",
          "data": {
            "text/plain": [
              "<IPython.core.display.HTML object>"
            ],
            "text/html": []
          },
          "metadata": {}
        },
        {
          "output_type": "display_data",
          "data": {
            "text/plain": [
              "<IPython.core.display.HTML object>"
            ],
            "text/html": []
          },
          "metadata": {}
        },
        {
          "output_type": "display_data",
          "data": {
            "text/plain": [
              "<IPython.core.display.HTML object>"
            ],
            "text/html": []
          },
          "metadata": {}
        },
        {
          "output_type": "display_data",
          "data": {
            "text/plain": [
              "<IPython.core.display.HTML object>"
            ],
            "text/html": []
          },
          "metadata": {}
        },
        {
          "output_type": "display_data",
          "data": {
            "text/plain": [
              "<IPython.core.display.HTML object>"
            ],
            "text/html": []
          },
          "metadata": {}
        },
        {
          "output_type": "display_data",
          "data": {
            "text/plain": [
              "<IPython.core.display.HTML object>"
            ],
            "text/html": []
          },
          "metadata": {}
        },
        {
          "output_type": "display_data",
          "data": {
            "text/plain": [
              "<IPython.core.display.HTML object>"
            ],
            "text/html": []
          },
          "metadata": {}
        },
        {
          "output_type": "display_data",
          "data": {
            "text/plain": [
              "<IPython.core.display.HTML object>"
            ],
            "text/html": []
          },
          "metadata": {}
        },
        {
          "output_type": "display_data",
          "data": {
            "text/plain": [
              "<IPython.core.display.HTML object>"
            ],
            "text/html": []
          },
          "metadata": {}
        },
        {
          "output_type": "display_data",
          "data": {
            "text/plain": [
              "<IPython.core.display.HTML object>"
            ],
            "text/html": []
          },
          "metadata": {}
        },
        {
          "output_type": "display_data",
          "data": {
            "text/plain": [
              "<IPython.core.display.HTML object>"
            ],
            "text/html": []
          },
          "metadata": {}
        },
        {
          "output_type": "display_data",
          "data": {
            "text/plain": [
              "<IPython.core.display.HTML object>"
            ],
            "text/html": []
          },
          "metadata": {}
        },
        {
          "output_type": "display_data",
          "data": {
            "text/plain": [
              "<IPython.core.display.HTML object>"
            ],
            "text/html": []
          },
          "metadata": {}
        },
        {
          "output_type": "display_data",
          "data": {
            "text/plain": [
              "<IPython.core.display.HTML object>"
            ],
            "text/html": []
          },
          "metadata": {}
        },
        {
          "output_type": "display_data",
          "data": {
            "text/plain": [
              "<IPython.core.display.HTML object>"
            ],
            "text/html": []
          },
          "metadata": {}
        },
        {
          "output_type": "display_data",
          "data": {
            "text/plain": [
              "<IPython.core.display.HTML object>"
            ],
            "text/html": []
          },
          "metadata": {}
        },
        {
          "output_type": "display_data",
          "data": {
            "text/plain": [
              "<IPython.core.display.HTML object>"
            ],
            "text/html": []
          },
          "metadata": {}
        },
        {
          "output_type": "display_data",
          "data": {
            "text/plain": [
              "<IPython.core.display.HTML object>"
            ],
            "text/html": []
          },
          "metadata": {}
        },
        {
          "output_type": "display_data",
          "data": {
            "text/plain": [
              "<IPython.core.display.HTML object>"
            ],
            "text/html": []
          },
          "metadata": {}
        },
        {
          "output_type": "display_data",
          "data": {
            "text/plain": [
              "<IPython.core.display.HTML object>"
            ],
            "text/html": []
          },
          "metadata": {}
        },
        {
          "output_type": "display_data",
          "data": {
            "text/plain": [
              "<IPython.core.display.HTML object>"
            ],
            "text/html": []
          },
          "metadata": {}
        },
        {
          "output_type": "display_data",
          "data": {
            "text/plain": [
              "<IPython.core.display.HTML object>"
            ],
            "text/html": []
          },
          "metadata": {}
        },
        {
          "output_type": "display_data",
          "data": {
            "text/plain": [
              "<IPython.core.display.HTML object>"
            ],
            "text/html": []
          },
          "metadata": {}
        },
        {
          "output_type": "display_data",
          "data": {
            "text/plain": [
              "<IPython.core.display.HTML object>"
            ],
            "text/html": []
          },
          "metadata": {}
        },
        {
          "output_type": "display_data",
          "data": {
            "text/plain": [
              "<IPython.core.display.HTML object>"
            ],
            "text/html": []
          },
          "metadata": {}
        },
        {
          "output_type": "display_data",
          "data": {
            "text/plain": [
              "<IPython.core.display.HTML object>"
            ],
            "text/html": []
          },
          "metadata": {}
        },
        {
          "output_type": "display_data",
          "data": {
            "text/plain": [
              "<IPython.core.display.HTML object>"
            ],
            "text/html": []
          },
          "metadata": {}
        },
        {
          "output_type": "display_data",
          "data": {
            "text/plain": [
              "<IPython.core.display.HTML object>"
            ],
            "text/html": []
          },
          "metadata": {}
        },
        {
          "output_type": "display_data",
          "data": {
            "text/plain": [
              "<IPython.core.display.HTML object>"
            ],
            "text/html": []
          },
          "metadata": {}
        },
        {
          "output_type": "display_data",
          "data": {
            "text/plain": [
              "<IPython.core.display.HTML object>"
            ],
            "text/html": []
          },
          "metadata": {}
        },
        {
          "output_type": "display_data",
          "data": {
            "text/plain": [
              "<IPython.core.display.HTML object>"
            ],
            "text/html": []
          },
          "metadata": {}
        },
        {
          "output_type": "display_data",
          "data": {
            "text/plain": [
              "<IPython.core.display.HTML object>"
            ],
            "text/html": []
          },
          "metadata": {}
        },
        {
          "output_type": "display_data",
          "data": {
            "text/plain": [
              "<IPython.core.display.HTML object>"
            ],
            "text/html": []
          },
          "metadata": {}
        },
        {
          "output_type": "display_data",
          "data": {
            "text/plain": [
              "<IPython.core.display.HTML object>"
            ],
            "text/html": []
          },
          "metadata": {}
        },
        {
          "output_type": "display_data",
          "data": {
            "text/plain": [
              "<IPython.core.display.HTML object>"
            ],
            "text/html": []
          },
          "metadata": {}
        },
        {
          "output_type": "display_data",
          "data": {
            "text/plain": [
              "<IPython.core.display.HTML object>"
            ],
            "text/html": []
          },
          "metadata": {}
        },
        {
          "output_type": "display_data",
          "data": {
            "text/plain": [
              "<IPython.core.display.HTML object>"
            ],
            "text/html": []
          },
          "metadata": {}
        },
        {
          "output_type": "display_data",
          "data": {
            "text/plain": [
              "<IPython.core.display.HTML object>"
            ],
            "text/html": []
          },
          "metadata": {}
        },
        {
          "output_type": "display_data",
          "data": {
            "text/plain": [
              "<IPython.core.display.HTML object>"
            ],
            "text/html": []
          },
          "metadata": {}
        },
        {
          "output_type": "display_data",
          "data": {
            "text/plain": [
              "<IPython.core.display.HTML object>"
            ],
            "text/html": []
          },
          "metadata": {}
        },
        {
          "output_type": "display_data",
          "data": {
            "text/plain": [
              "<IPython.core.display.HTML object>"
            ],
            "text/html": []
          },
          "metadata": {}
        },
        {
          "output_type": "display_data",
          "data": {
            "text/plain": [
              "<IPython.core.display.HTML object>"
            ],
            "text/html": []
          },
          "metadata": {}
        },
        {
          "output_type": "display_data",
          "data": {
            "text/plain": [
              "<IPython.core.display.HTML object>"
            ],
            "text/html": []
          },
          "metadata": {}
        },
        {
          "output_type": "display_data",
          "data": {
            "text/plain": [
              "<IPython.core.display.HTML object>"
            ],
            "text/html": []
          },
          "metadata": {}
        },
        {
          "output_type": "display_data",
          "data": {
            "text/plain": [
              "<IPython.core.display.HTML object>"
            ],
            "text/html": []
          },
          "metadata": {}
        },
        {
          "output_type": "display_data",
          "data": {
            "text/plain": [
              "<IPython.core.display.HTML object>"
            ],
            "text/html": []
          },
          "metadata": {}
        },
        {
          "output_type": "display_data",
          "data": {
            "text/plain": [
              "<IPython.core.display.HTML object>"
            ],
            "text/html": []
          },
          "metadata": {}
        },
        {
          "output_type": "display_data",
          "data": {
            "text/plain": [
              "<IPython.core.display.HTML object>"
            ],
            "text/html": []
          },
          "metadata": {}
        },
        {
          "output_type": "display_data",
          "data": {
            "text/plain": [
              "<IPython.core.display.HTML object>"
            ],
            "text/html": []
          },
          "metadata": {}
        },
        {
          "output_type": "display_data",
          "data": {
            "text/plain": [
              "<IPython.core.display.HTML object>"
            ],
            "text/html": []
          },
          "metadata": {}
        },
        {
          "output_type": "display_data",
          "data": {
            "text/plain": [
              "<IPython.core.display.HTML object>"
            ],
            "text/html": []
          },
          "metadata": {}
        },
        {
          "output_type": "display_data",
          "data": {
            "text/plain": [
              "<IPython.core.display.HTML object>"
            ],
            "text/html": []
          },
          "metadata": {}
        },
        {
          "output_type": "display_data",
          "data": {
            "text/plain": [
              "<IPython.core.display.HTML object>"
            ],
            "text/html": []
          },
          "metadata": {}
        },
        {
          "output_type": "display_data",
          "data": {
            "text/plain": [
              "<IPython.core.display.HTML object>"
            ],
            "text/html": []
          },
          "metadata": {}
        },
        {
          "output_type": "display_data",
          "data": {
            "text/plain": [
              "<IPython.core.display.HTML object>"
            ],
            "text/html": []
          },
          "metadata": {}
        },
        {
          "output_type": "display_data",
          "data": {
            "text/plain": [
              "<IPython.core.display.HTML object>"
            ],
            "text/html": []
          },
          "metadata": {}
        },
        {
          "output_type": "display_data",
          "data": {
            "text/plain": [
              "<IPython.core.display.HTML object>"
            ],
            "text/html": []
          },
          "metadata": {}
        },
        {
          "output_type": "display_data",
          "data": {
            "text/plain": [
              "<IPython.core.display.HTML object>"
            ],
            "text/html": []
          },
          "metadata": {}
        },
        {
          "output_type": "display_data",
          "data": {
            "text/plain": [
              "<IPython.core.display.HTML object>"
            ],
            "text/html": []
          },
          "metadata": {}
        },
        {
          "output_type": "display_data",
          "data": {
            "text/plain": [
              "<IPython.core.display.HTML object>"
            ],
            "text/html": []
          },
          "metadata": {}
        },
        {
          "output_type": "display_data",
          "data": {
            "text/plain": [
              "<IPython.core.display.HTML object>"
            ],
            "text/html": []
          },
          "metadata": {}
        },
        {
          "output_type": "display_data",
          "data": {
            "text/plain": [
              "<IPython.core.display.HTML object>"
            ],
            "text/html": []
          },
          "metadata": {}
        },
        {
          "output_type": "display_data",
          "data": {
            "text/plain": [
              "<IPython.core.display.HTML object>"
            ],
            "text/html": []
          },
          "metadata": {}
        },
        {
          "output_type": "display_data",
          "data": {
            "text/plain": [
              "<IPython.core.display.HTML object>"
            ],
            "text/html": []
          },
          "metadata": {}
        },
        {
          "output_type": "display_data",
          "data": {
            "text/plain": [
              "<IPython.core.display.HTML object>"
            ],
            "text/html": []
          },
          "metadata": {}
        },
        {
          "output_type": "display_data",
          "data": {
            "text/plain": [
              "<IPython.core.display.HTML object>"
            ],
            "text/html": []
          },
          "metadata": {}
        },
        {
          "output_type": "display_data",
          "data": {
            "text/plain": [
              "<IPython.core.display.HTML object>"
            ],
            "text/html": []
          },
          "metadata": {}
        },
        {
          "output_type": "display_data",
          "data": {
            "text/plain": [
              "<IPython.core.display.HTML object>"
            ],
            "text/html": []
          },
          "metadata": {}
        },
        {
          "output_type": "stream",
          "name": "stdout",
          "text": [
            "The total time for predictions is: 6.263  seconds\n"
          ]
        }
      ],
      "source": [
        "predictions = []\n",
        "\n",
        "#time for predictions\n",
        "starting_prediction_time = time.time()\n",
        "\n",
        "#make the predictions with the model that was trained\n",
        "for test_instance in test_texts:\n",
        "    outputs = model.my_predict(test_instance)\n",
        "    predictions.append(outputs[0])\n",
        "\n",
        "a = tf.constant(predictions, dtype = tf.float32)\n",
        "b = tf.keras.activations.sigmoid(a)\n",
        "predictions = b.numpy()\n",
        "\n",
        "#printing the total time that predictions took\n",
        "ending_prediction_time = time.time()\n",
        "total_time = ending_prediction_time - starting_prediction_time\n",
        "print('The total time for predictions is:' ,round(total_time,3),' seconds')"
      ]
    },
    {
      "cell_type": "markdown",
      "metadata": {
        "id": "ic4OXz8SNOfF"
      },
      "source": [
        "Let's print the precision and f1 score of RoBERTa's performance!"
      ]
    },
    {
      "cell_type": "code",
      "execution_count": null,
      "metadata": {
        "colab": {
          "base_uri": "https://localhost:8080/"
        },
        "id": "cVU1b0vg00jx",
        "outputId": "beb12acb-f250-4785-eb8f-a21d16e29fd0"
      },
      "outputs": [
        {
          "output_type": "stream",
          "name": "stdout",
          "text": [
            "Average precision score: 0.6756 %\n",
            "f1 score score: 0.7909 %\n"
          ]
        }
      ],
      "source": [
        "#labels of the predictions produced\n",
        "pred_labels = []\n",
        "\n",
        "for prediction in predictions:\n",
        "    pred_labels.append([1 if i >= 0.5 else 0 for i in prediction]) #1 if the score for the label in the certain prediction is greater than or equal to 0.5\n",
        "\n",
        "def average_precision_wrapper(y, y_pred, view):\n",
        "    #predictions from list to array\n",
        "    return average_precision_score(y, y_pred.toarray(), average=view)\n",
        "\n",
        "#macro scores\n",
        "p_s = f\"Average precision score: {round(average_precision_score(test_labels, pred_labels, average='macro'),4)} %\"\n",
        "f1 = f\"f1 score score: {round(f1_score(test_labels, pred_labels, average='macro'),4)} %\"\n",
        "\n",
        "#printing results\n",
        "print(p_s)\n",
        "print(f1)"
      ]
    },
    {
      "cell_type": "markdown",
      "metadata": {
        "id": "g4YtaNiSOG2T"
      },
      "source": [
        "We can also change the hyperparameters for training, but we notice that the performance of RoBERTa is already satisfactory and the focus should be shifted on the interpretations. Let's store the results in the 'Results' file."
      ]
    },
    {
      "cell_type": "code",
      "execution_count": null,
      "metadata": {
        "id": "OHr6x7lONZbQ"
      },
      "outputs": [],
      "source": [
        "#the data to write in the file\n",
        "data = (p_s, f1)\n",
        "now = datetime.datetime.now()\n",
        "file_name = save_path + 'ROBERTA_'+str(now.day) + '_' + str(now.month) + '_' + str(now.year)\n",
        "\n",
        "#results in files\n",
        "with open(file_name+ 'PERFORMANCE.pickle', 'wb') as handle:\n",
        "    pickle.dump(data, handle, protocol=pickle.HIGHEST_PROTOCOL) #data\n",
        "    #pickle.dump(f1, handle, protocol=pickle.HIGHEST_PROTOCOL)\n",
        "\n",
        "with open(file_name+'TIME.pickle', 'wb') as handle:\n",
        "    pickle.dump(total_time, handle, protocol=pickle.HIGHEST_PROTOCOL)"
      ]
    },
    {
      "cell_type": "markdown",
      "metadata": {
        "id": "pIK5XtqhOUNL"
      },
      "source": [
        "Let's ensure that the results are properly loaded from the file that we stored them."
      ]
    },
    {
      "cell_type": "code",
      "execution_count": null,
      "metadata": {
        "colab": {
          "base_uri": "https://localhost:8080/"
        },
        "id": "yRFDVacSOR5J",
        "outputId": "1dd92c3a-adea-49dd-943e-baee779ec831"
      },
      "outputs": [
        {
          "output_type": "stream",
          "name": "stdout",
          "text": [
            "Average precision score: 0.6756 %\n",
            "f1 score score: 0.7909 %\n",
            "The total time for predictions is: 6.263  seconds\n"
          ]
        }
      ],
      "source": [
        "with open(file_name+'PERFORMANCE.pickle', 'rb') as handle:\n",
        "     performance = pickle.load(handle)\n",
        "     for score in performance:\n",
        "         print(score)\n",
        "\n",
        "with open(file_name+'TIME.pickle', 'rb') as handle:\n",
        "     time = pickle.load(handle)\n",
        "     print('The total time for predictions is:' ,round(time,3),' seconds')"
      ]
    },
    {
      "cell_type": "markdown",
      "metadata": {
        "id": "hEDS3YHQPQur"
      },
      "source": [
        "Now, let us initialize the explainers and the evaluation module, as well as define the metrics that will be utilized. In this case, the following is true:\n",
        "* F=Faithfulness\n",
        "* FTP=RFT (Ranked Faithful Truthfulness)\n",
        "* NZW=Complexity"
      ]
    },
    {
      "cell_type": "code",
      "execution_count": null,
      "metadata": {
        "id": "8kZVaLNCPOQQ"
      },
      "outputs": [],
      "source": [
        "#layers are 12 this time\n",
        "my_explainers = MyExplainer(label_names, model, layers=12)\n",
        "\n",
        "#complexity, faithfulness, RFT\n",
        "my_evaluators = MyEvaluation(label_names, model.my_predict, False, True, tokenizer=tokenizer) #parameters: (label_names, predict, sentence_level, evaluation_level_all=True)\n",
        "my_evaluatorsP = MyEvaluation(label_names, model.my_predict, False, False, tokenizer=tokenizer)\n",
        "\n",
        "evaluation =  {'F':my_evaluators.faithfulness, 'FTP': my_evaluators.faithful_truthfulness_penalty,\n",
        "          'NZW': my_evaluators.nzw}\n",
        "evaluationP = {'F':my_evaluatorsP.faithfulness, 'FTP': my_evaluatorsP.faithful_truthfulness_penalty,\n",
        "          'NZW': my_evaluatorsP.nzw}"
      ]
    },
    {
      "cell_type": "markdown",
      "metadata": {
        "id": "MaWpL7vbQxmi"
      },
      "source": [
        "We will now measure the performance of IG."
      ]
    },
    {
      "cell_type": "code",
      "execution_count": null,
      "metadata": {
        "colab": {
          "base_uri": "https://localhost:8080/",
          "height": 52
        },
        "id": "bDYnVTWNQs1y",
        "outputId": "95f6e40f-ad95-4a89-d3b4-eeffd23e226e"
      },
      "outputs": [
        {
          "output_type": "display_data",
          "data": {
            "text/plain": [
              "<IPython.core.display.HTML object>"
            ],
            "text/html": []
          },
          "metadata": {}
        },
        {
          "output_type": "display_data",
          "data": {
            "text/plain": [
              "<IPython.core.display.HTML object>"
            ],
            "text/html": []
          },
          "metadata": {}
        },
        {
          "output_type": "display_data",
          "data": {
            "text/plain": [
              "<IPython.core.display.HTML object>"
            ],
            "text/html": []
          },
          "metadata": {}
        },
        {
          "output_type": "display_data",
          "data": {
            "text/plain": [
              "<IPython.core.display.HTML object>"
            ],
            "text/html": []
          },
          "metadata": {}
        },
        {
          "output_type": "display_data",
          "data": {
            "text/plain": [
              "<IPython.core.display.HTML object>"
            ],
            "text/html": []
          },
          "metadata": {}
        },
        {
          "output_type": "display_data",
          "data": {
            "text/plain": [
              "<IPython.core.display.HTML object>"
            ],
            "text/html": []
          },
          "metadata": {}
        },
        {
          "output_type": "display_data",
          "data": {
            "text/plain": [
              "<IPython.core.display.HTML object>"
            ],
            "text/html": []
          },
          "metadata": {}
        },
        {
          "output_type": "display_data",
          "data": {
            "text/plain": [
              "<IPython.core.display.HTML object>"
            ],
            "text/html": []
          },
          "metadata": {}
        },
        {
          "output_type": "display_data",
          "data": {
            "text/plain": [
              "<IPython.core.display.HTML object>"
            ],
            "text/html": []
          },
          "metadata": {}
        },
        {
          "output_type": "display_data",
          "data": {
            "text/plain": [
              "<IPython.core.display.HTML object>"
            ],
            "text/html": []
          },
          "metadata": {}
        },
        {
          "output_type": "display_data",
          "data": {
            "text/plain": [
              "<IPython.core.display.HTML object>"
            ],
            "text/html": []
          },
          "metadata": {}
        },
        {
          "output_type": "display_data",
          "data": {
            "text/plain": [
              "<IPython.core.display.HTML object>"
            ],
            "text/html": []
          },
          "metadata": {}
        },
        {
          "output_type": "display_data",
          "data": {
            "text/plain": [
              "<IPython.core.display.HTML object>"
            ],
            "text/html": []
          },
          "metadata": {}
        },
        {
          "output_type": "display_data",
          "data": {
            "text/plain": [
              "<IPython.core.display.HTML object>"
            ],
            "text/html": []
          },
          "metadata": {}
        },
        {
          "output_type": "display_data",
          "data": {
            "text/plain": [
              "<IPython.core.display.HTML object>"
            ],
            "text/html": []
          },
          "metadata": {}
        },
        {
          "output_type": "display_data",
          "data": {
            "text/plain": [
              "<IPython.core.display.HTML object>"
            ],
            "text/html": []
          },
          "metadata": {}
        },
        {
          "output_type": "display_data",
          "data": {
            "text/plain": [
              "<IPython.core.display.HTML object>"
            ],
            "text/html": []
          },
          "metadata": {}
        },
        {
          "output_type": "display_data",
          "data": {
            "text/plain": [
              "<IPython.core.display.HTML object>"
            ],
            "text/html": []
          },
          "metadata": {}
        },
        {
          "output_type": "display_data",
          "data": {
            "text/plain": [
              "<IPython.core.display.HTML object>"
            ],
            "text/html": []
          },
          "metadata": {}
        },
        {
          "output_type": "display_data",
          "data": {
            "text/plain": [
              "<IPython.core.display.HTML object>"
            ],
            "text/html": []
          },
          "metadata": {}
        },
        {
          "output_type": "display_data",
          "data": {
            "text/plain": [
              "<IPython.core.display.HTML object>"
            ],
            "text/html": []
          },
          "metadata": {}
        },
        {
          "output_type": "display_data",
          "data": {
            "text/plain": [
              "<IPython.core.display.HTML object>"
            ],
            "text/html": []
          },
          "metadata": {}
        },
        {
          "output_type": "display_data",
          "data": {
            "text/plain": [
              "<IPython.core.display.HTML object>"
            ],
            "text/html": []
          },
          "metadata": {}
        },
        {
          "output_type": "display_data",
          "data": {
            "text/plain": [
              "<IPython.core.display.HTML object>"
            ],
            "text/html": []
          },
          "metadata": {}
        },
        {
          "output_type": "display_data",
          "data": {
            "text/plain": [
              "<IPython.core.display.HTML object>"
            ],
            "text/html": []
          },
          "metadata": {}
        },
        {
          "output_type": "display_data",
          "data": {
            "text/plain": [
              "<IPython.core.display.HTML object>"
            ],
            "text/html": []
          },
          "metadata": {}
        },
        {
          "output_type": "display_data",
          "data": {
            "text/plain": [
              "<IPython.core.display.HTML object>"
            ],
            "text/html": []
          },
          "metadata": {}
        },
        {
          "output_type": "display_data",
          "data": {
            "text/plain": [
              "<IPython.core.display.HTML object>"
            ],
            "text/html": []
          },
          "metadata": {}
        },
        {
          "output_type": "display_data",
          "data": {
            "text/plain": [
              "<IPython.core.display.HTML object>"
            ],
            "text/html": []
          },
          "metadata": {}
        },
        {
          "output_type": "stream",
          "name": "stderr",
          "text": [
            "100%|██████████| 87/87 [03:42<00:00,  2.55s/it]\n"
          ]
        },
        {
          "output_type": "execute_result",
          "data": {
            "text/plain": [
              "array([1.74626522])"
            ]
          },
          "metadata": {},
          "execution_count": 19
        }
      ],
      "source": [
        "import time\n",
        "with warnings.catch_warnings():\n",
        "\n",
        "    #ignore the warnings\n",
        "    warnings.simplefilter(\"ignore\", category=RuntimeWarning)\n",
        "\n",
        "    #date\n",
        "    now = datetime.datetime.now()\n",
        "\n",
        "    #saving results\n",
        "    file_name = save_path + 'ETHOS_ROBERTA_IG_'+str(now.day) + '_' + str(now.month) + '_' + str(now.year)\n",
        "\n",
        "    #metrics\n",
        "    metrics = {'F':[], 'FTP':[], 'NZW':[]}\n",
        "    metricsP = {'F':[], 'FTP':[], 'NZW':[]}\n",
        "\n",
        "    #time_r = [[],[]]: sublists for each technique\n",
        "    time_r = [ [] ] #now only ig is present\n",
        "\n",
        "    #neighnbors\n",
        "    #my_explainers.neighbours = 2000\n",
        "\n",
        "    #ig\n",
        "    techniques = [my_explainers.ig]\n",
        "\n",
        "    #for each test instance\n",
        "    for ind in tqdm(range(0,len(test_texts))): #progress bar\n",
        "\n",
        "        #to not run out of memory\n",
        "        torch.cuda.empty_cache()\n",
        "\n",
        "        #the instance of test set\n",
        "        instance = test_texts[ind]\n",
        "\n",
        "        #reseting the state memory\n",
        "        my_evaluators.clear_states()\n",
        "        my_evaluatorsP.clear_states()\n",
        "\n",
        "        #prediction, attention matrix and hidden states. Here we care about predictions\n",
        "        prediction, _, _ = model.my_predict(instance)\n",
        "\n",
        "        #RobetaTokenizerFast\n",
        "        enc = model.tokenizer([instance,instance], truncation=True, padding=True)[0] #first element of output dict: input IDs\n",
        "\n",
        "        #real tokens or padding: extracting the mask\n",
        "        mask = enc.attention_mask\n",
        "\n",
        "        #extract special tokens\n",
        "        tokens = enc.tokens\n",
        "\n",
        "        interpretations = []\n",
        "        kk = 0\n",
        "\n",
        "        #ig now. This piece of code did not change. because other techniques will be included later\n",
        "        for technique in techniques:\n",
        "            ts = time.time()\n",
        "\n",
        "            #returns interpretations\n",
        "            temp = technique(instance, prediction, tokens, enc.ids, _, _) #no attention and hidden states\n",
        "\n",
        "            #normalization in interpretations\n",
        "            interpretations.append([np.array(i)/np.max(abs(np.array(i))) for i in temp])\n",
        "\n",
        "            #append the time it took\n",
        "            time_r[kk].append(time.time()-ts)\n",
        "            kk = kk + 1\n",
        "\n",
        "        #'F','FTP','NZW'\n",
        "        for metric in metrics.keys():\n",
        "            evaluated = []\n",
        "            for interpretation in interpretations:\n",
        "\n",
        "                #all parameters: interpretation, tweaked_interpretation, instance, prediction, tokens, hidden_states, t_hidden_states, rationales\n",
        "                evaluated.append(evaluation[metric](interpretation, _, instance, prediction, tokens, _, _, _))\n",
        "\n",
        "            #save evaluations in dict\n",
        "            metrics[metric].append(evaluated)\n",
        "\n",
        "        #copy of saved state\n",
        "        my_evaluatorsP.saved_state = my_evaluators.saved_state.copy()\n",
        "\n",
        "        #clear again all states\n",
        "        my_evaluators.clear_states()\n",
        "\n",
        "        for metric in metrics.keys():\n",
        "            evaluatedP = []\n",
        "            for interpretation in interpretations:\n",
        "\n",
        "                #in a similar way as 'evaluation'\n",
        "                evaluatedP.append(evaluationP[metric](interpretation, _, instance, prediction, tokens, _, _, _))\n",
        "\n",
        "            #save evaluations\n",
        "            metricsP[metric].append(evaluatedP)\n",
        "\n",
        "        #write results to files\n",
        "        with open(file_name+'(A).pickle', 'wb') as handle:\n",
        "            pickle.dump(metrics, handle, protocol=pickle.HIGHEST_PROTOCOL)\n",
        "        with open(file_name+'(P).pickle', 'wb') as handle:\n",
        "            pickle.dump(metricsP, handle, protocol=pickle.HIGHEST_PROTOCOL)\n",
        "        with open(file_name+'_TIME.pickle', 'wb') as handle:\n",
        "            pickle.dump(time_r, handle, protocol=pickle.HIGHEST_PROTOCOL)\n",
        "\n",
        "time_r = np.array(time_r)\n",
        "time_r.mean(axis=1)"
      ]
    },
    {
      "cell_type": "code",
      "execution_count": null,
      "metadata": {
        "colab": {
          "base_uri": "https://localhost:8080/"
        },
        "id": "MGqIVcTuZyiD",
        "outputId": "16aee1da-9030-4a34-b267-699babd6b79b"
      },
      "outputs": [
        {
          "output_type": "stream",
          "name": "stdout",
          "text": [
            "[[1.31893444 1.33769011 1.40460014 1.36466551 1.33518124 1.24277329\n",
            "  1.33398581 1.75998497 1.24356627 1.77482724 1.85054612 1.79162192\n",
            "  1.3898313  1.33179426 1.37649441 1.32211208 1.80220819 1.36521769\n",
            "  2.40089607 2.31744409 1.42907691 1.77958608 1.57235146 1.34868598\n",
            "  1.5073998  1.31763935 1.33617115 1.33087659 1.80887985 1.744807\n",
            "  1.28214192 3.00801921 1.66237831 1.44230723 1.51115775 1.71406031\n",
            "  1.31776309 1.54090023 4.43570399 1.55310607 1.32317424 1.26128888\n",
            "  2.38433409 2.01465225 1.55646467 1.24797654 1.26046824 1.82316756\n",
            "  1.52839518 1.33292866 1.38094306 1.34266639 1.35537744 1.51378632\n",
            "  2.4644649  1.44261789 2.01437736 1.39239144 1.33971429 1.51242495\n",
            "  1.50473189 1.5183568  3.13675046 1.51914215 1.51047182 1.49906969\n",
            "  1.31907105 1.40593457 1.81319261 2.28925991 1.99164486 1.77896738\n",
            "  1.84396577 1.94508815 1.31536436 3.07333517 2.00794172 1.24214888\n",
            "  1.36410475 2.49327517 1.74712968 1.33194089 1.35196662 1.54331207\n",
            "  8.88100004 1.29636335 2.00254226]]\n",
            "[1.74626522]\n"
          ]
        }
      ],
      "source": [
        "print(time_r)\n",
        "print(time_r.mean(axis=1))"
      ]
    },
    {
      "cell_type": "markdown",
      "metadata": {
        "id": "B_h0saeeVy_I"
      },
      "source": [
        "Now, let us print the results for IG"
      ]
    },
    {
      "cell_type": "code",
      "execution_count": null,
      "metadata": {
        "colab": {
          "base_uri": "https://localhost:8080/"
        },
        "id": "gGjFbqb-V5z5",
        "outputId": "5a2c732c-95b0-4b3d-ee07-1163e07bba40"
      },
      "outputs": [
        {
          "output_type": "stream",
          "name": "stdout",
          "text": [
            "F\n",
            " IG    0.07733999937772751 | 0.14601 0.0758 0.08001 0.06485 0.05166 0.01702 0.10601 0.07732\n",
            "FTP\n",
            " IG    0.11517 | 0.20215 0.10487 0.1306 0.07225 0.1353 0.03924 0.12895 0.10804\n",
            "NZW\n",
            " IG    1.0 | 1.0 1.0 1.0 1.0 1.0 1.0 1.0 1.0\n"
          ]
        },
        {
          "output_type": "stream",
          "name": "stderr",
          "text": [
            "/usr/local/lib/python3.10/dist-packages/numpy/lib/function_base.py:495: RuntimeWarning: Mean of empty slice.\n",
            "  avg = a.mean(axis)\n",
            "/usr/local/lib/python3.10/dist-packages/numpy/core/_methods.py:189: RuntimeWarning: invalid value encountered in double_scalars\n",
            "  ret = ret.dtype.type(ret / rcount)\n"
          ]
        }
      ],
      "source": [
        "print_results(file_name+'(A)', [' IG  '], metrics, label_names)"
      ]
    },
    {
      "cell_type": "code",
      "execution_count": null,
      "metadata": {
        "colab": {
          "base_uri": "https://localhost:8080/"
        },
        "id": "wTQUJg-WV_7P",
        "outputId": "9cc9504b-aa79-45c4-f5ba-dd0e2f693b86"
      },
      "outputs": [
        {
          "output_type": "stream",
          "name": "stdout",
          "text": [
            "F\n",
            " IG    0.33882 | 0.363 0.15866 0.3713 0.35689 0.39341 0.132 0.41996 0.51535\n",
            "FTP\n",
            " IG    0.34684 | 0.35052 0.09373 0.39807 0.35734 0.41183 0.13708 0.46494 0.56119\n",
            "NZW\n",
            " IG    1.0 | 1.0 1.0 1.0 1.0 1.0 1.0 1.0 1.0\n"
          ]
        }
      ],
      "source": [
        "print_results(file_name+'(P)', [' IG  '], metricsP, label_names)"
      ]
    },
    {
      "cell_type": "markdown",
      "metadata": {
        "id": "3WbL8TADjKVf"
      },
      "source": [
        "We will now experiment on various attention setups."
      ]
    },
    {
      "cell_type": "code",
      "execution_count": null,
      "metadata": {
        "colab": {
          "base_uri": "https://localhost:8080/"
        },
        "id": "yzteXfK2jFOM",
        "outputId": "9bb9474d-9554-48c7-bb66-5fe6e8539d06"
      },
      "outputs": [
        {
          "output_type": "execute_result",
          "data": {
            "text/plain": [
              "728"
            ]
          },
          "metadata": {},
          "execution_count": 30
        }
      ],
      "source": [
        "conf = []\n",
        "#'Mean', 'Multi', 0, 1, 2, 3, 4, 5\n",
        "for ci in ['Mean', 'Multi'] + list(range(12)):\n",
        "\n",
        "    #'Mean', 0, 1, 2, 3, 4, 5, 6, 7, 8, 9, 10, 11\n",
        "    for ce in ['Mean'] + list(range(12)):\n",
        "\n",
        "        # Matrix: From, To, MeanColumns, MeanRows, MaxColumns, MaxRows (rows?)\n",
        "        for cp in ['From', 'To', 'MeanColumns', 'MaxColumns']:\n",
        "\n",
        "            # Selection: True: select layers per head, False: do not\n",
        "            for cl in [False]:\n",
        "                conf.append([ci, ce, cp, cl])\n",
        "\n",
        "len(conf) #8*13*4*1"
      ]
    },
    {
      "cell_type": "code",
      "execution_count": null,
      "metadata": {
        "colab": {
          "base_uri": "https://localhost:8080/"
        },
        "id": "ooZwrjE3jU4u",
        "outputId": "e929a557-9acd-49bf-9986-e2999be4918d"
      },
      "outputs": [
        {
          "output_type": "stream",
          "name": "stderr",
          "text": [
            "100%|██████████| 87/87 [1:52:14<00:00, 77.41s/it] \n"
          ]
        },
        {
          "output_type": "execute_result",
          "data": {
            "text/plain": [
              "(0.0018719804698023304,\n",
              " 0.006683179701881847,\n",
              " 0.0020431114580198506,\n",
              " 0.177750696847727,\n",
              " 55.99537901494695,\n",
              " 11.694893620480066)"
            ]
          },
          "metadata": {},
          "execution_count": 31
        }
      ],
      "source": [
        "import time\n",
        "with warnings.catch_warnings():\n",
        "\n",
        "    #ignore the warnings\n",
        "    warnings.simplefilter(\"ignore\", category=RuntimeWarning)\n",
        "\n",
        "    #date\n",
        "    now = datetime.datetime.now()\n",
        "\n",
        "    #saving results\n",
        "    file_name = save_path + 'ETHOS_ROBERTA_ATTENTION_'+str(now.day) + '_' + str(now.month) + '_' + str(now.year)\n",
        "\n",
        "    #metrics\n",
        "    metrics = {'FTP':[], 'F':[], 'NZW':[]}\n",
        "    metricsP = {'FTP':[], 'F':[], 'NZW':[]}\n",
        "\n",
        "    #times\n",
        "    time_r = []\n",
        "    time_b = []\n",
        "    time_b2 = []\n",
        "\n",
        "    #attentions setups\n",
        "    for con in conf:\n",
        "        time_r.append([])\n",
        "\n",
        "    #for the first 10 instances\n",
        "    for ind in tqdm(range(0,len(test_texts))):\n",
        "\n",
        "        #to not run out of memory\n",
        "        torch.cuda.empty_cache()\n",
        "\n",
        "        #one instance\n",
        "        instance = test_texts[ind]\n",
        "\n",
        "        #clear states of evaluators\n",
        "        my_evaluators.clear_states()\n",
        "        my_evaluatorsP.clear_states()\n",
        "\n",
        "        #save calculated configurations\n",
        "        my_explainers.save_states = {}\n",
        "\n",
        "        #prediction, attention matrix and hidden states. Here we care about predictions and attention.\n",
        "        prediction, attention, _ = model.my_predict(instance)\n",
        "\n",
        "        #RobertaTokenizerFast\n",
        "        enc = model.tokenizer([instance,instance], truncation=True, padding=True)[0]\n",
        "\n",
        "        #real tokens or padding: extracting the mask\n",
        "        mask = enc.attention_mask\n",
        "\n",
        "        #extract special tokens\n",
        "        tokens = enc.tokens\n",
        "\n",
        "        interpretations = []\n",
        "        kk = 0\n",
        "        for con in conf:\n",
        "\n",
        "            #time\n",
        "            ts = time.time()\n",
        "\n",
        "            #set configuration\n",
        "            my_explainers.config = con\n",
        "\n",
        "            #returns interpretations\n",
        "            temp = my_explainers.my_attention(instance, prediction, tokens, mask, attention, _) #no hidden states\n",
        "\n",
        "            #scaling interpretations\n",
        "            interpretations.append([maxabs_scale(i) for i in temp])\n",
        "\n",
        "            #append time\n",
        "            time_r[kk].append(time.time()-ts)\n",
        "            kk = kk + 1\n",
        "\n",
        "        #'F','FTP','NZW'\n",
        "        for metric in metrics.keys():\n",
        "            evaluated = []\n",
        "            k = 0\n",
        "\n",
        "            for interpretation in interpretations:\n",
        "                tt = time.time()\n",
        "\n",
        "                #all parameters: interpretation, tweaked_interpretation, instance, prediction, tokens, hidden_states, t_hidden_states, rationales\n",
        "                evaluated.append(evaluation[metric](interpretation, _, instance, prediction, tokens, _, _, _))\n",
        "                k = k + (time.time()-tt) #time\n",
        "            if metric == 'FTP':\n",
        "                time_b.append(k)\n",
        "            metrics[metric].append(evaluated)\n",
        "\n",
        "        my_evaluatorsP.saved_state = my_evaluators.saved_state.copy()\n",
        "\n",
        "        for metricP in metricsP.keys():\n",
        "            evaluated = []\n",
        "            k = 0\n",
        "\n",
        "            for interpretation in interpretations:\n",
        "                tt = time.time()\n",
        "\n",
        "                #all parameters: interpretation, tweaked_interpretation, instance, prediction, tokens, hidden_states, t_hidden_states, rationales\n",
        "                evaluated.append(evaluationP[metricP](interpretation, _, instance, prediction, tokens, _, _, _))\n",
        "                k = k + (time.time()-tt)\n",
        "\n",
        "            if metricP == 'FTP':\n",
        "                time_b2.append(k)\n",
        "            metricsP[metricP].append(evaluated)\n",
        "\n",
        "        if(ind != 0):\n",
        "            with open(file_name+' (A).pickle', 'rb') as handle:\n",
        "                old_metrics = pickle.load(handle)\n",
        "            with open(file_name+' (P).pickle', 'rb') as handle:\n",
        "                old_metricsP = pickle.load(handle)\n",
        "\n",
        "            #append new results\n",
        "            for key in metrics.keys():\n",
        "                old_metrics[key].append(metrics[key][0])\n",
        "                old_metricsP[key].append(metricsP[key][0])\n",
        "        else:\n",
        "            old_metrics = metrics\n",
        "            old_metricsP = metricsP\n",
        "\n",
        "        #save metrics as below\n",
        "        with open(file_name+' (A).pickle', 'wb') as handle:\n",
        "            pickle.dump(old_metrics, handle, protocol=pickle.HIGHEST_PROTOCOL)\n",
        "        with open(file_name+' (P).pickle', 'wb') as handle:\n",
        "            pickle.dump(old_metricsP, handle, protocol=pickle.HIGHEST_PROTOCOL)\n",
        "        with open(file_name+'_TIME.pickle', 'wb') as handle:\n",
        "            pickle.dump(time_r, handle, protocol=pickle.HIGHEST_PROTOCOL)\n",
        "\n",
        "        del old_metrics,old_metricsP\n",
        "        metrics = {'FTP':[], 'F':[], 'NZW':[]}\n",
        "        metricsP = {'FTP':[], 'F':[], 'NZW':[]}\n",
        "\n",
        "#times\n",
        "time_r = np.array(time_r)\n",
        "time_r.mean(axis=1).min(),time_r.mean(axis=1).max(), time_r.mean(axis=1).mean(), time_r.sum(axis=1).mean(), np.mean(time_b), np.mean(time_b2)"
      ]
    },
    {
      "cell_type": "code",
      "execution_count": null,
      "metadata": {
        "id": "Tzs5sWN0jZaf",
        "colab": {
          "base_uri": "https://localhost:8080/"
        },
        "outputId": "9d199a6d-fbde-4963-95b3-8069a233d5a5"
      },
      "outputs": [
        {
          "output_type": "stream",
          "name": "stdout",
          "text": [
            "[[0.0031631  0.00331402 0.00285316 ... 0.00708461 0.00264668 0.00271893]\n",
            " [0.00210071 0.00281692 0.00202346 ... 0.00413775 0.00185966 0.00203514]\n",
            " [0.00208426 0.0026989  0.00206923 ... 0.00427437 0.00177526 0.00213432]\n",
            " ...\n",
            " [0.00177693 0.00177336 0.00189734 ... 0.0045774  0.00176907 0.00179148]\n",
            " [0.00174618 0.00184512 0.00189376 ... 0.0049715  0.00174689 0.00182104]\n",
            " [0.00172853 0.00188494 0.00186753 ... 0.00406647 0.00177789 0.00181484]]\n",
            "0.0018719804698023304\n",
            "[18.000608921051025, 38.912978410720825, 41.171518087387085, 24.331618547439575, 34.26501727104187, 17.35102343559265, 36.63894701004028, 59.53835964202881, 23.71956181526184, 58.41548752784729, 62.89147472381592, 63.50250458717346, 34.04198455810547, 31.689624786376953, 47.89787244796753, 21.88539457321167, 58.87467360496521, 34.56255745887756, 100.50023698806763, 91.07251024246216, 27.273457765579224, 58.74209427833557, 53.275230169296265, 31.316423892974854, 43.74420404434204, 29.74014902114868, 36.26983332633972, 14.841410875320435, 65.62767672538757, 60.91972303390503, 24.16251015663147, 146.51042699813843, 45.663108110427856, 26.859611749649048, 49.229419469833374, 57.851083755493164, 24.152384996414185, 52.63943409919739, 216.67750024795532, 28.9512836933136, 38.508591413497925, 5.623143672943115, 103.4192111492157, 35.491867542266846, 52.939101219177246, 19.615326642990112, 12.82930588722229, 72.87972021102905, 47.70660090446472, 14.787105560302734, 22.066851377487183, 30.734895706176758, 38.54354476928711, 37.92674922943115, 105.51683211326599, 29.04271173477173, 78.0870532989502, 38.58269238471985, 33.28666353225708, 44.96061420440674, 45.2618043422699, 43.18458604812622, 150.53815078735352, 43.27449297904968, 45.619850635528564, 43.590003490448, 17.130865335464478, 38.137635469436646, 68.00068664550781, 92.95888471603394, 81.04311442375183, 61.46601867675781, 73.21531248092651, 75.19798731803894, 28.857001066207886, 150.6377730369568, 83.03286147117615, 20.02263331413269, 39.82460331916809, 111.99587273597717, 58.398255586624146, 16.84935188293457, 17.33984136581421, 51.126333236694336, 473.1076591014862, 15.424837350845337, 70.10205388069153]\n",
            "[2.4787399768829346, 9.732378005981445, 5.47726035118103, 3.547827959060669, 16.688652276992798, 4.544690370559692, 5.27080512046814, 14.92339539527893, 3.2216274738311768, 7.358358860015869, 8.342962741851807, 8.809149742126465, 4.513948440551758, 4.191307544708252, 10.717824459075928, 5.77489709854126, 22.371803045272827, 4.556924819946289, 37.40947103500366, 23.12522006034851, 3.595864772796631, 15.026190280914307, 20.091084241867065, 7.785688161849976, 5.946074485778809, 11.37298583984375, 8.916860818862915, 3.874513626098633, 8.650670289993286, 15.258327007293701, 6.312802314758301, 35.779152631759644, 11.74588418006897, 3.5662853717803955, 12.332942485809326, 22.181623697280884, 9.422222375869751, 6.659817934036255, 27.240222930908203, 3.9150137901306152, 5.534153938293457, 1.0181496143341064, 12.990002632141113, 4.9854896068573, 19.849432706832886, 7.722317218780518, 1.994023323059082, 0.4247901439666748, 0.37698984146118164, 2.2903997898101807, 5.723233222961426, 8.085096597671509, 5.036503076553345, 9.764940977096558, 13.222895860671997, 7.151090621948242, 38.43478560447693, 10.005775213241577, 8.770462989807129, 17.367696285247803, 17.995853185653687, 11.054561376571655, 37.41016912460327, 5.442683696746826, 6.339379072189331, 5.557417631149292, 4.71089506149292, 5.461962938308716, 8.84793472290039, 34.695093393325806, 30.376203298568726, 7.982676267623901, 27.225457906723022, 9.685428619384766, 7.765185117721558, 18.499061584472656, 10.759461641311646, 7.746879577636719, 14.35982084274292, 14.041227579116821, 15.1723153591156, 2.362335205078125, 2.4536402225494385, 18.780884265899658, 57.91081762313843, 2.1802031993865967, 9.1584951877594]\n"
          ]
        },
        {
          "output_type": "execute_result",
          "data": {
            "text/plain": [
              "11.694893620480066"
            ]
          },
          "metadata": {},
          "execution_count": 32
        }
      ],
      "source": [
        "print(time_r)\n",
        "print(time_r.mean(axis=1).min())\n",
        "time_r.mean(axis=1).max()\n",
        "time_r.sum(axis=1).mean()\n",
        "print(time_b)\n",
        "np.mean(time_b)\n",
        "print(time_b2)\n",
        "np.mean(time_b2)"
      ]
    },
    {
      "cell_type": "code",
      "execution_count": null,
      "metadata": {
        "id": "yCHcNH37jiW_"
      },
      "outputs": [],
      "source": [
        "#print_results(file_name+' (A)', conf, metrics, label_names)\n",
        "\n",
        "with open(file_name+' (A).pickle', 'rb') as handle:\n",
        "    metrics = pickle.load(handle)"
      ]
    },
    {
      "cell_type": "code",
      "execution_count": null,
      "metadata": {
        "id": "SvrMf1p0jkHB"
      },
      "outputs": [],
      "source": [
        "#print_results(file_name+' (P)', conf, metricsP, label_names)\n",
        "\n",
        "with open(file_name+' (P).pickle', 'rb') as handle:\n",
        "    metricsP = pickle.load(handle)"
      ]
    },
    {
      "cell_type": "markdown",
      "metadata": {
        "id": "AVi-BAzot_yt"
      },
      "source": [
        "We calculate the best attention setup using Optimus variations (we do not use the Optimus implementation at this step)."
      ]
    },
    {
      "cell_type": "code",
      "execution_count": null,
      "metadata": {
        "id": "EPNoMrONtuz7",
        "colab": {
          "base_uri": "https://localhost:8080/"
        },
        "outputId": "729fc37b-3dcd-4c61-87bd-272e435f7651"
      },
      "outputs": [
        {
          "output_type": "stream",
          "name": "stderr",
          "text": [
            "/usr/local/lib/python3.10/dist-packages/numpy/lib/function_base.py:495: RuntimeWarning: Mean of empty slice.\n",
            "  avg = a.mean(axis)\n",
            "/usr/local/lib/python3.10/dist-packages/numpy/core/_methods.py:189: RuntimeWarning: invalid value encountered in double_scalars\n",
            "  ret = ret.dtype.type(ret / rcount)\n"
          ]
        },
        {
          "output_type": "stream",
          "name": "stdout",
          "text": [
            "Baseline: 0.0137514943300328  and NZW: 1.0\n",
            "Max Across: 0.03333355988806653  and NZW: 1.0\n",
            "Per Label Per Instance: 0.12645743950058522  and NZW:  0.9926476899537244\n",
            "Per Instance: 0.06521929940873479  and NZW:  1.0\n"
          ]
        }
      ],
      "source": [
        "print_results_ap(metrics, label_names, conf)"
      ]
    },
    {
      "cell_type": "code",
      "execution_count": null,
      "metadata": {
        "id": "MV46xC_JuDY3",
        "colab": {
          "base_uri": "https://localhost:8080/"
        },
        "outputId": "6932b91e-0d07-49c9-bc66-910038f02b87"
      },
      "outputs": [
        {
          "output_type": "stream",
          "name": "stdout",
          "text": [
            "Baseline: 0.3155989571335593  and NZW: 1.0\n",
            "Max Across: 0.39349852286994225  and NZW: 1.0\n",
            "Per Label Per Instance: 0.5690868685800059  and NZW:  0.9891859774212716\n"
          ]
        },
        {
          "output_type": "stream",
          "name": "stderr",
          "text": [
            "/usr/local/lib/python3.10/dist-packages/numpy/core/fromnumeric.py:3474: RuntimeWarning: Mean of empty slice.\n",
            "  return _methods._mean(a, axis=axis, dtype=dtype,\n"
          ]
        },
        {
          "output_type": "stream",
          "name": "stdout",
          "text": [
            "Per Instance: 0.47384973908107675  and NZW:  1.0\n"
          ]
        }
      ],
      "source": [
        "print_results_ap(metricsP, label_names, conf)"
      ]
    },
    {
      "cell_type": "markdown",
      "metadata": {
        "id": "VXYvD7f-uLJo"
      },
      "source": [
        "We repeat the process with Attention Scores with negative values (A*), thus by skipping the Softmax function. In the attention setups, we exclude the multiplication option in heads and layers, as a few combinations reach +/-inf."
      ]
    },
    {
      "cell_type": "code",
      "execution_count": null,
      "metadata": {
        "colab": {
          "base_uri": "https://localhost:8080/"
        },
        "id": "9kY2zh8ht7Rw",
        "outputId": "f4a81d39-1632-4fd3-b060-32392a8a0b6d"
      },
      "outputs": [
        {
          "output_type": "execute_result",
          "data": {
            "text/plain": [
              "676"
            ]
          },
          "metadata": {},
          "execution_count": 37
        }
      ],
      "source": [
        "conf = []\n",
        "for ci in ['Mean'] + list(range(12)):\n",
        "    for ce in ['Mean'] + list(range(12)):\n",
        "        for cp in ['From', 'To', 'MeanColumns', 'MaxColumns']: # Matrix: From, To, MeanColumns, MeanRows, MaxColumns, MaxRows\n",
        "            for cl in [False]: # Selection: True: select layers per head, False: do not\n",
        "                conf.append([ci, ce, cp, cl])\n",
        "len(conf)"
      ]
    },
    {
      "cell_type": "code",
      "execution_count": null,
      "metadata": {
        "colab": {
          "base_uri": "https://localhost:8080/",
          "height": 173
        },
        "id": "boAqysQKukpH",
        "outputId": "d30d739e-7e68-43ca-fcd9-b26e401e7328"
      },
      "outputs": [
        {
          "output_type": "stream",
          "name": "stderr",
          "text": [
            "\r 98%|█████████▊| 85/87 [1:40:48<06:31, 195.66s/it]"
          ]
        },
        {
          "output_type": "display_data",
          "data": {
            "text/plain": [
              "<IPython.core.display.HTML object>"
            ],
            "text/html": []
          },
          "metadata": {}
        },
        {
          "output_type": "display_data",
          "data": {
            "text/plain": [
              "<IPython.core.display.HTML object>"
            ],
            "text/html": []
          },
          "metadata": {}
        },
        {
          "output_type": "display_data",
          "data": {
            "text/plain": [
              "<IPython.core.display.HTML object>"
            ],
            "text/html": []
          },
          "metadata": {}
        },
        {
          "output_type": "display_data",
          "data": {
            "text/plain": [
              "<IPython.core.display.HTML object>"
            ],
            "text/html": []
          },
          "metadata": {}
        },
        {
          "output_type": "display_data",
          "data": {
            "text/plain": [
              "<IPython.core.display.HTML object>"
            ],
            "text/html": []
          },
          "metadata": {}
        },
        {
          "output_type": "display_data",
          "data": {
            "text/plain": [
              "<IPython.core.display.HTML object>"
            ],
            "text/html": []
          },
          "metadata": {}
        },
        {
          "output_type": "display_data",
          "data": {
            "text/plain": [
              "<IPython.core.display.HTML object>"
            ],
            "text/html": []
          },
          "metadata": {}
        },
        {
          "output_type": "stream",
          "name": "stderr",
          "text": [
            "\r 99%|█████████▉| 86/87 [1:41:14<02:24, 144.90s/it]"
          ]
        },
        {
          "output_type": "display_data",
          "data": {
            "text/plain": [
              "<IPython.core.display.HTML object>"
            ],
            "text/html": []
          },
          "metadata": {}
        },
        {
          "output_type": "display_data",
          "data": {
            "text/plain": [
              "<IPython.core.display.HTML object>"
            ],
            "text/html": []
          },
          "metadata": {}
        },
        {
          "output_type": "display_data",
          "data": {
            "text/plain": [
              "<IPython.core.display.HTML object>"
            ],
            "text/html": []
          },
          "metadata": {}
        },
        {
          "output_type": "display_data",
          "data": {
            "text/plain": [
              "<IPython.core.display.HTML object>"
            ],
            "text/html": []
          },
          "metadata": {}
        },
        {
          "output_type": "display_data",
          "data": {
            "text/plain": [
              "<IPython.core.display.HTML object>"
            ],
            "text/html": []
          },
          "metadata": {}
        },
        {
          "output_type": "display_data",
          "data": {
            "text/plain": [
              "<IPython.core.display.HTML object>"
            ],
            "text/html": []
          },
          "metadata": {}
        },
        {
          "output_type": "display_data",
          "data": {
            "text/plain": [
              "<IPython.core.display.HTML object>"
            ],
            "text/html": []
          },
          "metadata": {}
        },
        {
          "output_type": "display_data",
          "data": {
            "text/plain": [
              "<IPython.core.display.HTML object>"
            ],
            "text/html": []
          },
          "metadata": {}
        },
        {
          "output_type": "display_data",
          "data": {
            "text/plain": [
              "<IPython.core.display.HTML object>"
            ],
            "text/html": []
          },
          "metadata": {}
        },
        {
          "output_type": "display_data",
          "data": {
            "text/plain": [
              "<IPython.core.display.HTML object>"
            ],
            "text/html": []
          },
          "metadata": {}
        },
        {
          "output_type": "display_data",
          "data": {
            "text/plain": [
              "<IPython.core.display.HTML object>"
            ],
            "text/html": []
          },
          "metadata": {}
        },
        {
          "output_type": "display_data",
          "data": {
            "text/plain": [
              "<IPython.core.display.HTML object>"
            ],
            "text/html": []
          },
          "metadata": {}
        },
        {
          "output_type": "display_data",
          "data": {
            "text/plain": [
              "<IPython.core.display.HTML object>"
            ],
            "text/html": []
          },
          "metadata": {}
        },
        {
          "output_type": "display_data",
          "data": {
            "text/plain": [
              "<IPython.core.display.HTML object>"
            ],
            "text/html": []
          },
          "metadata": {}
        },
        {
          "output_type": "display_data",
          "data": {
            "text/plain": [
              "<IPython.core.display.HTML object>"
            ],
            "text/html": []
          },
          "metadata": {}
        },
        {
          "output_type": "display_data",
          "data": {
            "text/plain": [
              "<IPython.core.display.HTML object>"
            ],
            "text/html": []
          },
          "metadata": {}
        },
        {
          "output_type": "display_data",
          "data": {
            "text/plain": [
              "<IPython.core.display.HTML object>"
            ],
            "text/html": []
          },
          "metadata": {}
        },
        {
          "output_type": "display_data",
          "data": {
            "text/plain": [
              "<IPython.core.display.HTML object>"
            ],
            "text/html": []
          },
          "metadata": {}
        },
        {
          "output_type": "display_data",
          "data": {
            "text/plain": [
              "<IPython.core.display.HTML object>"
            ],
            "text/html": []
          },
          "metadata": {}
        },
        {
          "output_type": "display_data",
          "data": {
            "text/plain": [
              "<IPython.core.display.HTML object>"
            ],
            "text/html": []
          },
          "metadata": {}
        },
        {
          "output_type": "display_data",
          "data": {
            "text/plain": [
              "<IPython.core.display.HTML object>"
            ],
            "text/html": []
          },
          "metadata": {}
        },
        {
          "output_type": "display_data",
          "data": {
            "text/plain": [
              "<IPython.core.display.HTML object>"
            ],
            "text/html": []
          },
          "metadata": {}
        },
        {
          "output_type": "display_data",
          "data": {
            "text/plain": [
              "<IPython.core.display.HTML object>"
            ],
            "text/html": []
          },
          "metadata": {}
        },
        {
          "output_type": "display_data",
          "data": {
            "text/plain": [
              "<IPython.core.display.HTML object>"
            ],
            "text/html": []
          },
          "metadata": {}
        },
        {
          "output_type": "display_data",
          "data": {
            "text/plain": [
              "<IPython.core.display.HTML object>"
            ],
            "text/html": []
          },
          "metadata": {}
        },
        {
          "output_type": "display_data",
          "data": {
            "text/plain": [
              "<IPython.core.display.HTML object>"
            ],
            "text/html": []
          },
          "metadata": {}
        },
        {
          "output_type": "display_data",
          "data": {
            "text/plain": [
              "<IPython.core.display.HTML object>"
            ],
            "text/html": []
          },
          "metadata": {}
        },
        {
          "output_type": "display_data",
          "data": {
            "text/plain": [
              "<IPython.core.display.HTML object>"
            ],
            "text/html": []
          },
          "metadata": {}
        },
        {
          "output_type": "display_data",
          "data": {
            "text/plain": [
              "<IPython.core.display.HTML object>"
            ],
            "text/html": []
          },
          "metadata": {}
        },
        {
          "output_type": "display_data",
          "data": {
            "text/plain": [
              "<IPython.core.display.HTML object>"
            ],
            "text/html": []
          },
          "metadata": {}
        },
        {
          "output_type": "stream",
          "name": "stderr",
          "text": [
            "100%|██████████| 87/87 [1:42:39<00:00, 70.80s/it] \n"
          ]
        },
        {
          "output_type": "execute_result",
          "data": {
            "text/plain": [
              "(0.0019015142287331067,\n",
              " 0.003141545701300961,\n",
              " 0.0020123858934420757,\n",
              " 0.1750775727294606,\n",
              " 51.73081672876731,\n",
              " 10.793078184127808)"
            ]
          },
          "metadata": {},
          "execution_count": 38
        }
      ],
      "source": [
        "import time\n",
        "import math\n",
        "with warnings.catch_warnings():\n",
        "\n",
        "    warnings.simplefilter(\"ignore\", category=RuntimeWarning)\n",
        "\n",
        "    now = datetime.datetime.now()\n",
        "\n",
        "    file_name = save_path + 'ETHOS_ROBERTA_A_ATTENTION_NO_SOFTMAX_'+str(now.day) + '_' + str(now.month) + '_' + str(now.year)\n",
        "\n",
        "    metrics = {'FTP':[], 'F':[], 'NZW':[]}\n",
        "    metricsP = {'FTP':[], 'F':[], 'NZW':[]}\n",
        "\n",
        "    time_r = []\n",
        "    time_b = []\n",
        "    time_b2 = []\n",
        "\n",
        "    for con in conf:\n",
        "        time_r.append([])\n",
        "\n",
        "    for ind in tqdm(range(0,len(test_texts))):\n",
        "        torch.cuda.empty_cache()\n",
        "\n",
        "        instance = test_texts[ind]\n",
        "\n",
        "        my_evaluators.clear_states()\n",
        "        my_evaluatorsP.clear_states()\n",
        "\n",
        "        my_explainers.save_states = {}\n",
        "\n",
        "        prediction, _, hidden_states = model.my_predict(instance)\n",
        "\n",
        "        enc = model.tokenizer([instance,instance], truncation=True, padding=True)[0]\n",
        "\n",
        "        mask = enc.attention_mask\n",
        "\n",
        "        tokens = enc.tokens\n",
        "\n",
        "        attention = []\n",
        "\n",
        "        for la in range(12):\n",
        "            our_new_layer = []\n",
        "            bob = model.trainer.model.base_model.encoder.layer[la].attention\n",
        "            has = hidden_states[la]\n",
        "            aaa = bob.self.key(torch.tensor(has).to('cuda'))\n",
        "            bbb = bob.self.query(torch.tensor(has).to('cuda'))\n",
        "            for he in range(12):\n",
        "                attention_scores = torch.matmul(bbb[:,he*64:(he+1)*64], aaa[:,he*64:(he+1)*64].transpose(-1, -2))\n",
        "                attention_scores = attention_scores / math.sqrt(64)\n",
        "                our_new_layer.append(attention_scores.cpu().detach().numpy())\n",
        "            attention.append(our_new_layer)\n",
        "        attention = np.array(attention)\n",
        "\n",
        "        interpretations = []\n",
        "        kk = 0\n",
        "        for con in conf:\n",
        "            ts = time.time()\n",
        "            my_explainers.config = con\n",
        "            temp = my_explainers.my_attention(instance, prediction, tokens, mask, attention, _)\n",
        "            interpretations.append([maxabs_scale(i) for i in temp])\n",
        "            time_r[kk].append(time.time()-ts)\n",
        "            kk = kk + 1\n",
        "        for metric in metrics.keys():\n",
        "            evaluated = []\n",
        "            k = 0\n",
        "            for interpretation in interpretations:\n",
        "                tt = time.time()\n",
        "                evaluated.append(evaluation[metric](interpretation, _, instance, prediction, tokens, _, _, _))\n",
        "                k = k + (time.time()-tt)\n",
        "            if metric == 'FTP':\n",
        "                time_b.append(k)\n",
        "            metrics[metric].append(evaluated)\n",
        "        my_evaluatorsP.saved_state = my_evaluators.saved_state.copy()\n",
        "        for metric in metrics.keys():\n",
        "            evaluated = []\n",
        "            k = 0\n",
        "            for interpretation in interpretations:\n",
        "                tt = time.time()\n",
        "                evaluated.append(evaluationP[metric](interpretation, _, instance, prediction, tokens, _, _, _))\n",
        "                k = k + (time.time()-tt)\n",
        "            if metric == 'FTP':\n",
        "                time_b2.append(k)\n",
        "            metricsP[metric].append(evaluated)\n",
        "        with open(file_name+' (A).pickle', 'wb') as handle:\n",
        "            pickle.dump(metrics, handle, protocol=pickle.HIGHEST_PROTOCOL)\n",
        "        with open(file_name+' (P).pickle', 'wb') as handle:\n",
        "            pickle.dump(metricsP, handle, protocol=pickle.HIGHEST_PROTOCOL)\n",
        "        with open(file_name+'_TIME.pickle', 'wb') as handle:\n",
        "            pickle.dump(time_r, handle, protocol=pickle.HIGHEST_PROTOCOL)\n",
        "time_r = np.array(time_r)\n",
        "time_r.mean(axis=1).min(),time_r.mean(axis=1).max(), time_r.mean(axis=1).mean(), time_r.sum(axis=1).mean(), np.mean(time_b), np.mean(time_b2)"
      ]
    },
    {
      "cell_type": "code",
      "execution_count": null,
      "metadata": {
        "colab": {
          "base_uri": "https://localhost:8080/"
        },
        "id": "LWSNWQiy--EJ",
        "outputId": "3379cb83-a80b-4a51-f9c5-f74080d52e44"
      },
      "outputs": [
        {
          "output_type": "stream",
          "name": "stderr",
          "text": [
            "/usr/local/lib/python3.10/dist-packages/numpy/lib/function_base.py:495: RuntimeWarning: Mean of empty slice.\n",
            "  avg = a.mean(axis)\n",
            "/usr/local/lib/python3.10/dist-packages/numpy/core/_methods.py:189: RuntimeWarning: invalid value encountered in double_scalars\n",
            "  ret = ret.dtype.type(ret / rcount)\n"
          ]
        },
        {
          "output_type": "stream",
          "name": "stdout",
          "text": [
            "FTP\n",
            "['Mean', 'Mean', 'From', False]  0.01618 | -0.01241 -0.00865 0.00356 0.04074 -0.01405 -0.01213 0.05452 0.0779\n",
            "['Mean', 'Mean', 'To', False]  0.01049 | -0.01482 -0.00577 -0.02024 0.03141 -0.02658 -0.0042 0.07259 0.05155\n",
            "['Mean', 'Mean', 'MeanColumns', False]  0.0206 | 0.00046 0.04515 0.01817 0.03133 -0.0109 -0.01073 0.02365 0.06763\n",
            "['Mean', 'Mean', 'MaxColumns', False]  0.02037 | 0.01205 0.08661 -0.00087 0.02095 -0.00902 0.00864 0.01559 0.029\n",
            "['Mean', 0, 'From', False]  0.01288 | -0.02764 -0.02268 -0.00385 0.03976 0.00286 -0.01655 0.05329 0.07787\n",
            "['Mean', 0, 'To', False]  0.01041 | -0.04313 -0.00979 -0.0205 0.05539 -0.02604 -0.01329 0.08 0.06067\n",
            "['Mean', 0, 'MeanColumns', False]  0.02236 | 0.05018 0.02474 0.00959 0.02865 0.0108 -0.00464 0.00732 0.05222\n",
            "['Mean', 0, 'MaxColumns', False]  0.01921 | 0.02297 0.03668 0.00195 0.03504 0.00991 0.00019 0.00829 0.03866\n",
            "['Mean', 1, 'From', False]  0.01551 | -0.02743 -0.00293 -0.01599 0.04251 -0.00725 -0.01583 0.07914 0.07189\n",
            "['Mean', 1, 'To', False]  0.01181 | -0.02931 -0.0064 -0.0288 0.05216 -0.02673 -0.01047 0.07786 0.06616\n",
            "['Mean', 1, 'MeanColumns', False]  0.01677 | -0.01112 0.02065 0.00818 0.0377 -0.02952 -0.00627 0.04977 0.0648\n",
            "['Mean', 1, 'MaxColumns', False]  0.01338 | -0.01821 0.02933 -0.0303 0.04686 -0.03856 0.00105 0.06903 0.04785\n",
            "['Mean', 2, 'From', False]  0.02029 | 0.02641 0.01488 -0.00839 0.03846 -0.00361 0.0026 0.02724 0.06477\n",
            "['Mean', 2, 'To', False]  0.01224 | -0.00448 0.00925 -0.00863 0.02651 0.00757 -0.001 0.0369 0.03179\n",
            "['Mean', 2, 'MeanColumns', False]  0.01958 | 0.00699 0.04459 0.00897 0.03113 -0.00517 0.0081 0.0211 0.04095\n",
            "['Mean', 2, 'MaxColumns', False]  0.01473 | -0.0052 0.06069 0.00213 0.01792 -0.00383 0.00321 0.01197 0.03092\n",
            "['Mean', 3, 'From', False]  0.02223 | 0.02796 0.02174 0.01833 0.03193 0.00507 -0.00331 0.02586 0.0503\n",
            "['Mean', 3, 'To', False]  0.01268 | -0.02008 0.01877 -0.02145 0.02597 0.00505 0.00011 0.05679 0.03625\n",
            "['Mean', 3, 'MeanColumns', False]  0.02439 | 0.03717 0.06618 0.0214 0.0154 -0.01187 0.00528 0.01267 0.04885\n",
            "['Mean', 3, 'MaxColumns', False]  0.02136 | 0.02392 0.07054 0.00452 0.01402 -0.00441 -0.00904 0.03109 0.04024\n",
            "['Mean', 4, 'From', False]  0.01181 | -0.04474 -0.01334 -0.00696 0.05031 -0.01295 -0.01401 0.05348 0.08269\n",
            "['Mean', 4, 'To', False]  0.01297 | -0.00742 -0.01655 -0.00091 0.04004 -0.02708 -0.02569 0.05202 0.08937\n",
            "['Mean', 4, 'MeanColumns', False]  0.01438 | -0.02347 0.03272 0.01075 0.03313 -0.00901 -0.00909 0.03855 0.04145\n",
            "['Mean', 4, 'MaxColumns', False]  0.01743 | -0.0052 0.01353 0.01658 0.02288 0.02078 -0.01541 0.02791 0.05842\n",
            "['Mean', 5, 'From', False]  0.01371 | -0.02481 0.02057 -0.00295 0.03066 -0.02154 -0.01236 0.04602 0.07411\n",
            "['Mean', 5, 'To', False]  0.01177 | -0.00383 0.02248 -0.02396 0.04226 -0.01924 0.01438 0.03375 0.02834\n",
            "['Mean', 5, 'MeanColumns', False]  0.01858 | 0.00738 0.0701 0.00671 0.01861 -0.01949 0.00508 0.01622 0.04405\n",
            "['Mean', 5, 'MaxColumns', False]  0.01387 | 0.01409 0.04501 -0.00609 0.02513 -0.01496 -0.00286 0.01861 0.03201\n",
            "['Mean', 6, 'From', False]  0.02052 | 0.00974 0.01808 -0.0029 0.03654 -0.00815 -0.01589 0.04978 0.07693\n",
            "['Mean', 6, 'To', False]  0.01241 | 0.00734 0.02504 -0.00138 0.02208 -0.0141 -0.00201 0.01546 0.04687\n",
            "['Mean', 6, 'MeanColumns', False]  0.02133 | 0.00896 0.05584 0.00708 0.03048 0.00033 0.00134 0.02089 0.04568\n",
            "['Mean', 6, 'MaxColumns', False]  0.01937 | 0.04549 0.0538 0.0039 0.02121 -0.02019 0.00797 0.00658 0.03621\n",
            "['Mean', 7, 'From', False]  0.01765 | -0.00124 0.05024 0.01173 0.0222 -0.02582 -0.00361 0.03077 0.05689\n",
            "['Mean', 7, 'To', False]  0.00991 | 0.00416 0.02651 -0.02068 0.01793 -0.01804 0.00615 0.03022 0.03301\n",
            "['Mean', 7, 'MeanColumns', False]  0.01558 | -0.01359 0.02846 0.00997 0.03112 -0.0292 -0.01061 0.04582 0.06271\n",
            "['Mean', 7, 'MaxColumns', False]  0.01726 | 0.00094 0.05869 0.00283 0.0198 -0.03049 -0.00024 0.02789 0.05869\n",
            "['Mean', 8, 'From', False]  0.01696 | -0.01564 0.01123 0.00751 0.03886 0.00049 0.00327 0.04657 0.04341\n",
            "['Mean', 8, 'To', False]  0.01452 | 0.0103 0.00995 -0.01832 0.04174 -0.0514 -0.01294 0.06734 0.06948\n",
            "['Mean', 8, 'MeanColumns', False]  0.02317 | 0.0201 0.06552 0.00366 0.03236 -0.02447 0.0146 0.03071 0.04292\n",
            "['Mean', 8, 'MaxColumns', False]  0.01738 | -0.01084 0.03938 -0.00635 0.0392 -0.04739 0.0173 0.0706 0.03711\n",
            "['Mean', 9, 'From', False]  0.01549 | -0.01808 -0.01251 -0.00222 0.03948 0.0002 -0.01698 0.05918 0.07483\n",
            "['Mean', 9, 'To', False]  0.01388 | -0.01818 0.01655 0.00424 0.03323 -0.01593 -0.0013 0.05283 0.03963\n",
            "['Mean', 9, 'MeanColumns', False]  0.02002 | -0.01944 0.05104 0.00564 0.03091 0.00529 -0.00974 0.03388 0.06258\n",
            "['Mean', 9, 'MaxColumns', False]  0.01628 | -0.02376 0.04842 -0.02034 0.01615 0.00878 -0.01017 0.06294 0.0482\n",
            "['Mean', 10, 'From', False]  0.02481 | 0.03827 0.03287 0.01357 0.03906 -0.01015 0.00414 0.02203 0.05873\n",
            "['Mean', 10, 'To', False]  0.00685 | -0.04789 -0.02934 -0.01832 0.04252 -0.01698 -0.00743 0.07679 0.05546\n",
            "['Mean', 10, 'MeanColumns', False]  0.02016 | 0.01956 0.05479 0.01498 0.02505 0.001 0.00697 0.0075 0.03139\n",
            "['Mean', 10, 'MaxColumns', False]  0.01562 | 0.02409 0.04469 0.01549 0.01892 -0.00287 -9e-05 0.005 0.01973\n",
            "['Mean', 11, 'From', False]  0.01532 | 0.0105 0.00351 -0.00228 0.02825 -0.001 -0.00062 0.01914 0.06507\n",
            "['Mean', 11, 'To', False]  0.00795 | -0.02314 0.00934 -0.01146 0.02667 -0.01474 0.00559 0.04355 0.02777\n",
            "['Mean', 11, 'MeanColumns', False]  0.01623 | 0.01262 0.02093 0.00727 0.02777 -0.01261 -0.00478 0.02498 0.05367\n",
            "['Mean', 11, 'MaxColumns', False]  0.01682 | 0.0115 0.05315 0.00464 0.02644 -0.00954 -0.0035 0.01117 0.04072\n",
            "[0, 'Mean', 'From', False]  0.00236 | -0.03331 -0.00543 -0.01046 -0.00846 0.00081 0.00804 0.03484 0.03286\n",
            "[0, 'Mean', 'To', False]  0.00968 | -0.02492 0.0265 -0.00861 0.0232 -0.00121 -0.00294 0.03595 0.02946\n",
            "[0, 'Mean', 'MeanColumns', False]  0.01888 | 0.02587 0.04766 -0.00995 0.03021 -0.05096 -0.00183 0.05106 0.059\n",
            "[0, 'Mean', 'MaxColumns', False]  0.02076 | 0.04711 0.05465 0.00035 0.01967 -0.00764 -0.00485 0.02072 0.0361\n",
            "[0, 0, 'From', False]  0.00025 | 0.01591 -0.02724 -0.00198 -0.01697 -0.01336 -0.00063 0.03949 0.00678\n",
            "[0, 0, 'To', False]  0.0138 | -0.01196 0.02249 -0.02409 0.04622 -0.03092 -0.0094 0.05022 0.06787\n",
            "[0, 0, 'MeanColumns', False]  0.01051 | -0.01372 0.02468 -0.01512 0.03374 -0.02085 -0.00161 0.01915 0.05784\n",
            "[0, 0, 'MaxColumns', False]  0.01695 | 0.03094 0.05308 -0.01233 0.0243 0.00114 0.0043 0.00751 0.02669\n",
            "[0, 1, 'From', False]  0.00859 | 0.02036 0.0264 -0.00216 0.02077 -0.01256 -0.00943 0.02145 0.00388\n",
            "[0, 1, 'To', False]  0.0076 | -0.01891 0.02272 -0.01532 0.01957 0.01317 0.00014 0.01194 0.02749\n",
            "[0, 1, 'MeanColumns', False]  0.02025 | 0.05325 0.0528 -0.01608 0.03324 -0.01848 -0.00153 0.01874 0.0401\n",
            "[0, 1, 'MaxColumns', False]  0.01403 | -0.0108 0.04523 0.01296 0.01749 -0.00844 -0.01115 0.03146 0.03547\n",
            "[0, 2, 'From', False]  -0.00724 | -0.04752 -0.04667 -0.03856 0.01826 0.01835 0.00622 -0.00456 0.03652\n",
            "[0, 2, 'To', False]  0.01699 | 0.03737 0.04192 -0.02465 0.03743 -0.00038 0.00289 0.01229 0.02904\n",
            "[0, 2, 'MeanColumns', False]  0.01352 | 0.00612 0.06166 -0.00624 0.00963 -0.01996 -0.00179 0.01804 0.04071\n",
            "[0, 2, 'MaxColumns', False]  0.01853 | 0.00468 0.07151 0.0062 0.02184 -0.01417 -0.01374 0.0259 0.04601\n",
            "[0, 3, 'From', False]  0.00775 | -0.01904 0.02198 0.02377 0.00811 0.00112 0.00135 0.00811 0.01663\n",
            "[0, 3, 'To', False]  0.0118 | 0.00148 0.03868 -0.04171 0.03399 0.00083 -0.00676 0.05737 0.01048\n",
            "[0, 3, 'MeanColumns', False]  0.01271 | -0.00413 0.01823 0.01051 0.00817 -0.00844 0.00311 0.03377 0.04049\n",
            "[0, 3, 'MaxColumns', False]  0.01885 | 0.00911 0.01196 0.02492 0.04521 -0.0338 -0.01298 0.05019 0.05616\n",
            "[0, 4, 'From', False]  -0.0012 | -0.05709 0.00619 -0.01687 0.03014 0.0005 -0.0021 -0.00134 0.03098\n",
            "[0, 4, 'To', False]  0.01114 | 0.00764 0.02436 -0.01781 0.0169 0.00195 -0.00612 0.02021 0.04196\n",
            "[0, 4, 'MeanColumns', False]  0.01882 | 0.03607 0.05549 -0.01858 0.03806 -0.00728 -0.0079 0.0104 0.04427\n",
            "[0, 4, 'MaxColumns', False]  0.01572 | 0.01401 -0.00597 0.0056 0.03842 -0.02664 -0.01723 0.0567 0.06087\n",
            "[0, 5, 'From', False]  -0.0092 | -0.0747 0.00079 -0.00891 -0.0225 0.02294 0.00511 -0.00871 0.01242\n",
            "[0, 5, 'To', False]  0.01657 | -0.00586 0.04445 -0.01645 0.03321 -0.01395 -0.01384 0.01933 0.08564\n",
            "[0, 5, 'MeanColumns', False]  0.01154 | -0.02311 0.0652 -0.00655 0.01491 0.00697 -0.0004 0.00578 0.02951\n",
            "[0, 5, 'MaxColumns', False]  0.01237 | 0.01063 0.01961 -0.0173 0.0273 0.00255 -0.00409 0.0214 0.03882\n",
            "[0, 6, 'From', False]  0.01134 | 0.06582 0.02616 -0.01492 -0.02521 0.03531 -0.00577 0.01471 -0.00541\n",
            "[0, 6, 'To', False]  0.01314 | -0.01646 0.0112 -0.01076 0.025 0.03551 -0.0131 0.03028 0.04342\n",
            "[0, 6, 'MeanColumns', False]  0.02086 | 0.03975 0.0611 5e-05 0.02404 0.01721 0.00086 0.00151 0.02236\n",
            "[0, 6, 'MaxColumns', False]  0.01916 | 0.03732 0.05625 0.0097 0.01908 -0.00124 -0.00418 -0.00023 0.03657\n",
            "[0, 7, 'From', False]  0.00859 | 0.00253 0.05487 0.01224 -0.00642 -0.02694 0.00947 -0.00588 0.02882\n",
            "[0, 7, 'To', False]  -0.00518 | -5e-05 -0.00566 0.02064 -0.01575 -0.00956 -0.0012 -0.03221 0.00233\n",
            "[0, 7, 'MeanColumns', False]  0.01214 | 0.01301 0.04165 0.00222 0.01095 -0.00565 0.00163 0.00555 0.02778\n",
            "[0, 7, 'MaxColumns', False]  0.01486 | -0.01721 0.03076 0.02578 0.02757 0.01462 -0.00624 0.00446 0.03913\n",
            "[0, 8, 'From', False]  -0.01405 | -0.01779 -0.04773 -0.02376 -0.03136 0.00916 0.01259 0.01906 -0.03254\n",
            "[0, 8, 'To', False]  0.01069 | -0.00249 -0.00704 -0.02683 0.03991 -0.00978 -0.01149 0.03076 0.07247\n",
            "[0, 8, 'MeanColumns', False]  0.01595 | 0.0014 0.07284 0.00598 0.01201 -0.02064 -0.00402 0.02303 0.03702\n",
            "[0, 8, 'MaxColumns', False]  0.01659 | 0.00379 0.06216 0.00011 0.02189 -0.00984 0.00031 0.02253 0.03176\n",
            "[0, 9, 'From', False]  0.00436 | 0.02669 -0.03915 -0.02578 0.01043 -0.01433 -0.00795 0.06432 0.02062\n",
            "[0, 9, 'To', False]  0.01288 | -0.00979 0.05569 -0.00393 0.0179 0.0044 0.00017 0.00845 0.03015\n",
            "[0, 9, 'MeanColumns', False]  0.01784 | 0.01593 0.02532 -0.02366 0.05268 -0.02538 -0.00496 0.03103 0.07178\n",
            "[0, 9, 'MaxColumns', False]  0.02092 | 0.02583 0.07569 -0.00339 0.0235 -0.01304 -0.00197 0.01805 0.0427\n",
            "[0, 10, 'From', False]  0.00892 | -0.00449 -0.00425 -0.01747 0.03078 0.01513 -0.00296 0.02915 0.02546\n",
            "[0, 10, 'To', False]  0.00631 | -0.0325 -0.00835 -0.03699 0.02225 0.01579 0.00278 0.05917 0.02831\n",
            "[0, 10, 'MeanColumns', False]  0.01398 | 0.01112 0.04361 -0.00065 0.01545 0.0024 -0.0079 0.01721 0.03056\n",
            "[0, 10, 'MaxColumns', False]  0.0157 | 0.01626 0.04758 -0.00565 0.01629 -0.00915 -0.01531 0.0233 0.05231\n",
            "[0, 11, 'From', False]  -0.00362 | -0.00302 -0.04199 -0.00968 -0.01201 0.00418 -0.00057 0.01982 0.01432\n",
            "[0, 11, 'To', False]  0.01046 | -0.01253 0.02634 -0.00654 0.02213 0.00049 -0.00239 0.03361 0.02255\n",
            "[0, 11, 'MeanColumns', False]  0.01317 | 0.00305 -0.00152 0.00028 0.03136 -0.03529 0.00253 0.04763 0.0573\n",
            "[0, 11, 'MaxColumns', False]  0.0177 | 0.03346 0.04064 0.00983 0.02921 0.00426 -0.00968 0.00666 0.02721\n",
            "[1, 'Mean', 'From', False]  0.00208 | -0.00656 -0.00454 -0.01635 -0.00019 -0.01261 0.01103 0.016 0.02989\n",
            "[1, 'Mean', 'To', False]  0.0092 | 0.00753 0.0126 -0.0228 0.01705 -0.00107 -0.00034 0.02551 0.03515\n",
            "[1, 'Mean', 'MeanColumns', False]  0.01623 | 0.00681 0.0461 0.00869 0.00848 0.00201 0.01219 0.0155 0.03008\n",
            "[1, 'Mean', 'MaxColumns', False]  0.01288 | -0.00509 0.03888 -0.01616 0.0097 0.01706 0.01188 0.01619 0.03055\n",
            "[1, 0, 'From', False]  0.00573 | 0.01104 0.01776 0.00253 0.0169 0.00654 0.00058 -0.02207 0.01253\n",
            "[1, 0, 'To', False]  0.01239 | 0.00348 0.01888 -0.00334 0.01929 0.00556 -0.00559 0.02487 0.03594\n",
            "[1, 0, 'MeanColumns', False]  0.01774 | 0.03169 0.03089 0.00569 0.01083 0.01528 -0.00374 0.01727 0.034\n",
            "[1, 0, 'MaxColumns', False]  0.0168 | 0.01403 0.04165 -0.01269 0.02134 0.02471 0.00341 0.01312 0.0288\n",
            "[1, 1, 'From', False]  -0.00561 | -0.00844 0.00253 0.00636 -0.03123 -0.02783 0.01182 0.01565 -0.0137\n",
            "[1, 1, 'To', False]  0.0141 | 0.00231 0.03657 -0.0075 0.02032 -0.00767 0.0082 0.03028 0.03029\n",
            "[1, 1, 'MeanColumns', False]  0.00988 | -0.03155 0.04558 -0.00806 0.01187 -0.00993 0.00521 0.03064 0.03528\n",
            "[1, 1, 'MaxColumns', False]  0.00956 | 0.00717 0.00839 -0.02107 0.01393 -0.00339 0.00452 0.03112 0.03579\n",
            "[1, 2, 'From', False]  -0.00852 | -0.01346 -0.03844 0.00383 -0.01219 -0.00304 0.01172 -0.02494 0.00833\n",
            "[1, 2, 'To', False]  0.01157 | -0.01752 0.03241 0.00268 0.00715 0.02783 -0.00598 0.02734 0.01869\n",
            "[1, 2, 'MeanColumns', False]  0.01009 | 0.0399 -0.01985 0.01763 -0.00688 0.00538 0.00049 0.04216 0.00191\n",
            "[1, 2, 'MaxColumns', False]  0.01292 | -0.01098 0.03994 -0.01148 0.01309 -0.00804 0.00509 0.02379 0.05193\n",
            "[1, 3, 'From', False]  -0.00323 | -0.00234 -0.05072 0.02861 -0.02946 0.02827 0.00206 0.00585 -0.00806\n",
            "[1, 3, 'To', False]  0.01418 | 0.01093 0.02074 -0.00483 0.0234 0.01391 -0.0007 0.01968 0.03032\n",
            "[1, 3, 'MeanColumns', False]  0.01358 | 0.00482 0.03691 -0.00619 0.00855 0.00989 0.00342 0.00961 0.04165\n",
            "[1, 3, 'MaxColumns', False]  0.01352 | 0.00326 0.04605 -0.02023 0.01491 0.00344 0.00525 0.01997 0.03555\n",
            "[1, 4, 'From', False]  -0.0051 | -0.01178 -0.03357 -0.00756 0.00558 0.00225 0.00528 -0.01454 0.01354\n",
            "[1, 4, 'To', False]  0.02148 | 0.03054 0.05673 0.00358 0.03683 -0.01929 0.0031 0.03427 0.02612\n",
            "[1, 4, 'MeanColumns', False]  0.01294 | 0.00847 0.01921 0.01238 0.00287 0.00401 0.0036 0.02952 0.0235\n",
            "[1, 4, 'MaxColumns', False]  0.01401 | 0.02299 0.03983 -0.0153 0.01827 0.00036 0.00429 0.01473 0.02694\n",
            "[1, 5, 'From', False]  -0.0021 | -0.01116 0.01229 -0.00909 0.00729 -0.03124 0.011 0.00711 -0.00298\n",
            "[1, 5, 'To', False]  0.00393 | -0.02627 0.0156 -0.02557 0.016 0.00779 -0.00448 0.01152 0.03689\n",
            "[1, 5, 'MeanColumns', False]  -0.00384 | -0.00906 0.03439 0.01135 -0.01559 -0.01272 0.01672 -0.01572 -0.04013\n",
            "[1, 5, 'MaxColumns', False]  0.01366 | 0.01132 0.05785 -0.01271 0.02393 -0.00098 0.00484 0.01546 0.00954\n",
            "[1, 6, 'From', False]  0.00916 | -0.0065 0.00595 0.00597 0.0169 -0.00357 0.0126 0.01069 0.03126\n",
            "[1, 6, 'To', False]  0.01194 | 0.00938 0.02561 -0.01652 0.01522 -0.00125 -0.00769 0.01672 0.05405\n",
            "[1, 6, 'MeanColumns', False]  0.01385 | 0.00064 0.06289 -0.00115 0.01999 -0.00589 0.00337 0.01381 0.01712\n",
            "[1, 6, 'MaxColumns', False]  0.01878 | 0.01836 0.05475 -0.00513 0.04269 -0.0486 -0.00355 0.03231 0.0594\n",
            "[1, 7, 'From', False]  0.0103 | -0.01157 0.01881 -0.01376 0.01553 0.01178 -0.00219 0.03931 0.02448\n",
            "[1, 7, 'To', False]  0.00331 | -0.02021 -0.00741 -0.0298 0.01297 0.00181 -0.00508 0.02874 0.04545\n",
            "[1, 7, 'MeanColumns', False]  0.01699 | 0.02626 0.01249 -0.01207 0.02895 0.00096 0.00296 0.04855 0.02784\n",
            "[1, 7, 'MaxColumns', False]  0.01282 | 0.01215 0.02349 -0.01438 0.01708 -0.00222 0.00393 0.03476 0.02773\n",
            "[1, 8, 'From', False]  0.01128 | -0.00269 0.06579 -0.00919 0.0088 0.00314 0.01212 0.00646 0.0058\n",
            "[1, 8, 'To', False]  0.00492 | -0.02143 0.01238 -0.03522 0.01582 0.00871 -0.00581 0.02049 0.04439\n",
            "[1, 8, 'MeanColumns', False]  0.01272 | -0.01249 0.02722 -0.00723 0.02124 -0.00402 0.00993 0.0326 0.03453\n",
            "[1, 8, 'MaxColumns', False]  0.01357 | -0.02073 -0.01615 -0.00727 0.06615 -0.02244 0.01088 0.04853 0.04963\n",
            "[1, 9, 'From', False]  -0.01041 | -0.03741 0.03459 -0.01432 -0.03576 0.01583 0.00106 -0.00317 -0.04414\n",
            "[1, 9, 'To', False]  0.01661 | 0.02552 0.03298 -0.03621 0.05243 -0.04195 -0.01857 0.03683 0.08189\n",
            "[1, 9, 'MeanColumns', False]  -0.01168 | -0.02028 0.00944 -0.00114 -0.00207 0.01158 -0.00115 -0.04811 -0.04174\n",
            "[1, 9, 'MaxColumns', False]  0.01829 | 0.03268 0.01558 -0.00556 0.03351 -0.02128 0.00662 0.0429 0.04186\n",
            "[1, 10, 'From', False]  0.00583 | 0.01876 0.02746 0.01658 -0.01319 -0.02608 0.00887 0.01604 -0.00179\n",
            "[1, 10, 'To', False]  0.01195 | 0.01376 0.00716 -0.0163 0.028 -0.00567 -0.00609 0.02722 0.04756\n",
            "[1, 10, 'MeanColumns', False]  0.01757 | 0.01706 0.0596 0.00887 0.01144 0.00586 0.00089 0.02332 0.01349\n",
            "[1, 10, 'MaxColumns', False]  0.01715 | 0.02924 0.04842 0.0023 0.01224 0.00848 -0.00563 0.01321 0.02896\n",
            "[1, 11, 'From', False]  -0.00209 | -0.00162 -0.04403 -0.01522 0.01063 -0.00152 0.00851 0.00605 0.02051\n",
            "[1, 11, 'To', False]  0.01593 | 0.03903 0.03819 -0.01561 0.01846 -0.00096 -0.00019 0.02272 0.0258\n",
            "[1, 11, 'MeanColumns', False]  0.00823 | -0.01718 0.0354 -0.00513 0.01758 -0.00026 0.00246 0.0177 0.01526\n",
            "[1, 11, 'MaxColumns', False]  0.01107 | -0.00699 0.0391 0.00059 0.01462 -0.00599 0.00082 0.01984 0.02658\n",
            "[2, 'Mean', 'From', False]  0.01564 | 0.01322 0.00997 -0.01263 0.02489 0.02078 -0.00456 0.02983 0.04361\n",
            "[2, 'Mean', 'To', False]  0.01429 | 0.01757 0.00059 -0.02622 0.0466 -0.02529 0.00256 0.0457 0.05283\n",
            "[2, 'Mean', 'MeanColumns', False]  0.00952 | -0.01233 0.01864 -0.00998 0.01763 0.00154 -0.00168 0.03016 0.03216\n",
            "[2, 'Mean', 'MaxColumns', False]  0.01656 | 0.0544 0.02949 0.00514 0.02448 -0.02638 -0.00847 0.03195 0.02189\n",
            "[2, 0, 'From', False]  0.01107 | 0.02364 0.00187 0.01202 0.00674 0.01302 -0.00793 0.01084 0.02834\n",
            "[2, 0, 'To', False]  0.00761 | -0.0147 -0.0226 -0.01724 0.03784 0.00023 -0.00964 0.04433 0.04261\n",
            "[2, 0, 'MeanColumns', False]  0.02012 | 0.03406 0.05964 0.00476 0.01198 0.00673 -0.00128 0.01661 0.02844\n",
            "[2, 0, 'MaxColumns', False]  0.0204 | 0.03935 0.0483 0.00532 0.01341 0.01678 -0.00448 0.00784 0.03671\n",
            "[2, 1, 'From', False]  0.01516 | 0.03326 -0.00894 -0.04088 0.05314 -0.01155 -0.00075 0.04458 0.05239\n",
            "[2, 1, 'To', False]  0.01622 | -0.00106 0.04089 -0.0123 0.03815 -0.03519 -0.01391 0.05149 0.06171\n",
            "[2, 1, 'MeanColumns', False]  0.00946 | 0.0243 0.00417 0.04969 -0.01362 0.00817 -0.0058 0.01768 -0.00888\n",
            "[2, 1, 'MaxColumns', False]  0.01365 | 0.00564 0.04729 -0.00598 0.02638 -0.02853 -0.00436 0.03566 0.03311\n",
            "[2, 2, 'From', False]  0.01304 | -0.01221 0.04248 0.0011 0.01749 0.01142 0.00207 0.0163 0.02564\n",
            "[2, 2, 'To', False]  0.01306 | 0.00864 0.03177 -0.0102 0.03413 0.00402 -0.00276 0.00899 0.02986\n",
            "[2, 2, 'MeanColumns', False]  0.0101 | -0.00414 0.0335 -0.00624 0.01599 0.00737 0.00413 0.01081 0.01943\n",
            "[2, 2, 'MaxColumns', False]  0.01257 | -0.00282 0.05774 -0.00576 0.02561 0.00408 -0.00248 0.00622 0.01799\n",
            "[2, 3, 'From', False]  -0.00368 | 0.01565 -0.04322 0.03328 -0.00462 -0.00975 -0.00712 0.00423 -0.01785\n",
            "[2, 3, 'To', False]  0.01212 | -0.01125 0.02072 -0.02602 0.04591 -0.01304 0.00768 0.03821 0.03479\n",
            "[2, 3, 'MeanColumns', False]  0.02377 | 0.05913 0.05001 0.027 0.01257 -0.01322 -0.00035 0.02367 0.03133\n",
            "[2, 3, 'MaxColumns', False]  0.0191 | 0.02405 0.05129 0.01446 0.02301 -0.0014 -0.0061 0.02703 0.02048\n",
            "[2, 4, 'From', False]  0.00089 | 0.02056 -0.05322 -0.01402 0.02266 -0.03114 0.00275 0.03201 0.02752\n",
            "[2, 4, 'To', False]  0.01503 | 0.02271 0.03979 -0.00272 0.02411 -0.00216 -0.00583 0.01069 0.03362\n",
            "[2, 4, 'MeanColumns', False]  0.00389 | -0.03787 -0.00581 -0.02068 0.03066 0.0013 -0.00558 0.03579 0.03331\n",
            "[2, 4, 'MaxColumns', False]  0.0144 | 0.01073 0.02245 0.00352 0.02595 -0.02137 0.00134 0.03453 0.03804\n",
            "[2, 5, 'From', False]  0.00614 | -0.00296 -0.02225 0.0083 0.0094 -0.01075 -0.01045 0.04223 0.03558\n",
            "[2, 5, 'To', False]  0.00833 | -0.01524 -0.00873 -0.03037 0.0444 -0.03372 -0.00192 0.06532 0.04689\n",
            "[2, 5, 'MeanColumns', False]  0.00944 | -0.02063 0.01587 -6e-05 0.01569 -0.01377 -0.00228 0.04802 0.03267\n",
            "[2, 5, 'MaxColumns', False]  0.01107 | -0.01572 0.03758 -0.0066 0.01348 -0.00808 0.00496 0.03248 0.03045\n",
            "[2, 6, 'From', False]  0.01362 | 0.01112 0.0213 -0.02717 0.02794 0.01314 -0.01224 0.03414 0.04071\n",
            "[2, 6, 'To', False]  0.01744 | 0.03568 0.01328 -0.0122 0.02485 -0.02681 0.01062 0.03384 0.06025\n",
            "[2, 6, 'MeanColumns', False]  0.00938 | -0.01072 0.03335 -0.01048 0.02543 0.00593 0.00297 0.00765 0.0209\n",
            "[2, 6, 'MaxColumns', False]  0.01552 | 0.02283 0.02208 -0.01956 0.06431 -0.01626 -0.00594 0.01917 0.03755\n",
            "[2, 7, 'From', False]  -0.00947 | -0.00778 -0.02567 0.01253 -0.02481 -0.01968 0.00346 -0.00744 -0.00639\n",
            "[2, 7, 'To', False]  0.01265 | 0.00139 0.01528 -0.02001 0.04069 -0.01169 -0.0024 0.04494 0.03303\n",
            "[2, 7, 'MeanColumns', False]  0.015 | 0.0162 0.05003 0.01512 -0.00631 -0.00717 0.00369 0.02057 0.02791\n",
            "[2, 7, 'MaxColumns', False]  0.01142 | -0.00212 0.0573 -0.01243 0.0131 -0.01023 0.0018 0.01666 0.02731\n",
            "[2, 8, 'From', False]  0.01051 | -0.0178 0.02939 0.00071 0.01816 0.01916 0.00234 0.00795 0.02418\n",
            "[2, 8, 'To', False]  0.01254 | 0.01263 -0.00271 -0.01348 0.0333 -0.04675 0.00242 0.05878 0.05611\n",
            "[2, 8, 'MeanColumns', False]  0.01724 | 0.02643 0.01781 -0.04846 0.05865 -0.01801 0.01009 0.05489 0.03655\n",
            "[2, 8, 'MaxColumns', False]  0.00956 | -0.01102 -0.00569 -0.00905 0.03664 -0.00841 -0.0048 0.04368 0.0351\n",
            "[2, 9, 'From', False]  -0.00238 | -0.01731 -0.01915 0.03194 0.00048 0.01216 -0.00382 0.00515 -0.02847\n",
            "[2, 9, 'To', False]  0.02021 | 0.04823 0.0347 -0.00867 0.04105 0.0105 -0.00495 0.00466 0.03618\n",
            "[2, 9, 'MeanColumns', False]  0.0096 | 0.02727 0.02199 0.03989 -0.02734 0.02622 -0.00463 0.0257 -0.03228\n",
            "[2, 9, 'MaxColumns', False]  0.01392 | -0.00373 0.04623 -0.01008 0.01783 0.00521 -0.00636 0.02507 0.03717\n",
            "[2, 10, 'From', False]  0.00289 | -0.01036 -0.03211 0.00843 0.01823 -0.00261 -0.0196 0.03893 0.02218\n",
            "[2, 10, 'To', False]  0.01001 | -0.00901 0.006 -0.0078 0.0403 -0.02901 -0.00171 0.0422 0.03908\n",
            "[2, 10, 'MeanColumns', False]  0.01224 | -0.00875 0.04418 -0.00874 0.02187 0.00386 0.00739 0.01017 0.02796\n",
            "[2, 10, 'MaxColumns', False]  0.01051 | -0.01221 0.04384 -0.00694 0.02452 0.00143 0.00298 0.00627 0.02421\n",
            "[2, 11, 'From', False]  0.01508 | 0.02169 0.04766 -0.00631 0.02397 -0.00661 0.00068 0.00188 0.03767\n",
            "[2, 11, 'To', False]  0.01911 | 0.03601 0.03223 -0.01516 0.03417 -0.02017 0.00058 0.01866 0.06654\n",
            "[2, 11, 'MeanColumns', False]  0.01489 | 0.02965 0.03462 -0.0155 0.02542 -0.00908 -0.0019 0.01303 0.04289\n",
            "[2, 11, 'MaxColumns', False]  0.01898 | 0.02946 0.05696 -0.00639 0.02058 -0.00183 0.00169 0.01329 0.03805\n",
            "[3, 'Mean', 'From', False]  0.01933 | 0.03327 0.04992 0.00736 0.03141 0.00196 0.00185 -0.0013 0.03017\n",
            "[3, 'Mean', 'To', False]  0.01453 | -0.01352 0.00672 -0.00048 0.03374 -0.03019 0.00729 0.06651 0.04614\n",
            "[3, 'Mean', 'MeanColumns', False]  0.01709 | 0.01967 0.06049 0.0027 0.02386 0.0037 0.00328 0.00285 0.02015\n",
            "[3, 'Mean', 'MaxColumns', False]  0.01759 | 0.03033 0.05713 3e-05 0.0385 -0.0209 0.00015 0.01669 0.01876\n",
            "[3, 0, 'From', False]  0.01973 | 0.02858 0.03429 0.01318 0.0277 -0.01031 -0.00527 0.04107 0.02856\n",
            "[3, 0, 'To', False]  0.01756 | -0.00812 0.08268 0.01795 0.02099 0.00114 0.00256 0.00232 0.02097\n",
            "[3, 0, 'MeanColumns', False]  0.01542 | 0.01079 0.05921 -0.00524 0.02246 0.00388 -0.00079 0.00869 0.02435\n",
            "[3, 0, 'MaxColumns', False]  0.017 | 0.00444 0.06232 -0.00259 0.02631 0.00997 0.00129 0.01459 0.01968\n",
            "[3, 1, 'From', False]  0.01585 | 0.02292 0.05633 -0.00171 0.01824 0.00426 -0.00039 0.00086 0.0263\n",
            "[3, 1, 'To', False]  0.01414 | -0.024 -0.0075 -0.01184 0.04163 -0.01576 -0.01367 0.07207 0.07222\n",
            "[3, 1, 'MeanColumns', False]  0.02302 | 0.0799 0.03676 -0.01213 0.02497 0.00907 0.00305 0.0077 0.03482\n",
            "[3, 1, 'MaxColumns', False]  0.01212 | -0.01946 0.01416 0.00288 0.02655 -0.00253 0.00042 0.0511 0.02382\n",
            "[3, 2, 'From', False]  0.01901 | 0.07857 0.02167 -0.00929 0.04448 -0.01097 0.002 -0.00905 0.03463\n",
            "[3, 2, 'To', False]  0.01189 | -0.01063 0.00345 -0.01374 0.02834 -0.00239 0.00949 0.04956 0.03104\n",
            "[3, 2, 'MeanColumns', False]  0.01763 | 0.01312 0.06381 0.00754 0.01674 0.00634 0.00216 0.00818 0.02315\n",
            "[3, 2, 'MaxColumns', False]  0.01667 | -0.00289 0.05434 0.00777 0.02514 0.01705 0.00068 0.00649 0.02479\n",
            "[3, 3, 'From', False]  0.02182 | 0.0395 0.03975 -0.00874 0.04615 0.00946 -0.00393 0.01519 0.03716\n",
            "[3, 3, 'To', False]  0.00663 | -0.01657 -0.0002 -0.01562 0.01681 -0.00626 0.00197 0.03956 0.03331\n",
            "[3, 3, 'MeanColumns', False]  0.01775 | 0.02167 0.06081 0.00475 0.03172 -0.0056 -0.00083 0.00385 0.02562\n",
            "[3, 3, 'MaxColumns', False]  0.01984 | 0.05021 0.0401 0.00603 0.03755 -0.02648 -0.00693 0.01503 0.04321\n",
            "[3, 4, 'From', False]  0.01659 | 0.01083 0.02471 -0.00863 0.0362 0.0043 -0.00056 0.02394 0.04194\n",
            "[3, 4, 'To', False]  0.01545 | 0.03267 0.0241 -0.00836 0.03987 -0.02389 -0.01298 0.00307 0.06914\n",
            "[3, 4, 'MeanColumns', False]  0.01662 | 0.00582 0.06334 -0.00472 0.02667 0.00401 0.00815 0.01097 0.0187\n",
            "[3, 4, 'MaxColumns', False]  0.01878 | 0.05327 0.05167 0.0009 0.05062 -0.02923 -0.00923 -0.00103 0.03329\n",
            "[3, 5, 'From', False]  0.01138 | 0.00537 0.03842 -0.00251 0.02562 -0.00703 -0.00348 -0.00163 0.0363\n",
            "[3, 5, 'To', False]  0.01585 | 0.03075 0.04128 -0.00927 0.01954 -0.00661 0.00225 0.02168 0.02718\n",
            "[3, 5, 'MeanColumns', False]  0.01231 | 0.00822 0.04702 -0.00606 0.01433 0.00245 0.00071 0.00592 0.02587\n",
            "[3, 5, 'MaxColumns', False]  0.01281 | 0.00674 0.05947 -0.00702 0.02111 -0.00493 -0.0009 0.00025 0.02778\n",
            "[3, 6, 'From', False]  0.01511 | -0.00012 0.04999 -0.00597 0.01898 -0.01113 0.00494 0.0354 0.02881\n",
            "[3, 6, 'To', False]  0.01842 | 0.02596 0.0575 -0.00459 0.03331 -0.05276 0.00549 0.03306 0.04941\n",
            "[3, 6, 'MeanColumns', False]  0.01446 | 0.01684 0.04472 0.00701 0.01331 -0.00685 0.00041 0.01488 0.02538\n",
            "[3, 6, 'MaxColumns', False]  0.01379 | 0.00882 0.0557 -0.00833 0.02279 -0.01986 -0.00191 0.01352 0.03961\n",
            "[3, 7, 'From', False]  -0.00043 | 0.0452 0.01266 -0.00072 -0.01414 -0.02919 0.01005 0.00649 -0.03382\n",
            "[3, 7, 'To', False]  0.00708 | -0.01507 0.00884 -0.01836 0.02398 -0.01161 0.00317 0.03429 0.03145\n",
            "[3, 7, 'MeanColumns', False]  0.01245 | 0.00535 0.03328 -0.00011 0.0126 -0.0022 0.00036 0.02177 0.02858\n",
            "[3, 7, 'MaxColumns', False]  0.01157 | 0.00172 0.04042 -0.00972 0.0154 0.00552 -0.00593 0.0124 0.03276\n",
            "[3, 8, 'From', False]  0.0152 | 0.01689 0.03243 0.01227 0.02986 -0.00501 0.00104 -0.00347 0.03762\n",
            "[3, 8, 'To', False]  0.01328 | -0.04398 -0.00222 0.02402 0.04509 -0.05502 -0.01394 0.0941 0.05821\n",
            "[3, 8, 'MeanColumns', False]  0.01638 | 0.02 0.06903 -0.00034 0.02496 0.0031 0.00067 -0.00148 0.0151\n",
            "[3, 8, 'MaxColumns', False]  0.01923 | 0.00377 0.02374 0.02271 0.05575 -0.06454 -0.00803 0.08123 0.0392\n",
            "[3, 9, 'From', False]  0.0134 | 0.0095 0.05039 0.02441 0.01994 -0.01003 -0.00103 0.0008 0.01323\n",
            "[3, 9, 'To', False]  0.00686 | -0.01783 -0.00748 -0.00846 0.02509 0.00489 -0.00487 0.02168 0.04191\n",
            "[3, 9, 'MeanColumns', False]  0.01888 | 0.02469 0.05371 0.01593 0.01694 0.00743 0.00245 0.00677 0.02315\n",
            "[3, 9, 'MaxColumns', False]  0.01475 | 0.00197 0.04866 0.00473 0.01203 0.00702 -0.00072 0.01915 0.02518\n",
            "[3, 10, 'From', False]  0.02128 | 0.01672 0.06599 0.0005 0.03503 -0.00401 -0.00191 0.01666 0.04126\n",
            "[3, 10, 'To', False]  0.01441 | -0.0155 0.04254 0.00905 0.02515 -0.00075 0.01396 0.00763 0.03325\n",
            "[3, 10, 'MeanColumns', False]  0.0185 | 0.02284 0.06748 0.00119 0.0232 0.00804 0.00464 0.00669 0.01391\n",
            "[3, 10, 'MaxColumns', False]  0.01406 | 0.00694 0.04257 0.00043 0.02928 0.01102 -0.00243 0.01028 0.01437\n",
            "[3, 11, 'From', False]  0.01401 | -0.00689 0.03961 0.00155 0.02807 0.02013 0.00163 -0.00581 0.03377\n",
            "[3, 11, 'To', False]  0.00781 | -0.00886 0.00019 -0.03257 0.03589 -0.00684 0.00201 0.05173 0.02095\n",
            "[3, 11, 'MeanColumns', False]  0.01525 | -0.00032 0.06546 -0.00719 0.02424 0.026 -0.00162 0.00096 0.01447\n",
            "[3, 11, 'MaxColumns', False]  0.01372 | 0.00082 0.04127 -0.01711 0.03639 0.0006 0.00525 0.01008 0.03244\n",
            "[4, 'Mean', 'From', False]  0.02161 | 0.03302 0.04509 0.00421 0.03039 -0.00925 -0.0021 0.03812 0.03339\n",
            "[4, 'Mean', 'To', False]  0.01841 | 0.04673 0.01881 0.01306 0.03103 -0.01914 -0.00921 0.01729 0.04873\n",
            "[4, 'Mean', 'MeanColumns', False]  0.0158 | 0.00544 0.05535 -0.00176 0.01883 -0.01469 0.00157 0.03136 0.03031\n",
            "[4, 'Mean', 'MaxColumns', False]  0.01416 | 0.01988 0.05023 -0.00631 0.01936 -0.01531 0.00388 0.01448 0.02707\n",
            "[4, 0, 'From', False]  0.0006 | -0.00159 -0.0136 0.01061 -0.00868 -0.01995 -0.00956 0.0374 0.0102\n",
            "[4, 0, 'To', False]  0.0107 | -0.03938 0.0218 -0.02635 0.04149 -0.00152 -0.00509 0.03108 0.06359\n",
            "[4, 0, 'MeanColumns', False]  0.01525 | 0.01298 0.04766 -0.00405 0.0172 -0.00179 0.00271 0.02167 0.02566\n",
            "[4, 0, 'MaxColumns', False]  0.01286 | -0.00013 0.03652 -0.00367 0.02641 0.00453 0.00165 0.01032 0.02726\n",
            "[4, 1, 'From', False]  0.02284 | 0.07069 0.0419 -0.01699 0.01813 -0.00564 -0.00529 0.04322 0.03668\n",
            "[4, 1, 'To', False]  0.01371 | 0.01199 0.03376 0.00188 0.0199 0.00097 -0.00132 0.01003 0.03245\n",
            "[4, 1, 'MeanColumns', False]  0.015 | 0.00621 0.04911 -0.0069 0.02297 -0.00314 -0.00257 0.03287 0.02144\n",
            "[4, 1, 'MaxColumns', False]  0.01432 | -0.00571 0.04209 -0.01476 0.02829 0.00328 -0.00135 0.03007 0.03263\n",
            "[4, 2, 'From', False]  0.01296 | 0.02521 0.03053 0.01444 0.01446 0.01744 -0.00665 0.00865 -0.00039\n",
            "[4, 2, 'To', False]  0.01541 | 0.00178 0.04666 0.00982 0.02928 -0.00414 -0.00249 0.01842 0.02392\n",
            "[4, 2, 'MeanColumns', False]  0.02009 | 0.02706 0.0604 0.01511 0.01355 0.01064 -0.0077 0.00587 0.03576\n",
            "[4, 2, 'MaxColumns', False]  0.01514 | -0.01317 0.0569 0.00904 0.02097 0.00569 -0.00203 0.0122 0.03154\n",
            "[4, 3, 'From', False]  0.01971 | 0.04305 0.04194 -0.00767 0.02688 -0.00403 -0.00021 0.02723 0.03053\n",
            "[4, 3, 'To', False]  0.01622 | 0.02275 0.04278 0.0094 0.01952 -0.00532 0.01461 0.00294 0.02305\n",
            "[4, 3, 'MeanColumns', False]  0.02003 | 0.02527 0.07436 0.00759 0.01653 0.00134 0.00527 0.00525 0.02465\n",
            "[4, 3, 'MaxColumns', False]  0.01622 | 0.01845 0.05809 0.00159 0.01439 0.00963 -0.00231 0.00306 0.02685\n",
            "[4, 4, 'From', False]  0.0119 | 0.0273 0.05409 -0.00891 0.00366 -0.00794 0.00521 0.00861 0.0132\n",
            "[4, 4, 'To', False]  0.01113 | 0.01496 0.03638 -0.00432 0.01712 -0.01145 -0.00379 -0.00118 0.04131\n",
            "[4, 4, 'MeanColumns', False]  0.01339 | 0.01357 0.03999 -0.0008 0.01538 -0.00434 0.00181 0.01314 0.02837\n",
            "[4, 4, 'MaxColumns', False]  0.01356 | 0.00448 0.05567 -0.00897 0.02069 -0.00402 0.0066 0.00821 0.02583\n",
            "[4, 5, 'From', False]  -0.012 | 0.01449 -0.05192 -0.0195 -0.02383 -0.01552 -0.00676 0.0228 -0.01574\n",
            "[4, 5, 'To', False]  0.01265 | 0.00859 0.03019 -0.00688 0.03127 0.00981 0.0048 0.00159 0.02181\n",
            "[4, 5, 'MeanColumns', False]  0.01498 | 0.00681 0.06065 -4e-05 0.01815 -0.00039 -0.00364 0.00819 0.03009\n",
            "[4, 5, 'MaxColumns', False]  0.01525 | 0.01616 0.05509 -0.00553 0.017 0.00786 -0.00083 0.01013 0.02212\n",
            "[4, 6, 'From', False]  0.02014 | 0.03342 0.0303 -0.00259 0.04185 -0.02446 -0.00657 0.04793 0.04125\n",
            "[4, 6, 'To', False]  0.01392 | 0.01177 0.03501 -0.00732 0.0246 0.00326 0.00869 0.004 0.03135\n",
            "[4, 6, 'MeanColumns', False]  0.01768 | 0.0204 0.04727 0.00848 0.02656 -0.01717 -0.00622 0.03007 0.03202\n",
            "[4, 6, 'MaxColumns', False]  0.0155 | 0.02171 0.04332 0.00209 0.01882 -0.00711 0.00741 0.00328 0.03448\n",
            "[4, 7, 'From', False]  -0.00679 | 0.00358 -0.03701 0.02234 -0.01321 -0.01474 -0.00594 -0.00629 -0.00302\n",
            "[4, 7, 'To', False]  0.01781 | 0.0266 0.02093 -0.00601 0.03844 -0.03617 -1e-05 0.06043 0.0383\n",
            "[4, 7, 'MeanColumns', False]  0.01843 | -0.0205 0.01595 0.00395 0.03066 -0.00741 0.00128 0.05945 0.06405\n",
            "[4, 7, 'MaxColumns', False]  0.01415 | -0.0115 0.03688 -0.00678 0.02086 -0.00174 -0.0094 0.03192 0.05293\n",
            "[4, 8, 'From', False]  0.01038 | -0.03528 0.0295 0.00267 0.02226 0.01144 -0.00224 0.02747 0.02725\n",
            "[4, 8, 'To', False]  0.02211 | 0.06979 0.02542 0.00503 0.05263 -0.03896 -0.01884 0.03373 0.04806\n",
            "[4, 8, 'MeanColumns', False]  0.01394 | 0.01678 0.05197 -0.01092 0.02088 -0.01857 0.00394 0.02249 0.02495\n",
            "[4, 8, 'MaxColumns', False]  0.0125 | 0.01255 0.03733 -0.01869 0.03615 -0.02288 -0.00155 0.03667 0.02046\n",
            "[4, 9, 'From', False]  0.02264 | 0.06825 0.03684 0.01204 0.02191 -0.01229 0.00241 0.02012 0.03189\n",
            "[4, 9, 'To', False]  0.01757 | 0.03722 0.02389 0.00333 0.03269 -0.01782 -0.00884 0.03711 0.03298\n",
            "[4, 9, 'MeanColumns', False]  0.01541 | 0.00842 0.04048 -0.01544 0.01571 -0.00832 0.01159 0.04363 0.02723\n",
            "[4, 9, 'MaxColumns', False]  0.02292 | 0.04957 0.03518 -0.02871 0.02288 -0.0432 0.0169 0.09398 0.03679\n",
            "[4, 10, 'From', False]  -0.00892 | -0.01987 -0.03789 0.00528 -0.00807 -0.02106 0.00269 0.00103 0.00654\n",
            "[4, 10, 'To', False]  0.01328 | -0.00624 0.01143 -0.01935 0.04176 -0.00561 -0.01191 0.02291 0.07322\n",
            "[4, 10, 'MeanColumns', False]  0.01359 | -0.01428 0.04662 -0.00044 0.02483 -0.00468 -0.00154 0.02342 0.03481\n",
            "[4, 10, 'MaxColumns', False]  0.01645 | 0.00116 0.06712 0.00131 0.01545 -0.00314 0.00214 0.01615 0.03139\n",
            "[4, 11, 'From', False]  0.00658 | 0.01836 0.00779 0.00533 0.00703 0.0124 0.00116 -0.01354 0.01412\n",
            "[4, 11, 'To', False]  0.01278 | 0.02129 0.01056 0.00166 0.01949 -0.02228 -0.00145 0.02645 0.04654\n",
            "[4, 11, 'MeanColumns', False]  0.0138 | -0.02385 0.04886 0.00406 0.01955 -0.00606 0.00026 0.03494 0.03264\n",
            "[4, 11, 'MaxColumns', False]  0.01181 | -0.02377 0.03664 -0.00551 0.02074 -0.00631 0.00265 0.02924 0.04082\n",
            "[5, 'Mean', 'From', False]  0.02099 | 0.03572 0.02501 0.02012 0.02734 0.00842 -0.01351 0.02054 0.04429\n",
            "[5, 'Mean', 'To', False]  0.01146 | -0.02725 0.0043 -0.03985 0.06535 -0.0343 -0.00298 0.07802 0.04838\n",
            "[5, 'Mean', 'MeanColumns', False]  0.0204 | 0.0126 0.0692 0.01874 0.02172 0.00437 0.00157 0.00288 0.03209\n",
            "[5, 'Mean', 'MaxColumns', False]  0.01638 | -0.00648 0.06026 -0.00096 0.02565 0.01633 -0.00176 0.01204 0.02595\n",
            "[5, 0, 'From', False]  0.00056 | -0.05449 -0.03263 0.00989 0.02152 0.02268 -0.02217 0.00599 0.05369\n",
            "[5, 0, 'To', False]  0.01192 | -0.00847 0.02984 -0.02087 0.02059 -0.04042 0.0012 0.07157 0.04188\n",
            "[5, 0, 'MeanColumns', False]  0.02285 | 0.04964 0.06458 0.01039 0.0189 0.00068 0.00634 0.00723 0.02502\n",
            "[5, 0, 'MaxColumns', False]  0.01982 | 0.04025 0.06296 0.00022 0.02208 -0.00064 0.00283 0.00243 0.02845\n",
            "[5, 1, 'From', False]  -0.00472 | 0.00899 0.00399 0.02397 -0.0097 -0.01031 0.00532 -0.02445 -0.03557\n",
            "[5, 1, 'To', False]  0.00843 | -0.0217 0.01011 -0.03901 0.04162 -0.03414 -0.01131 0.0479 0.074\n",
            "[5, 1, 'MeanColumns', False]  0.01565 | 0.03636 0.03496 0.02456 -0.00147 0.01105 -0.00285 0.01351 0.00908\n",
            "[5, 1, 'MaxColumns', False]  0.01805 | 0.02142 0.06814 -0.00903 0.02109 -0.00746 0.00931 0.01174 0.02922\n",
            "[5, 2, 'From', False]  0.01209 | -0.02034 0.00832 -0.01652 0.03382 -0.00366 -0.02811 0.04729 0.07589\n",
            "[5, 2, 'To', False]  0.01006 | -0.03626 -0.00768 -0.01332 0.05232 -0.06177 -0.01801 0.08301 0.08218\n",
            "[5, 2, 'MeanColumns', False]  0.02112 | 0.04702 0.06306 -0.00232 0.01465 0.00336 0.00413 0.01033 0.02877\n",
            "[5, 2, 'MaxColumns', False]  0.01457 | 0.02043 0.04805 -0.00552 0.01827 0.00277 0.00034 0.00874 0.02352\n",
            "[5, 3, 'From', False]  0.01566 | 0.03278 0.02675 0.01057 0.01177 0.01567 -0.00292 0.02344 0.00718\n",
            "[5, 3, 'To', False]  0.01237 | -0.04523 -0.00172 -0.02643 0.0674 -0.01168 -0.00638 0.0773 0.04571\n",
            "[5, 3, 'MeanColumns', False]  0.01563 | 0.00081 0.04954 0.00645 0.01874 0.00015 -0.00667 0.01404 0.04202\n",
            "[5, 3, 'MaxColumns', False]  0.01895 | 0.03043 0.04771 -0.00427 0.01883 -0.0053 0.00778 0.0223 0.03413\n",
            "[5, 4, 'From', False]  0.02037 | 0.04944 0.06805 0.02047 0.01515 0.01242 0.00356 -0.00325 -0.00289\n",
            "[5, 4, 'To', False]  0.00384 | -0.04259 -0.02706 -0.04104 0.03614 -0.00778 -0.02535 0.0621 0.07627\n",
            "[5, 4, 'MeanColumns', False]  0.01312 | -0.03403 0.03654 0.00667 0.03245 0.01863 -0.01858 0.01876 0.04455\n",
            "[5, 4, 'MaxColumns', False]  0.01157 | -0.03627 0.01498 -0.00059 0.03941 0.03635 -0.01491 0.02086 0.03271\n",
            "[5, 5, 'From', False]  -0.00466 | 0.00192 -0.01414 0.01315 -0.00396 -0.01911 0.00443 -0.00442 -0.01515\n",
            "[5, 5, 'To', False]  0.01454 | 0.00835 0.03838 -0.01136 0.03994 -0.01402 0.02359 0.0039 0.02754\n",
            "[5, 5, 'MeanColumns', False]  0.01341 | -0.01193 0.04005 0.00346 0.02388 -0.00265 -0.00441 0.02071 0.03817\n",
            "[5, 5, 'MaxColumns', False]  0.00698 | -0.01105 0.00876 -0.00354 0.0266 -0.01664 -0.00301 0.01119 0.04355\n",
            "[5, 6, 'From', False]  0.01507 | -0.02357 0.02032 0.00042 0.03686 0.01792 -0.01165 0.02092 0.05934\n",
            "[5, 6, 'To', False]  0.0118 | -0.0016 0.01351 -0.00365 0.03368 -0.03224 -0.01723 0.04762 0.05433\n",
            "[5, 6, 'MeanColumns', False]  0.01209 | -0.01166 0.05362 -0.0035 0.02082 0.01089 0.00316 0.00145 0.02196\n",
            "[5, 6, 'MaxColumns', False]  0.01475 | 0.01599 0.04918 0.00357 0.01842 -0.01523 -0.00227 0.01366 0.03469\n",
            "[5, 7, 'From', False]  -0.00249 | -0.00747 -0.00786 0.01131 -0.00869 -0.00364 -0.01097 -0.00874 0.01612\n",
            "[5, 7, 'To', False]  0.01058 | -0.00393 0.03296 -0.0272 0.03572 -0.02341 0.01658 0.02303 0.03087\n",
            "[5, 7, 'MeanColumns', False]  0.01916 | 0.01668 0.04205 0.01634 0.02582 0.00188 0.00179 0.02058 0.02815\n",
            "[5, 7, 'MaxColumns', False]  0.01773 | 0.02841 0.0302 0.03802 0.0223 -0.00683 -0.00312 0.00677 0.02609\n",
            "[5, 8, 'From', False]  0.01382 | 0.03415 0.00638 0.02849 0.02005 0.00953 -0.00571 0.00325 0.01442\n",
            "[5, 8, 'To', False]  0.01314 | -0.03896 0.01749 -0.01755 0.03598 0.00084 -0.00788 0.08575 0.02945\n",
            "[5, 8, 'MeanColumns', False]  0.02565 | 0.05692 0.03602 0.02972 0.03084 -0.00027 -0.00477 0.00715 0.0496\n",
            "[5, 8, 'MaxColumns', False]  0.02102 | 0.02722 0.03691 0.01303 0.0393 0.00666 0.00139 0.00751 0.03615\n",
            "[5, 9, 'From', False]  -0.00735 | -0.0042 -0.01004 0.016 -0.01169 -0.01025 -0.00152 -0.01026 -0.02681\n",
            "[5, 9, 'To', False]  0.01447 | 0.009 0.06597 -0.02165 0.02475 -0.01677 0.00148 0.03075 0.02226\n",
            "[5, 9, 'MeanColumns', False]  0.01559 | 0.00109 0.07026 0.00752 0.01868 0.00504 -0.00537 0.00585 0.02163\n",
            "[5, 9, 'MaxColumns', False]  0.01382 | 0.01295 0.05427 -0.0117 0.01821 0.0109 -0.00146 0.01563 0.01174\n",
            "[5, 10, 'From', False]  0.02166 | 0.0305 0.07795 0.02702 0.01888 -0.02106 -0.00288 0.00728 0.03559\n",
            "[5, 10, 'To', False]  0.01202 | -0.00737 0.00821 -0.04359 0.03593 -0.01726 0.01234 0.08329 0.02462\n",
            "[5, 10, 'MeanColumns', False]  0.0181 | 0.01888 0.05718 0.00567 0.02481 0.00452 0.00426 0.00479 0.02472\n",
            "[5, 10, 'MaxColumns', False]  0.01827 | 0.03547 0.03236 -0.00026 0.02479 0.01556 -0.00081 0.00721 0.03187\n",
            "[5, 11, 'From', False]  0.0159 | -0.01104 0.00762 0.0173 0.0226 -0.00044 -0.01247 0.04411 0.05949\n",
            "[5, 11, 'To', False]  0.01365 | 0.01618 0.04015 -0.00825 0.04128 -0.00482 0.0029 -0.00339 0.02515\n",
            "[5, 11, 'MeanColumns', False]  0.0115 | -0.03131 0.00829 0.01521 0.02503 0.00966 -0.01381 0.04024 0.03868\n",
            "[5, 11, 'MaxColumns', False]  0.01146 | -0.04156 -0.00258 -0.00696 0.04699 -0.01697 -0.01912 0.0555 0.07637\n",
            "[6, 'Mean', 'From', False]  0.00483 | -0.05529 -0.06171 -0.01421 0.04263 -2e-05 -0.02189 0.07512 0.07399\n",
            "[6, 'Mean', 'To', False]  0.0101 | -0.05314 -0.01393 -0.02033 0.0489 -0.01718 -0.00885 0.09119 0.05415\n",
            "[6, 'Mean', 'MeanColumns', False]  0.01253 | -0.03204 -0.01935 -0.00658 0.04517 0.0011 -0.01011 0.05255 0.06948\n",
            "[6, 'Mean', 'MaxColumns', False]  0.0111 | -0.06581 -0.0002 -0.01342 0.04729 0.00929 -0.01788 0.05945 0.07009\n",
            "[6, 0, 'From', False]  0.0052 | -0.08916 -0.06616 -0.01253 0.07921 -0.0059 -0.01209 0.06849 0.07972\n",
            "[6, 0, 'To', False]  0.0162 | -0.01784 -0.00339 -0.03134 0.06374 -0.02137 -0.01621 0.08115 0.0748\n",
            "[6, 0, 'MeanColumns', False]  0.0106 | -0.04458 -0.05362 -0.03985 0.08004 3e-05 -0.00945 0.06926 0.08294\n",
            "[6, 0, 'MaxColumns', False]  0.01127 | -0.03263 -0.05534 -0.04356 0.07741 -0.00625 -0.01447 0.08239 0.08257\n",
            "[6, 1, 'From', False]  0.0078 | -0.05439 -0.04208 -0.02699 0.03986 0.01408 -0.02455 0.08435 0.07212\n",
            "[6, 1, 'To', False]  0.00811 | -0.03441 -0.02052 -0.01523 0.04256 -0.01133 -0.02107 0.06583 0.05901\n",
            "[6, 1, 'MeanColumns', False]  0.01163 | -0.05434 -0.03367 -0.02867 0.08192 -0.02594 -0.01241 0.08505 0.0811\n",
            "[6, 1, 'MaxColumns', False]  0.01173 | -0.05085 -0.0392 -0.04161 0.07518 -0.0115 -0.00479 0.08948 0.07711\n",
            "[6, 2, 'From', False]  0.00669 | -0.05963 -0.04829 -0.02101 0.04704 -0.01112 -0.01579 0.07933 0.08295\n",
            "[6, 2, 'To', False]  0.0155 | 0.02552 0.03673 -0.01631 0.02146 -0.03216 -0.00773 0.06014 0.03633\n",
            "[6, 2, 'MeanColumns', False]  0.01033 | -0.03606 0.01553 0.00221 0.04018 -0.0178 -0.00286 0.05051 0.03095\n",
            "[6, 2, 'MaxColumns', False]  0.01136 | -0.00404 0.02395 -0.0044 0.03094 -0.02339 0.00296 0.05636 0.00853\n",
            "[6, 3, 'From', False]  -0.00631 | 0.01268 -0.00446 0.01377 -0.01669 -0.00838 0.0109 -0.02697 -0.03129\n",
            "[6, 3, 'To', False]  0.01874 | 0.04627 0.03817 -0.00574 0.02189 -0.01398 -0.00639 0.03001 0.03972\n",
            "[6, 3, 'MeanColumns', False]  0.01528 | 0.05434 0.01478 0.02573 0.00083 -0.00028 0.00194 0.00918 0.01571\n",
            "[6, 3, 'MaxColumns', False]  0.01566 | 0.0275 0.04636 0.00235 0.01874 -0.02716 0.00227 0.01901 0.03623\n",
            "[6, 4, 'From', False]  0.01349 | -0.00914 -0.01281 0.01353 0.04151 0.00427 -0.02549 0.03489 0.06115\n",
            "[6, 4, 'To', False]  0.00452 | -0.08575 -0.0381 -0.00907 0.05591 0.00749 -0.01144 0.06571 0.05144\n",
            "[6, 4, 'MeanColumns', False]  0.01883 | 0.0374 0.00659 0.03601 0.01451 0.00862 -0.00956 0.01017 0.04691\n",
            "[6, 4, 'MaxColumns', False]  0.01457 | -0.00939 0.03782 -0.00289 0.02654 0.01486 -0.00515 0.02248 0.03231\n",
            "[6, 5, 'From', False]  -0.01022 | -0.01736 -0.0199 0.00832 -0.00405 -0.00477 -0.00038 -0.01565 -0.02795\n",
            "[6, 5, 'To', False]  0.01456 | -0.00468 0.02605 -0.03447 0.0317 -0.01282 0.01443 0.0659 0.03038\n",
            "[6, 5, 'MeanColumns', False]  0.01677 | 0.03163 0.05476 -0.0014 0.01782 -0.00069 0.00075 0.00474 0.02651\n",
            "[6, 5, 'MaxColumns', False]  0.01465 | 0.02413 0.05314 -0.00189 0.01519 -0.01159 0.00147 0.00492 0.03184\n",
            "[6, 6, 'From', False]  -0.00743 | -0.01607 -0.00768 0.01104 -0.00192 -0.01111 -0.00164 -0.0064 -0.02568\n",
            "[6, 6, 'To', False]  0.00805 | -0.0614 -0.03618 0.00798 0.06229 -0.00154 -0.01284 0.05468 0.0514\n",
            "[6, 6, 'MeanColumns', False]  0.02477 | 0.06393 0.06985 0.0298 0.00956 0.00138 -0.00043 0.00478 0.01931\n",
            "[6, 6, 'MaxColumns', False]  0.01717 | 0.01028 0.06721 0.0118 0.01784 0.01103 -0.00738 0.00281 0.02374\n",
            "[6, 7, 'From', False]  -0.00329 | 0.03243 0.02333 0.04174 -0.01384 -0.01671 -0.00315 -0.06132 -0.02879\n",
            "[6, 7, 'To', False]  0.01126 | -0.00624 0.04481 -0.01724 0.02606 0.01661 4e-05 0.00424 0.02184\n",
            "[6, 7, 'MeanColumns', False]  0.01145 | -0.00859 0.06632 0.0037 0.01565 0.00703 -0.00041 0.00192 0.00595\n",
            "[6, 7, 'MaxColumns', False]  0.01015 | -0.03299 0.06908 -0.01325 0.02626 0.01142 0.00034 0.01385 0.00648\n",
            "[6, 8, 'From', False]  0.01674 | 0.00213 0.00506 -0.0079 0.04182 -0.02151 -0.00485 0.04164 0.07754\n",
            "[6, 8, 'To', False]  0.01668 | 0.02841 0.05304 -0.02123 0.02463 -0.00449 0.00381 0.01965 0.02959\n",
            "[6, 8, 'MeanColumns', False]  0.01785 | 0.02362 0.03393 -0.0133 0.04536 -0.03006 0.00409 0.02477 0.05439\n",
            "[6, 8, 'MaxColumns', False]  0.01797 | -0.01174 0.02821 0.01544 0.03806 -0.04023 0.00892 0.04475 0.06033\n",
            "[6, 9, 'From', False]  0.00525 | -0.08805 -0.06609 -0.01873 0.08516 -0.00754 -0.01657 0.07443 0.07942\n",
            "[6, 9, 'To', False]  0.01234 | -0.04213 0.00597 0.01646 0.04045 -0.02009 -0.00703 0.05774 0.04738\n",
            "[6, 9, 'MeanColumns', False]  0.00695 | -0.09909 -0.04052 -0.0092 0.07869 -0.00484 -0.01448 0.06964 0.07544\n",
            "[6, 9, 'MaxColumns', False]  0.014 | -0.07537 -0.01101 -0.00461 0.06095 0.00993 -0.01182 0.06215 0.08178\n",
            "[6, 10, 'From', False]  -0.01123 | -0.01337 -0.06258 -0.00054 -0.00976 0.00379 0.00552 -0.00809 -0.00483\n",
            "[6, 10, 'To', False]  0.01109 | -0.06625 0.02361 0.01 0.04141 0.00958 -0.01522 0.04611 0.03944\n",
            "[6, 10, 'MeanColumns', False]  0.01077 | -0.01889 0.00497 0.01339 0.02781 0.00022 -0.02052 0.01658 0.06264\n",
            "[6, 10, 'MaxColumns', False]  0.01169 | -0.05399 0.0196 0.02982 0.02161 0.00739 -0.00346 0.01941 0.05315\n",
            "[6, 11, 'From', False]  0.00707 | -0.06777 -0.02472 -0.01704 0.04497 0.00137 -0.01885 0.06872 0.06993\n",
            "[6, 11, 'To', False]  0.01298 | -0.04654 0.05549 -0.01813 0.02991 -0.01484 0.00292 0.06981 0.02525\n",
            "[6, 11, 'MeanColumns', False]  0.01054 | -0.05742 -0.01136 0.00963 0.07093 -0.00236 -0.01048 0.03362 0.05175\n",
            "[6, 11, 'MaxColumns', False]  0.01042 | -0.05552 -0.00949 -0.01065 0.06571 -0.01554 -0.01903 0.04991 0.07797\n",
            "[7, 'Mean', 'From', False]  -0.00918 | -0.00544 -0.05269 0.00553 -0.01962 0.00128 -0.00353 -0.00584 0.00685\n",
            "[7, 'Mean', 'To', False]  0.01163 | -0.061 -0.00898 -0.03241 0.07095 -0.03136 -0.01031 0.09544 0.07067\n",
            "[7, 'Mean', 'MeanColumns', False]  0.02099 | 0.04041 0.05633 0.00197 0.02198 0.00746 0.00647 -0.00021 0.03356\n",
            "[7, 'Mean', 'MaxColumns', False]  0.01906 | 0.01893 0.07332 -0.00114 0.02281 0.00421 0.0073 0.00326 0.02378\n",
            "[7, 0, 'From', False]  -0.0138 | -0.01049 -0.06915 -0.00154 -0.01923 -0.00321 0.00029 -0.012 0.00493\n",
            "[7, 0, 'To', False]  0.00863 | -0.01359 0.00484 -0.01645 0.03172 0.00286 -0.00666 0.02564 0.04069\n",
            "[7, 0, 'MeanColumns', False]  0.01734 | 0.03867 0.05498 0.00188 0.00852 0.00308 0.00389 -0.00514 0.03281\n",
            "[7, 0, 'MaxColumns', False]  0.01264 | 0.01394 0.03858 -0.0172 0.01956 0.00855 -0.00184 0.00454 0.03501\n",
            "[7, 1, 'From', False]  -2e-05 | -8e-05 -0.02687 0.01558 -0.00985 0.02594 -0.0166 0.00659 0.00515\n",
            "[7, 1, 'To', False]  0.01253 | -0.02876 -0.01352 -0.03009 0.05805 -0.05972 -0.01602 0.09709 0.09321\n",
            "[7, 1, 'MeanColumns', False]  0.0159 | 0.01621 0.0614 0.00622 0.01524 -0.01165 0.00143 0.00219 0.0362\n",
            "[7, 1, 'MaxColumns', False]  0.01461 | 0.01543 0.05924 0.00282 0.01897 -0.01662 -0.00014 0.00228 0.03491\n",
            "[7, 2, 'From', False]  0.00113 | 0.03928 -0.02766 0.01608 -0.01004 0.00176 0.00019 -0.00373 -0.00688\n",
            "[7, 2, 'To', False]  0.01169 | -0.06082 -0.02819 -0.04472 0.08665 -0.02525 -0.00507 0.09091 0.08004\n",
            "[7, 2, 'MeanColumns', False]  0.01964 | 0.02231 0.04522 0.0149 0.03546 -0.00301 0.00304 0.00288 0.03631\n",
            "[7, 2, 'MaxColumns', False]  0.01851 | -0.01228 0.06904 0.0216 0.02287 0.00329 -0.00927 0.00921 0.04359\n",
            "[7, 3, 'From', False]  -0.00749 | 0.00732 -0.02701 0.01459 -0.02037 0.01505 0.00331 -0.0182 -0.03462\n",
            "[7, 3, 'To', False]  0.01346 | -0.01055 0.04322 -0.01982 0.01431 0.00668 -0.00032 0.05168 0.02247\n",
            "[7, 3, 'MeanColumns', False]  -0.00797 | -0.00926 0.00036 0.00326 -0.00465 -0.00338 0.00701 -0.03055 -0.02655\n",
            "[7, 3, 'MaxColumns', False]  0.00916 | -0.00391 0.03169 -0.01917 0.02844 0.02566 0.00368 0.01056 -0.00367\n",
            "[7, 4, 'From', False]  0.00491 | -0.00464 -0.02649 -0.00033 0.01319 -0.02031 -0.03309 0.04734 0.06364\n",
            "[7, 4, 'To', False]  0.01011 | -0.05728 -0.03172 -0.00203 0.05632 -0.00975 -0.00725 0.07559 0.057\n",
            "[7, 4, 'MeanColumns', False]  0.02463 | 0.09265 0.06164 -0.00603 0.02191 -0.00326 0.0021 -0.00064 0.02864\n",
            "[7, 4, 'MaxColumns', False]  0.02479 | 0.06981 0.07012 -0.00338 0.02101 0.0051 0.00613 0.00057 0.02891\n",
            "[7, 5, 'From', False]  -0.0082 | -0.00128 0.00158 0.00291 -0.02347 0.00072 0.00333 -0.00822 -0.04117\n",
            "[7, 5, 'To', False]  0.01465 | -0.00015 0.07449 0.00062 0.02319 -0.02279 0.00286 0.00703 0.03195\n",
            "[7, 5, 'MeanColumns', False]  0.01688 | 0.02501 0.08132 0.00667 0.00641 -0.00267 0.00058 0.00472 0.013\n",
            "[7, 5, 'MaxColumns', False]  0.01416 | 0.0063 0.07275 -0.00562 0.00776 0.00157 -0.00125 0.0059 0.0259\n",
            "[7, 6, 'From', False]  -0.00176 | 0.01946 -0.0458 0.01353 -0.00652 0.01258 -0.01254 0.00718 -0.00198\n",
            "[7, 6, 'To', False]  0.01179 | -0.01284 0.05217 -0.00347 0.0221 0.01433 0.00541 0.00196 0.01468\n",
            "[7, 6, 'MeanColumns', False]  0.01889 | 0.07528 0.01269 0.02706 -0.00679 0.01058 -0.00072 0.00702 0.02602\n",
            "[7, 6, 'MaxColumns', False]  0.01678 | 0.01015 0.04363 0.00472 0.02991 0.01247 -0.00745 0.01964 0.0212\n",
            "[7, 7, 'From', False]  -0.00872 | 0.00097 -0.02999 0.00411 -0.01661 -0.01306 -0.0074 -0.00196 -0.00583\n",
            "[7, 7, 'To', False]  0.01226 | -0.00042 0.04418 -0.02174 0.03471 -0.01448 -0.00661 0.03539 0.02703\n",
            "[7, 7, 'MeanColumns', False]  0.01375 | 0.00831 0.04326 -0.00218 0.0197 -0.00229 -0.00815 0.00927 0.04207\n",
            "[7, 7, 'MaxColumns', False]  0.01249 | 0.00068 0.04077 -0.00746 0.0225 0.00434 0.00211 0.0026 0.03441\n",
            "[7, 8, 'From', False]  0.00775 | -0.01832 -0.02152 -0.02761 0.0544 -0.01274 0.02922 0.05077 0.00779\n",
            "[7, 8, 'To', False]  0.01785 | 0.02951 0.05071 -0.00321 0.03198 -0.01132 7e-05 0.00715 0.03789\n",
            "[7, 8, 'MeanColumns', False]  0.01685 | 0.03277 0.0234 0.01577 0.0018 -0.00892 0.00818 0.02398 0.03782\n",
            "[7, 8, 'MaxColumns', False]  0.01088 | -0.01072 0.0234 -0.00779 0.02145 0.00714 0.01122 0.02006 0.02227\n",
            "[7, 9, 'From', False]  -0.00273 | -0.05048 -0.05187 0.00188 0.0053 0.03631 -0.02783 0.03062 0.03421\n",
            "[7, 9, 'To', False]  0.01161 | -0.08116 -0.02029 -0.00286 0.05893 -0.0049 -0.01369 0.08258 0.07429\n",
            "[7, 9, 'MeanColumns', False]  0.01223 | -0.03808 0.04653 0.01154 0.02301 0.02356 -0.00315 0.0105 0.02391\n",
            "[7, 9, 'MaxColumns', False]  0.00883 | -0.05429 0.04271 -0.00269 0.0149 0.02877 -0.00466 0.01754 0.02837\n",
            "[7, 10, 'From', False]  -0.00212 | -0.0051 -0.00363 0.01676 -0.00556 -0.01127 -0.00847 -0.01614 0.01649\n",
            "[7, 10, 'To', False]  0.00948 | -0.06465 -0.02894 -0.01332 0.07182 -0.03516 -0.01876 0.09215 0.07268\n",
            "[7, 10, 'MeanColumns', False]  0.01737 | 0.01227 0.02993 0.01945 0.03461 -0.00407 -0.0016 0.00388 0.04451\n",
            "[7, 10, 'MaxColumns', False]  0.01857 | 0.01342 0.06092 0.01267 0.02568 -0.00145 -0.00512 0.00636 0.03606\n",
            "[7, 11, 'From', False]  -0.01476 | -0.01476 -0.08136 0.00073 -0.0219 0.00462 -0.00628 -0.0101 0.01097\n",
            "[7, 11, 'To', False]  0.01291 | -0.04541 -0.01463 -0.01321 0.04544 -0.03924 -0.00032 0.0971 0.0735\n",
            "[7, 11, 'MeanColumns', False]  0.02009 | 0.00763 0.05159 0.00334 0.01953 0.00543 -0.02016 0.02283 0.07051\n",
            "[7, 11, 'MaxColumns', False]  0.01835 | 0.01422 0.02529 -0.00212 0.02579 0.02993 -0.02108 0.01938 0.05541\n",
            "[8, 'Mean', 'From', False]  0.01761 | -0.01135 0.0106 -0.00011 0.03627 -0.01757 -0.01312 0.06088 0.07525\n",
            "[8, 'Mean', 'To', False]  0.00415 | -0.04913 -0.0181 -0.0179 0.03676 -0.01687 -0.01508 0.05186 0.0617\n",
            "[8, 'Mean', 'MeanColumns', False]  0.01421 | -0.03518 0.01409 0.01559 0.0409 -0.02549 -0.00809 0.05002 0.06189\n",
            "[8, 'Mean', 'MaxColumns', False]  0.01669 | -0.02102 0.04504 0.02166 0.03106 -0.03647 0.00057 0.04787 0.04479\n",
            "[8, 0, 'From', False]  0.02423 | 0.10121 0.04339 0.01972 0.00307 0.02046 -0.01167 0.00789 0.00978\n",
            "[8, 0, 'To', False]  0.0111 | -0.01975 0.04245 -0.00949 0.03496 -0.01406 0.0048 0.02208 0.02784\n",
            "[8, 0, 'MeanColumns', False]  0.0239 | 0.03945 0.06704 0.02238 0.01357 -0.00154 0.00653 0.00566 0.03807\n",
            "[8, 0, 'MaxColumns', False]  0.01518 | -0.02229 0.06195 -0.01335 0.02646 0.01419 0.00259 0.01558 0.03632\n",
            "[8, 1, 'From', False]  0.01322 | -0.04523 -0.00547 -0.0095 0.0423 0.00082 -0.01257 0.06251 0.07289\n",
            "[8, 1, 'To', False]  0.00797 | -0.01866 -0.03065 -0.00853 0.04778 -0.01428 -0.01002 0.06061 0.0375\n",
            "[8, 1, 'MeanColumns', False]  0.01213 | -0.04024 -0.00724 0.0111 0.03467 -0.00814 0.00258 0.05523 0.04906\n",
            "[8, 1, 'MaxColumns', False]  0.0145 | -0.03977 0.02061 0.0188 0.03484 -0.01867 0.00419 0.06212 0.03386\n",
            "[8, 2, 'From', False]  0.01741 | 0.00556 0.00839 0.00325 0.01003 0.00068 0.00039 0.05361 0.05734\n",
            "[8, 2, 'To', False]  0.00863 | 0.00838 0.01891 -0.02902 0.01786 -0.00545 -0.00052 0.01879 0.04008\n",
            "[8, 2, 'MeanColumns', False]  0.01541 | -0.02349 0.04465 0.00914 0.02311 0.01756 0.00265 0.01968 0.02995\n",
            "[8, 2, 'MaxColumns', False]  0.02103 | 0.00342 0.06368 0.01285 0.01526 0.02442 0.00872 0.01355 0.02631\n",
            "[8, 3, 'From', False]  0.02243 | 0.08366 0.04151 0.00814 -9e-05 0.00664 -0.0071 0.02011 0.02652\n",
            "[8, 3, 'To', False]  0.00773 | -0.04538 0.01856 0.00228 0.03517 -0.01496 0.00672 0.02354 0.03591\n",
            "[8, 3, 'MeanColumns', False]  0.02551 | 0.04373 0.06217 0.03577 0.01236 -0.02201 -0.00011 0.03393 0.03821\n",
            "[8, 3, 'MaxColumns', False]  0.0214 | 0.00168 0.08996 0.02127 0.01696 -0.01117 -0.00339 0.02988 0.02603\n",
            "[8, 4, 'From', False]  0.01112 | -0.0762 -0.01161 0.00074 0.0475 -0.02343 -0.0195 0.08365 0.08779\n",
            "[8, 4, 'To', False]  0.01668 | 0.01592 0.02476 -0.02127 0.04274 -0.01493 -0.0094 0.05162 0.04402\n",
            "[8, 4, 'MeanColumns', False]  0.00992 | -0.0771 -0.01345 0.03914 0.04758 -0.03823 -0.0278 0.07719 0.07201\n",
            "[8, 4, 'MaxColumns', False]  0.01233 | -0.06804 0.00803 0.04611 0.04276 -0.03636 -0.03338 0.06909 0.07039\n",
            "[8, 5, 'From', False]  0.01327 | -0.05946 0.01022 -0.00431 0.04995 -0.04832 -0.00509 0.06705 0.09611\n",
            "[8, 5, 'To', False]  0.01582 | -0.02206 -0.00552 -0.03289 0.06576 -0.01457 -0.00512 0.05782 0.08312\n",
            "[8, 5, 'MeanColumns', False]  0.00866 | -0.05901 -0.03002 -0.01398 0.06079 -0.04368 -0.01675 0.07285 0.09907\n",
            "[8, 5, 'MaxColumns', False]  0.00929 | -0.05655 -0.01736 -0.00863 0.05216 -0.02293 -0.01838 0.05705 0.08894\n",
            "[8, 6, 'From', False]  0.01629 | -0.03454 0.01185 0.01739 0.0434 0.00535 0.00103 0.03228 0.05353\n",
            "[8, 6, 'To', False]  0.00428 | -0.0432 0.00231 -0.02266 0.0267 -0.00998 -0.00666 0.0419 0.04584\n",
            "[8, 6, 'MeanColumns', False]  0.01439 | -0.06476 0.02678 0.02075 0.04321 -0.01099 0.01379 0.04201 0.04435\n",
            "[8, 6, 'MaxColumns', False]  0.01422 | -0.05421 0.03675 0.02551 0.04017 -0.01739 0.00575 0.03592 0.0413\n",
            "[8, 7, 'From', False]  0.01819 | 0.07616 0.05711 0.01466 -0.00202 -0.03124 -0.00824 0.01025 0.02881\n",
            "[8, 7, 'To', False]  0.00177 | -0.02354 -0.03208 -0.0175 0.01973 -0.00273 -0.01536 0.01964 0.06603\n",
            "[8, 7, 'MeanColumns', False]  0.02385 | 0.04691 0.09348 0.01354 0.01589 -0.00957 -0.00419 0.00777 0.02695\n",
            "[8, 7, 'MaxColumns', False]  0.02211 | 0.00826 0.09742 0.01188 0.01859 -0.0099 0.00985 0.01073 0.03008\n",
            "[8, 8, 'From', False]  0.01499 | -0.04275 0.01524 -0.00511 0.04211 -0.00141 -0.01425 0.06168 0.06437\n",
            "[8, 8, 'To', False]  0.00996 | -0.01559 0.04093 -0.01214 0.02666 -0.02521 0.00059 0.02919 0.03528\n",
            "[8, 8, 'MeanColumns', False]  0.01674 | -0.02242 0.0384 0.00014 0.02738 -0.01949 0.0049 0.05056 0.05444\n",
            "[8, 8, 'MaxColumns', False]  0.01549 | -0.00509 0.04499 0.00319 0.02255 -0.02497 0.00861 0.03812 0.03655\n",
            "[8, 9, 'From', False]  0.01699 | 0.05381 -0.01304 -0.00978 0.03344 -0.02779 0.00148 0.05513 0.04265\n",
            "[8, 9, 'To', False]  0.01291 | -0.00117 0.02721 -0.00399 0.03645 -0.0133 -0.01563 0.02305 0.05063\n",
            "[8, 9, 'MeanColumns', False]  0.01816 | 0.01822 0.03236 -0.00318 0.02699 -0.02328 0.00047 0.04323 0.05044\n",
            "[8, 9, 'MaxColumns', False]  0.0161 | -0.01044 0.05712 0.01356 0.03247 -0.04488 -0.00173 0.04216 0.04056\n",
            "[8, 10, 'From', False]  0.01729 | 0.09136 0.01962 0.02189 -0.00774 -0.02355 0.00012 0.01344 0.02317\n",
            "[8, 10, 'To', False]  0.00834 | -0.01967 -0.00397 0.00028 0.01169 0.00675 0.0049 0.02304 0.04373\n",
            "[8, 10, 'MeanColumns', False]  0.02546 | 0.09055 0.03412 0.01674 0.01544 -0.01595 0.00265 0.01914 0.04095\n",
            "[8, 10, 'MaxColumns', False]  0.02484 | 0.09472 0.03866 0.01985 0.0115 -0.0299 -0.00459 0.02715 0.04131\n",
            "[8, 11, 'From', False]  0.02147 | 0.08999 0.05158 0.02537 -0.01177 -0.01855 -0.00061 0.01132 0.02446\n",
            "[8, 11, 'To', False]  0.00871 | -0.01017 0.00062 0.00185 0.02543 -0.02318 0.00628 0.0082 0.06062\n",
            "[8, 11, 'MeanColumns', False]  0.01632 | 0.04126 0.03168 0.01669 0.00052 0.00324 -0.00436 0.00822 0.03328\n",
            "[8, 11, 'MaxColumns', False]  0.01567 | 0.03014 0.04579 -9e-05 0.01198 -0.00016 -0.00239 0.01113 0.02896\n",
            "[9, 'Mean', 'From', False]  0.01727 | -0.00392 0.00322 -0.00683 0.03748 -0.02658 -0.00918 0.06033 0.08364\n",
            "[9, 'Mean', 'To', False]  0.0179 | 0.03431 0.00465 0.02417 0.02313 -0.03777 -0.00317 0.0337 0.06416\n",
            "[9, 'Mean', 'MeanColumns', False]  0.01548 | -0.00914 -0.00028 -0.00926 0.03814 -0.02175 -0.01221 0.04825 0.09013\n",
            "[9, 'Mean', 'MaxColumns', False]  0.01794 | 0.0094 0.01543 -0.01635 0.03742 -0.02444 -0.00367 0.04536 0.08034\n",
            "[9, 0, 'From', False]  0.02013 | 0.04544 0.01533 -0.03426 0.04752 -0.02097 -0.01786 0.04775 0.0781\n",
            "[9, 0, 'To', False]  0.00969 | -0.01956 0.0182 0.00607 0.01883 -0.05506 -0.01074 0.05918 0.0606\n",
            "[9, 0, 'MeanColumns', False]  0.02058 | 0.04968 0.01442 -0.01361 0.03547 -0.03061 -0.00958 0.03457 0.08427\n",
            "[9, 0, 'MaxColumns', False]  0.01751 | 0.0522 0.01923 -0.01604 0.02667 -0.03414 -0.0169 0.0294 0.07965\n",
            "[9, 1, 'From', False]  0.01798 | 0.00038 0.02198 -0.01692 0.04716 -0.04277 0.00488 0.06611 0.06302\n",
            "[9, 1, 'To', False]  0.01557 | 0.0292 0.0482 0.00216 0.0353 -0.02407 -0.00716 0.00129 0.03967\n",
            "[9, 1, 'MeanColumns', False]  0.01332 | -0.04307 0.00245 -0.01893 0.04958 -0.03312 0.01193 0.07267 0.06506\n",
            "[9, 1, 'MaxColumns', False]  0.01076 | -0.02383 0.00728 -0.02173 0.04234 -0.04289 0.01457 0.06389 0.04641\n",
            "[9, 2, 'From', False]  0.03431 | 0.11872 0.08424 -0.00302 0.01476 -0.00925 0.0072 0.01753 0.04432\n",
            "[9, 2, 'To', False]  0.00965 | -0.02064 0.00265 0.00091 0.02152 -0.04532 0.00187 0.06757 0.04863\n",
            "[9, 2, 'MeanColumns', False]  0.03344 | 0.10539 0.08205 -0.02043 0.02383 -0.00483 0.00675 0.01424 0.06055\n",
            "[9, 2, 'MaxColumns', False]  0.02916 | 0.07766 0.08982 -0.00248 0.02026 -0.01155 -0.00445 0.01119 0.0528\n",
            "[9, 3, 'From', False]  0.01744 | 0.00162 0.01319 -0.02917 0.03904 -0.0437 -0.00845 0.08266 0.08434\n",
            "[9, 3, 'To', False]  0.01521 | 0.00201 0.05977 -0.00105 0.01497 0.0018 -0.0019 0.00592 0.04015\n",
            "[9, 3, 'MeanColumns', False]  0.01859 | 0.00962 0.03529 -0.01605 0.02905 -0.02721 -0.00889 0.04277 0.0841\n",
            "[9, 3, 'MaxColumns', False]  0.01715 | 0.00172 0.03115 -0.00512 0.01662 -0.01598 -0.01804 0.04654 0.08034\n",
            "[9, 4, 'From', False]  0.00898 | -0.04764 -0.04833 -0.01979 0.04715 -0.00696 -0.00164 0.07236 0.07671\n",
            "[9, 4, 'To', False]  0.01566 | -0.02032 -0.02651 0.02387 0.04674 -0.02081 -0.01615 0.06288 0.07559\n",
            "[9, 4, 'MeanColumns', False]  0.01024 | -0.02612 0.00447 -0.00264 0.01556 0.00171 -0.00735 0.05164 0.04464\n",
            "[9, 4, 'MaxColumns', False]  0.00881 | -0.0403 -0.0307 0.00748 0.02265 0.02349 -0.01504 0.04999 0.05293\n",
            "[9, 5, 'From', False]  0.01938 | 0.04503 0.02963 -0.00147 0.01996 -0.05087 -0.0094 0.04087 0.08132\n",
            "[9, 5, 'To', False]  0.01536 | 0.05023 0.02923 -0.0044 0.01741 -0.00523 -0.00363 0.01331 0.02593\n",
            "[9, 5, 'MeanColumns', False]  0.01623 | 0.01383 0.02833 -0.00725 0.02703 -0.02645 -0.00233 0.02812 0.06858\n",
            "[9, 5, 'MaxColumns', False]  0.01894 | 0.01591 0.05227 0.00134 0.0264 -0.0267 -0.00495 0.02642 0.06081\n",
            "[9, 6, 'From', False]  0.01701 | 0.02245 -0.01848 -0.02318 0.02558 -0.01762 -0.00679 0.07249 0.08161\n",
            "[9, 6, 'To', False]  0.01822 | 0.0548 0.04163 -0.00184 0.01965 -0.0112 -0.00434 0.02031 0.02677\n",
            "[9, 6, 'MeanColumns', False]  0.01347 | -0.01098 -0.03118 -0.03531 0.04496 -0.02374 -0.0094 0.07464 0.09876\n",
            "[9, 6, 'MaxColumns', False]  0.01579 | 0.00716 -0.03117 -0.0284 0.04411 -0.02192 -0.0012 0.07138 0.08637\n",
            "[9, 7, 'From', False]  0.01714 | -0.03909 0.02205 -0.00212 0.05382 -0.04485 -0.01231 0.05939 0.10028\n",
            "[9, 7, 'To', False]  0.01867 | 0.07539 0.00772 -0.01142 0.0386 0.0091 -0.00963 0.0145 0.02507\n",
            "[9, 7, 'MeanColumns', False]  0.01363 | -0.04064 -0.0027 -0.01336 0.05397 -0.019 -0.01733 0.05178 0.09631\n",
            "[9, 7, 'MaxColumns', False]  0.01456 | -0.0198 -0.00359 -0.01628 0.04331 -0.01837 -0.02752 0.05799 0.10072\n",
            "[9, 8, 'From', False]  0.01422 | -0.02071 0.01919 -0.01227 0.04752 -0.01595 -0.01073 0.03295 0.07376\n",
            "[9, 8, 'To', False]  0.01079 | -0.00037 0.00718 0.00151 0.03995 -0.0132 0.00199 0.00494 0.04429\n",
            "[9, 8, 'MeanColumns', False]  0.01478 | -0.01869 0.02727 0.00012 0.05294 -0.02161 -0.008 0.02539 0.0608\n",
            "[9, 8, 'MaxColumns', False]  0.01518 | -0.01372 0.05068 0.00391 0.03923 -0.02863 -0.00338 0.03087 0.0425\n",
            "[9, 9, 'From', False]  0.01896 | 0.01572 0.04087 0.00227 0.02747 -0.02986 -0.01178 0.04287 0.06415\n",
            "[9, 9, 'To', False]  0.00396 | -0.01441 -0.02124 -0.02626 0.01543 0.00442 -0.01468 0.04262 0.04581\n",
            "[9, 9, 'MeanColumns', False]  0.01606 | 0.01342 0.03569 -0.00343 0.02383 -0.00811 -0.0094 0.01553 0.06095\n",
            "[9, 9, 'MaxColumns', False]  0.01383 | 0.0119 0.03089 -0.01663 0.02479 -0.01412 -0.00424 0.01977 0.05826\n",
            "[9, 10, 'From', False]  0.01155 | -0.03904 0.00525 0.0057 0.02666 0.00703 -0.00849 0.03872 0.05661\n",
            "[9, 10, 'To', False]  0.01061 | -0.02547 -0.00735 -0.01894 0.04937 -0.04352 -0.00176 0.05861 0.07394\n",
            "[9, 10, 'MeanColumns', False]  0.008 | -0.05621 0.01187 -0.00738 0.0326 0.00436 -0.0117 0.02841 0.06205\n",
            "[9, 10, 'MaxColumns', False]  0.00629 | -0.05875 0.02498 -0.00327 0.0327 -0.00853 -0.01052 0.0204 0.05329\n",
            "[9, 11, 'From', False]  0.01876 | 0.03143 0.03919 -0.00162 0.01453 -0.0026 -0.0094 0.02145 0.05708\n",
            "[9, 11, 'To', False]  0.01751 | 0.01953 0.0386 0.01858 0.02008 -0.01343 0.00464 0.01854 0.0335\n",
            "[9, 11, 'MeanColumns', False]  0.02086 | 0.05839 0.03165 -0.01705 0.02625 0.0147 -0.01046 -0.0009 0.06428\n",
            "[9, 11, 'MaxColumns', False]  0.01983 | 0.04166 0.0434 0.00505 0.01868 0.01025 -0.01566 -0.00593 0.06121\n",
            "[10, 'Mean', 'From', False]  0.02685 | 0.0314 0.02849 0.01525 0.05372 -0.03916 -0.00983 0.05202 0.0829\n",
            "[10, 'Mean', 'To', False]  0.01062 | -0.00317 0.03912 -0.01756 0.01998 0.00544 0.00645 0.0096 0.02507\n",
            "[10, 'Mean', 'MeanColumns', False]  0.02275 | 0.00874 0.01912 0.01017 0.05723 -0.0285 -0.01 0.04231 0.0829\n",
            "[10, 'Mean', 'MaxColumns', False]  0.02308 | 0.00063 0.03014 0.01842 0.03856 -0.01842 -0.01099 0.04279 0.08353\n",
            "[10, 0, 'From', False]  0.02476 | 0.04789 0.08287 0.02024 0.01973 -0.01504 -0.00559 0.01331 0.03467\n",
            "[10, 0, 'To', False]  0.00941 | -0.01009 0.00931 -0.02594 0.0345 0.00176 -0.00383 0.03861 0.03099\n",
            "[10, 0, 'MeanColumns', False]  0.0238 | 0.03541 0.07376 0.02602 0.01894 -0.01242 -0.00932 0.01748 0.04053\n",
            "[10, 0, 'MaxColumns', False]  0.0227 | 0.02352 0.07569 0.02177 0.02111 -0.0126 -0.00342 0.02382 0.03172\n",
            "[10, 1, 'From', False]  0.02674 | 0.01046 0.07302 0.03486 0.03808 -0.03905 0.00353 0.02816 0.06486\n",
            "[10, 1, 'To', False]  0.01354 | 0.00299 0.0217 -0.02879 0.03673 -0.01004 -0.01083 0.03612 0.06046\n",
            "[10, 1, 'MeanColumns', False]  0.02541 | 0.01748 0.05708 0.00621 0.05994 -0.04918 0.00619 0.03145 0.07415\n",
            "[10, 1, 'MaxColumns', False]  0.02116 | -0.00157 0.05295 0.01343 0.04771 -0.04473 -0.0025 0.02123 0.08277\n",
            "[10, 2, 'From', False]  0.01934 | -0.00099 0.06943 -2e-05 0.04876 -0.03051 0.01319 0.02382 0.03105\n",
            "[10, 2, 'To', False]  0.01091 | -0.0044 0.04902 -0.00937 0.02595 -0.01946 0.00258 0.01117 0.0318\n",
            "[10, 2, 'MeanColumns', False]  0.01926 | -0.00654 0.06534 -0.00534 0.04803 -0.01701 0.01738 0.02054 0.03166\n",
            "[10, 2, 'MaxColumns', False]  0.0213 | 0.02415 0.07446 -0.00422 0.02379 -0.01953 0.01733 0.01907 0.03534\n",
            "[10, 3, 'From', False]  0.02146 | -0.00523 0.05011 0.04588 0.01685 -0.00347 -0.01743 0.03137 0.05357\n",
            "[10, 3, 'To', False]  0.01175 | -0.00323 0.04099 -0.00584 0.021 -0.00692 0.00357 0.01586 0.02857\n",
            "[10, 3, 'MeanColumns', False]  0.02134 | -0.01516 0.05866 0.04516 0.03048 -0.01551 -0.02136 0.02607 0.06243\n",
            "[10, 3, 'MaxColumns', False]  0.0229 | -0.01055 0.07372 0.0352 0.02173 -0.01899 -0.01707 0.03641 0.06278\n",
            "[10, 4, 'From', False]  0.01391 | -0.03747 -0.02663 -0.00834 0.07333 -0.02072 0.00268 0.05781 0.07063\n",
            "[10, 4, 'To', False]  0.00689 | -0.02326 -0.04183 -0.00522 0.02643 0.00505 -0.00723 0.05365 0.04751\n",
            "[10, 4, 'MeanColumns', False]  0.01295 | -0.06251 -0.02544 0.00836 0.07973 -0.02841 0.0055 0.05821 0.06815\n",
            "[10, 4, 'MaxColumns', False]  0.00996 | -0.06451 -0.0244 -0.01918 0.07016 -0.00795 -0.00036 0.05482 0.07112\n",
            "[10, 5, 'From', False]  0.01929 | 0.00063 0.02317 -0.01195 0.06812 -0.0311 -0.01082 0.03356 0.0827\n",
            "[10, 5, 'To', False]  0.00991 | -0.02296 0.02963 -0.01957 0.0272 0.01715 0.0242 0.00775 0.01592\n",
            "[10, 5, 'MeanColumns', False]  0.0185 | 0.00112 0.03681 -0.01144 0.05919 -0.01822 -0.02276 0.02794 0.07534\n",
            "[10, 5, 'MaxColumns', False]  0.01789 | -0.0079 0.04261 -0.00834 0.04236 -0.00581 -0.01234 0.02731 0.06526\n",
            "[10, 6, 'From', False]  0.02047 | 0.02828 0.02803 0.01669 0.02089 0.02077 -0.01554 0.03023 0.03436\n",
            "[10, 6, 'To', False]  0.01713 | 0.04155 0.01923 -0.01898 0.0267 0.01384 -0.00585 0.01865 0.0419\n",
            "[10, 6, 'MeanColumns', False]  0.01893 | 0.01129 0.03575 0.01877 0.02281 0.02038 -0.02112 0.02469 0.03891\n",
            "[10, 6, 'MaxColumns', False]  0.0199 | 0.01166 0.04516 0.01702 0.01301 0.03103 -0.02262 0.02627 0.03767\n",
            "[10, 7, 'From', False]  0.01319 | -0.05355 -0.02867 0.00693 0.07945 -0.05882 0.00017 0.08711 0.07288\n",
            "[10, 7, 'To', False]  0.01426 | 0.02011 0.04934 -0.01353 0.02176 0.01115 -0.00039 0.00405 0.02161\n",
            "[10, 7, 'MeanColumns', False]  0.01214 | -0.06288 -0.02872 0.00311 0.07662 -0.05797 -0.00321 0.08796 0.0822\n",
            "[10, 7, 'MaxColumns', False]  0.0123 | -0.06687 -0.0243 0.01206 0.06912 -0.05799 -0.00344 0.08792 0.08192\n",
            "[10, 8, 'From', False]  0.02215 | 0.02017 -0.00418 0.00649 0.06319 -0.0455 -0.01177 0.05147 0.09729\n",
            "[10, 8, 'To', False]  0.01294 | -0.01176 0.05762 -0.0131 0.01859 0.00283 0.00986 0.02063 0.01884\n",
            "[10, 8, 'MeanColumns', False]  0.01734 | -0.01783 0.01063 -0.02106 0.04354 -0.01578 -0.00629 0.05248 0.09304\n",
            "[10, 8, 'MaxColumns', False]  0.01756 | -0.01433 0.00832 -0.026 0.04062 0.00752 -0.01229 0.05347 0.08315\n",
            "[10, 9, 'From', False]  0.02149 | 0.01379 0.02146 -0.01859 0.03166 -0.01789 -0.00468 0.06411 0.08203\n",
            "[10, 9, 'To', False]  0.01001 | -0.00674 0.0383 -0.01821 0.02252 0.01027 0.00325 0.01105 0.01965\n",
            "[10, 9, 'MeanColumns', False]  0.02152 | 0.02165 0.02245 0.00387 0.02262 -0.01008 -0.01069 0.05919 0.06311\n",
            "[10, 9, 'MaxColumns', False]  0.01802 | 0.00977 0.02376 -0.00886 0.0264 -0.00749 -0.01697 0.0525 0.06503\n",
            "[10, 10, 'From', False]  0.0257 | 0.09327 0.0365 -0.00138 0.02017 -0.0174 0.00024 0.01831 0.05593\n",
            "[10, 10, 'To', False]  0.01826 | 0.02619 0.07258 -0.00525 0.01689 0.00695 0.00071 0.0011 0.0269\n",
            "[10, 10, 'MeanColumns', False]  0.02763 | 0.08599 0.02518 0.01359 0.02876 -0.02201 -0.00138 0.02295 0.06799\n",
            "[10, 10, 'MaxColumns', False]  0.02812 | 0.09639 0.02681 0.0201 0.02567 -0.03869 0.00372 0.02578 0.06516\n",
            "[10, 11, 'From', False]  0.01966 | 0.03762 0.04919 -0.00417 0.03152 -0.03162 0.00406 0.01008 0.0606\n",
            "[10, 11, 'To', False]  0.00975 | -0.01233 0.02457 -0.01749 0.0256 0.00686 0.00563 0.02871 0.01646\n",
            "[10, 11, 'MeanColumns', False]  0.01795 | 0.02105 0.05606 0.0009 0.02697 -0.02858 0.00147 0.00544 0.06027\n",
            "[10, 11, 'MaxColumns', False]  0.01564 | 0.01044 0.06216 -0.00309 0.02591 -0.02347 0.00289 0.00764 0.04265\n",
            "[11, 'Mean', 'From', False]  0.02017 | 0.00042 -0.0029 -0.00588 0.04984 -0.00596 -0.00447 0.0525 0.07782\n",
            "[11, 'Mean', 'To', False]  0.01148 | -0.01355 0.05673 -0.00449 0.01462 0.00754 0.00357 0.0028 0.02461\n",
            "[11, 'Mean', 'MeanColumns', False]  0.01889 | 0.00573 -0.00807 0.00239 0.06155 -0.00249 -0.02304 0.04875 0.06629\n",
            "[11, 'Mean', 'MaxColumns', False]  0.02009 | 0.00324 0.00099 -0.00799 0.04419 0.00596 -0.00798 0.05001 0.07229\n",
            "[11, 0, 'From', False]  0.01621 | -0.00184 0.02286 -0.01411 0.01276 0.00528 0.00523 0.035 0.06453\n",
            "[11, 0, 'To', False]  0.00024 | -0.02038 -0.0121 -0.04374 0.01429 0.03546 0.00344 0.0037 0.0212\n",
            "[11, 0, 'MeanColumns', False]  0.01343 | -0.01514 0.02054 -0.01758 0.02055 0.01507 0.0003 0.01886 0.06483\n",
            "[11, 0, 'MaxColumns', False]  0.01699 | 0.00315 0.01834 -0.01402 0.01502 0.00601 0.00605 0.03792 0.06342\n",
            "[11, 1, 'From', False]  0.01199 | -0.05696 0.00678 -0.00427 0.04861 -0.03936 -0.01842 0.06624 0.09329\n",
            "[11, 1, 'To', False]  0.01119 | -0.01277 0.05492 -0.00391 0.01508 0.00795 -0.00012 0.00649 0.02188\n",
            "[11, 1, 'MeanColumns', False]  0.0138 | -0.03853 0.0217 -0.0124 0.05096 -0.01467 -0.02293 0.04656 0.0797\n",
            "[11, 1, 'MaxColumns', False]  0.01233 | -0.03167 0.02329 -0.00932 0.04698 -0.02799 -0.02804 0.05156 0.07382\n",
            "[11, 2, 'From', False]  0.01434 | -0.00393 -0.02951 -0.02307 0.04188 0.00275 -0.01117 0.08417 0.0536\n",
            "[11, 2, 'To', False]  0.01582 | 0.01902 0.06877 0.00902 -0.00155 0.00288 0.00504 -0.00033 0.0237\n",
            "[11, 2, 'MeanColumns', False]  0.01267 | -0.02265 -0.0312 -0.02464 0.05256 -0.00586 -0.01596 0.08586 0.06327\n",
            "[11, 2, 'MaxColumns', False]  0.01218 | -0.01758 -0.03103 -0.01652 0.04784 -0.00575 -0.01224 0.07969 0.05304\n",
            "[11, 3, 'From', False]  0.01792 | 0.0076 0.01357 -0.00306 0.04677 -0.02687 -0.01463 0.05025 0.06973\n",
            "[11, 3, 'To', False]  0.01567 | -0.00326 0.06018 0.00772 0.0219 -0.00312 -0.00241 0.02069 0.02366\n",
            "[11, 3, 'MeanColumns', False]  0.01817 | 0.023 0.02584 5e-05 0.03549 -0.02641 -0.02023 0.04057 0.06703\n",
            "[11, 3, 'MaxColumns', False]  0.01694 | 0.00182 0.02403 -0.00216 0.03996 -0.02747 -0.01237 0.05309 0.05865\n",
            "[11, 4, 'From', False]  -0.00176 | -0.04575 -0.05365 -0.00971 0.04942 0.00213 0.00338 -0.01657 0.05669\n",
            "[11, 4, 'To', False]  0.0048 | 0.01938 0.01655 -0.01586 0.02447 0.00963 0.00335 -0.0543 0.03516\n",
            "[11, 4, 'MeanColumns', False]  -0.00079 | -0.02334 -0.03049 -0.01049 0.04984 -0.00401 -0.00076 -0.04157 0.05446\n",
            "[11, 4, 'MaxColumns', False]  0.00134 | -0.03669 -0.04934 -0.00121 0.0483 0.00111 0.00413 -0.00936 0.05379\n",
            "[11, 5, 'From', False]  0.01427 | -0.01712 0.02052 -0.0206 0.04168 0.01428 -0.02282 0.05302 0.04516\n",
            "[11, 5, 'To', False]  0.01113 | -0.01659 0.01984 -0.01852 0.0236 -0.01126 -0.00184 0.07338 0.02041\n",
            "[11, 5, 'MeanColumns', False]  0.01747 | 0.00248 0.04855 0.00069 0.03375 -0.00166 -0.01665 0.03262 0.03996\n",
            "[11, 5, 'MaxColumns', False]  0.0199 | 0.01132 0.05525 0.01608 0.0227 0.00443 -0.01288 0.03421 0.02811\n",
            "[11, 6, 'From', False]  0.01841 | 0.02823 0.02533 0.00841 0.02352 -0.0447 -0.01588 0.03897 0.08341\n",
            "[11, 6, 'To', False]  0.01178 | -0.00896 0.06222 0.00933 0.01516 0.00463 -0.00421 -0.00011 0.01621\n",
            "[11, 6, 'MeanColumns', False]  0.01807 | 0.02782 0.00141 0.01665 0.03534 -0.02734 -0.01753 0.03157 0.07662\n",
            "[11, 6, 'MaxColumns', False]  0.01786 | 0.02287 0.0248 0.01652 0.02781 -0.04453 -0.01742 0.03728 0.07558\n",
            "[11, 7, 'From', False]  0.02384 | 0.06108 0.01928 -0.00957 0.04064 -0.02297 0.01482 0.05929 0.02812\n",
            "[11, 7, 'To', False]  0.01285 | 0.01663 0.04234 -0.01123 0.01873 0.01162 0.01096 -0.00905 0.02281\n",
            "[11, 7, 'MeanColumns', False]  0.02423 | 0.06238 0.01737 -0.00062 0.04779 -0.01656 2e-05 0.05301 0.03042\n",
            "[11, 7, 'MaxColumns', False]  0.02407 | 0.05994 0.02116 -0.00752 0.04175 -0.023 0.01498 0.05774 0.02752\n",
            "[11, 8, 'From', False]  0.01895 | -0.00539 0.0191 0.00357 0.04299 0.00403 -0.00172 0.03229 0.05674\n",
            "[11, 8, 'To', False]  0.01202 | 0.01426 0.01994 -0.00743 0.03395 0.01055 -0.0054 -0.00317 0.03346\n",
            "[11, 8, 'MeanColumns', False]  0.01841 | 0.00091 0.02858 0.00883 0.04547 0.00569 -0.00641 0.02112 0.04306\n",
            "[11, 8, 'MaxColumns', False]  0.01977 | 1e-05 0.02721 0.01502 0.0424 -0.00052 -0.0018 0.0299 0.04597\n",
            "[11, 9, 'From', False]  0.01339 | -0.00582 0.00862 -0.00459 0.05094 0.00569 -0.01053 0.02711 0.03569\n",
            "[11, 9, 'To', False]  0.01334 | -0.00062 0.06148 -0.00173 0.01775 0.00249 -0.00016 0.00937 0.01812\n",
            "[11, 9, 'MeanColumns', False]  0.01212 | -0.01007 -0.00867 -0.00688 0.06791 0.00894 -0.01072 0.02058 0.03589\n",
            "[11, 9, 'MaxColumns', False]  0.01343 | -0.00563 0.00882 -0.00459 0.05087 0.00577 -0.01057 0.02711 0.0357\n",
            "[11, 10, 'From', False]  0.01983 | 0.04483 -0.01263 -0.00516 0.06123 -0.00677 -0.01007 0.03819 0.049\n",
            "[11, 10, 'To', False]  0.01439 | 0.00296 0.06911 -0.0031 0.02279 -0.00365 0.00075 0.00313 0.02316\n",
            "[11, 10, 'MeanColumns', False]  0.01694 | 0.03017 -0.01228 -0.00569 0.05887 -0.00497 -0.02202 0.03659 0.05488\n",
            "[11, 10, 'MaxColumns', False]  0.0174 | 0.03731 -0.00788 0.00299 0.05108 -0.00281 -0.01884 0.02893 0.04842\n",
            "[11, 11, 'From', False]  0.01414 | 0.01325 0.00492 -0.01995 0.0487 -0.02376 -0.01509 0.05467 0.05039\n",
            "[11, 11, 'To', False]  0.01759 | 0.03243 0.05455 0.00648 0.01598 0.01188 0.00712 0.00305 0.0092\n",
            "[11, 11, 'MeanColumns', False]  0.01299 | 0.00073 0.01528 0.005 0.03042 -0.00267 -0.01639 0.02825 0.04332\n",
            "[11, 11, 'MaxColumns', False]  0.01496 | 0.01466 0.02626 0.00723 0.02881 -0.01069 -0.01632 0.03011 0.03964\n",
            "F\n",
            "['Mean', 'Mean', 'From', False]  0.003000000026077032 | -0.035 -0.03717 0.0165 0.00676 0.00017 -0.01407 0.03721 0.04958\n",
            "['Mean', 'Mean', 'To', False]  0.0007399999885819852 | -0.0216 -0.03168 -0.0131 0.00504 -0.01598 0.00088 0.06431 0.01801\n",
            "['Mean', 'Mean', 'MeanColumns', False]  0.008860000409185886 | -0.01546 0.01873 0.01884 0.00238 -0.00184 -0.0119 0.01676 0.0434\n",
            "['Mean', 'Mean', 'MaxColumns', False]  0.009619999676942825 | 0.01164 0.05379 0.01019 0.00229 -0.01418 0.01053 0.00464 -0.0019\n",
            "['Mean', 0, 'From', False]  0.00279000005684793 | -0.03732 -0.03693 0.00774 -0.00052 0.021 -0.02332 0.0317 0.05995\n",
            "['Mean', 0, 'To', False]  -0.0012199999764561653 | -0.04763 -0.051 -0.01176 0.0215 -0.02687 -0.01562 0.081 0.04059\n",
            "['Mean', 0, 'MeanColumns', False]  0.009379999712109566 | 0.03469 -0.00574 0.00828 0.00279 0.01171 -0.00359 0.00089 0.02604\n",
            "['Mean', 0, 'MaxColumns', False]  0.008349999785423279 | 0.00631 0.01691 0.01267 0.01265 0.00937 -0.00398 -0.00177 0.01461\n",
            "['Mean', 1, 'From', False]  0.0030700000934302807 | -0.04681 -0.02811 -0.00552 0.00614 0.00571 -0.02238 0.07351 0.04203\n",
            "['Mean', 1, 'To', False]  0.0022799998987466097 | -0.04077 -0.02709 -0.02653 0.0271 -0.02269 -0.00626 0.0755 0.03896\n",
            "['Mean', 1, 'MeanColumns', False]  0.004360000137239695 | -0.02746 -0.00102 0.01305 0.01034 -0.02322 -0.01096 0.03464 0.03953\n",
            "['Mean', 1, 'MaxColumns', False]  0.0016899999463930726 | -0.02485 -0.0048 -0.02302 0.0228 -0.01758 -0.00367 0.05972 0.00492\n",
            "['Mean', 2, 'From', False]  0.009970000013709068 | 0.03051 -0.00488 -0.0094 0.0019 0.01434 0.00963 0.01097 0.02669\n",
            "['Mean', 2, 'To', False]  0.004040000028908253 | -0.00437 -0.01562 0.00041 -0.00153 0.01867 0.00078 0.02257 0.01143\n",
            "['Mean', 2, 'MeanColumns', False]  0.006670000031590462 | 0.00867 -0.00288 0.00883 0.00281 -0.0022 0.0083 0.01235 0.01752\n",
            "['Mean', 2, 'MaxColumns', False]  0.0041600000113248825 | -0.01463 0.02363 0.01183 -0.00523 0.00457 0.00148 0.00358 0.00803\n",
            "['Mean', 3, 'From', False]  0.00877000018954277 | 0.0144 -0.01422 0.01715 -1e-05 0.01593 -0.00286 0.01127 0.02853\n",
            "['Mean', 3, 'To', False]  0.004970000125467777 | -0.02038 -0.0036 -0.01143 0.00105 0.01445 0.00045 0.04985 0.00936\n",
            "['Mean', 3, 'MeanColumns', False]  0.010119999758899212 | 0.01629 0.02722 0.01975 -0.00614 -0.00886 0.01004 4e-05 0.02264\n",
            "['Mean', 3, 'MaxColumns', False]  0.011300000362098217 | 0.02248 0.03193 0.00904 -0.00393 -0.01236 -0.00329 0.02652 0.01999\n",
            "['Mean', 4, 'From', False]  0.0013000000035390258 | -0.0521 -0.02765 0.00219 0.01781 0.00094 -0.02222 0.03194 0.0595\n",
            "['Mean', 4, 'To', False]  0.0028899998869746923 | -0.01655 -0.0495 0.0096 0.02277 -0.01216 -0.03325 0.03224 0.06999\n",
            "['Mean', 4, 'MeanColumns', False]  0.005090000107884407 | -0.00717 0.01779 0.00646 0.00932 -0.01119 -0.00795 0.0287 0.0048\n",
            "['Mean', 4, 'MaxColumns', False]  0.005690000019967556 | -0.02218 -0.02289 0.02737 -0.00066 0.04312 -0.01945 0.00276 0.03747\n",
            "['Mean', 5, 'From', False]  0.0011699999449774623 | -0.02819 -0.0097 0.0044 -0.00056 -0.0075 -0.01986 0.02917 0.04157\n",
            "['Mean', 5, 'To', False]  0.002099999925121665 | -0.01724 -0.00704 -0.01341 0.02264 -0.00298 0.01256 0.01596 0.00629\n",
            "['Mean', 5, 'MeanColumns', False]  0.009730000048875809 | 0.01258 0.03907 0.01333 -0.00402 -0.01169 0.01005 0.00928 0.00928\n",
            "['Mean', 5, 'MaxColumns', False]  0.0032500000670552254 | 0.01551 0.00425 0.00213 0.00399 -0.01163 0.00203 0.00614 0.00355\n",
            "['Mean', 6, 'From', False]  0.007550000213086605 | -0.0083 -0.00462 -8e-05 0.00639 0.00819 -0.02195 0.02749 0.0533\n",
            "['Mean', 6, 'To', False]  -0.000699999975040555 | -0.00667 -0.01606 0.00518 0.00397 -0.00498 -0.00147 -0.00787 0.02228\n",
            "['Mean', 6, 'MeanColumns', False]  0.009209999814629555 | 0.00246 0.03383 0.00476 0.00405 0.00402 0.008 0.00444 0.01213\n",
            "['Mean', 6, 'MaxColumns', False]  0.008980000391602516 | 0.04479 0.02076 0.00385 0.00273 -0.0199 0.00913 -0.00011 0.01058\n",
            "['Mean', 7, 'From', False]  0.005239999853074551 | 0.00033 0.01999 0.02004 -0.00468 -0.01128 -0.00992 0.00663 0.02082\n",
            "['Mean', 7, 'To', False]  -0.0005600000149570405 | -0.01396 0.00036 -0.00545 0.00192 -0.00577 0.00302 0.01575 -0.00032\n",
            "['Mean', 7, 'MeanColumns', False]  0.006459999829530716 | -0.00795 0.01049 0.02096 -0.00017 -0.02016 -0.01088 0.02977 0.02961\n",
            "['Mean', 7, 'MaxColumns', False]  0.008349999785423279 | 0.01596 0.03074 0.00029 0.00239 -0.02389 -0.00067 0.01428 0.02769\n",
            "['Mean', 8, 'From', False]  0.006969999987632036 | -0.01794 -0.00568 0.02011 0.00961 0.00078 -0.00188 0.0315 0.01929\n",
            "['Mean', 8, 'To', False]  0.005659999791532755 | 0.01011 -0.02028 -0.01141 0.01678 -0.03149 -0.01607 0.05431 0.04332\n",
            "['Mean', 8, 'MeanColumns', False]  0.009739999659359455 | 0.00248 0.04339 0.00335 0.00468 -0.01598 0.01328 0.01593 0.01083\n",
            "['Mean', 8, 'MaxColumns', False]  0.005960000213235617 | -0.01313 0.00827 0.00248 0.01397 -0.0399 0.01425 0.05616 0.00555\n",
            "['Mean', 9, 'From', False]  0.0026400000788271427 | -0.04133 -0.03486 0.00675 0.00384 0.02044 -0.02507 0.04219 0.04916\n",
            "['Mean', 9, 'To', False]  0.0040799998678267 | -0.0228 -0.01115 0.01318 0.00489 0.00107 0.00547 0.03449 0.0075\n",
            "['Mean', 9, 'MeanColumns', False]  0.01042999979108572 | -0.01516 0.02772 0.00477 0.00071 0.01763 -0.01092 0.01783 0.04083\n",
            "['Mean', 9, 'MaxColumns', False]  0.007240000180900097 | -0.02755 0.02708 -0.01705 -0.00812 0.01482 -0.01005 0.05804 0.02076\n",
            "['Mean', 10, 'From', False]  0.009270000271499157 | 0.00783 0.00208 0.01084 0.00469 0.007 0.0099 0.00104 0.03081\n",
            "['Mean', 10, 'To', False]  -0.004639999940991402 | -0.04086 -0.06886 -0.02271 0.00622 -0.01042 -0.00278 0.07331 0.02893\n",
            "['Mean', 10, 'MeanColumns', False]  0.007120000198483467 | 0.00406 0.02824 0.01486 -0.00495 0.01001 0.00914 0.00168 -0.00604\n",
            "['Mean', 10, 'MaxColumns', False]  0.0071299998089671135 | 0.02844 0.01734 0.01371 0.00207 -0.00286 0.00335 0.00122 -0.00626\n",
            "['Mean', 11, 'From', False]  0.006049999967217445 | 0.01447 -0.01509 0.00951 -0.00909 0.01374 -0.00241 0.01053 0.02672\n",
            "['Mean', 11, 'To', False]  0.0002899999963119626 | -0.01434 -0.0107 0.0002 0.0022 -0.00473 0.00305 0.02336 0.00325\n",
            "['Mean', 11, 'MeanColumns', False]  0.005229999776929617 | 0.00554 -0.00812 0.0125 -0.00491 -0.0082 -0.00043 0.01869 0.02678\n",
            "['Mean', 11, 'MaxColumns', False]  0.008229999803006649 | 0.01239 0.02314 0.01169 0.01136 -0.00401 -0.00256 0.00232 0.01152\n",
            "[0, 'Mean', 'From', False]  0.002570000011473894 | -0.00741 -0.01307 0.0009 -0.00483 0.00607 0.00923 0.02197 0.00774\n",
            "[0, 'Mean', 'To', False]  0.001550000044517219 | -0.01411 -0.00303 0.00366 0.00198 -0.00521 0.00232 0.02341 0.0034\n",
            "[0, 'Mean', 'MeanColumns', False]  0.007780000101774931 | 0.01032 0.01725 -0.00778 0.01322 -0.05157 -0.00917 0.04907 0.04087\n",
            "[0, 'Mean', 'MaxColumns', False]  0.009580000303685665 | 0.0435 0.01241 0.00186 0.00171 -0.0135 -0.00856 0.01448 0.02472\n",
            "[0, 0, 'From', False]  0.003920000046491623 | -0.01023 -0.00755 -0.00366 -0.00166 -0.02891 0.00862 0.05853 0.01619\n",
            "[0, 0, 'To', False]  0.0051299999468028545 | -0.00293 -0.0004 -0.01302 0.01777 -0.01499 -0.01014 0.02453 0.04019\n",
            "[0, 0, 'MeanColumns', False]  0.0027699999045580626 | -0.0081 0.00566 -0.00728 0.0192 -0.01452 -0.00056 -0.00195 0.02971\n",
            "[0, 0, 'MaxColumns', False]  0.00786999985575676 | 0.02462 0.03016 -0.00849 0.00893 0.00141 0.00336 -0.00223 0.00523\n",
            "[0, 1, 'From', False]  0.0064199999906122684 | 0.01088 0.02638 0.00059 0.01473 -0.01435 -0.00155 0.02174 -0.00707\n",
            "[0, 1, 'To', False]  0.0013099999632686377 | -0.0121 -0.0013 -0.00384 0.00859 0.01572 0.00111 0.0032 -0.00089\n",
            "[0, 1, 'MeanColumns', False]  0.007400000002235174 | 0.03052 0.02006 -0.00707 0.01042 -0.01047 0.00115 0.00056 0.01407\n",
            "[0, 1, 'MaxColumns', False]  0.002219999907538295 | -0.01852 0.00554 0.0062 -0.00306 0.00058 -0.00761 0.01916 0.0155\n",
            "[0, 2, 'From', False]  0.0019600000232458115 | -0.01945 -0.00082 -0.00182 -0.00196 0.01556 -0.00069 0.01205 0.01283\n",
            "[0, 2, 'To', False]  0.009349999949336052 | 0.03845 0.01983 -0.01463 0.01563 0.00396 0.00226 0.00398 0.00535\n",
            "[0, 2, 'MeanColumns', False]  0.0064500002190470695 | 0.02142 0.02506 -0.0008 -0.00759 -8e-05 0.00122 0.00338 0.00896\n",
            "[0, 2, 'MaxColumns', False]  0.011090000160038471 | 0.00835 0.04165 0.009 0.00731 -0.00519 -0.0098 0.01431 0.02306\n",
            "[0, 3, 'From', False]  0.006289999932050705 | -0.00563 0.01314 0.02414 0.00467 0.00389 0.00101 0.00389 0.00522\n",
            "[0, 3, 'To', False]  0.005570000037550926 | 0.00554 0.01487 -0.01548 0.00782 -0.00298 -0.00611 0.03921 0.00167\n",
            "[0, 3, 'MeanColumns', False]  0.0026400000788271427 | -0.00062 -0.01888 0.00792 -0.00523 0.0005 -0.00022 0.01447 0.02318\n",
            "[0, 3, 'MaxColumns', False]  0.007910000160336494 | 0.00541 -0.02379 0.03281 0.02004 -0.03182 -0.01154 0.03117 0.04104\n",
            "[0, 4, 'From', False]  0.0034000000450760126 | -0.02494 0.01183 -0.00601 0.02349 0.00789 -0.00924 -0.0039 0.02809\n",
            "[0, 4, 'To', False]  0.0037499999161809683 | 0.01505 -0.01648 -0.01282 0.00082 0.0118 -0.00345 0.01777 0.01731\n",
            "[0, 4, 'MeanColumns', False]  0.01152000017464161 | 0.04416 0.02598 -0.01224 0.01696 0.00476 -0.0099 -0.00224 0.02472\n",
            "[0, 4, 'MaxColumns', False]  0.007969999685883522 | 0.02236 -0.02757 0.01609 0.01061 -0.02319 -0.01244 0.04443 0.03352\n",
            "[0, 5, 'From', False]  0.0032999999821186066 | -0.00913 0.00757 -0.00314 0.00955 0.01961 -0.0003 -0.00125 0.00351\n",
            "[0, 5, 'To', False]  0.0047599999234080315 | -0.01682 -0.0029 -0.01175 0.01866 -0.00731 -0.01622 0.009 0.06544\n",
            "[0, 5, 'MeanColumns', False]  0.003800000064074993 | -0.01336 0.03602 0.00237 0.00037 -0.00258 0.00292 -0.00072 0.00535\n",
            "[0, 5, 'MaxColumns', False]  0.005210000090301037 | 0.01384 -0.00757 -0.00794 0.01092 0.00735 -0.00088 0.00767 0.0183\n",
            "[0, 6, 'From', False]  0.007160000037401915 | 0.03701 0.00632 -0.00039 0.00072 -0.00313 -0.0037 0.013 0.00743\n",
            "[0, 6, 'To', False]  0.004619999788701534 | -0.02231 -0.01241 -0.00159 0.00635 0.04145 -0.01366 0.01437 0.02478\n",
            "[0, 6, 'MeanColumns', False]  0.009999999776482582 | 0.03173 0.02564 0.0029 0.00181 0.01656 0.00012 -0.00406 0.00533\n",
            "[0, 6, 'MaxColumns', False]  0.010060000233352184 | 0.03144 0.03279 0.01018 0.00396 -0.00365 -0.00298 -0.0064 0.01515\n",
            "[0, 7, 'From', False]  0.005619999952614307 | -0.00629 0.02329 0.00376 0.00189 0.00266 0.00165 -0.00325 0.02121\n",
            "[0, 7, 'To', False]  0.007790000177919865 | 0.03007 0.00192 0.0268 -0.00102 -0.01015 -0.00514 -0.02301 0.04284\n",
            "[0, 7, 'MeanColumns', False]  0.006990000139921904 | -0.01161 0.05255 0.01056 0.00287 -0.00499 0.00308 -0.00288 0.00637\n",
            "[0, 7, 'MaxColumns', False]  0.003269999986514449 | -0.02463 0.0046 0.02028 0.00223 0.02246 -0.00097 -0.00677 0.00895\n",
            "[0, 8, 'From', False]  0.0014700000174343586 | -0.00349 -0.01065 -0.01108 0.00144 0.01316 0.00133 0.02338 -0.00237\n",
            "[0, 8, 'To', False]  0.0016299999551847577 | -0.0013 -0.02135 -0.00924 0.01404 -0.00498 -0.01301 0.0015 0.04736\n",
            "[0, 8, 'MeanColumns', False]  0.00675999978557229 | -0.00598 0.04314 0.01223 -0.00255 -0.01378 -0.00558 0.01068 0.01596\n",
            "[0, 8, 'MaxColumns', False]  0.008089999668300152 | 0.00939 0.02873 0.00879 0.00896 -0.01084 0.00628 0.00601 0.00743\n",
            "[0, 9, 'From', False]  0.004999999888241291 | 0.00277 -0.00066 -0.02661 0.02256 -0.01814 -5e-05 0.05226 0.00784\n",
            "[0, 9, 'To', False]  0.0027799999807029963 | -0.00447 0.01542 0.0015 0.00181 -0.00184 -0.00139 0.00293 0.00825\n",
            "[0, 9, 'MeanColumns', False]  0.005849999841302633 | 0.0068 -0.01533 -0.01897 0.02667 -0.01275 -0.01001 0.01253 0.05785\n",
            "[0, 9, 'MaxColumns', False]  0.013609999790787697 | 0.03233 0.05126 0.01898 0.00264 -0.00873 -0.00305 0.0018 0.01361\n",
            "[0, 10, 'From', False]  0.00139999995008111 | -0.0092 -0.01531 -0.01595 0.00923 0.01209 0.00269 0.01955 0.00809\n",
            "[0, 10, 'To', False]  0.0016899999463930726 | -0.02101 -0.01204 -0.02089 -0.00678 0.00693 0.01351 0.05263 0.00117\n",
            "[0, 10, 'MeanColumns', False]  0.004840000066906214 | 0.00362 0.01193 0.00096 0.0011 0.01162 -0.01078 0.00679 0.01345\n",
            "[0, 10, 'MaxColumns', False]  0.0058200000785291195 | 0.02055 0.01987 -0.00519 -0.00547 -0.01017 -0.01654 0.01416 0.02931\n",
            "[0, 11, 'From', False]  9.999999747378752e-05 | -0.01893 -0.02084 -0.00727 -0.00658 0.00064 0.01636 0.02956 0.00786\n",
            "[0, 11, 'To', False]  0.001550000044517219 | -0.01411 -0.00303 0.00366 0.00198 -0.00521 0.00232 0.02341 0.0034\n",
            "[0, 11, 'MeanColumns', False]  0.0025500000920146704 | -0.00796 -0.03131 0.00977 0.01167 -0.03831 0.00116 0.03552 0.03984\n",
            "[0, 11, 'MaxColumns', False]  0.008799999952316284 | 0.03386 0.01634 0.00713 0.01287 0.00311 -0.00942 -0.00039 0.00688\n",
            "[1, 'Mean', 'From', False]  0.0007200000109151006 | 0.00347 -0.012 -0.00946 -0.00629 0.00992 0.00274 0.00462 0.01273\n",
            "[1, 'Mean', 'To', False]  0.00039000000106170774 | -0.00075 -0.01325 -0.01127 -0.00371 0.00405 0.00176 0.01383 0.01245\n",
            "[1, 'Mean', 'MeanColumns', False]  0.005789999850094318 | 0.00469 0.01472 0.00313 -0.00469 0.00852 0.01061 -0.00265 0.01196\n",
            "[1, 'Mean', 'MaxColumns', False]  0.0025400000158697367 | -0.01061 0.00099 -0.01614 -0.00641 0.02021 0.01037 0.00605 0.01584\n",
            "[1, 0, 'From', False]  0.006120000034570694 | 0.01537 0.01635 0.00087 0.00312 -0.00303 0.00155 -0.00471 0.01945\n",
            "[1, 0, 'To', False]  0.0044200001284480095 | 0.01216 -0.00222 -0.0003 0.00058 2e-05 -0.0024 0.01941 0.0081\n",
            "[1, 0, 'MeanColumns', False]  0.008209999650716782 | 0.02234 0.01305 -0.0022 -0.0062 0.02052 -0.0041 0.00632 0.01593\n",
            "[1, 0, 'MaxColumns', False]  0.005779999773949385 | 0.00119 0.01147 -0.0069 -0.00513 0.02975 0.00657 0.00108 0.00819\n",
            "[1, 1, 'From', False]  0.0038799999747425318 | 0.00897 0.00836 0.00041 -0.00839 -0.00273 0.00277 0.00649 0.01514\n",
            "[1, 1, 'To', False]  0.003120000008493662 | -0.00729 -0.00105 0.00538 0.0007 0.00276 0.00245 0.01634 0.00567\n",
            "[1, 1, 'MeanColumns', False]  0.001339999958872795 | -0.02985 0.02239 -0.00232 -0.00703 -0.00319 0.00522 0.01987 0.00561\n",
            "[1, 1, 'MaxColumns', False]  0.0013299999991431832 | 0.0119 -0.0224 -0.00824 -0.00443 0.00541 0.00021 0.01544 0.01278\n",
            "[1, 2, 'From', False]  0.000910000002477318 | -0.01189 -0.00388 -0.01177 -0.00402 0.01636 0.00129 0.00033 0.02085\n",
            "[1, 2, 'To', False]  0.006029999814927578 | -0.01109 0.01762 0.01247 -0.01103 0.01444 -0.00399 0.02641 0.00337\n",
            "[1, 2, 'MeanColumns', False]  0.007600000128149986 | 0.00437 0.00838 0.00629 0.00981 -0.01098 0.01393 0.01138 0.01764\n",
            "[1, 2, 'MaxColumns', False]  1.9999999494757503e-05 | -0.02421 -0.00314 -0.00784 -0.00957 -0.00072 0.00394 0.01487 0.02685\n",
            "[1, 3, 'From', False]  0.0020000000949949026 | -0.00972 -0.00436 -0.00213 -0.0042 0.02189 -0.0046 0.00915 0.00998\n",
            "[1, 3, 'To', False]  0.0021800000686198473 | 0.00047 -0.01574 -0.00272 0.00538 0.00813 -0.00266 0.01663 0.00795\n",
            "[1, 3, 'MeanColumns', False]  0.0034000000450760126 | 0.0079 -0.00474 -0.00954 -0.00477 0.01482 0.00328 -0.0024 0.02261\n",
            "[1, 3, 'MaxColumns', False]  0.005859999917447567 | 0.00906 0.02232 -0.01284 -0.00029 0.0052 0.00845 0.00235 0.01268\n",
            "[1, 4, 'From', False]  0.0049600000493228436 | 0.00032 0.01957 -0.00846 0.01698 0.00744 0.00209 -0.00208 0.00383\n",
            "[1, 4, 'To', False]  0.010080000385642052 | 0.02271 0.01187 0.01177 0.01753 -0.00968 0.0005 0.02903 -0.00308\n",
            "[1, 4, 'MeanColumns', False]  0.0031999999191612005 | -0.00337 0.00053 -0.00905 0.00502 0.01883 0.0017 0.01284 -0.0009\n",
            "[1, 4, 'MaxColumns', False]  0.003920000046491623 | 0.02274 0.01241 -0.00808 -0.00245 0.0072 -0.00115 0.00096 -0.0003\n",
            "[1, 5, 'From', False]  0.0020699999295175076 | 0.00368 0.01385 0.00163 -0.00319 -0.00415 0.00122 0.00971 -0.0062\n",
            "[1, 5, 'To', False]  -0.0010900000343099236 | -0.01271 -9e-05 -0.01856 0.00077 0.00978 -0.00315 0.00376 0.01153\n",
            "[1, 5, 'MeanColumns', False]  0.003819999983534217 | 0.00958 0.02543 0.0048 0.00571 -0.00595 0.01218 -0.00678 -0.0144\n",
            "[1, 5, 'MaxColumns', False]  0.0053900000639259815 | 0.01125 0.02682 0.0007 0.00731 -0.00036 0.00246 -0.00037 -0.00471\n",
            "[1, 6, 'From', False]  0.0061599998734891415 | 0.00022 0.00788 0.01746 -0.00358 -0.00518 0.01256 0.00446 0.01549\n",
            "[1, 6, 'To', False]  0.00343999988399446 | 0.01029 -0.00573 -0.00745 -0.00046 0.01458 -0.00819 -0.00199 0.02647\n",
            "[1, 6, 'MeanColumns', False]  0.0035699999425560236 | -0.00162 0.02632 0.00118 0.0049 -0.00424 0.00162 -0.00296 0.00338\n",
            "[1, 6, 'MaxColumns', False]  0.007720000110566616 | 0.02001 0.01845 -0.01385 0.021 -0.05244 -0.0019 0.02514 0.04535\n",
            "[1, 7, 'From', False]  0.0024300001095980406 | -0.00101 -0.01583 0.00216 -0.00389 0.01767 -0.00166 0.02398 -0.00194\n",
            "[1, 7, 'To', False]  -0.0030300000216811895 | -0.01818 -0.02462 -0.01095 -0.00225 0.00671 -0.00671 0.0122 0.01957\n",
            "[1, 7, 'MeanColumns', False]  0.009510000236332417 | 0.04084 -0.00982 -0.00163 0.00485 0.01048 -0.00041 0.03185 -5e-05\n",
            "[1, 7, 'MaxColumns', False]  0.0032099999953061342 | 0.0017 0.00719 -0.00968 -0.0039 0.00753 0.00419 0.02254 -0.00389\n",
            "[1, 8, 'From', False]  0.004230000078678131 | 0.00376 0.02103 -0.00079 -0.0009 -0.00297 0.00494 0.00398 0.0048\n",
            "[1, 8, 'To', False]  -0.002899999963119626 | -0.02278 -0.01335 -0.02684 -0.00164 0.01251 -0.00725 0.01598 0.02019\n",
            "[1, 8, 'MeanColumns', False]  0.004550000187009573 | 0.00249 0.00319 -0.00395 -0.00704 -0.00607 0.01079 0.02124 0.01579\n",
            "[1, 8, 'MaxColumns', False]  0.006659999955445528 | -0.01176 -0.04319 0.01001 0.04716 -0.01024 0.01418 0.0349 0.01221\n",
            "[1, 9, 'From', False]  0.0010999999940395355 | 0.00432 0.01661 -0.02443 0.0032 0.00746 0.0003 0.00278 -0.00139\n",
            "[1, 9, 'To', False]  0.010409999638795853 | 0.02936 0.02528 -0.01839 0.03102 -0.03605 -0.02013 0.01277 0.05944\n",
            "[1, 9, 'MeanColumns', False]  0.00033000000985339284 | -0.00927 0.02361 0.02057 0.0125 -0.01454 0.00237 -0.02413 -0.00849\n",
            "[1, 9, 'MaxColumns', False]  0.007860000245273113 | 0.01621 0.00015 -0.00722 0.01257 -0.00903 0.01255 0.02986 0.00781\n",
            "[1, 10, 'From', False]  0.010759999975562096 | 0.03406 0.02575 -0.0055 0.00203 0.00805 0.00447 0.01294 0.00427\n",
            "[1, 10, 'To', False]  0.0038799999747425318 | 0.01607 -0.00956 -0.00066 0.00428 -0.00337 -0.00539 0.00926 0.02041\n",
            "[1, 10, 'MeanColumns', False]  0.008379999548196793 | 0.00863 0.03902 0.00848 -0.00278 0.00808 0.00365 0.01422 -0.01226\n",
            "[1, 10, 'MaxColumns', False]  0.0065100002102553844 | 0.02419 0.0115 0.00832 -0.00426 0.0076 -0.00501 0.00215 0.00761\n",
            "[1, 11, 'From', False]  0.0013599999947473407 | -0.00854 0.0035 -0.01299 -0.00677 -0.00062 0.00335 0.015 0.01796\n",
            "[1, 11, 'To', False]  0.00892999954521656 | 0.04049 0.0193 -0.00265 0.00137 0.01015 -0.00086 0.00739 -0.00374\n",
            "[1, 11, 'MeanColumns', False]  0.0003800000122282654 | -0.0024 -0.00744 -0.00808 -0.00194 0.00987 0.00041 0.00558 0.00705\n",
            "[1, 11, 'MaxColumns', False]  0.00203999993391335 | -0.0037 0.00192 0.0034 -0.00219 0.00208 -1e-04 0.0116 0.00333\n",
            "[2, 'Mean', 'From', False]  0.004720000084489584 | 0.01443 -0.01515 -0.01189 -0.00665 0.03051 -0.00918 0.01492 0.02073\n",
            "[2, 'Mean', 'To', False]  0.005969999823719263 | 0.01938 -0.01963 -0.01381 0.01542 -0.02226 0.00629 0.03532 0.02708\n",
            "[2, 'Mean', 'MeanColumns', False]  0.0010999999940395355 | -0.00343 -0.00972 3e-05 -0.00645 -0.00152 -0.00091 0.01709 0.01371\n",
            "[2, 'Mean', 'MaxColumns', False]  0.007350000087171793 | 0.05847 0.00133 0.01205 0.00225 -0.02195 -0.00864 0.01668 -0.00138\n",
            "[2, 0, 'From', False]  0.0017800000496208668 | -0.00224 -0.01055 0.01066 -0.00781 0.02256 -0.00023 -0.0109 0.01274\n",
            "[2, 0, 'To', False]  -0.00171999994199723 | -0.01027 -0.05009 -0.00904 0.0104 0.00351 -0.00579 0.02702 0.02053\n",
            "[2, 0, 'MeanColumns', False]  0.01209999993443489 | 0.03164 0.04157 0.00384 -0.00394 0.00355 0.00051 0.00941 0.01019\n",
            "[2, 0, 'MaxColumns', False]  0.00865000020712614 | 0.01096 0.02816 0.00813 -0.00361 0.01007 -0.00336 -0.0031 0.02196\n",
            "[2, 1, 'From', False]  0.007309999782592058 | 0.0418 -0.02047 -0.02262 0.01582 -6e-05 -0.0 0.02866 0.01536\n",
            "[2, 1, 'To', False]  0.006539999973028898 | -0.00381 0.01725 -0.01403 0.01922 -0.02744 -0.01418 0.03866 0.03661\n",
            "[2, 1, 'MeanColumns', False]  0.0036100000143051147 | 0.00426 0.01477 0.0066 -0.00232 -0.00323 0.00225 0.00316 0.00341\n",
            "[2, 1, 'MaxColumns', False]  0.004910000134259462 | 0.0029 0.0139 -0.00405 0.00831 -0.01666 -0.00339 0.02845 0.00981\n",
            "[2, 2, 'From', False]  0.0033199999015778303 | -0.00289 0.00894 0.00015 -0.0011 0.01066 0.00092 0.00415 0.00571\n",
            "[2, 2, 'To', False]  0.005739999935030937 | 0.01352 0.00999 -0.00176 0.01636 0.00525 -0.00568 0.00259 0.00567\n",
            "[2, 2, 'MeanColumns', False]  0.0010999999940395355 | 0.00324 -0.00341 -0.00285 -0.00278 0.00255 0.00084 0.0051 0.00607\n",
            "[2, 2, 'MaxColumns', False]  0.0048500001430511475 | 0.00343 0.02492 -0.00679 0.0123 0.00802 -0.00288 0.00497 -0.00518\n",
            "[2, 3, 'From', False]  -0.0004600000102072954 | -0.041 -0.01632 0.01035 0.01024 0.00433 -0.01475 0.02068 0.02279\n",
            "[2, 3, 'To', False]  0.003700000001117587 | -0.00289 -0.00221 -0.01684 0.0199 -0.00392 0.01164 0.01242 0.01151\n",
            "[2, 3, 'MeanColumns', False]  0.012330000288784504 | 0.04415 0.02344 0.02203 -0.00688 -0.0166 0.00146 0.02328 0.00778\n",
            "[2, 3, 'MaxColumns', False]  0.010599999688565731 | 0.02665 0.01541 0.02267 0.00305 -0.00289 -0.00427 0.02242 0.00173\n",
            "[2, 4, 'From', False]  0.007340000011026859 | 0.01347 0.0097 -0.01507 0.00196 0.02266 -0.00733 0.01306 0.02024\n",
            "[2, 4, 'To', False]  0.0041600000113248825 | 0.01134 0.0014 -0.00164 0.00441 0.01261 -0.0021 0.00298 0.00431\n",
            "[2, 4, 'MeanColumns', False]  0.0006000000284984708 | -0.01436 -0.00787 -0.00966 0.00732 -0.00415 0.00425 0.02549 0.00376\n",
            "[2, 4, 'MaxColumns', False]  0.005439999978989363 | 0.00591 -0.00738 0.00475 0.00291 -0.01054 0.00105 0.03108 0.01574\n",
            "[2, 5, 'From', False]  0.000750000006519258 | -0.00032 -0.02189 0.00362 -0.00852 -0.01645 -0.00925 0.03404 0.02473\n",
            "[2, 5, 'To', False]  0.0016299999551847577 | -0.01144 -0.01145 -0.02357 0.01729 -0.0282 -0.00136 0.05117 0.02058\n",
            "[2, 5, 'MeanColumns', False]  0.0009299999801442027 | -0.01602 -0.00547 0.00532 -0.00401 -0.0078 0.0007 0.03187 0.00288\n",
            "[2, 5, 'MaxColumns', False]  0.0018899999558925629 | -0.01475 0.01463 -0.00591 -0.00556 0.00064 0.00458 0.01422 0.00726\n",
            "[2, 6, 'From', False]  0.00171999994199723 | 0.00728 -0.01394 -0.02258 0.0023 0.02256 -0.01759 0.02235 0.01336\n",
            "[2, 6, 'To', False]  0.005140000022947788 | 0.0233 -0.01666 -0.00748 0.0033 -0.02081 0.01044 0.01179 0.03728\n",
            "[2, 6, 'MeanColumns', False]  0.0016899999463930726 | -0.00236 0.00922 -0.00341 0.00139 -0.00139 0.00806 0.0019 8e-05\n",
            "[2, 6, 'MaxColumns', False]  0.006819999776780605 | 0.01519 0.00037 -0.00957 0.05025 0.00135 -0.00219 -0.00066 -0.00019\n",
            "[2, 7, 'From', False]  0.0012400000123307109 | -0.01645 0.00703 0.00706 0.00121 0.00442 -1e-05 0.003 0.00368\n",
            "[2, 7, 'To', False]  0.0017800000496208668 | -0.01481 -0.0206 -0.01484 0.01749 0.00182 -0.0002 0.04156 0.00383\n",
            "[2, 7, 'MeanColumns', False]  0.005169999785721302 | 0.00473 0.03136 0.00172 -0.00656 -0.0039 0.00279 0.0066 0.00458\n",
            "[2, 7, 'MaxColumns', False]  0.00203000009059906 | -0.00501 0.02266 -0.00561 -0.00273 -0.00193 -0.00121 0.00702 0.00306\n",
            "[2, 8, 'From', False]  0.0024900001008063555 | -0.00925 -0.0025 0.0098 0.00126 0.01745 -0.00032 -0.00217 0.0057\n",
            "[2, 8, 'To', False]  0.004050000105053186 | 0.0077 -0.0253 0.00266 0.01187 -0.04789 0.00641 0.05682 0.02009\n",
            "[2, 8, 'MeanColumns', False]  0.008340000174939632 | 0.03858 -0.00445 -0.03651 0.01827 -0.01471 0.01342 0.04019 0.01193\n",
            "[2, 8, 'MaxColumns', False]  0.0027600000612437725 | -0.00054 -0.02023 0.01313 0.01022 -0.00141 -0.00611 0.0134 0.01364\n",
            "[2, 9, 'From', False]  0.010889999568462372 | 0.01667 0.02229 0.01368 0.00391 0.00558 -0.00345 0.01559 0.01287\n",
            "[2, 9, 'To', False]  0.010710000060498714 | 0.04477 0.01035 -0.00454 0.01325 0.01914 -0.00167 -0.0062 0.01059\n",
            "[2, 9, 'MeanColumns', False]  0.005859999917447567 | -0.00921 0.02792 0.01514 -0.00831 0.0105 -0.00174 0.01677 -0.0042\n",
            "[2, 9, 'MaxColumns', False]  0.0040799998678267 | -0.00911 0.01131 -0.00221 0.0009 0.01006 -0.0044 0.01194 0.01416\n",
            "[2, 10, 'From', False]  0.0012199999764561653 | -0.01749 -0.02612 -0.00756 0.00722 0.01239 -0.01492 0.02819 0.02805\n",
            "[2, 10, 'To', False]  0.005590000189840794 | 0.00648 -0.00456 -0.00127 0.02063 -0.02447 -0.00165 0.03169 0.01786\n",
            "[2, 10, 'MeanColumns', False]  0.005200000014156103 | 0.00546 0.0112 8e-05 0.00373 -0.00363 0.00612 0.00368 0.01492\n",
            "[2, 10, 'MaxColumns', False]  0.0041600000113248825 | 0.00138 0.02234 0.00129 0.00865 -0.00022 0.00299 -0.00147 -0.0017\n",
            "[2, 11, 'From', False]  0.0031399999279528856 | 0.00794 0.01019 0.0047 0.00533 -0.00392 0.00406 -0.00681 0.00361\n",
            "[2, 11, 'To', False]  0.00827999971807003 | 0.02487 0.00461 -0.00976 0.00373 -0.01517 0.00748 0.0061 0.0444\n",
            "[2, 11, 'MeanColumns', False]  0.003809999907389283 | 0.02025 0.00353 -0.00653 0.00082 -0.00141 0.00042 0.00337 0.01001\n",
            "[2, 11, 'MaxColumns', False]  0.009279999881982803 | 0.02238 0.02765 0.00093 0.00113 0.00975 0.00332 -0.0022 0.01128\n",
            "[3, 'Mean', 'From', False]  0.006409999914467335 | 0.02357 0.01023 0.00441 0.01444 -0.00115 0.00045 -0.00414 0.00346\n",
            "[3, 'Mean', 'To', False]  0.005849999841302633 | -0.01519 -0.02232 0.00799 0.00995 -0.0143 0.00905 0.05245 0.01918\n",
            "[3, 'Mean', 'MeanColumns', False]  0.004739999771118164 | 0.00367 0.01718 0.00379 0.00878 0.00772 0.00409 -0.00221 -0.00512\n",
            "[3, 'Mean', 'MaxColumns', False]  0.009150000289082527 | 0.03359 0.03443 0.00571 0.01661 -0.01509 0.00227 -0.00361 -0.00067\n",
            "[3, 0, 'From', False]  0.010710000060498714 | 0.03294 0.01234 0.01778 0.00574 -0.00052 -0.00013 0.01728 0.00026\n",
            "[3, 0, 'To', False]  0.005950000137090683 | -0.01947 0.03663 0.01951 -7e-05 0.0117 0.00079 -0.00634 0.00486\n",
            "[3, 0, 'MeanColumns', False]  0.005849999841302633 | 0.00815 0.02478 0.002 -0.00039 0.00641 0.00137 -0.00146 0.00597\n",
            "[3, 0, 'MaxColumns', False]  0.005590000189840794 | -0.00814 0.02186 -3e-05 0.0064 0.01694 0.00122 0.00799 -0.00148\n",
            "[3, 1, 'From', False]  0.004610000178217888 | 0.01741 0.01298 0.00502 0.0016 -0.00083 0.00102 -0.00366 0.00336\n",
            "[3, 1, 'To', False]  0.0040699997916817665 | -0.02587 -0.03616 -0.00316 0.00393 -0.01346 -0.01216 0.06765 0.0518\n",
            "[3, 1, 'MeanColumns', False]  0.01348000019788742 | 0.08559 0.01095 -0.00941 0.003 0.02051 -0.0022 -0.00899 0.00841\n",
            "[3, 1, 'MaxColumns', False]  0.005890000145882368 | -0.00897 0.00199 0.01811 0.00243 -0.00828 0.00274 0.03868 0.00045\n",
            "[3, 2, 'From', False]  0.009619999676942825 | 0.07896 -0.01281 -0.00018 0.02161 0.0003 -0.00164 -0.01648 0.00723\n",
            "[3, 2, 'To', False]  0.001829999964684248 | -0.0157 -0.01914 -0.01958 0.00334 0.00973 0.01038 0.03791 0.0077\n",
            "[3, 2, 'MeanColumns', False]  0.009200000204145908 | 0.01667 0.03653 0.01583 -0.00565 0.00441 0.00213 0.00321 0.00047\n",
            "[3, 2, 'MaxColumns', False]  0.006459999829530716 | -0.00371 0.02078 0.01209 0.00508 0.01628 0.00222 -0.00264 0.00153\n",
            "[3, 3, 'From', False]  0.009820000268518925 | 0.03453 0.00986 -0.02207 0.02097 0.02422 0.00011 0.00744 0.00353\n",
            "[3, 3, 'To', False]  -0.000539999979082495 | -0.00694 -0.02725 -0.00913 -0.00659 0.01312 -0.00078 0.02355 0.0097\n",
            "[3, 3, 'MeanColumns', False]  0.007199999876320362 | 0.01099 0.02961 0.00921 0.01519 -0.00336 0.00319 -0.00141 -0.00583\n",
            "[3, 3, 'MaxColumns', False]  0.011060000397264957 | 0.04303 0.018 0.01274 0.01574 -0.03176 0.00152 0.01076 0.01843\n",
            "[3, 4, 'From', False]  0.002850000048056245 | -0.00604 -0.00819 -0.00951 0.01109 0.00617 -0.00017 0.00635 0.02307\n",
            "[3, 4, 'To', False]  0.005249999929219484 | 0.01975 -0.01061 0.00379 0.02177 -0.01124 -0.01764 -0.01261 0.04875\n",
            "[3, 4, 'MeanColumns', False]  0.007340000011026859 | 0.00718 0.02817 0.00317 0.01151 0.00666 0.01041 -0.00337 -0.00505\n",
            "[3, 4, 'MaxColumns', False]  0.008259999565780163 | 0.03999 0.01578 0.0065 0.04045 -0.02231 -0.0149 -0.00568 0.00623\n",
            "[3, 5, 'From', False]  0.001970000099390745 | 0.00829 -0.00221 -0.00572 0.01246 -0.00218 -0.00342 -0.00681 0.01537\n",
            "[3, 5, 'To', False]  0.006670000031590462 | 0.0316 0.0123 0.00199 -1e-04 0.00358 0.00183 -0.0006 0.00276\n",
            "[3, 5, 'MeanColumns', False]  0.003329999977722764 | 0.00018 0.01995 0.00288 -0.00047 0.00561 0.00131 -0.00214 -0.00067\n",
            "[3, 5, 'MaxColumns', False]  0.002570000011473894 | -0.00344 0.02717 0.00067 0.00318 -0.00674 -0.00116 -0.00322 0.00411\n",
            "[3, 6, 'From', False]  0.004679999779909849 | 0.00595 0.01416 0.00167 -0.00224 -0.00224 0.00158 0.01845 0.00013\n",
            "[3, 6, 'To', False]  0.0052200001664459705 | 0.003 0.02544 0.00198 0.01311 -0.04405 0.00363 0.01995 0.01872\n",
            "[3, 6, 'MeanColumns', False]  0.0036200000904500484 | 0.00766 0.01791 0.00229 0.00353 -0.00515 0.00198 -0.00268 0.00342\n",
            "[3, 6, 'MaxColumns', False]  0.00506999995559454 | 0.01065 0.02934 -0.001 0.00732 -0.02269 -0.00018 -0.00183 0.01895\n",
            "[3, 7, 'From', False]  0.004860000219196081 | 0.01656 0.02261 -0.00896 0.00421 -0.0045 0.00545 0.01094 -0.00746\n",
            "[3, 7, 'To', False]  -0.0010900000343099236 | -0.01485 -0.00473 -0.00696 0.008 -0.0134 0.00155 0.01516 0.00653\n",
            "[3, 7, 'MeanColumns', False]  0.0043299999088048935 | 0.00464 0.01827 0.00237 -0.0009 0.00573 0.00181 -0.00075 0.0035\n",
            "[3, 7, 'MaxColumns', False]  0.002420000033453107 | -0.00085 0.01109 -0.00159 0.00214 0.00679 -0.00686 -0.00284 0.0115\n",
            "[3, 8, 'From', False]  0.003759999992325902 | 0.00995 0.00475 0.00316 0.01361 -0.00427 0.00038 -0.00695 0.00941\n",
            "[3, 8, 'To', False]  0.0037700000684708357 | -0.04946 -0.03409 0.03345 0.02255 -0.05983 -0.01703 0.09908 0.03548\n",
            "[3, 8, 'MeanColumns', False]  0.006829999852925539 | 0.00923 0.03429 0.00704 0.00905 0.00917 0.00154 -0.00715 -0.0085\n",
            "[3, 8, 'MaxColumns', False]  0.011350000277161598 | 0.00643 0.00058 0.03934 0.03514 -0.06268 2e-05 0.07005 0.00189\n",
            "[3, 9, 'From', False]  0.008919999934732914 | 0.00833 0.02437 0.01356 0.00745 0.01475 0.00226 -0.00432 0.00499\n",
            "[3, 9, 'To', False]  -0.0025599999353289604 | -0.01117 -0.03938 -0.00495 -0.00187 0.01088 -0.00901 0.00889 0.02617\n",
            "[3, 9, 'MeanColumns', False]  0.007439999841153622 | 0.01196 0.02274 0.01471 0.00111 0.00835 0.00366 -0.00566 0.00268\n",
            "[3, 9, 'MaxColumns', False]  0.005150000099092722 | -0.00105 0.01825 0.0095 -0.00632 0.00655 0.00251 0.00253 0.00922\n",
            "[3, 10, 'From', False]  0.01116000022739172 | 0.01699 0.03803 0.01144 0.01441 -0.00169 0.00025 -0.00364 0.01346\n",
            "[3, 10, 'To', False]  0.0038999998942017555 | -0.01624 0.00817 -0.00294 0.00447 0.00696 0.01833 -0.00583 0.01831\n",
            "[3, 10, 'MeanColumns', False]  0.005549999885261059 | 0.00248 0.02714 0.00186 0.01048 0.01088 0.00231 -0.00535 -0.00542\n",
            "[3, 10, 'MaxColumns', False]  0.0061599998734891415 | 0.00924 0.00506 0.0048 0.01412 0.01869 -0.00019 -0.00048 -0.00193\n",
            "[3, 11, 'From', False]  0.007890000008046627 | 0.01385 0.01622 0.01358 0.00572 0.0173 -0.00011 -0.00597 0.00255\n",
            "[3, 11, 'To', False]  -7.999999797903001e-05 | -0.00799 -0.0132 -0.0268 0.01294 0.0082 0.00233 0.03136 -0.00751\n",
            "[3, 11, 'MeanColumns', False]  0.004889999981969595 | -0.00433 0.02924 -0.00442 0.00561 0.02246 0.00039 -0.00152 -0.00827\n",
            "[3, 11, 'MaxColumns', False]  0.0041600000113248825 | -0.00031 0.01166 -0.00773 0.01481 0.00517 0.00087 -0.00164 0.01042\n",
            "[4, 'Mean', 'From', False]  0.008539999835193157 | 0.01577 0.02439 0.01436 0.00313 0.00311 -0.00114 0.01331 -0.0046\n",
            "[4, 'Mean', 'To', False]  0.009220000356435776 | 0.05316 -0.01614 0.02014 0.00557 -0.00561 -0.01312 0.00059 0.02918\n",
            "[4, 'Mean', 'MeanColumns', False]  0.00418000016361475 | 0.0046 0.01366 0.00268 0.00274 -0.018 0.00412 0.01991 0.00369\n",
            "[4, 'Mean', 'MaxColumns', False]  0.004000000189989805 | 0.01853 0.01112 0.0032 0.00143 -0.01049 0.0012 0.00343 0.00358\n",
            "[4, 0, 'From', False]  0.006390000227838755 | 0.01891 0.00199 0.01449 -0.00152 -0.01881 0.00037 0.02601 0.0097\n",
            "[4, 0, 'To', False]  0.0010100000072270632 | -0.02212 -0.01665 -0.01561 0.00519 0.00766 -0.00225 0.01229 0.03956\n",
            "[4, 0, 'MeanColumns', False]  0.0035600000992417336 | 0.00869 0.00211 -0.00395 0.00225 -0.00301 0.00252 0.01829 0.00162\n",
            "[4, 0, 'MaxColumns', False]  0.005009999964386225 | 0.0107 0.01355 -0.00525 0.00805 0.00603 0.00142 0.00108 0.00454\n",
            "[4, 1, 'From', False]  0.005900000222027302 | 0.03017 0.00221 -0.01324 -0.00526 0.00408 -0.00112 0.03088 -0.00052\n",
            "[4, 1, 'To', False]  0.003269999986514449 | -0.00381 0.00317 -1e-05 -0.00128 0.01597 5e-05 -0.00028 0.01237\n",
            "[4, 1, 'MeanColumns', False]  0.004619999788701534 | 0.00412 0.01492 0.00323 0.00624 -0.01155 0.00134 0.02434 -0.00569\n",
            "[4, 1, 'MaxColumns', False]  0.006039999891072512 | -0.00714 0.0094 -0.01088 0.01234 0.01039 0.00241 0.022 0.00979\n",
            "[4, 2, 'From', False]  0.005350000225007534 | 0.00661 0.01498 0.00107 0.00313 0.01285 -0.00106 -0.00027 0.0055\n",
            "[4, 2, 'To', False]  0.003599999938160181 | -0.02051 0.02873 -0.00435 0.00439 0.00642 0.00038 0.00837 0.00536\n",
            "[4, 2, 'MeanColumns', False]  0.008220000192523003 | 0.01483 0.02679 0.00573 0.00424 0.00817 -0.00926 -0.0051 0.02034\n",
            "[4, 2, 'MaxColumns', False]  0.0064199999906122684 | -0.00613 0.01906 0.01389 0.00545 0.007 -0.00042 -0.00197 0.01445\n",
            "[4, 3, 'From', False]  0.008419999852776527 | 0.02507 0.01812 -0.00926 0.00897 -0.00686 0.00257 0.01789 0.01086\n",
            "[4, 3, 'To', False]  0.009189999662339687 | 0.03044 0.01984 0.01563 0.00507 -0.0016 0.01638 -0.00983 -0.00239\n",
            "[4, 3, 'MeanColumns', False]  0.008940000087022781 | 0.01572 0.03337 0.01129 0.00094 0.00666 0.00381 -0.00523 0.00498\n",
            "[4, 3, 'MaxColumns', False]  0.005229999776929617 | 0.01785 0.01064 0.00259 -0.00089 0.01721 -0.00341 -0.00658 0.00446\n",
            "[4, 4, 'From', False]  0.0033400000538676977 | 0.01343 0.00926 0.00353 -0.00329 -0.00484 0.00332 0.00119 0.00409\n",
            "[4, 4, 'To', False]  0.0029700000304728746 | 0.01195 0.00887 0.00198 0.00138 -0.00718 0.00135 -0.00548 0.01091\n",
            "[4, 4, 'MeanColumns', False]  0.003590000094845891 | 0.01293 0.00412 0.00279 0.00039 -0.00364 0.00441 0.00446 0.0033\n",
            "[4, 4, 'MaxColumns', False]  0.0036700000055134296 | 0.00233 0.02223 -0.00503 0.00751 -0.00773 0.0068 0.00117 0.0021\n",
            "[4, 5, 'From', False]  -0.001550000044517219 | -0.01005 -0.00119 -0.02725 -0.00498 0.00932 0.00117 0.02601 -0.00539\n",
            "[4, 5, 'To', False]  0.0038399999029934406 | 0.00846 -0.00538 -0.00754 0.01425 0.01266 0.00588 -0.00211 0.00451\n",
            "[4, 5, 'MeanColumns', False]  0.0041600000113248825 | 0.00254 0.02365 0.00285 0.00159 -0.00402 0.00182 0.00115 0.0037\n",
            "[4, 5, 'MaxColumns', False]  0.005630000028759241 | 0.01333 0.01892 -0.00054 0.00355 0.00675 -0.00171 0.00328 0.00148\n",
            "[4, 6, 'From', False]  0.006870000157505274 | 0.02433 0.00107 0.00468 0.0155 -0.01175 0.00299 0.01574 0.00236\n",
            "[4, 6, 'To', False]  0.005080000031739473 | 0.02064 0.00385 -0.00545 0.00184 0.01328 0.00494 -0.00566 0.00717\n",
            "[4, 6, 'MeanColumns', False]  0.006610000040382147 | 0.00544 0.02289 0.01417 0.00297 -0.0093 0.00255 0.0147 -0.00053\n",
            "[4, 6, 'MaxColumns', False]  0.007029999978840351 | 0.01817 0.01388 -0.00016 0.00092 0.00657 0.00429 -0.00213 0.01466\n",
            "[4, 7, 'From', False]  0.0011399999493733048 | -0.01205 -0.00345 0.00838 -0.00362 0.01066 -0.00516 -0.00351 0.01783\n",
            "[4, 7, 'To', False]  0.011420000344514847 | 0.03889 0.00301 0.00707 0.0164 -0.03018 0.00131 0.04795 0.00688\n",
            "[4, 7, 'MeanColumns', False]  0.010219999589025974 | -0.02287 0.00127 0.01923 -0.00472 0.00161 0.00042 0.04664 0.04015\n",
            "[4, 7, 'MaxColumns', False]  0.002520000096410513 | -0.00641 0.00203 -0.00573 0.00085 -0.00507 -0.01809 0.01763 0.03497\n",
            "[4, 8, 'From', False]  0.0012600000482052565 | -0.02915 0.0053 0.00572 0.00197 -0.00032 0.00105 0.0231 0.0024\n",
            "[4, 8, 'To', False]  0.014399999752640724 | 0.08105 -0.00332 0.01779 0.0244 -0.0337 -0.01719 0.02557 0.02061\n",
            "[4, 8, 'MeanColumns', False]  0.0029800001066178083 | 0.00568 0.01559 0.00289 0.00133 -0.00219 0.00326 0.00302 -0.00576\n",
            "[4, 8, 'MaxColumns', False]  0.0023300000466406345 | -0.00155 0.00678 -0.00923 0.01488 -0.00343 0.00142 0.01242 -0.00263\n",
            "[4, 9, 'From', False]  0.005859999917447567 | 0.03531 -0.00214 0.00407 0.00314 -0.00717 0.00011 0.01468 -0.00115\n",
            "[4, 9, 'To', False]  0.007230000104755163 | 0.0206 -0.00393 0.01167 0.00531 0.00436 -0.01191 0.02315 0.00861\n",
            "[4, 9, 'MeanColumns', False]  0.003160000080242753 | 0.01183 0.00336 -0.01275 -0.0032 -0.00631 0.01221 0.02614 -0.00604\n",
            "[4, 9, 'MaxColumns', False]  0.016519999131560326 | 0.05656 0.01882 -0.02801 0.00221 -0.03151 0.02404 0.0849 0.00518\n",
            "[4, 10, 'From', False]  0.0016599999507889152 | -0.01639 -0.00458 -0.00167 0.00222 -0.01239 0.0017 0.01467 0.0297\n",
            "[4, 10, 'To', False]  0.004470000043511391 | -0.00608 -0.00248 -0.01278 0.01107 0.00891 -0.0164 -4e-05 0.05358\n",
            "[4, 10, 'MeanColumns', False]  0.004110000096261501 | -0.01214 0.00847 0.00655 0.00756 0.00274 0.00092 0.00529 0.01346\n",
            "[4, 10, 'MaxColumns', False]  0.008430000394582748 | 0.00375 0.03892 0.00962 -0.0005 0.00597 0.00411 0.00036 0.00521\n",
            "[4, 11, 'From', False]  0.00215000007301569 | -0.01665 0.01024 -0.001 0.01069 0.01012 -0.00857 0.00665 0.00574\n",
            "[4, 11, 'To', False]  0.0042500002309679985 | 0.02001 -0.00196 0.0037 0.00054 -0.00061 -0.00122 -0.00064 0.01415\n",
            "[4, 11, 'MeanColumns', False]  0.0083600003272295 | -0.00621 0.04636 0.01328 -0.0075 -0.00159 0.00087 0.02498 -0.00328\n",
            "[4, 11, 'MaxColumns', False]  0.0016299999551847577 | -0.01433 -0.00397 -0.00151 0.00164 -0.00961 0.00459 0.02208 0.01419\n",
            "[5, 'Mean', 'From', False]  0.008899999782443047 | -0.0083 0.01042 0.01666 0.00411 0.02814 -0.02135 -0.00165 0.04319\n",
            "[5, 'Mean', 'To', False]  0.005229999776929617 | -0.01308 -0.01669 -0.03129 0.0402 -0.03682 0.00286 0.07272 0.02397\n",
            "[5, 'Mean', 'MeanColumns', False]  0.0094200000166893 | 0.00873 0.04946 0.015 0.00063 -0.00014 0.00227 -0.00542 0.00484\n",
            "[5, 'Mean', 'MaxColumns', False]  0.006120000034570694 | -0.00608 0.02253 -0.00127 -0.00204 0.01763 -0.00103 0.00712 0.01213\n",
            "[5, 0, 'From', False]  0.004139999859035015 | -0.04901 -0.0017 0.00828 0.01345 0.04222 -0.0291 -0.00536 0.05436\n",
            "[5, 0, 'To', False]  0.004410000052303076 | -0.00169 0.01324 -0.00708 -0.00637 -0.02898 -0.00018 0.0609 0.00543\n",
            "[5, 0, 'MeanColumns', False]  0.010089999996125698 | 0.02574 0.04319 0.01949 -0.00416 -0.00129 0.00187 0.00149 -0.00559\n",
            "[5, 0, 'MaxColumns', False]  0.011110000312328339 | 0.03679 0.03546 0.00899 0.01047 0.00191 0.00076 -0.00863 0.00315\n",
            "[5, 1, 'From', False]  0.0032399999909102917 | -0.00432 0.03807 0.01895 0.00275 -0.01573 0.00256 -0.01006 -0.00635\n",
            "[5, 1, 'To', False]  -0.00107999995816499 | -0.01925 -0.00773 -0.03709 0.01384 -0.0344 -0.01273 0.04016 0.04858\n",
            "[5, 1, 'MeanColumns', False]  0.003289999905973673 | -0.00263 0.01282 -0.00633 0.00128 0.00938 0.00406 0.00464 0.00313\n",
            "[5, 1, 'MaxColumns', False]  0.008510000072419643 | 0.01703 0.0384 -0.00398 0.00477 -0.00218 0.00929 0.00124 0.00349\n",
            "[5, 2, 'From', False]  0.0015399999683722854 | -0.02046 -0.01445 -0.01066 0.00277 -0.01006 -0.02799 0.03069 0.0625\n",
            "[5, 2, 'To', False]  0.0036800000816583633 | -0.02696 -0.02457 -0.0014 0.02238 -0.06612 -0.02276 0.07918 0.06968\n",
            "[5, 2, 'MeanColumns', False]  0.007579999975860119 | 0.01119 0.02791 0.0067 -0.00692 0.00237 0.00349 0.00685 0.00902\n",
            "[5, 2, 'MaxColumns', False]  0.004170000087469816 | 0.0102 0.00485 0.00062 0.0008 0.00389 0.00137 0.00187 0.00978\n",
            "[5, 3, 'From', False]  0.008700000122189522 | 0.01604 0.01536 0.00767 0.00265 0.00874 0.00189 0.0182 -0.00097\n",
            "[5, 3, 'To', False]  0.004259999841451645 | -0.04157 -0.0262 -0.02959 0.04791 -0.0022 -0.00782 0.07609 0.01747\n",
            "[5, 3, 'MeanColumns', False]  0.006180000025779009 | 0.00183 0.02087 0.02004 0.00192 -0.00044 -0.00832 -0.00074 0.01431\n",
            "[5, 3, 'MaxColumns', False]  0.01013999991118908 | 0.04081 0.02166 0.00902 -0.00131 -0.00584 0.00447 0.00392 0.00843\n",
            "[5, 4, 'From', False]  0.0106800002977252 | 0.00575 0.05394 0.01741 0.00598 0.00646 0.00085 -0.00357 -0.0014\n",
            "[5, 4, 'To', False]  -0.00418000016361475 | -0.03264 -0.04669 -0.03258 0.00889 -0.00515 -0.03198 0.05368 0.05298\n",
            "[5, 4, 'MeanColumns', False]  0.004619999788701534 | -0.02142 0.01702 0.01006 0.00412 0.01224 -0.01204 0.00663 0.02034\n",
            "[5, 4, 'MaxColumns', False]  0.0037299999967217445 | -0.03353 -0.00592 0.00793 0.00728 0.0431 -0.0065 0.01262 0.00489\n",
            "[5, 5, 'From', False]  0.0002800000074785203 | -0.00187 -0.00384 0.01443 0.00364 -0.0253 0.0048 -0.00744 0.01782\n",
            "[5, 5, 'To', False]  0.005890000145882368 | 0.00873 0.01381 0.0003 0.02045 -0.01607 0.01968 -0.00704 0.00728\n",
            "[5, 5, 'MeanColumns', False]  0.0023900000378489494 | -0.00755 0.00344 -0.00184 0.00136 -0.00341 0.00095 0.01454 0.01162\n",
            "[5, 5, 'MaxColumns', False]  0.0011699999449774623 | -0.00359 -0.00793 0.00286 0.01124 -0.01474 0.00084 0.00455 0.0161\n",
            "[5, 6, 'From', False]  0.00015999999595806003 | -0.04268 -0.01012 0.00259 0.00594 0.02853 -0.02466 0.00594 0.03577\n",
            "[5, 6, 'To', False]  0.004840000066906214 | 0.00224 -0.00273 0.00778 0.00997 -0.02632 -0.01496 0.03135 0.03141\n",
            "[5, 6, 'MeanColumns', False]  0.0028800000436604023 | -0.00369 0.01564 0.00232 0.00363 0.01261 0.00333 -0.00448 -0.00635\n",
            "[5, 6, 'MaxColumns', False]  0.003659999929368496 | 0.01863 0.01061 -0.00076 -0.00494 -0.009 0.00191 0.00992 0.00291\n",
            "[5, 7, 'From', False]  0.006060000043362379 | -0.01522 0.02715 0.00424 0.00495 -0.00118 -0.01556 0.008 0.03608\n",
            "[5, 7, 'To', False]  0.0014799999771639705 | -0.00253 0.00392 -0.01286 0.01713 -0.02361 0.01502 0.00575 0.00899\n",
            "[5, 7, 'MeanColumns', False]  0.006630000192672014 | 0.00019 0.01108 0.01773 0.00595 0.00216 -0.00069 0.01187 0.00471\n",
            "[5, 7, 'MaxColumns', False]  0.008390000090003014 | 0.02161 0.00988 0.04908 0.00194 -0.00822 -0.00103 0.00015 -0.00633\n",
            "[5, 8, 'From', False]  0.009619999676942825 | 0.01279 0.0056 0.01788 0.01187 0.0146 -0.02075 -0.01173 0.0467\n",
            "[5, 8, 'To', False]  0.006440000142902136 | -0.02597 -0.00338 -0.01576 0.00128 0.00545 -0.00398 0.09051 0.00337\n",
            "[5, 8, 'MeanColumns', False]  0.010250000283122063 | 0.02752 0.00429 0.02484 0.01217 0.00844 -0.01038 -0.01021 0.02532\n",
            "[5, 8, 'MaxColumns', False]  0.009270000271499157 | 0.01523 0.00403 0.01655 0.01819 0.01146 0.00631 -0.0098 0.01217\n",
            "[5, 9, 'From', False]  -0.0008399999933317304 | -0.00864 0.01332 0.00271 0.00271 -0.01039 0.0015 0.00088 -0.00882\n",
            "[5, 9, 'To', False]  0.004980000201612711 | 0.00712 0.03086 -0.01274 0.00965 -0.01323 0.00228 0.01603 -0.00014\n",
            "[5, 9, 'MeanColumns', False]  0.005179999861866236 | 0.00064 0.02842 0.00247 0.00342 0.01119 0.00132 -0.00025 -0.00578\n",
            "[5, 9, 'MaxColumns', False]  0.003389999968931079 | 0.00473 0.01609 -0.00641 -0.00137 0.01147 0.00215 0.00874 -0.00831\n",
            "[5, 10, 'From', False]  0.009479999542236328 | 0.02118 0.03369 0.01105 1e-04 -0.00374 0.0009 -0.00142 0.01407\n",
            "[5, 10, 'To', False]  0.0010900000343099236 | -0.01024 -0.02452 -0.03917 0.00217 -0.00857 0.00875 0.07403 0.0063\n",
            "[5, 10, 'MeanColumns', False]  0.00863999966531992 | 0.02258 0.02984 0.0137 0.00274 -0.00588 0.0049 -0.00083 0.00204\n",
            "[5, 10, 'MaxColumns', False]  0.00798999983817339 | 0.02408 -0.00272 0.00558 0.00662 0.01393 0.00138 0.00135 0.01372\n",
            "[5, 11, 'From', False]  0.005570000037550926 | -0.01437 -0.0095 0.01715 -0.00448 0.00114 -0.01806 0.0359 0.03676\n",
            "[5, 11, 'To', False]  0.004769999999552965 | 0.0093 0.01543 -0.00197 0.02179 -0.00145 0.00062 -0.00657 0.00102\n",
            "[5, 11, 'MeanColumns', False]  0.0033599999733269215 | -0.01622 -0.00797 0.02187 -0.00764 -0.00531 -0.01516 0.03216 0.02517\n",
            "[5, 11, 'MaxColumns', False]  0.000750000006519258 | -0.04154 -0.02922 -0.00197 0.01576 -0.00226 -0.02432 0.03514 0.05442\n",
            "[6, 'Mean', 'From', False]  -0.002259999979287386 | -0.05893 -0.05209 -0.00956 0.00664 0.00924 -0.03479 0.06456 0.05685\n",
            "[6, 'Mean', 'To', False]  0.0011099999537691474 | -0.04887 -0.05396 -0.03041 0.02138 -0.00404 -0.00504 0.09584 0.03398\n",
            "[6, 'Mean', 'MeanColumns', False]  0.002630000002682209 | -0.02846 -0.04319 0.0019 0.01161 0.00856 -0.01434 0.03851 0.04647\n",
            "[6, 'Mean', 'MaxColumns', False]  0.002420000033453107 | -0.06291 -0.01717 -0.01012 0.02191 0.01986 -0.02887 0.04153 0.05511\n",
            "[6, 0, 'From', False]  -0.0011899999808520079 | -0.08898 -0.08793 0.01466 0.05898 0.00272 -0.01907 0.04994 0.06018\n",
            "[6, 0, 'To', False]  0.006610000040382147 | -0.0256 -0.03896 -0.03162 0.04073 -0.01193 -0.02116 0.08282 0.05857\n",
            "[6, 0, 'MeanColumns', False]  0.002730000065639615 | -0.05048 -0.08004 -0.02784 0.06149 0.01469 -0.01458 0.05559 0.06301\n",
            "[6, 0, 'MaxColumns', False]  0.0015899999998509884 | -0.04473 -0.07784 -0.04318 0.05783 0.00148 -0.02414 0.08102 0.06231\n",
            "[6, 1, 'From', False]  0.0009899999713525176 | -0.05994 -0.03368 -0.01983 0.00323 0.01949 -0.03329 0.07633 0.05561\n",
            "[6, 1, 'To', False]  0.00033000000985339284 | -0.01748 -0.03917 -0.00693 0.00888 -0.00673 -0.02736 0.05485 0.03656\n",
            "[6, 1, 'MeanColumns', False]  0.003120000008493662 | -0.06543 -0.04639 -0.02579 0.06519 -0.01917 -0.02016 0.07552 0.06116\n",
            "[6, 1, 'MaxColumns', False]  0.0040699997916817665 | -0.05876 -0.05631 -0.0346 0.0521 -0.00499 -0.00277 0.08471 0.05322\n",
            "[6, 2, 'From', False]  -0.0018599999602884054 | -0.05447 -0.06611 -0.0129 0.01397 -0.00909 -0.02477 0.07136 0.06715\n",
            "[6, 2, 'To', False]  0.005239999853074551 | 0.02367 0.00444 -0.02036 0.00073 -0.01876 -0.00332 0.04069 0.01485\n",
            "[6, 2, 'MeanColumns', False]  0.0020000000949949026 | -0.02315 -0.00231 0.01185 0.00248 -0.00376 2e-05 0.04191 -0.01106\n",
            "[6, 2, 'MaxColumns', False]  0.001449999981559813 | -0.00554 -0.00441 -0.00122 0.01276 -0.01095 0.00129 0.0368 -0.01713\n",
            "[6, 3, 'From', False]  -0.0008500000112690032 | -0.0122 0.02618 0.00136 0.00242 -0.01227 0.00344 -0.00717 -0.00852\n",
            "[6, 3, 'To', False]  0.010619999840855598 | 0.03868 0.02466 0.0042 0.00262 0.00695 0.00124 0.00451 0.00209\n",
            "[6, 3, 'MeanColumns', False]  0.0026400000788271427 | 0.01889 -0.00171 0.00297 -0.00472 -0.0059 0.00097 0.00774 0.00291\n",
            "[6, 3, 'MaxColumns', False]  0.0069599999114871025 | 0.02987 0.01763 0.00326 -0.00302 -0.01317 0.00289 0.01146 0.00678\n",
            "[6, 4, 'From', False]  0.003659999929368496 | -0.01294 -0.01055 0.01423 0.00555 0.01505 -0.03184 -0.00063 0.05041\n",
            "[6, 4, 'To', False]  -0.0028099999763071537 | -0.07592 -0.07484 -0.00414 0.03914 0.01916 -0.01276 0.0544 0.03245\n",
            "[6, 4, 'MeanColumns', False]  0.0044999998062849045 | -0.00109 -0.0154 0.01524 0.00338 0.02388 -0.01296 -0.01119 0.03413\n",
            "[6, 4, 'MaxColumns', False]  0.007619999814778566 | -0.00606 0.02614 0.00526 0.00605 0.01091 -0.00105 0.00813 0.01161\n",
            "[6, 5, 'From', False]  -0.0018400000408291817 | -0.01764 0.00968 0.00375 0.00846 -0.00122 0.00204 -0.00947 -0.01031\n",
            "[6, 5, 'To', False]  0.006969999987632036 | -0.00398 0.0144 -0.01879 0.00221 -0.00541 0.01643 0.04738 0.00353\n",
            "[6, 5, 'MeanColumns', False]  0.005429999902844429 | 0.02165 0.01234 -0.00228 0.00096 0.00201 0.00353 0.00115 0.00405\n",
            "[6, 5, 'MaxColumns', False]  0.006560000125318766 | 0.02861 0.02128 0.00216 -0.00163 -0.01244 0.00204 0.00208 0.01041\n",
            "[6, 6, 'From', False]  0.006800000090152025 | -0.00344 0.04048 0.00782 0.00691 0.00928 -0.01313 0.00342 0.00306\n",
            "[6, 6, 'To', False]  -4.999999873689376e-05 | -0.05722 -0.06724 0.02454 0.03906 -0.00383 -0.01179 0.04043 0.03564\n",
            "[6, 6, 'MeanColumns', False]  0.011420000344514847 | 0.0297 0.04434 0.01677 0.00233 0.00949 -0.00018 -0.00511 -0.00598\n",
            "[6, 6, 'MaxColumns', False]  0.006940000224858522 | 0.00512 0.03379 0.01241 0.00307 0.01014 -0.00443 -0.01054 0.00596\n",
            "[6, 7, 'From', False]  0.002899999963119626 | -0.00112 0.02727 0.00357 0.00443 -0.00476 0.00255 -0.00072 -0.00801\n",
            "[6, 7, 'To', False]  0.0031300000846385956 | 0.00034 0.00527 -0.00708 0.01064 0.02397 -0.00143 -0.00493 -0.00175\n",
            "[6, 7, 'MeanColumns', False]  0.004170000087469816 | 0.00081 0.01822 0.00727 0.00396 -0.00243 0.00434 -0.00225 0.00341\n",
            "[6, 7, 'MaxColumns', False]  0.002090000081807375 | -0.02274 0.02762 -0.0103 0.00254 0.01159 0.0034 0.00966 -0.00508\n",
            "[6, 8, 'From', False]  0.005210000090301037 | -0.01029 -0.0103 0.00392 0.01241 -0.00599 -0.01199 0.01144 0.05246\n",
            "[6, 8, 'To', False]  0.00675999978557229 | 0.02105 0.01488 -0.01631 0.00503 0.00181 0.00679 0.01168 0.00911\n",
            "[6, 8, 'MeanColumns', False]  0.005969999823719263 | 0.01147 0.01502 -0.01868 0.02428 -0.02008 0.01049 0.00917 0.01606\n",
            "[6, 8, 'MaxColumns', False]  0.010230000130832195 | -0.00591 0.01125 0.02716 0.01485 -0.03884 0.01349 0.032 0.02785\n",
            "[6, 9, 'From', False]  0.0005499999970197678 | -0.08431 -0.07502 -0.00137 0.06784 -0.00171 -0.02601 0.06588 0.05907\n",
            "[6, 9, 'To', False]  0.0032099999953061342 | -0.04711 -0.01949 0.02044 0.01529 -0.00469 -0.00366 0.04814 0.01673\n",
            "[6, 9, 'MeanColumns', False]  9.999999747378752e-06 | -0.0976 -0.07138 0.00729 0.05948 -0.00043 -0.02265 0.06697 0.05842\n",
            "[6, 9, 'MaxColumns', False]  0.008220000192523003 | -0.07423 -0.03055 0.01366 0.03467 0.01231 -0.01718 0.05302 0.07411\n",
            "[6, 10, 'From', False]  -0.00203999993391335 | -0.02191 -0.02257 -0.01455 -0.00258 0.01119 0.00204 -0.00011 0.03219\n",
            "[6, 10, 'To', False]  0.005859999917447567 | -0.04405 0.01646 0.01674 0.01613 0.01105 -0.01439 0.03018 0.01475\n",
            "[6, 10, 'MeanColumns', False]  0.001230000052601099 | -0.03451 -0.00805 0.00664 0.01218 0.02647 -0.02041 -0.00349 0.03098\n",
            "[6, 10, 'MaxColumns', False]  0.002099999925121665 | -0.04043 -0.00992 0.03657 -0.00213 0.00545 -0.00628 0.00408 0.02943\n",
            "[6, 11, 'From', False]  -0.0008500000112690032 | -0.04789 -0.04083 -0.02097 0.0071 0.00979 -0.02545 0.065 0.04643\n",
            "[6, 11, 'To', False]  0.005030000116676092 | -0.03083 0.0156 -0.01837 0.00799 -0.00503 2e-05 0.06341 0.00749\n",
            "[6, 11, 'MeanColumns', False]  0.0019099999917671084 | -0.05112 -0.02852 0.02024 0.04847 0.00067 -0.01481 0.01678 0.02355\n",
            "[6, 11, 'MaxColumns', False]  0.0021699999924749136 | -0.05578 -0.02523 -0.00604 0.04649 -0.01708 -0.02171 0.03428 0.06242\n",
            "[7, 'Mean', 'From', False]  0.0033199999015778303 | -0.00581 -0.00556 0.001 -0.00098 0.02694 -0.02251 -0.00104 0.03451\n",
            "[7, 'Mean', 'To', False]  0.004840000066906214 | -0.05459 -0.0382 -0.02684 0.04937 -0.03225 -0.01067 0.10637 0.04554\n",
            "[7, 'Mean', 'MeanColumns', False]  0.009259999729692936 | 0.03586 0.0188 0.00228 0.00418 0.00285 0.00963 -0.00301 0.00346\n",
            "[7, 'Mean', 'MaxColumns', False]  0.008559999987483025 | 0.00959 0.03984 0.00164 0.01265 0.00077 0.007 -0.00271 -0.0003\n",
            "[7, 0, 'From', False]  -0.0034600000362843275 | -0.01122 -0.02406 -0.00215 -0.00481 -0.00836 0.00284 0.00872 0.01138\n",
            "[7, 0, 'To', False]  0.0005799999926239252 | -0.00948 -0.00199 -0.00452 0.00017 -0.00707 -0.0071 0.0161 0.01851\n",
            "[7, 0, 'MeanColumns', False]  0.00853000022470951 | 0.03055 0.02341 0.00032 0.00035 -0.001 0.0008 -0.0065 0.02028\n",
            "[7, 0, 'MaxColumns', False]  0.003100000089034438 | 0.00155 0.01407 -0.00862 -0.00329 0.00488 0.00146 0.00173 0.01305\n",
            "[7, 1, 'From', False]  0.0037799999117851257 | -0.0326 -0.00059 -0.00668 0.00511 0.02572 -0.02048 0.02081 0.03897\n",
            "[7, 1, 'To', False]  0.002420000033453107 | -0.03849 -0.04037 -0.02359 0.02732 -0.05923 -0.02231 0.09981 0.0762\n",
            "[7, 1, 'MeanColumns', False]  0.003980000037699938 | 0.01541 0.01406 0.00524 -0.00236 -0.00806 0.00149 0.00128 0.00482\n",
            "[7, 1, 'MaxColumns', False]  0.003759999992325902 | 0.00598 0.01121 0.00288 0.00496 -0.00788 0.00246 -0.0 0.0105\n",
            "[7, 2, 'From', False]  0.012280000373721123 | 0.04554 0.01096 0.02173 0.00477 0.00396 0.01221 -0.00144 0.00051\n",
            "[7, 2, 'To', False]  0.0020800000056624413 | -0.07526 -0.04751 -0.04895 0.07722 -0.03024 -0.01371 0.09014 0.06497\n",
            "[7, 2, 'MeanColumns', False]  0.006949999835342169 | 0.01495 0.00786 0.0138 0.00873 0.00816 0.00774 -0.01833 0.01274\n",
            "[7, 2, 'MaxColumns', False]  0.0073899999260902405 | -0.0146 0.03395 0.02616 0.00245 0.00994 -0.00562 -0.00997 0.01681\n",
            "[7, 3, 'From', False]  -0.0014900000533089042 | -0.01144 0.00265 0.00241 0.001 0.00384 0.00164 -0.00237 -0.00969\n",
            "[7, 3, 'To', False]  0.0057299998588860035 | 0.00425 0.02119 -0.00941 -0.00614 -0.00294 0.00191 0.03476 0.00217\n",
            "[7, 3, 'MeanColumns', False]  0.0007200000109151006 | -0.02419 0.0252 0.00255 0.00496 0.00249 0.01015 -0.00779 -0.00762\n",
            "[7, 3, 'MaxColumns', False]  0.00494999997317791 | 0.00688 0.01554 0.00446 0.00851 0.01289 1e-04 -0.00048 -0.00834\n",
            "[7, 4, 'From', False]  0.0066999997943639755 | -0.0183 -0.00152 -0.00456 0.00248 0.02269 -0.02926 0.03423 0.04784\n",
            "[7, 4, 'To', False]  0.005489999894052744 | -0.03731 -0.04808 0.0168 0.02999 -0.018 -0.00476 0.0837 0.02162\n",
            "[7, 4, 'MeanColumns', False]  0.010499999858438969 | 0.05908 0.01988 -0.00151 0.00303 -0.00018 0.00242 -0.00495 0.00626\n",
            "[7, 4, 'MaxColumns', False]  0.014600000344216824 | 0.0634 0.03796 0.00443 0.00517 0.00331 0.00576 -0.0063 0.00304\n",
            "[7, 5, 'From', False]  0.0013099999632686377 | -0.01456 0.03454 0.00361 0.0018 -0.01252 0.00171 0.00262 -0.00674\n",
            "[7, 5, 'To', False]  0.006610000040382147 | 0.00431 0.04107 0.00799 0.00399 -0.01416 0.00372 -0.003 0.009\n",
            "[7, 5, 'MeanColumns', False]  0.005880000069737434 | 0.0163 0.02728 0.00413 -0.00501 -0.00404 0.00356 0.00051 0.00427\n",
            "[7, 5, 'MaxColumns', False]  0.005309999920427799 | 0.00739 0.03385 -0.00125 -0.00512 0.00197 0.00089 0.00239 0.00239\n",
            "[7, 6, 'From', False]  0.0061900001019239426 | -0.01097 -0.00926 -0.01913 0.02247 0.00664 -0.03047 0.03087 0.05937\n",
            "[7, 6, 'To', False]  0.0029800001066178083 | -0.00431 0.02031 -0.00093 0.00472 0.01191 0.00244 -0.00591 -0.00439\n",
            "[7, 6, 'MeanColumns', False]  0.007139999885112047 | 0.0378 0.00928 0.00121 0.00342 0.006 8e-05 -0.00719 0.00653\n",
            "[7, 6, 'MaxColumns', False]  0.006500000134110451 | 0.00711 0.01276 0.01397 0.00215 0.00706 -0.00313 0.00625 0.00581\n",
            "[7, 7, 'From', False]  -0.0032099999953061342 | -0.01622 -0.01171 -0.01694 0.00125 -0.01186 -0.02009 0.00073 0.04913\n",
            "[7, 7, 'To', False]  0.0025100000202655792 | -0.00283 0.00899 -0.00814 0.01292 -0.00815 -0.00581 0.02554 -0.00244\n",
            "[7, 7, 'MeanColumns', False]  0.004149999935179949 | 0.00944 0.00926 0.00306 0.00181 -0.00371 -0.00952 0.00221 0.0206\n",
            "[7, 7, 'MaxColumns', False]  0.0031300000846385956 | -0.00273 0.008 -0.00193 0.00377 0.00974 0.00291 -0.00316 0.00846\n",
            "[7, 8, 'From', False]  0.0028899998869746923 | -0.02065 -0.01876 -0.01573 0.02268 -0.00462 0.02403 0.04111 -0.00491\n",
            "[7, 8, 'To', False]  0.008430000394582748 | 0.02535 0.01278 -0.00418 0.01915 0.00395 0.0038 0.00255 0.00402\n",
            "[7, 8, 'MeanColumns', False]  0.0025100000202655792 | -0.00757 0.00043 0.00495 -0.00174 -0.00167 0.0076 0.01591 0.0022\n",
            "[7, 8, 'MaxColumns', False]  0.0014900000533089042 | -0.00494 -0.00972 -0.00874 0.00018 0.01814 0.00915 0.00982 -0.00196\n",
            "[7, 9, 'From', False]  0.0007399999885819852 | -0.04881 -0.0161 0.00153 -0.00761 0.03248 -0.02322 0.02587 0.04181\n",
            "[7, 9, 'To', False]  0.005530000198632479 | -0.06477 -0.05164 0.02048 0.03412 -0.00901 -0.01471 0.08326 0.04653\n",
            "[7, 9, 'MeanColumns', False]  0.005260000005364418 | -0.02238 0.02541 0.01851 0.00526 0.02714 -0.00044 -0.00376 -0.00766\n",
            "[7, 9, 'MaxColumns', False]  0.0027799999807029963 | -0.03555 0.02436 0.00965 -0.00561 0.02206 -0.00252 0.00599 0.0039\n",
            "[7, 10, 'From', False]  0.005160000175237656 | -0.00966 0.01836 -0.01033 0.00988 -0.01416 -0.018 -0.00542 0.07059\n",
            "[7, 10, 'To', False]  0.000910000002477318 | -0.05913 -0.06353 -0.00697 0.05203 -0.03699 -0.02137 0.09601 0.04723\n",
            "[7, 10, 'MeanColumns', False]  0.003930000122636557 | -0.00438 -0.00136 0.01387 0.01346 0.0099 0.00496 -0.00863 0.00361\n",
            "[7, 10, 'MaxColumns', False]  0.007019999902695417 | -0.00948 0.03541 0.01182 0.00512 0.00266 -0.00289 0.00429 0.00927\n",
            "[7, 11, 'From', False]  -0.0051299999468028545 | -0.02759 -0.05113 -0.00818 0.01108 9e-05 -0.02126 -0.00044 0.05637\n",
            "[7, 11, 'To', False]  0.006730000022798777 | -0.03731 -0.02599 -0.00067 0.0216 -0.04466 -0.00212 0.10229 0.04067\n",
            "[7, 11, 'MeanColumns', False]  0.012090000323951244 | 0.02217 0.03015 -0.00245 -0.00353 0.01155 -0.02063 0.01489 0.04458\n",
            "[7, 11, 'MaxColumns', False]  0.007980000227689743 | 0.01385 -0.01805 0.00332 -0.00179 0.03957 -0.02322 0.01489 0.03528\n",
            "[8, 'Mean', 'From', False]  0.005470000207424164 | -0.02081 -0.01913 0.00835 0.00267 -0.00122 -0.01492 0.03992 0.04888\n",
            "[8, 'Mean', 'To', False]  -0.002460000105202198 | -0.03286 -0.02936 -0.01733 0.01055 -0.00564 -0.01493 0.03094 0.03892\n",
            "[8, 'Mean', 'MeanColumns', False]  0.0014700000174343586 | -0.04249 -0.02369 0.01827 0.00885 -0.01062 -0.0048 0.0398 0.02641\n",
            "[8, 'Mean', 'MaxColumns', False]  0.00686000008136034 | -0.01587 0.02495 0.02916 0.0004 -0.02571 0.00686 0.02977 0.00531\n",
            "[8, 0, 'From', False]  0.009750000201165676 | 0.05258 -0.0105 0.00716 0.0045 -0.00295 -0.00124 0.00283 0.02559\n",
            "[8, 0, 'To', False]  0.0027199999894946814 | -0.01033 0.01264 -0.00586 0.01687 -0.00809 0.006 0.00468 0.0058\n",
            "[8, 0, 'MeanColumns', False]  0.008070000447332859 | 0.01456 0.02173 0.00295 0.01058 0.0071 0.00279 -0.00657 0.0114\n",
            "[8, 0, 'MaxColumns', False]  0.006039999891072512 | -0.01198 0.02486 -0.01336 0.00552 0.0145 0.00249 0.00865 0.01762\n",
            "[8, 1, 'From', False]  0.004699999932199717 | -0.04651 -0.02486 -0.00507 0.00774 0.02331 -0.01623 0.0497 0.04955\n",
            "[8, 1, 'To', False]  -0.0012100000167265534 | -0.01701 -0.04937 -0.00093 0.02036 -0.00733 -0.01438 0.04175 0.01725\n",
            "[8, 1, 'MeanColumns', False]  0.0027600000612437725 | -0.02147 -0.02991 0.02121 0.00047 -0.00299 -0.00429 0.04727 0.0118\n",
            "[8, 1, 'MaxColumns', False]  0.005789999850094318 | -0.02435 0.00543 0.03599 0.00743 -0.01626 -0.00103 0.04442 -0.00527\n",
            "[8, 2, 'From', False]  0.007679999805986881 | -0.02539 0.01467 -0.01529 -0.00585 0.00764 -0.00338 0.05135 0.03773\n",
            "[8, 2, 'To', False]  -0.0008800000068731606 | -0.00439 -0.00013 -0.02031 0.00524 -0.00606 0.00372 0.00584 0.00902\n",
            "[8, 2, 'MeanColumns', False]  0.005849999841302633 | -0.0158 0.03043 0.00981 -0.00187 0.01651 0.00223 0.00558 -8e-05\n",
            "[8, 2, 'MaxColumns', False]  0.010370000265538692 | -0.00875 0.04279 0.01714 -0.00574 0.01976 0.00636 0.00012 0.01131\n",
            "[8, 3, 'From', False]  0.004619999788701534 | 0.02044 0.00225 -0.00621 -0.00518 -0.00938 1e-04 0.0149 0.02005\n",
            "[8, 3, 'To', False]  -0.0007099999929778278 | -0.02779 -0.00405 0.00702 0.00876 -0.01333 0.00685 0.00329 0.01358\n",
            "[8, 3, 'MeanColumns', False]  0.013509999960660934 | 0.0268 0.03976 0.02669 -0.00584 -0.01505 0.001 0.02627 0.00842\n",
            "[8, 3, 'MaxColumns', False]  0.010049999691545963 | -0.01418 0.0627 0.01754 0.0023 -0.00727 -0.00074 0.02179 -0.00172\n",
            "[8, 4, 'From', False]  0.005450000055134296 | -0.07522 -0.02002 0.01277 0.02303 -0.01899 -0.02883 0.08076 0.07011\n",
            "[8, 4, 'To', False]  0.006310000084340572 | 0.00774 -0.00044 -0.01965 0.0165 -0.00271 -0.00927 0.03416 0.02416\n",
            "[8, 4, 'MeanColumns', False]  0.0018700000364333391 | -0.07482 -0.04736 0.0677 0.02174 -0.0363 -0.02976 0.06728 0.04648\n",
            "[8, 4, 'MaxColumns', False]  0.005319999996572733 | -0.05363 -0.0225 0.07592 0.01187 -0.03361 -0.03371 0.05525 0.04298\n",
            "[8, 5, 'From', False]  0.006120000034570694 | -0.04577 -0.01568 0.01469 0.01826 -0.04826 -0.0084 0.05983 0.07427\n",
            "[8, 5, 'To', False]  0.007329999934881926 | -0.0344 -0.02201 -0.03026 0.03891 -0.0063 -0.00257 0.05431 0.06094\n",
            "[8, 5, 'MeanColumns', False]  -0.0007099999929778278 | -0.05444 -0.06176 -0.00048 0.03499 -0.0445 -0.02675 0.06073 0.08653\n",
            "[8, 5, 'MaxColumns', False]  -0.0007399999885819852 | -0.04908 -0.04499 0.00176 0.01672 -0.00482 -0.02637 0.03684 0.06404\n",
            "[8, 6, 'From', False]  0.005249999929219484 | -0.04054 -0.0141 0.02259 0.01353 0.02525 -0.0065 0.01604 0.02574\n",
            "[8, 6, 'To', False]  -0.002420000033453107 | -0.02465 -0.01163 -0.01512 0.01348 -0.01302 -0.00126 0.01561 0.01721\n",
            "[8, 6, 'MeanColumns', False]  0.008899999782443047 | -0.04987 0.01551 0.02843 0.01709 0.01216 0.01242 0.02376 0.01172\n",
            "[8, 6, 'MaxColumns', False]  0.007550000213086605 | -0.02722 0.02037 0.03085 0.0193 -0.00876 0.00108 0.01025 0.01454\n",
            "[8, 7, 'From', False]  0.008829999715089798 | 0.0311 0.03399 0.00168 0.0009 -0.0027 0.00202 -0.00046 0.00409\n",
            "[8, 7, 'To', False]  -0.0033499998971819878 | -0.00327 -0.04171 -0.0095 0.00318 -0.00629 -0.01085 0.01219 0.02944\n",
            "[8, 7, 'MeanColumns', False]  0.011540000326931477 | 0.02988 0.05316 0.01418 -0.00528 -0.00753 0.00066 0.00461 0.00264\n",
            "[8, 7, 'MaxColumns', False]  0.012659999541938305 | 0.01525 0.05683 0.01311 0.00278 -0.00551 0.00942 0.00571 0.00368\n",
            "[8, 8, 'From', False]  0.005090000107884407 | -0.04074 -0.00615 0.00201 0.00827 0.01273 -0.02137 0.04599 0.03997\n",
            "[8, 8, 'To', False]  0.0007200000109151006 | -0.01193 0.01687 -0.00279 0.00345 -0.02144 0.00184 0.01326 0.00651\n",
            "[8, 8, 'MeanColumns', False]  0.007060000207275152 | -0.01424 0.02005 -0.00017 -0.00508 -0.00589 0.00222 0.03601 0.02359\n",
            "[8, 8, 'MaxColumns', False]  0.005570000037550926 | 0.00404 0.01138 0.00056 0.00742 -0.00617 0.0013 0.02307 0.00299\n",
            "[8, 9, 'From', False]  0.001610000035725534 | -0.01569 -0.02799 -0.02315 0.00356 -0.00894 -0.01032 0.05561 0.03977\n",
            "[8, 9, 'To', False]  0.0039900001138448715 | 0.00111 -0.00652 -0.00019 0.0187 -0.00969 -0.01246 0.01032 0.03064\n",
            "[8, 9, 'MeanColumns', False]  0.005280000157654285 | 0.00581 0.00353 -0.00551 0.00179 -0.00549 -0.00027 0.03038 0.01202\n",
            "[8, 9, 'MaxColumns', False]  0.007930000312626362 | -0.00152 0.03248 0.02075 0.01696 -0.02899 -0.00821 0.02236 0.00964\n",
            "[8, 10, 'From', False]  0.006639999803155661 | 0.01773 0.00837 -0.0046 -0.00576 -0.00513 0.01068 0.01084 0.02099\n",
            "[8, 10, 'To', False]  0.0013500000350177288 | 0.00499 -0.02196 0.00249 -0.00454 -0.00586 0.00155 0.0123 0.02184\n",
            "[8, 10, 'MeanColumns', False]  0.009750000201165676 | 0.04871 0.00629 0.00821 -0.00528 -0.00164 0.00206 0.0119 0.00776\n",
            "[8, 10, 'MaxColumns', False]  0.012980000115931034 | 0.06893 0.01732 0.0197 -0.00519 -0.02815 -0.00078 0.01649 0.01553\n",
            "[8, 11, 'From', False]  0.0037799999117851257 | 0.01618 0.00182 -0.00074 -0.00163 -0.00098 0.00069 -0.00024 0.01516\n",
            "[8, 11, 'To', False]  0.0012600000482052565 | -0.00565 -0.0192 0.00087 0.00478 0.00146 0.00943 -0.01056 0.02894\n",
            "[8, 11, 'MeanColumns', False]  0.0031500000040978193 | 0.01153 -0.00727 0.00728 -0.00769 0.00448 -0.0 0.00335 0.01355\n",
            "[8, 11, 'MaxColumns', False]  0.006730000022798777 | 0.0264 0.01956 0.01074 -0.0051 -0.00405 -0.00169 0.00455 0.00344\n",
            "[9, 'Mean', 'From', False]  0.004650000017136335 | -0.02474 -0.0215 -0.00202 0.00784 -0.01697 -0.01319 0.04854 0.0592\n",
            "[9, 'Mean', 'To', False]  0.010660000145435333 | 0.04619 -0.0095 0.03621 0.00242 -0.04153 -0.005 0.01348 0.043\n",
            "[9, 'Mean', 'MeanColumns', False]  0.00279000005684793 | -0.02497 -0.02883 -0.00532 0.00827 -0.01646 -0.02107 0.03974 0.07092\n",
            "[9, 'Mean', 'MaxColumns', False]  0.0067900000140070915 | 0.00446 -0.00935 -0.0141 0.00977 -0.02646 -0.00739 0.03638 0.06097\n",
            "[9, 0, 'From', False]  0.005549999885261059 | 0.02321 -0.01676 -0.0415 0.02102 -0.00257 -0.02028 0.02866 0.05262\n",
            "[9, 0, 'To', False]  0.0031399999279528856 | -0.00428 -0.00576 0.01684 -0.00321 -0.05392 -0.0056 0.04338 0.0377\n",
            "[9, 0, 'MeanColumns', False]  0.01039000041782856 | 0.04602 -0.00976 -0.00581 0.00961 -0.01981 -0.01337 0.01308 0.06316\n",
            "[9, 0, 'MaxColumns', False]  0.006829999852925539 | 0.0447 -0.00135 -0.00512 -0.00154 -0.02295 -0.01977 0.00658 0.05409\n",
            "[9, 1, 'From', False]  0.007240000180900097 | -0.02284 0.00142 -0.0012 0.02034 -0.03039 0.00134 0.04142 0.04781\n",
            "[9, 1, 'To', False]  0.005429999902844429 | 0.01857 0.01319 0.0033 0.01889 -0.01181 -0.00443 -0.00399 0.00975\n",
            "[9, 1, 'MeanColumns', False]  0.003269999986514449 | -0.0311 -0.02887 -0.02 0.01992 -0.01943 0.01334 0.06295 0.02936\n",
            "[9, 1, 'MaxColumns', False]  0.004279999993741512 | -0.01217 -0.01029 -0.01009 0.01132 -0.02743 0.01277 0.05388 0.01623\n",
            "[9, 2, 'From', False]  0.019109999760985374 | 0.07477 0.04439 0.00094 0.00266 0.00499 0.00976 0.00399 0.01135\n",
            "[9, 2, 'To', False]  0.0038300000596791506 | -0.00945 -0.00639 0.00462 0.00033 -0.04164 -0.0029 0.05747 0.02857\n",
            "[9, 2, 'MeanColumns', False]  0.02020999975502491 | 0.09627 0.03846 -0.02563 0.00317 -0.00628 0.00955 0.00681 0.03936\n",
            "[9, 2, 'MaxColumns', False]  0.015569999814033508 | 0.06263 0.04252 -0.0047 0.00369 -0.00492 -0.00486 0.00116 0.02905\n",
            "[9, 3, 'From', False]  0.00761000020429492 | 0.0049 -0.01085 -0.02161 0.00823 -0.04232 -0.01294 0.07455 0.06095\n",
            "[9, 3, 'To', False]  0.0057299998588860035 | 0.00531 0.02196 0.00873 -0.00153 0.00175 0.00071 -0.00646 0.01535\n",
            "[9, 3, 'MeanColumns', False]  0.0064500002190470695 | 0.00158 -0.00033 -0.01341 0.00015 -0.00986 -0.00949 0.01988 0.06307\n",
            "[9, 3, 'MaxColumns', False]  0.003650000086054206 | -0.01176 -0.01079 -0.00366 -0.00562 -0.00515 -0.0236 0.03033 0.05945\n",
            "[9, 4, 'From', False]  -0.0009500000160187483 | -0.06187 -0.06475 -0.01461 0.01252 0.00535 -0.00057 0.06874 0.04763\n",
            "[9, 4, 'To', False]  0.006539999973028898 | -0.01592 -0.05955 0.04726 0.00964 -0.01369 -0.0256 0.05361 0.05654\n",
            "[9, 4, 'MeanColumns', False]  -0.00046999999904073775 | -0.03658 -0.01836 -0.00382 -0.00856 -0.00107 -0.00941 0.0524 0.02162\n",
            "[9, 4, 'MaxColumns', False]  -0.0011599999852478504 | -0.02871 -0.06688 0.00228 -0.00144 0.02407 -0.01485 0.04763 0.02865\n",
            "[9, 5, 'From', False]  0.006649999879300594 | 0.00113 0.00717 -0.00838 -0.00714 -0.02251 -0.01007 0.03151 0.06145\n",
            "[9, 5, 'To', False]  0.007379999849945307 | 0.04748 0.00332 0.00309 0.00166 -0.00864 -0.00232 0.00329 0.01113\n",
            "[9, 5, 'MeanColumns', False]  0.0010300000431016088 | -0.01261 -0.00557 -0.01056 -0.00416 -0.01102 -1e-04 0.01975 0.03251\n",
            "[9, 5, 'MaxColumns', False]  0.006390000227838755 | -0.00251 0.02945 -0.00593 0.00349 -0.01965 -0.00192 0.01822 0.02996\n",
            "[9, 6, 'From', False]  0.006500000134110451 | 0.01199 -0.04023 -0.01935 0.00481 -0.01154 -0.00913 0.062 0.05347\n",
            "[9, 6, 'To', False]  0.008009999990463257 | 0.03544 0.01985 0.00369 0.00395 -0.00966 -0.00113 0.01083 0.00109\n",
            "[9, 6, 'MeanColumns', False]  0.003640000009909272 | -0.0201 -0.0544 -0.0365 0.01751 -0.01271 -0.01304 0.05962 0.08873\n",
            "[9, 6, 'MaxColumns', False]  0.009720000438392162 | 0.01613 -0.04469 -0.02079 0.01462 -0.01264 0.00475 0.05338 0.06704\n",
            "[9, 7, 'From', False]  0.005869999993592501 | -0.04328 -0.016 0.00862 0.02611 -0.04362 -0.02239 0.05001 0.08753\n",
            "[9, 7, 'To', False]  0.009669999592006207 | 0.0722 -0.01045 -0.00782 0.02698 0.00332 -0.00218 -0.00276 -0.00191\n",
            "[9, 7, 'MeanColumns', False]  0.002420000033453107 | -0.04581 -0.03823 -0.00889 0.02668 -0.00704 -0.02417 0.03341 0.08339\n",
            "[9, 7, 'MaxColumns', False]  0.005179999861866236 | -0.02022 -0.0356 -0.01264 0.01547 -0.00967 -0.03569 0.04701 0.09275\n",
            "[9, 8, 'From', False]  0.0017600000137463212 | -0.02345 -0.01007 -0.01147 0.01841 -0.00505 -0.02027 0.02571 0.04027\n",
            "[9, 8, 'To', False]  0.0016899999463930726 | 0.01307 -0.02961 -0.00088 0.01774 -0.01014 -0.00532 0.00218 0.02648\n",
            "[9, 8, 'MeanColumns', False]  0.003000000026077032 | -0.01715 -0.00867 -0.00206 0.02897 -0.0162 -0.01057 0.01515 0.03453\n",
            "[9, 8, 'MaxColumns', False]  0.005849999841302633 | -0.01484 0.02811 0.00307 0.01357 -0.02537 -0.00117 0.02995 0.0135\n",
            "[9, 9, 'From', False]  0.006339999847114086 | 0.00663 0.00638 0.0078 -0.00031 -0.02104 -0.0088 0.02689 0.0332\n",
            "[9, 9, 'To', False]  -0.003389999968931079 | 0.00014 -0.04342 -0.02983 -0.00355 0.00929 -0.0099 0.01917 0.031\n",
            "[9, 9, 'MeanColumns', False]  0.0020099999383091927 | 0.0031 -0.00878 -0.00302 -0.00611 0.00208 -0.00738 0.00229 0.03391\n",
            "[9, 9, 'MaxColumns', False]  0.0039900001138448715 | 0.01441 -0.00059 -0.01117 -0.00504 -0.01173 -0.00179 0.01107 0.03675\n",
            "[9, 10, 'From', False]  0.0015699999639764428 | -0.02686 -0.0278 0.0081 -0.00431 0.01989 -0.01268 0.0302 0.02602\n",
            "[9, 10, 'To', False]  0.0021899999119341373 | -0.02857 -0.01856 0.0013 0.02591 -0.04214 -0.0111 0.04274 0.04796\n",
            "[9, 10, 'MeanColumns', False]  0.0017399999778717756 | -0.02957 -0.00648 -0.00116 -0.00399 0.0068 -0.00958 0.02498 0.03293\n",
            "[9, 10, 'MaxColumns', False]  -0.0016899999463930726 | -0.04073 0.00194 -0.00087 0.00927 -0.01626 -0.00796 0.00958 0.03154\n",
            "[9, 11, 'From', False]  0.006539999973028898 | 0.01731 0.01334 0.003 -0.00375 -0.00113 -0.00893 0.00644 0.026\n",
            "[9, 11, 'To', False]  0.007540000136941671 | 0.01618 0.00895 0.00979 0.00749 -0.00444 -0.00044 0.01266 0.01013\n",
            "[9, 11, 'MeanColumns', False]  0.007600000128149986 | 0.03617 -0.0028 -0.01965 0.0117 0.0097 -0.01003 -0.00835 0.04407\n",
            "[9, 11, 'MaxColumns', False]  0.00798999983817339 | 0.01335 0.0133 0.01534 0.00337 0.02328 -0.02088 -0.01452 0.0307\n",
            "[10, 'Mean', 'From', False]  0.018279999494552612 | 0.03361 0.00195 0.03883 0.02434 -0.04434 -0.01099 0.04846 0.05437\n",
            "[10, 'Mean', 'To', False]  0.0013099999632686377 | -0.00291 0.01257 -0.00738 0.00494 5e-05 -0.00088 0.00026 0.00385\n",
            "[10, 'Mean', 'MeanColumns', False]  0.012849999591708183 | 0.00587 -0.0115 0.02407 0.03331 -0.02658 -0.01289 0.0327 0.05778\n",
            "[10, 'Mean', 'MaxColumns', False]  0.015159999951720238 | 0.00391 0.00032 0.04213 0.0031 -0.01364 -0.01376 0.03881 0.06044\n",
            "[10, 0, 'From', False]  0.011649999767541885 | 0.02693 0.05563 0.01649 -0.00058 -0.01428 -0.00054 0.00451 0.00506\n",
            "[10, 0, 'To', False]  0.0029800001066178083 | 9e-05 -0.00748 -0.01417 0.01562 0.00109 -0.00255 0.01641 0.0148\n",
            "[10, 0, 'MeanColumns', False]  0.009800000116229057 | 0.02439 0.038 0.02241 -0.00767 -0.0069 -0.00497 0.00396 0.00921\n",
            "[10, 0, 'MaxColumns', False]  0.009119999594986439 | 0.0134 0.04208 0.01614 -0.00504 -0.00794 -0.00383 0.01518 0.00297\n",
            "[10, 1, 'From', False]  0.013199999928474426 | -0.0051 0.02608 0.04462 0.01471 -0.03605 -0.00222 0.0226 0.04092\n",
            "[10, 1, 'To', False]  0.005849999841302633 | 0.00277 0.01069 -0.01512 0.01532 -0.0004 -0.00917 0.01911 0.02361\n",
            "[10, 1, 'MeanColumns', False]  0.013740000315010548 | 0.01702 0.01065 0.00606 0.03586 -0.04287 0.00516 0.02591 0.05216\n",
            "[10, 1, 'MaxColumns', False]  0.00810999982059002 | -0.01402 0.01286 0.01484 0.02112 -0.04001 -0.0048 0.01424 0.06062\n",
            "[10, 2, 'From', False]  0.009730000048875809 | 0.00097 0.04277 0.00874 0.0306 -0.02768 0.01258 0.01064 -0.00078\n",
            "[10, 2, 'To', False]  0.003229999914765358 | -0.00029 0.02057 -0.00211 0.00805 -0.00499 0.00117 -0.00224 0.00569\n",
            "[10, 2, 'MeanColumns', False]  0.011130000464618206 | -0.00361 0.04023 0.00797 0.02383 -0.00295 0.02067 0.00889 -0.00601\n",
            "[10, 2, 'MaxColumns', False]  0.013770000077784061 | 0.03468 0.04516 0.00697 0.00108 -0.00887 0.01868 0.00854 0.00388\n",
            "[10, 3, 'From', False]  0.010820000432431698 | -0.00295 0.01346 0.05883 -0.0095 0.00014 -0.02068 0.02488 0.02239\n",
            "[10, 3, 'To', False]  0.003719999920576811 | 0.0033 0.014 0.00032 0.00072 -0.01484 0.00458 0.01103 0.01064\n",
            "[10, 3, 'MeanColumns', False]  0.011090000160038471 | -0.01203 0.02256 0.05886 0.01199 -0.02 -0.02234 0.01557 0.03414\n",
            "[10, 3, 'MaxColumns', False]  0.01331000030040741 | -0.00645 0.04945 0.03853 -0.00078 -0.02706 -0.01551 0.0304 0.0379\n",
            "[10, 4, 'From', False]  0.0071000000461936 | -0.04548 -0.01844 0.00904 0.04986 -0.025 0.0059 0.03744 0.04351\n",
            "[10, 4, 'To', False]  -0.0008900000248104334 | -0.01839 -0.06281 0.00824 0.0076 0.00576 -0.00927 0.03451 0.0272\n",
            "[10, 4, 'MeanColumns', False]  0.007040000054985285 | -0.05975 -0.03648 0.02777 0.06559 -0.03515 0.01254 0.04472 0.0371\n",
            "[10, 4, 'MaxColumns', False]  0.0015399999683722854 | -0.05906 -0.03965 -0.01098 0.04672 -0.01173 -0.00178 0.03784 0.05099\n",
            "[10, 5, 'From', False]  0.008510000072419643 | 0.00148 -0.00338 -0.00754 0.0438 -0.03301 -0.0121 0.01681 0.06199\n",
            "[10, 5, 'To', False]  0.002099999925121665 | -0.01605 0.00861 -0.0056 0.00212 0.01634 0.01587 0.00065 -0.00512\n",
            "[10, 5, 'MeanColumns', False]  0.00749000022187829 | -0.00894 0.01509 -0.00956 0.03832 -0.01756 -0.02 0.01781 0.04474\n",
            "[10, 5, 'MaxColumns', False]  0.007240000180900097 | -0.01338 0.01772 -0.01303 0.0219 -0.00177 -0.01248 0.02445 0.03449\n",
            "[10, 6, 'From', False]  0.011289999820291996 | 0.02635 -0.00048 0.0282 0.00189 0.02553 -0.01474 0.01913 0.0044\n",
            "[10, 6, 'To', False]  0.008410000242292881 | 0.04402 -0.00366 -0.01036 0.00222 0.01301 -0.00815 0.0112 0.01898\n",
            "[10, 6, 'MeanColumns', False]  0.010999999940395355 | 0.01574 0.0124 0.03385 0.00097 0.0338 -0.02386 0.00893 0.00616\n",
            "[10, 6, 'MaxColumns', False]  0.010759999975562096 | 0.00624 0.01517 0.03412 -0.00669 0.04735 -0.02076 0.00511 0.00551\n",
            "[10, 7, 'From', False]  0.007040000054985285 | -0.05153 -0.04868 0.03286 0.06079 -0.06976 -0.002 0.08875 0.04591\n",
            "[10, 7, 'To', False]  0.005239999853074551 | 0.01319 0.02488 -0.00827 0.00611 0.01163 -0.00011 -0.0021 -0.00343\n",
            "[10, 7, 'MeanColumns', False]  0.005929999984800816 | -0.05952 -0.04803 0.02101 0.06058 -0.06981 -0.00434 0.08855 0.05899\n",
            "[10, 7, 'MaxColumns', False]  0.006060000043362379 | -0.06544 -0.04371 0.0309 0.04991 -0.06618 -0.00458 0.08882 0.05877\n",
            "[10, 8, 'From', False]  0.013150000013411045 | 0.01486 -0.02818 0.03372 0.03818 -0.05282 -0.0153 0.03054 0.0842\n",
            "[10, 8, 'To', False]  0.0033199999015778303 | -0.00718 0.02368 -0.00431 0.00175 0.00481 0.00534 0.00774 -0.00526\n",
            "[10, 8, 'MeanColumns', False]  0.006850000005215406 | -0.03154 -0.01259 -0.01334 0.01253 -0.01773 -0.00638 0.04601 0.07784\n",
            "[10, 8, 'MaxColumns', False]  0.00901000015437603 | -0.01751 -0.01204 -0.01675 0.00994 0.0158 -0.0086 0.0361 0.06516\n",
            "[10, 9, 'From', False]  0.010499999858438969 | 0.00654 -0.00844 -0.02044 0.0146 -0.01154 -0.0106 0.0563 0.05756\n",
            "[10, 9, 'To', False]  2.9999999242136255e-05 | -0.01138 0.01047 -0.01056 0.00454 0.00754 -0.00034 0.00163 -0.00166\n",
            "[10, 9, 'MeanColumns', False]  0.010219999589025974 | 0.00691 -0.0167 0.02076 0.00036 0.00087 -0.01326 0.05185 0.03096\n",
            "[10, 9, 'MaxColumns', False]  0.004209999926388264 | -0.01862 -0.00846 -0.0012 0.00676 0.00542 -0.02244 0.03739 0.03487\n",
            "[10, 10, 'From', False]  0.011970000341534615 | 0.09233 -0.00658 -0.0054 0.00109 -0.02267 -0.00247 0.01297 0.02652\n",
            "[10, 10, 'To', False]  0.008460000157356262 | 0.01854 0.04532 -0.00091 0.00184 0.0008 0.00268 -0.00183 0.0012\n",
            "[10, 10, 'MeanColumns', False]  0.017629999667406082 | 0.09478 -0.00783 0.01989 0.0077 -0.0301 -0.00298 0.0162 0.04339\n",
            "[10, 10, 'MaxColumns', False]  0.01711999997496605 | 0.10452 -0.00869 0.02819 0.00359 -0.05275 0.00697 0.01544 0.0397\n",
            "[10, 11, 'From', False]  0.006750000175088644 | 0.02689 0.00531 0.00346 0.00404 -0.02228 -0.00314 0.00956 0.03016\n",
            "[10, 11, 'To', False]  0.00203999993391335 | -1e-04 -0.00426 -0.01097 0.00992 0.01259 0.00256 0.01174 -0.00512\n",
            "[10, 11, 'MeanColumns', False]  0.0071299998089671135 | 0.02049 0.01337 0.01118 -0.00019 -0.02205 -0.003 0.00027 0.03696\n",
            "[10, 11, 'MaxColumns', False]  0.005919999908655882 | 0.0093 0.0245 0.00354 0.00118 -0.01404 0.00576 0.00156 0.01556\n",
            "[11, 'Mean', 'From', False]  0.00949000008404255 | -0.00762 -0.0409 0.00492 0.02418 -0.00175 -0.00622 0.03786 0.06542\n",
            "[11, 'Mean', 'To', False]  0.0028699999675154686 | -0.01271 0.01698 0.00088 0.0008 0.01378 0.00314 -0.00261 0.00271\n",
            "[11, 'Mean', 'MeanColumns', False]  0.010870000347495079 | 0.0137 -0.04171 0.02122 0.03792 0.00688 -0.03082 0.03889 0.04088\n",
            "[11, 'Mean', 'MaxColumns', False]  0.010060000233352184 | 0.00135 -0.03141 -0.00054 0.01232 0.02187 -0.01353 0.03576 0.05466\n",
            "[11, 0, 'From', False]  0.009979999624192715 | 0.01339 0.00917 -0.00195 -0.00901 0.00385 0.00256 0.02025 0.04155\n",
            "[11, 0, 'To', False]  -0.0021699999924749136 | -0.01308 -0.01223 -0.02366 0.0028 0.01721 0.00303 0.00468 0.00386\n",
            "[11, 0, 'MeanColumns', False]  0.0071299998089671135 | 0.00194 -0.0013 -0.00414 -0.00421 -0.00071 -0.0048 0.02046 0.04983\n",
            "[11, 0, 'MaxColumns', False]  0.00865000020712614 | 0.00721 0.00179 -0.00387 -0.00367 0.0026 0.00406 0.02128 0.03982\n",
            "[11, 1, 'From', False]  0.000699999975040555 | -0.05403 -0.02665 0.00358 0.02759 -0.05383 -0.02506 0.05246 0.08156\n",
            "[11, 1, 'To', False]  0.004029999952763319 | 0.00491 0.02436 0.00104 0.00096 0.00678 0.00069 -0.00213 -0.00441\n",
            "[11, 1, 'MeanColumns', False]  0.003160000080242753 | -0.02866 -0.013 -0.00073 0.02771 -0.01346 -0.02655 0.02373 0.05627\n",
            "[11, 1, 'MaxColumns', False]  0.0009599999757483602 | -0.01494 -0.02532 0.00098 0.02671 -0.02277 -0.03786 0.03727 0.04362\n",
            "[11, 2, 'From', False]  0.004089999943971634 | -0.00974 -0.06435 -0.00837 0.01502 -0.00288 -0.01786 0.0845 0.03642\n",
            "[11, 2, 'To', False]  0.0028099999763071537 | -0.0091 0.02437 -0.0016 0.0038 0.00377 0.00148 -0.00567 0.00543\n",
            "[11, 2, 'MeanColumns', False]  0.002529999939724803 | -0.02264 -0.06335 -0.01837 0.02387 -0.00722 -0.02057 0.08409 0.04449\n",
            "[11, 2, 'MaxColumns', False]  0.0023300000466406345 | -0.02043 -0.06584 -0.00248 0.02503 -0.01231 -0.01676 0.0739 0.03754\n",
            "[11, 3, 'From', False]  0.006670000031590462 | -0.0023 -0.01374 -0.00207 0.02494 -0.0291 -0.01131 0.04143 0.04549\n",
            "[11, 3, 'To', False]  0.008270000107586384 | 0.0067 0.03274 0.01697 0.01031 0.001 0.00122 0.00392 -0.00672\n",
            "[11, 3, 'MeanColumns', False]  0.007590000052005053 | 0.02033 -0.00269 0.00529 0.00977 -0.02913 -0.02188 0.03641 0.04259\n",
            "[11, 3, 'MaxColumns', False]  0.007120000198483467 | -0.00532 -0.00086 0.00353 0.01477 -0.0363 -0.00608 0.05326 0.03393\n",
            "[11, 4, 'From', False]  -0.0026400000788271427 | -0.0152 -0.04722 -0.00226 0.02134 0.00807 -0.00352 -0.00765 0.02528\n",
            "[11, 4, 'To', False]  0.0031799999997019768 | 0.00355 0.01021 0.00315 0.00748 0.02616 0.0026 -0.03288 0.00514\n",
            "[11, 4, 'MeanColumns', False]  -0.0029299999587237835 | -0.00272 -0.03864 -0.00223 0.02469 -0.00227 -0.00767 -0.02429 0.02968\n",
            "[11, 4, 'MaxColumns', False]  -0.0006300000241026282 | -0.01415 -0.04507 0.00922 0.02154 0.00667 -0.00186 -0.00685 0.02546\n",
            "[11, 5, 'From', False]  0.005619999952614307 | -0.01364 -0.00431 -0.01404 0.02221 0.0241 -0.02983 0.03436 0.02607\n",
            "[11, 5, 'To', False]  0.0049299998208880424 | -0.01185 0.00987 -0.00255 0.00338 -0.01019 -0.00016 0.05977 -0.00884\n",
            "[11, 5, 'MeanColumns', False]  0.008919999934732914 | -0.00719 0.02337 0.01698 0.01701 -0.00793 -0.01504 0.02304 0.02115\n",
            "[11, 5, 'MaxColumns', False]  0.010889999568462372 | 0.01062 0.02849 0.0263 0.00779 0.00376 -0.01344 0.0215 0.00205\n",
            "[11, 6, 'From', False]  0.008550000376999378 | 0.02704 -0.0021 0.02448 0.00898 -0.04341 -0.02242 0.02109 0.05473\n",
            "[11, 6, 'To', False]  0.0036800000816583633 | -0.01065 0.02683 0.01182 0.00305 0.00953 -0.00289 -0.003 -0.00529\n",
            "[11, 6, 'MeanColumns', False]  0.009320000186562538 | 0.02834 -0.02108 0.03632 0.01989 -0.021 -0.02294 0.00405 0.05095\n",
            "[11, 6, 'MaxColumns', False]  0.007089999970048666 | 0.01634 -0.00219 0.03782 0.00882 -0.0431 -0.02391 0.01861 0.04436\n",
            "[11, 7, 'From', False]  0.012070000171661377 | 0.05401 -0.01491 -0.00598 0.01361 -0.01682 0.01585 0.05174 -0.00096\n",
            "[11, 7, 'To', False]  0.0021299999207258224 | 0.00324 0.00179 -0.01033 0.00413 0.02271 0.00428 -0.00703 -0.00176\n",
            "[11, 7, 'MeanColumns', False]  0.013380000367760658 | 0.05574 -0.01332 0.00866 0.02851 -0.01778 -0.00251 0.04108 0.00665\n",
            "[11, 7, 'MaxColumns', False]  0.012930000200867653 | 0.05443 -0.01017 -0.00221 0.01399 -0.01685 0.01593 0.04933 -0.00103\n",
            "[11, 8, 'From', False]  0.008449999615550041 | -0.00572 -0.01011 0.01661 0.0132 0.00305 -0.00157 0.02345 0.02873\n",
            "[11, 8, 'To', False]  0.0047599999234080315 | 0.01202 0.00209 -0.00838 0.02052 0.01735 -0.001 -0.00516 0.00063\n",
            "[11, 8, 'MeanColumns', False]  0.00646999990567565 | 0.00192 -0.0038 0.0188 0.02182 0.0045 -0.01089 0.00535 0.01406\n",
            "[11, 8, 'MaxColumns', False]  0.009859999641776085 | 0.00751 -0.00585 0.02952 0.02204 0.00127 -0.00787 0.0067 0.02557\n",
            "[11, 9, 'From', False]  0.0027600000612437725 | -0.00385 -0.03461 -0.00173 0.03797 0.01471 -0.0104 0.00913 0.01087\n",
            "[11, 9, 'To', False]  0.0044200001284480095 | 0.00227 0.02824 0.00024 0.00421 0.00221 -0.00086 0.00193 -0.00288\n",
            "[11, 9, 'MeanColumns', False]  0.0029899999499320984 | -0.01276 -0.03776 0.00136 0.05685 0.01491 -0.01212 0.00022 0.01324\n",
            "[11, 9, 'MaxColumns', False]  0.00279999990016222 | -0.0036 -0.03457 -0.00172 0.03798 0.01471 -0.01038 0.00913 0.01088\n",
            "[11, 10, 'From', False]  0.008919999934732914 | 0.03795 -0.03885 0.00889 0.03668 -0.00017 -0.01747 0.02752 0.01678\n",
            "[11, 10, 'To', False]  0.0025100000202655792 | -0.00237 0.02871 -0.00142 0.00344 -6e-05 -0.00092 -0.00739 6e-05\n",
            "[11, 10, 'MeanColumns', False]  0.005979999899864197 | 0.0216 -0.03301 0.0103 0.03138 -0.00235 -0.03133 0.02634 0.02493\n",
            "[11, 10, 'MaxColumns', False]  0.006750000175088644 | 0.03292 -0.03215 0.01461 0.02396 0.00134 -0.02253 0.01668 0.01914\n",
            "[11, 11, 'From', False]  0.005909999832510948 | 0.02018 -0.0103 -0.00314 0.01827 -0.03448 -0.00755 0.04989 0.01444\n",
            "[11, 11, 'To', False]  0.007910000160336494 | 0.0315 0.02126 0.01249 0.00069 0.00329 0.00178 0.00266 -0.01039\n",
            "[11, 11, 'MeanColumns', False]  0.0035200000274926424 | -0.00125 -0.00566 0.01092 0.00886 0.00028 -0.0105 0.02092 0.00461\n",
            "[11, 11, 'MaxColumns', False]  0.004569999873638153 | 0.00525 0.0057 0.01593 0.00878 -0.0128 -0.01007 0.01849 0.00528\n",
            "NZW\n",
            "['Mean', 'Mean', 'From', False]  1.0 | 1.0 1.0 1.0 1.0 1.0 1.0 1.0 1.0\n",
            "['Mean', 'Mean', 'To', False]  1.0 | 1.0 1.0 1.0 1.0 1.0 1.0 1.0 1.0\n",
            "['Mean', 'Mean', 'MeanColumns', False]  1.0 | 1.0 1.0 1.0 1.0 1.0 1.0 1.0 1.0\n",
            "['Mean', 'Mean', 'MaxColumns', False]  1.0 | 1.0 1.0 1.0 1.0 1.0 1.0 1.0 1.0\n",
            "['Mean', 0, 'From', False]  1.0 | 1.0 1.0 1.0 1.0 1.0 1.0 1.0 1.0\n",
            "['Mean', 0, 'To', False]  1.0 | 1.0 1.0 1.0 1.0 1.0 1.0 1.0 1.0\n",
            "['Mean', 0, 'MeanColumns', False]  1.0 | 1.0 1.0 1.0 1.0 1.0 1.0 1.0 1.0\n",
            "['Mean', 0, 'MaxColumns', False]  1.0 | 1.0 1.0 1.0 1.0 1.0 1.0 1.0 1.0\n",
            "['Mean', 1, 'From', False]  1.0 | 1.0 1.0 1.0 1.0 1.0 1.0 1.0 1.0\n",
            "['Mean', 1, 'To', False]  1.0 | 1.0 1.0 1.0 1.0 1.0 1.0 1.0 1.0\n",
            "['Mean', 1, 'MeanColumns', False]  1.0 | 1.0 1.0 1.0 1.0 1.0 1.0 1.0 1.0\n",
            "['Mean', 1, 'MaxColumns', False]  1.0 | 1.0 1.0 1.0 1.0 1.0 1.0 1.0 1.0\n",
            "['Mean', 2, 'From', False]  1.0 | 1.0 1.0 1.0 1.0 1.0 1.0 1.0 1.0\n",
            "['Mean', 2, 'To', False]  1.0 | 1.0 1.0 1.0 1.0 1.0 1.0 1.0 1.0\n",
            "['Mean', 2, 'MeanColumns', False]  1.0 | 1.0 1.0 1.0 1.0 1.0 1.0 1.0 1.0\n",
            "['Mean', 2, 'MaxColumns', False]  1.0 | 1.0 1.0 1.0 1.0 1.0 1.0 1.0 1.0\n",
            "['Mean', 3, 'From', False]  1.0 | 1.0 1.0 1.0 1.0 1.0 1.0 1.0 1.0\n",
            "['Mean', 3, 'To', False]  1.0 | 1.0 1.0 1.0 1.0 1.0 1.0 1.0 1.0\n",
            "['Mean', 3, 'MeanColumns', False]  1.0 | 1.0 1.0 1.0 1.0 1.0 1.0 1.0 1.0\n",
            "['Mean', 3, 'MaxColumns', False]  1.0 | 1.0 1.0 1.0 1.0 1.0 1.0 1.0 1.0\n",
            "['Mean', 4, 'From', False]  1.0 | 1.0 1.0 1.0 1.0 1.0 1.0 1.0 1.0\n",
            "['Mean', 4, 'To', False]  1.0 | 1.0 1.0 1.0 1.0 1.0 1.0 1.0 1.0\n",
            "['Mean', 4, 'MeanColumns', False]  1.0 | 1.0 1.0 1.0 1.0 1.0 1.0 1.0 1.0\n",
            "['Mean', 4, 'MaxColumns', False]  1.0 | 1.0 1.0 1.0 1.0 1.0 1.0 1.0 1.0\n",
            "['Mean', 5, 'From', False]  1.0 | 1.0 1.0 1.0 1.0 1.0 1.0 1.0 1.0\n",
            "['Mean', 5, 'To', False]  1.0 | 1.0 1.0 1.0 1.0 1.0 1.0 1.0 1.0\n",
            "['Mean', 5, 'MeanColumns', False]  1.0 | 1.0 1.0 1.0 1.0 1.0 1.0 1.0 1.0\n",
            "['Mean', 5, 'MaxColumns', False]  1.0 | 1.0 1.0 1.0 1.0 1.0 1.0 1.0 1.0\n",
            "['Mean', 6, 'From', False]  1.0 | 1.0 1.0 1.0 1.0 1.0 1.0 1.0 1.0\n",
            "['Mean', 6, 'To', False]  1.0 | 1.0 1.0 1.0 1.0 1.0 1.0 1.0 1.0\n",
            "['Mean', 6, 'MeanColumns', False]  1.0 | 1.0 1.0 1.0 1.0 1.0 1.0 1.0 1.0\n",
            "['Mean', 6, 'MaxColumns', False]  1.0 | 1.0 1.0 1.0 1.0 1.0 1.0 1.0 1.0\n",
            "['Mean', 7, 'From', False]  1.0 | 1.0 1.0 1.0 1.0 1.0 1.0 1.0 1.0\n",
            "['Mean', 7, 'To', False]  1.0 | 1.0 1.0 1.0 1.0 1.0 1.0 1.0 1.0\n",
            "['Mean', 7, 'MeanColumns', False]  1.0 | 1.0 1.0 1.0 1.0 1.0 1.0 1.0 1.0\n",
            "['Mean', 7, 'MaxColumns', False]  1.0 | 1.0 1.0 1.0 1.0 1.0 1.0 1.0 1.0\n",
            "['Mean', 8, 'From', False]  1.0 | 1.0 1.0 1.0 1.0 1.0 1.0 1.0 1.0\n",
            "['Mean', 8, 'To', False]  1.0 | 1.0 1.0 1.0 1.0 1.0 1.0 1.0 1.0\n",
            "['Mean', 8, 'MeanColumns', False]  1.0 | 1.0 1.0 1.0 1.0 1.0 1.0 1.0 1.0\n",
            "['Mean', 8, 'MaxColumns', False]  1.0 | 1.0 1.0 1.0 1.0 1.0 1.0 1.0 1.0\n",
            "['Mean', 9, 'From', False]  1.0 | 1.0 1.0 1.0 1.0 1.0 1.0 1.0 1.0\n",
            "['Mean', 9, 'To', False]  1.0 | 1.0 1.0 1.0 1.0 1.0 1.0 1.0 1.0\n",
            "['Mean', 9, 'MeanColumns', False]  1.0 | 1.0 1.0 1.0 1.0 1.0 1.0 1.0 1.0\n",
            "['Mean', 9, 'MaxColumns', False]  1.0 | 1.0 1.0 1.0 1.0 1.0 1.0 1.0 1.0\n",
            "['Mean', 10, 'From', False]  1.0 | 1.0 1.0 1.0 1.0 1.0 1.0 1.0 1.0\n",
            "['Mean', 10, 'To', False]  1.0 | 1.0 1.0 1.0 1.0 1.0 1.0 1.0 1.0\n",
            "['Mean', 10, 'MeanColumns', False]  1.0 | 1.0 1.0 1.0 1.0 1.0 1.0 1.0 1.0\n",
            "['Mean', 10, 'MaxColumns', False]  1.0 | 1.0 1.0 1.0 1.0 1.0 1.0 1.0 1.0\n",
            "['Mean', 11, 'From', False]  1.0 | 1.0 1.0 1.0 1.0 1.0 1.0 1.0 1.0\n",
            "['Mean', 11, 'To', False]  1.0 | 1.0 1.0 1.0 1.0 1.0 1.0 1.0 1.0\n",
            "['Mean', 11, 'MeanColumns', False]  1.0 | 1.0 1.0 1.0 1.0 1.0 1.0 1.0 1.0\n",
            "['Mean', 11, 'MaxColumns', False]  1.0 | 1.0 1.0 1.0 1.0 1.0 1.0 1.0 1.0\n",
            "[0, 'Mean', 'From', False]  1.0 | 1.0 1.0 1.0 1.0 1.0 1.0 1.0 1.0\n",
            "[0, 'Mean', 'To', False]  1.0 | 1.0 1.0 1.0 1.0 1.0 1.0 1.0 1.0\n",
            "[0, 'Mean', 'MeanColumns', False]  1.0 | 1.0 1.0 1.0 1.0 1.0 1.0 1.0 1.0\n",
            "[0, 'Mean', 'MaxColumns', False]  1.0 | 1.0 1.0 1.0 1.0 1.0 1.0 1.0 1.0\n",
            "[0, 0, 'From', False]  1.0 | 1.0 1.0 1.0 1.0 1.0 1.0 1.0 1.0\n",
            "[0, 0, 'To', False]  1.0 | 1.0 1.0 1.0 1.0 1.0 1.0 1.0 1.0\n",
            "[0, 0, 'MeanColumns', False]  1.0 | 1.0 1.0 1.0 1.0 1.0 1.0 1.0 1.0\n",
            "[0, 0, 'MaxColumns', False]  1.0 | 1.0 1.0 1.0 1.0 1.0 1.0 1.0 1.0\n",
            "[0, 1, 'From', False]  1.0 | 1.0 1.0 1.0 1.0 1.0 1.0 1.0 1.0\n",
            "[0, 1, 'To', False]  1.0 | 1.0 1.0 1.0 1.0 1.0 1.0 1.0 1.0\n",
            "[0, 1, 'MeanColumns', False]  1.0 | 1.0 1.0 1.0 1.0 1.0 1.0 1.0 1.0\n",
            "[0, 1, 'MaxColumns', False]  1.0 | 1.0 1.0 1.0 1.0 1.0 1.0 1.0 1.0\n",
            "[0, 2, 'From', False]  1.0 | 1.0 1.0 1.0 1.0 1.0 1.0 1.0 1.0\n",
            "[0, 2, 'To', False]  1.0 | 1.0 1.0 1.0 1.0 1.0 1.0 1.0 1.0\n",
            "[0, 2, 'MeanColumns', False]  1.0 | 1.0 1.0 1.0 1.0 1.0 1.0 1.0 1.0\n",
            "[0, 2, 'MaxColumns', False]  1.0 | 1.0 1.0 1.0 1.0 1.0 1.0 1.0 1.0\n",
            "[0, 3, 'From', False]  1.0 | 1.0 1.0 1.0 1.0 1.0 1.0 1.0 1.0\n",
            "[0, 3, 'To', False]  1.0 | 1.0 1.0 1.0 1.0 1.0 1.0 1.0 1.0\n",
            "[0, 3, 'MeanColumns', False]  1.0 | 1.0 1.0 1.0 1.0 1.0 1.0 1.0 1.0\n",
            "[0, 3, 'MaxColumns', False]  1.0 | 1.0 1.0 1.0 1.0 1.0 1.0 1.0 1.0\n",
            "[0, 4, 'From', False]  1.0 | 1.0 1.0 1.0 1.0 1.0 1.0 1.0 1.0\n",
            "[0, 4, 'To', False]  1.0 | 1.0 1.0 1.0 1.0 1.0 1.0 1.0 1.0\n",
            "[0, 4, 'MeanColumns', False]  1.0 | 1.0 1.0 1.0 1.0 1.0 1.0 1.0 1.0\n",
            "[0, 4, 'MaxColumns', False]  1.0 | 1.0 1.0 1.0 1.0 1.0 1.0 1.0 1.0\n",
            "[0, 5, 'From', False]  1.0 | 1.0 1.0 1.0 1.0 1.0 1.0 1.0 1.0\n",
            "[0, 5, 'To', False]  1.0 | 1.0 1.0 1.0 1.0 1.0 1.0 1.0 1.0\n",
            "[0, 5, 'MeanColumns', False]  1.0 | 1.0 1.0 1.0 1.0 1.0 1.0 1.0 1.0\n",
            "[0, 5, 'MaxColumns', False]  1.0 | 1.0 1.0 1.0 1.0 1.0 1.0 1.0 1.0\n",
            "[0, 6, 'From', False]  1.0 | 1.0 1.0 1.0 1.0 1.0 1.0 1.0 1.0\n",
            "[0, 6, 'To', False]  1.0 | 1.0 1.0 1.0 1.0 1.0 1.0 1.0 1.0\n",
            "[0, 6, 'MeanColumns', False]  1.0 | 1.0 1.0 1.0 1.0 1.0 1.0 1.0 1.0\n",
            "[0, 6, 'MaxColumns', False]  1.0 | 1.0 1.0 1.0 1.0 1.0 1.0 1.0 1.0\n",
            "[0, 7, 'From', False]  1.0 | 1.0 1.0 1.0 1.0 1.0 1.0 1.0 1.0\n",
            "[0, 7, 'To', False]  1.0 | 1.0 1.0 1.0 1.0 1.0 1.0 1.0 1.0\n",
            "[0, 7, 'MeanColumns', False]  1.0 | 1.0 1.0 1.0 1.0 1.0 1.0 1.0 1.0\n",
            "[0, 7, 'MaxColumns', False]  1.0 | 1.0 1.0 1.0 1.0 1.0 1.0 1.0 1.0\n",
            "[0, 8, 'From', False]  1.0 | 1.0 1.0 1.0 1.0 1.0 1.0 1.0 1.0\n",
            "[0, 8, 'To', False]  1.0 | 1.0 1.0 1.0 1.0 1.0 1.0 1.0 1.0\n",
            "[0, 8, 'MeanColumns', False]  1.0 | 1.0 1.0 1.0 1.0 1.0 1.0 1.0 1.0\n",
            "[0, 8, 'MaxColumns', False]  1.0 | 1.0 1.0 1.0 1.0 1.0 1.0 1.0 1.0\n",
            "[0, 9, 'From', False]  1.0 | 1.0 1.0 1.0 1.0 1.0 1.0 1.0 1.0\n",
            "[0, 9, 'To', False]  1.0 | 1.0 1.0 1.0 1.0 1.0 1.0 1.0 1.0\n",
            "[0, 9, 'MeanColumns', False]  1.0 | 1.0 1.0 1.0 1.0 1.0 1.0 1.0 1.0\n",
            "[0, 9, 'MaxColumns', False]  1.0 | 1.0 1.0 1.0 1.0 1.0 1.0 1.0 1.0\n",
            "[0, 10, 'From', False]  1.0 | 1.0 1.0 1.0 1.0 1.0 1.0 1.0 1.0\n",
            "[0, 10, 'To', False]  1.0 | 1.0 1.0 1.0 1.0 1.0 1.0 1.0 1.0\n",
            "[0, 10, 'MeanColumns', False]  1.0 | 1.0 1.0 1.0 1.0 1.0 1.0 1.0 1.0\n",
            "[0, 10, 'MaxColumns', False]  1.0 | 1.0 1.0 1.0 1.0 1.0 1.0 1.0 1.0\n",
            "[0, 11, 'From', False]  1.0 | 1.0 1.0 1.0 1.0 1.0 1.0 1.0 1.0\n",
            "[0, 11, 'To', False]  1.0 | 1.0 1.0 1.0 1.0 1.0 1.0 1.0 1.0\n",
            "[0, 11, 'MeanColumns', False]  1.0 | 1.0 1.0 1.0 1.0 1.0 1.0 1.0 1.0\n",
            "[0, 11, 'MaxColumns', False]  1.0 | 1.0 1.0 1.0 1.0 1.0 1.0 1.0 1.0\n",
            "[1, 'Mean', 'From', False]  1.0 | 1.0 1.0 1.0 1.0 1.0 1.0 1.0 1.0\n",
            "[1, 'Mean', 'To', False]  1.0 | 1.0 1.0 1.0 1.0 1.0 1.0 1.0 1.0\n",
            "[1, 'Mean', 'MeanColumns', False]  1.0 | 1.0 1.0 1.0 1.0 1.0 1.0 1.0 1.0\n",
            "[1, 'Mean', 'MaxColumns', False]  1.0 | 1.0 1.0 1.0 1.0 1.0 1.0 1.0 1.0\n",
            "[1, 0, 'From', False]  1.0 | 1.0 1.0 1.0 1.0 1.0 1.0 1.0 1.0\n",
            "[1, 0, 'To', False]  1.0 | 1.0 1.0 1.0 1.0 1.0 1.0 1.0 1.0\n",
            "[1, 0, 'MeanColumns', False]  1.0 | 1.0 1.0 1.0 1.0 1.0 1.0 1.0 1.0\n",
            "[1, 0, 'MaxColumns', False]  1.0 | 1.0 1.0 1.0 1.0 1.0 1.0 1.0 1.0\n",
            "[1, 1, 'From', False]  1.0 | 1.0 1.0 1.0 1.0 1.0 1.0 1.0 1.0\n",
            "[1, 1, 'To', False]  1.0 | 1.0 1.0 1.0 1.0 1.0 1.0 1.0 1.0\n",
            "[1, 1, 'MeanColumns', False]  1.0 | 1.0 1.0 1.0 1.0 1.0 1.0 1.0 1.0\n",
            "[1, 1, 'MaxColumns', False]  1.0 | 1.0 1.0 1.0 1.0 1.0 1.0 1.0 1.0\n",
            "[1, 2, 'From', False]  1.0 | 1.0 1.0 1.0 1.0 1.0 1.0 1.0 1.0\n",
            "[1, 2, 'To', False]  1.0 | 1.0 1.0 1.0 1.0 1.0 1.0 1.0 1.0\n",
            "[1, 2, 'MeanColumns', False]  1.0 | 1.0 1.0 1.0 1.0 1.0 1.0 1.0 1.0\n",
            "[1, 2, 'MaxColumns', False]  1.0 | 1.0 1.0 1.0 1.0 1.0 1.0 1.0 1.0\n",
            "[1, 3, 'From', False]  1.0 | 1.0 1.0 1.0 1.0 1.0 1.0 1.0 1.0\n",
            "[1, 3, 'To', False]  1.0 | 1.0 1.0 1.0 1.0 1.0 1.0 1.0 1.0\n",
            "[1, 3, 'MeanColumns', False]  1.0 | 1.0 1.0 1.0 1.0 1.0 1.0 1.0 1.0\n",
            "[1, 3, 'MaxColumns', False]  1.0 | 1.0 1.0 1.0 1.0 1.0 1.0 1.0 1.0\n",
            "[1, 4, 'From', False]  1.0 | 1.0 1.0 1.0 1.0 1.0 1.0 1.0 1.0\n",
            "[1, 4, 'To', False]  1.0 | 1.0 1.0 1.0 1.0 1.0 1.0 1.0 1.0\n",
            "[1, 4, 'MeanColumns', False]  1.0 | 1.0 1.0 1.0 1.0 1.0 1.0 1.0 1.0\n",
            "[1, 4, 'MaxColumns', False]  1.0 | 1.0 1.0 1.0 1.0 1.0 1.0 1.0 1.0\n",
            "[1, 5, 'From', False]  1.0 | 1.0 1.0 1.0 1.0 1.0 1.0 1.0 1.0\n",
            "[1, 5, 'To', False]  1.0 | 1.0 1.0 1.0 1.0 1.0 1.0 1.0 1.0\n",
            "[1, 5, 'MeanColumns', False]  1.0 | 1.0 1.0 1.0 1.0 1.0 1.0 1.0 1.0\n",
            "[1, 5, 'MaxColumns', False]  1.0 | 1.0 1.0 1.0 1.0 1.0 1.0 1.0 1.0\n",
            "[1, 6, 'From', False]  1.0 | 1.0 1.0 1.0 1.0 1.0 1.0 1.0 1.0\n",
            "[1, 6, 'To', False]  1.0 | 1.0 1.0 1.0 1.0 1.0 1.0 1.0 1.0\n",
            "[1, 6, 'MeanColumns', False]  1.0 | 1.0 1.0 1.0 1.0 1.0 1.0 1.0 1.0\n",
            "[1, 6, 'MaxColumns', False]  1.0 | 1.0 1.0 1.0 1.0 1.0 1.0 1.0 1.0\n",
            "[1, 7, 'From', False]  1.0 | 1.0 1.0 1.0 1.0 1.0 1.0 1.0 1.0\n",
            "[1, 7, 'To', False]  1.0 | 1.0 1.0 1.0 1.0 1.0 1.0 1.0 1.0\n",
            "[1, 7, 'MeanColumns', False]  1.0 | 1.0 1.0 1.0 1.0 1.0 1.0 1.0 1.0\n",
            "[1, 7, 'MaxColumns', False]  1.0 | 1.0 1.0 1.0 1.0 1.0 1.0 1.0 1.0\n",
            "[1, 8, 'From', False]  1.0 | 1.0 1.0 1.0 1.0 1.0 1.0 1.0 1.0\n",
            "[1, 8, 'To', False]  1.0 | 1.0 1.0 1.0 1.0 1.0 1.0 1.0 1.0\n",
            "[1, 8, 'MeanColumns', False]  1.0 | 1.0 1.0 1.0 1.0 1.0 1.0 1.0 1.0\n",
            "[1, 8, 'MaxColumns', False]  1.0 | 1.0 1.0 1.0 1.0 1.0 1.0 1.0 1.0\n",
            "[1, 9, 'From', False]  1.0 | 1.0 1.0 1.0 1.0 1.0 1.0 1.0 1.0\n",
            "[1, 9, 'To', False]  1.0 | 1.0 1.0 1.0 1.0 1.0 1.0 1.0 1.0\n",
            "[1, 9, 'MeanColumns', False]  1.0 | 1.0 1.0 1.0 1.0 1.0 1.0 1.0 1.0\n",
            "[1, 9, 'MaxColumns', False]  1.0 | 1.0 1.0 1.0 1.0 1.0 1.0 1.0 1.0\n",
            "[1, 10, 'From', False]  1.0 | 1.0 1.0 1.0 1.0 1.0 1.0 1.0 1.0\n",
            "[1, 10, 'To', False]  1.0 | 1.0 1.0 1.0 1.0 1.0 1.0 1.0 1.0\n",
            "[1, 10, 'MeanColumns', False]  1.0 | 1.0 1.0 1.0 1.0 1.0 1.0 1.0 1.0\n",
            "[1, 10, 'MaxColumns', False]  1.0 | 1.0 1.0 1.0 1.0 1.0 1.0 1.0 1.0\n",
            "[1, 11, 'From', False]  1.0 | 1.0 1.0 1.0 1.0 1.0 1.0 1.0 1.0\n",
            "[1, 11, 'To', False]  1.0 | 1.0 1.0 1.0 1.0 1.0 1.0 1.0 1.0\n",
            "[1, 11, 'MeanColumns', False]  1.0 | 1.0 1.0 1.0 1.0 1.0 1.0 1.0 1.0\n",
            "[1, 11, 'MaxColumns', False]  1.0 | 1.0 1.0 1.0 1.0 1.0 1.0 1.0 1.0\n",
            "[2, 'Mean', 'From', False]  1.0 | 1.0 1.0 1.0 1.0 1.0 1.0 1.0 1.0\n",
            "[2, 'Mean', 'To', False]  1.0 | 1.0 1.0 1.0 1.0 1.0 1.0 1.0 1.0\n",
            "[2, 'Mean', 'MeanColumns', False]  1.0 | 1.0 1.0 1.0 1.0 1.0 1.0 1.0 1.0\n",
            "[2, 'Mean', 'MaxColumns', False]  1.0 | 1.0 1.0 1.0 1.0 1.0 1.0 1.0 1.0\n",
            "[2, 0, 'From', False]  1.0 | 1.0 1.0 1.0 1.0 1.0 1.0 1.0 1.0\n",
            "[2, 0, 'To', False]  1.0 | 1.0 1.0 1.0 1.0 1.0 1.0 1.0 1.0\n",
            "[2, 0, 'MeanColumns', False]  1.0 | 1.0 1.0 1.0 1.0 1.0 1.0 1.0 1.0\n",
            "[2, 0, 'MaxColumns', False]  1.0 | 1.0 1.0 1.0 1.0 1.0 1.0 1.0 1.0\n",
            "[2, 1, 'From', False]  1.0 | 1.0 1.0 1.0 1.0 1.0 1.0 1.0 1.0\n",
            "[2, 1, 'To', False]  1.0 | 1.0 1.0 1.0 1.0 1.0 1.0 1.0 1.0\n",
            "[2, 1, 'MeanColumns', False]  1.0 | 1.0 1.0 1.0 1.0 1.0 1.0 1.0 1.0\n",
            "[2, 1, 'MaxColumns', False]  1.0 | 1.0 1.0 1.0 1.0 1.0 1.0 1.0 1.0\n",
            "[2, 2, 'From', False]  1.0 | 1.0 1.0 1.0 1.0 1.0 1.0 1.0 1.0\n",
            "[2, 2, 'To', False]  1.0 | 1.0 1.0 1.0 1.0 1.0 1.0 1.0 1.0\n",
            "[2, 2, 'MeanColumns', False]  1.0 | 1.0 1.0 1.0 1.0 1.0 1.0 1.0 1.0\n",
            "[2, 2, 'MaxColumns', False]  1.0 | 1.0 1.0 1.0 1.0 1.0 1.0 1.0 1.0\n",
            "[2, 3, 'From', False]  1.0 | 1.0 1.0 1.0 1.0 1.0 1.0 1.0 1.0\n",
            "[2, 3, 'To', False]  1.0 | 1.0 1.0 1.0 1.0 1.0 1.0 1.0 1.0\n",
            "[2, 3, 'MeanColumns', False]  1.0 | 1.0 1.0 1.0 1.0 1.0 1.0 1.0 1.0\n",
            "[2, 3, 'MaxColumns', False]  1.0 | 1.0 1.0 1.0 1.0 1.0 1.0 1.0 1.0\n",
            "[2, 4, 'From', False]  1.0 | 1.0 1.0 1.0 1.0 1.0 1.0 1.0 1.0\n",
            "[2, 4, 'To', False]  1.0 | 1.0 1.0 1.0 1.0 1.0 1.0 1.0 1.0\n",
            "[2, 4, 'MeanColumns', False]  1.0 | 1.0 1.0 1.0 1.0 1.0 1.0 1.0 1.0\n",
            "[2, 4, 'MaxColumns', False]  1.0 | 1.0 1.0 1.0 1.0 1.0 1.0 1.0 1.0\n",
            "[2, 5, 'From', False]  1.0 | 1.0 1.0 1.0 1.0 1.0 1.0 1.0 1.0\n",
            "[2, 5, 'To', False]  1.0 | 1.0 1.0 1.0 1.0 1.0 1.0 1.0 1.0\n",
            "[2, 5, 'MeanColumns', False]  1.0 | 1.0 1.0 1.0 1.0 1.0 1.0 1.0 1.0\n",
            "[2, 5, 'MaxColumns', False]  1.0 | 1.0 1.0 1.0 1.0 1.0 1.0 1.0 1.0\n",
            "[2, 6, 'From', False]  1.0 | 1.0 1.0 1.0 1.0 1.0 1.0 1.0 1.0\n",
            "[2, 6, 'To', False]  1.0 | 1.0 1.0 1.0 1.0 1.0 1.0 1.0 1.0\n",
            "[2, 6, 'MeanColumns', False]  1.0 | 1.0 1.0 1.0 1.0 1.0 1.0 1.0 1.0\n",
            "[2, 6, 'MaxColumns', False]  1.0 | 1.0 1.0 1.0 1.0 1.0 1.0 1.0 1.0\n",
            "[2, 7, 'From', False]  1.0 | 1.0 1.0 1.0 1.0 1.0 1.0 1.0 1.0\n",
            "[2, 7, 'To', False]  1.0 | 1.0 1.0 1.0 1.0 1.0 1.0 1.0 1.0\n",
            "[2, 7, 'MeanColumns', False]  1.0 | 1.0 1.0 1.0 1.0 1.0 1.0 1.0 1.0\n",
            "[2, 7, 'MaxColumns', False]  1.0 | 1.0 1.0 1.0 1.0 1.0 1.0 1.0 1.0\n",
            "[2, 8, 'From', False]  1.0 | 1.0 1.0 1.0 1.0 1.0 1.0 1.0 1.0\n",
            "[2, 8, 'To', False]  1.0 | 1.0 1.0 1.0 1.0 1.0 1.0 1.0 1.0\n",
            "[2, 8, 'MeanColumns', False]  1.0 | 1.0 1.0 1.0 1.0 1.0 1.0 1.0 1.0\n",
            "[2, 8, 'MaxColumns', False]  1.0 | 1.0 1.0 1.0 1.0 1.0 1.0 1.0 1.0\n",
            "[2, 9, 'From', False]  1.0 | 1.0 1.0 1.0 1.0 1.0 1.0 1.0 1.0\n",
            "[2, 9, 'To', False]  1.0 | 1.0 1.0 1.0 1.0 1.0 1.0 1.0 1.0\n",
            "[2, 9, 'MeanColumns', False]  1.0 | 1.0 1.0 1.0 1.0 1.0 1.0 1.0 1.0\n",
            "[2, 9, 'MaxColumns', False]  1.0 | 1.0 1.0 1.0 1.0 1.0 1.0 1.0 1.0\n",
            "[2, 10, 'From', False]  1.0 | 1.0 1.0 1.0 1.0 1.0 1.0 1.0 1.0\n",
            "[2, 10, 'To', False]  1.0 | 1.0 1.0 1.0 1.0 1.0 1.0 1.0 1.0\n",
            "[2, 10, 'MeanColumns', False]  1.0 | 1.0 1.0 1.0 1.0 1.0 1.0 1.0 1.0\n",
            "[2, 10, 'MaxColumns', False]  1.0 | 1.0 1.0 1.0 1.0 1.0 1.0 1.0 1.0\n",
            "[2, 11, 'From', False]  1.0 | 1.0 1.0 1.0 1.0 1.0 1.0 1.0 1.0\n",
            "[2, 11, 'To', False]  1.0 | 1.0 1.0 1.0 1.0 1.0 1.0 1.0 1.0\n",
            "[2, 11, 'MeanColumns', False]  1.0 | 1.0 1.0 1.0 1.0 1.0 1.0 1.0 1.0\n",
            "[2, 11, 'MaxColumns', False]  1.0 | 1.0 1.0 1.0 1.0 1.0 1.0 1.0 1.0\n",
            "[3, 'Mean', 'From', False]  1.0 | 1.0 1.0 1.0 1.0 1.0 1.0 1.0 1.0\n",
            "[3, 'Mean', 'To', False]  1.0 | 1.0 1.0 1.0 1.0 1.0 1.0 1.0 1.0\n",
            "[3, 'Mean', 'MeanColumns', False]  1.0 | 1.0 1.0 1.0 1.0 1.0 1.0 1.0 1.0\n",
            "[3, 'Mean', 'MaxColumns', False]  1.0 | 1.0 1.0 1.0 1.0 1.0 1.0 1.0 1.0\n",
            "[3, 0, 'From', False]  1.0 | 1.0 1.0 1.0 1.0 1.0 1.0 1.0 1.0\n",
            "[3, 0, 'To', False]  1.0 | 1.0 1.0 1.0 1.0 1.0 1.0 1.0 1.0\n",
            "[3, 0, 'MeanColumns', False]  1.0 | 1.0 1.0 1.0 1.0 1.0 1.0 1.0 1.0\n",
            "[3, 0, 'MaxColumns', False]  1.0 | 1.0 1.0 1.0 1.0 1.0 1.0 1.0 1.0\n",
            "[3, 1, 'From', False]  1.0 | 1.0 1.0 1.0 1.0 1.0 1.0 1.0 1.0\n",
            "[3, 1, 'To', False]  1.0 | 1.0 1.0 1.0 1.0 1.0 1.0 1.0 1.0\n",
            "[3, 1, 'MeanColumns', False]  1.0 | 1.0 1.0 1.0 1.0 1.0 1.0 1.0 1.0\n",
            "[3, 1, 'MaxColumns', False]  1.0 | 1.0 1.0 1.0 1.0 1.0 1.0 1.0 1.0\n",
            "[3, 2, 'From', False]  1.0 | 1.0 1.0 1.0 1.0 1.0 1.0 1.0 1.0\n",
            "[3, 2, 'To', False]  1.0 | 1.0 1.0 1.0 1.0 1.0 1.0 1.0 1.0\n",
            "[3, 2, 'MeanColumns', False]  1.0 | 1.0 1.0 1.0 1.0 1.0 1.0 1.0 1.0\n",
            "[3, 2, 'MaxColumns', False]  1.0 | 1.0 1.0 1.0 1.0 1.0 1.0 1.0 1.0\n",
            "[3, 3, 'From', False]  1.0 | 1.0 1.0 1.0 1.0 1.0 1.0 1.0 1.0\n",
            "[3, 3, 'To', False]  1.0 | 1.0 1.0 1.0 1.0 1.0 1.0 1.0 1.0\n",
            "[3, 3, 'MeanColumns', False]  1.0 | 1.0 1.0 1.0 1.0 1.0 1.0 1.0 1.0\n",
            "[3, 3, 'MaxColumns', False]  1.0 | 1.0 1.0 1.0 1.0 1.0 1.0 1.0 1.0\n",
            "[3, 4, 'From', False]  1.0 | 1.0 1.0 1.0 1.0 1.0 1.0 1.0 1.0\n",
            "[3, 4, 'To', False]  1.0 | 1.0 1.0 1.0 1.0 1.0 1.0 1.0 1.0\n",
            "[3, 4, 'MeanColumns', False]  1.0 | 1.0 1.0 1.0 1.0 1.0 1.0 1.0 1.0\n",
            "[3, 4, 'MaxColumns', False]  1.0 | 1.0 1.0 1.0 1.0 1.0 1.0 1.0 1.0\n",
            "[3, 5, 'From', False]  1.0 | 1.0 1.0 1.0 1.0 1.0 1.0 1.0 1.0\n",
            "[3, 5, 'To', False]  1.0 | 1.0 1.0 1.0 1.0 1.0 1.0 1.0 1.0\n",
            "[3, 5, 'MeanColumns', False]  1.0 | 1.0 1.0 1.0 1.0 1.0 1.0 1.0 1.0\n",
            "[3, 5, 'MaxColumns', False]  1.0 | 1.0 1.0 1.0 1.0 1.0 1.0 1.0 1.0\n",
            "[3, 6, 'From', False]  1.0 | 1.0 1.0 1.0 1.0 1.0 1.0 1.0 1.0\n",
            "[3, 6, 'To', False]  1.0 | 1.0 1.0 1.0 1.0 1.0 1.0 1.0 1.0\n",
            "[3, 6, 'MeanColumns', False]  1.0 | 1.0 1.0 1.0 1.0 1.0 1.0 1.0 1.0\n",
            "[3, 6, 'MaxColumns', False]  1.0 | 1.0 1.0 1.0 1.0 1.0 1.0 1.0 1.0\n",
            "[3, 7, 'From', False]  1.0 | 1.0 1.0 1.0 1.0 1.0 1.0 1.0 1.0\n",
            "[3, 7, 'To', False]  1.0 | 1.0 1.0 1.0 1.0 1.0 1.0 1.0 1.0\n",
            "[3, 7, 'MeanColumns', False]  1.0 | 1.0 1.0 1.0 1.0 1.0 1.0 1.0 1.0\n",
            "[3, 7, 'MaxColumns', False]  1.0 | 1.0 1.0 1.0 1.0 1.0 1.0 1.0 1.0\n",
            "[3, 8, 'From', False]  1.0 | 1.0 1.0 1.0 1.0 1.0 1.0 1.0 1.0\n",
            "[3, 8, 'To', False]  1.0 | 1.0 1.0 1.0 1.0 1.0 1.0 1.0 1.0\n",
            "[3, 8, 'MeanColumns', False]  1.0 | 1.0 1.0 1.0 1.0 1.0 1.0 1.0 1.0\n",
            "[3, 8, 'MaxColumns', False]  1.0 | 1.0 1.0 1.0 1.0 1.0 1.0 1.0 1.0\n",
            "[3, 9, 'From', False]  1.0 | 1.0 1.0 1.0 1.0 1.0 1.0 1.0 1.0\n",
            "[3, 9, 'To', False]  1.0 | 1.0 1.0 1.0 1.0 1.0 1.0 1.0 1.0\n",
            "[3, 9, 'MeanColumns', False]  1.0 | 1.0 1.0 1.0 1.0 1.0 1.0 1.0 1.0\n",
            "[3, 9, 'MaxColumns', False]  1.0 | 1.0 1.0 1.0 1.0 1.0 1.0 1.0 1.0\n",
            "[3, 10, 'From', False]  1.0 | 1.0 1.0 1.0 1.0 1.0 1.0 1.0 1.0\n",
            "[3, 10, 'To', False]  1.0 | 1.0 1.0 1.0 1.0 1.0 1.0 1.0 1.0\n",
            "[3, 10, 'MeanColumns', False]  1.0 | 1.0 1.0 1.0 1.0 1.0 1.0 1.0 1.0\n",
            "[3, 10, 'MaxColumns', False]  1.0 | 1.0 1.0 1.0 1.0 1.0 1.0 1.0 1.0\n",
            "[3, 11, 'From', False]  1.0 | 1.0 1.0 1.0 1.0 1.0 1.0 1.0 1.0\n",
            "[3, 11, 'To', False]  1.0 | 1.0 1.0 1.0 1.0 1.0 1.0 1.0 1.0\n",
            "[3, 11, 'MeanColumns', False]  1.0 | 1.0 1.0 1.0 1.0 1.0 1.0 1.0 1.0\n",
            "[3, 11, 'MaxColumns', False]  1.0 | 1.0 1.0 1.0 1.0 1.0 1.0 1.0 1.0\n",
            "[4, 'Mean', 'From', False]  1.0 | 1.0 1.0 1.0 1.0 1.0 1.0 1.0 1.0\n",
            "[4, 'Mean', 'To', False]  1.0 | 1.0 1.0 1.0 1.0 1.0 1.0 1.0 1.0\n",
            "[4, 'Mean', 'MeanColumns', False]  1.0 | 1.0 1.0 1.0 1.0 1.0 1.0 1.0 1.0\n",
            "[4, 'Mean', 'MaxColumns', False]  1.0 | 1.0 1.0 1.0 1.0 1.0 1.0 1.0 1.0\n",
            "[4, 0, 'From', False]  1.0 | 1.0 1.0 1.0 1.0 1.0 1.0 1.0 1.0\n",
            "[4, 0, 'To', False]  1.0 | 1.0 1.0 1.0 1.0 1.0 1.0 1.0 1.0\n",
            "[4, 0, 'MeanColumns', False]  1.0 | 1.0 1.0 1.0 1.0 1.0 1.0 1.0 1.0\n",
            "[4, 0, 'MaxColumns', False]  1.0 | 1.0 1.0 1.0 1.0 1.0 1.0 1.0 1.0\n",
            "[4, 1, 'From', False]  1.0 | 1.0 1.0 1.0 1.0 1.0 1.0 1.0 1.0\n",
            "[4, 1, 'To', False]  1.0 | 1.0 1.0 1.0 1.0 1.0 1.0 1.0 1.0\n",
            "[4, 1, 'MeanColumns', False]  1.0 | 1.0 1.0 1.0 1.0 1.0 1.0 1.0 1.0\n",
            "[4, 1, 'MaxColumns', False]  1.0 | 1.0 1.0 1.0 1.0 1.0 1.0 1.0 1.0\n",
            "[4, 2, 'From', False]  1.0 | 1.0 1.0 1.0 1.0 1.0 1.0 1.0 1.0\n",
            "[4, 2, 'To', False]  1.0 | 1.0 1.0 1.0 1.0 1.0 1.0 1.0 1.0\n",
            "[4, 2, 'MeanColumns', False]  1.0 | 1.0 1.0 1.0 1.0 1.0 1.0 1.0 1.0\n",
            "[4, 2, 'MaxColumns', False]  1.0 | 1.0 1.0 1.0 1.0 1.0 1.0 1.0 1.0\n",
            "[4, 3, 'From', False]  1.0 | 1.0 1.0 1.0 1.0 1.0 1.0 1.0 1.0\n",
            "[4, 3, 'To', False]  1.0 | 1.0 1.0 1.0 1.0 1.0 1.0 1.0 1.0\n",
            "[4, 3, 'MeanColumns', False]  1.0 | 1.0 1.0 1.0 1.0 1.0 1.0 1.0 1.0\n",
            "[4, 3, 'MaxColumns', False]  1.0 | 1.0 1.0 1.0 1.0 1.0 1.0 1.0 1.0\n",
            "[4, 4, 'From', False]  1.0 | 1.0 1.0 1.0 1.0 1.0 1.0 1.0 1.0\n",
            "[4, 4, 'To', False]  1.0 | 1.0 1.0 1.0 1.0 1.0 1.0 1.0 1.0\n",
            "[4, 4, 'MeanColumns', False]  1.0 | 1.0 1.0 1.0 1.0 1.0 1.0 1.0 1.0\n",
            "[4, 4, 'MaxColumns', False]  1.0 | 1.0 1.0 1.0 1.0 1.0 1.0 1.0 1.0\n",
            "[4, 5, 'From', False]  1.0 | 1.0 1.0 1.0 1.0 1.0 1.0 1.0 1.0\n",
            "[4, 5, 'To', False]  1.0 | 1.0 1.0 1.0 1.0 1.0 1.0 1.0 1.0\n",
            "[4, 5, 'MeanColumns', False]  1.0 | 1.0 1.0 1.0 1.0 1.0 1.0 1.0 1.0\n",
            "[4, 5, 'MaxColumns', False]  1.0 | 1.0 1.0 1.0 1.0 1.0 1.0 1.0 1.0\n",
            "[4, 6, 'From', False]  1.0 | 1.0 1.0 1.0 1.0 1.0 1.0 1.0 1.0\n",
            "[4, 6, 'To', False]  1.0 | 1.0 1.0 1.0 1.0 1.0 1.0 1.0 1.0\n",
            "[4, 6, 'MeanColumns', False]  1.0 | 1.0 1.0 1.0 1.0 1.0 1.0 1.0 1.0\n",
            "[4, 6, 'MaxColumns', False]  1.0 | 1.0 1.0 1.0 1.0 1.0 1.0 1.0 1.0\n",
            "[4, 7, 'From', False]  1.0 | 1.0 1.0 1.0 1.0 1.0 1.0 1.0 1.0\n",
            "[4, 7, 'To', False]  1.0 | 1.0 1.0 1.0 1.0 1.0 1.0 1.0 1.0\n",
            "[4, 7, 'MeanColumns', False]  1.0 | 1.0 1.0 1.0 1.0 1.0 1.0 1.0 1.0\n",
            "[4, 7, 'MaxColumns', False]  1.0 | 1.0 1.0 1.0 1.0 1.0 1.0 1.0 1.0\n",
            "[4, 8, 'From', False]  1.0 | 1.0 1.0 1.0 1.0 1.0 1.0 1.0 1.0\n",
            "[4, 8, 'To', False]  1.0 | 1.0 1.0 1.0 1.0 1.0 1.0 1.0 1.0\n",
            "[4, 8, 'MeanColumns', False]  1.0 | 1.0 1.0 1.0 1.0 1.0 1.0 1.0 1.0\n",
            "[4, 8, 'MaxColumns', False]  1.0 | 1.0 1.0 1.0 1.0 1.0 1.0 1.0 1.0\n",
            "[4, 9, 'From', False]  1.0 | 1.0 1.0 1.0 1.0 1.0 1.0 1.0 1.0\n",
            "[4, 9, 'To', False]  1.0 | 1.0 1.0 1.0 1.0 1.0 1.0 1.0 1.0\n",
            "[4, 9, 'MeanColumns', False]  1.0 | 1.0 1.0 1.0 1.0 1.0 1.0 1.0 1.0\n",
            "[4, 9, 'MaxColumns', False]  1.0 | 1.0 1.0 1.0 1.0 1.0 1.0 1.0 1.0\n",
            "[4, 10, 'From', False]  1.0 | 1.0 1.0 1.0 1.0 1.0 1.0 1.0 1.0\n",
            "[4, 10, 'To', False]  1.0 | 1.0 1.0 1.0 1.0 1.0 1.0 1.0 1.0\n",
            "[4, 10, 'MeanColumns', False]  1.0 | 1.0 1.0 1.0 1.0 1.0 1.0 1.0 1.0\n",
            "[4, 10, 'MaxColumns', False]  1.0 | 1.0 1.0 1.0 1.0 1.0 1.0 1.0 1.0\n",
            "[4, 11, 'From', False]  1.0 | 1.0 1.0 1.0 1.0 1.0 1.0 1.0 1.0\n",
            "[4, 11, 'To', False]  1.0 | 1.0 1.0 1.0 1.0 1.0 1.0 1.0 1.0\n",
            "[4, 11, 'MeanColumns', False]  1.0 | 1.0 1.0 1.0 1.0 1.0 1.0 1.0 1.0\n",
            "[4, 11, 'MaxColumns', False]  1.0 | 1.0 1.0 1.0 1.0 1.0 1.0 1.0 1.0\n",
            "[5, 'Mean', 'From', False]  1.0 | 1.0 1.0 1.0 1.0 1.0 1.0 1.0 1.0\n",
            "[5, 'Mean', 'To', False]  1.0 | 1.0 1.0 1.0 1.0 1.0 1.0 1.0 1.0\n",
            "[5, 'Mean', 'MeanColumns', False]  1.0 | 1.0 1.0 1.0 1.0 1.0 1.0 1.0 1.0\n",
            "[5, 'Mean', 'MaxColumns', False]  1.0 | 1.0 1.0 1.0 1.0 1.0 1.0 1.0 1.0\n",
            "[5, 0, 'From', False]  1.0 | 1.0 1.0 1.0 1.0 1.0 1.0 1.0 1.0\n",
            "[5, 0, 'To', False]  1.0 | 1.0 1.0 1.0 1.0 1.0 1.0 1.0 1.0\n",
            "[5, 0, 'MeanColumns', False]  1.0 | 1.0 1.0 1.0 1.0 1.0 1.0 1.0 1.0\n",
            "[5, 0, 'MaxColumns', False]  1.0 | 1.0 1.0 1.0 1.0 1.0 1.0 1.0 1.0\n",
            "[5, 1, 'From', False]  1.0 | 1.0 1.0 1.0 1.0 1.0 1.0 1.0 1.0\n",
            "[5, 1, 'To', False]  1.0 | 1.0 1.0 1.0 1.0 1.0 1.0 1.0 1.0\n",
            "[5, 1, 'MeanColumns', False]  1.0 | 1.0 1.0 1.0 1.0 1.0 1.0 1.0 1.0\n",
            "[5, 1, 'MaxColumns', False]  1.0 | 1.0 1.0 1.0 1.0 1.0 1.0 1.0 1.0\n",
            "[5, 2, 'From', False]  1.0 | 1.0 1.0 1.0 1.0 1.0 1.0 1.0 1.0\n",
            "[5, 2, 'To', False]  1.0 | 1.0 1.0 1.0 1.0 1.0 1.0 1.0 1.0\n",
            "[5, 2, 'MeanColumns', False]  1.0 | 1.0 1.0 1.0 1.0 1.0 1.0 1.0 1.0\n",
            "[5, 2, 'MaxColumns', False]  1.0 | 1.0 1.0 1.0 1.0 1.0 1.0 1.0 1.0\n",
            "[5, 3, 'From', False]  1.0 | 1.0 1.0 1.0 1.0 1.0 1.0 1.0 1.0\n",
            "[5, 3, 'To', False]  1.0 | 1.0 1.0 1.0 1.0 1.0 1.0 1.0 1.0\n",
            "[5, 3, 'MeanColumns', False]  1.0 | 1.0 1.0 1.0 1.0 1.0 1.0 1.0 1.0\n",
            "[5, 3, 'MaxColumns', False]  1.0 | 1.0 1.0 1.0 1.0 1.0 1.0 1.0 1.0\n",
            "[5, 4, 'From', False]  1.0 | 1.0 1.0 1.0 1.0 1.0 1.0 1.0 1.0\n",
            "[5, 4, 'To', False]  1.0 | 1.0 1.0 1.0 1.0 1.0 1.0 1.0 1.0\n",
            "[5, 4, 'MeanColumns', False]  1.0 | 1.0 1.0 1.0 1.0 1.0 1.0 1.0 1.0\n",
            "[5, 4, 'MaxColumns', False]  1.0 | 1.0 1.0 1.0 1.0 1.0 1.0 1.0 1.0\n",
            "[5, 5, 'From', False]  1.0 | 1.0 1.0 1.0 1.0 1.0 1.0 1.0 1.0\n",
            "[5, 5, 'To', False]  1.0 | 1.0 1.0 1.0 1.0 1.0 1.0 1.0 1.0\n",
            "[5, 5, 'MeanColumns', False]  1.0 | 1.0 1.0 1.0 1.0 1.0 1.0 1.0 1.0\n",
            "[5, 5, 'MaxColumns', False]  1.0 | 1.0 1.0 1.0 1.0 1.0 1.0 1.0 1.0\n",
            "[5, 6, 'From', False]  1.0 | 1.0 1.0 1.0 1.0 1.0 1.0 1.0 1.0\n",
            "[5, 6, 'To', False]  1.0 | 1.0 1.0 1.0 1.0 1.0 1.0 1.0 1.0\n",
            "[5, 6, 'MeanColumns', False]  1.0 | 1.0 1.0 1.0 1.0 1.0 1.0 1.0 1.0\n",
            "[5, 6, 'MaxColumns', False]  1.0 | 1.0 1.0 1.0 1.0 1.0 1.0 1.0 1.0\n",
            "[5, 7, 'From', False]  1.0 | 1.0 1.0 1.0 1.0 1.0 1.0 1.0 1.0\n",
            "[5, 7, 'To', False]  1.0 | 1.0 1.0 1.0 1.0 1.0 1.0 1.0 1.0\n",
            "[5, 7, 'MeanColumns', False]  1.0 | 1.0 1.0 1.0 1.0 1.0 1.0 1.0 1.0\n",
            "[5, 7, 'MaxColumns', False]  1.0 | 1.0 1.0 1.0 1.0 1.0 1.0 1.0 1.0\n",
            "[5, 8, 'From', False]  1.0 | 1.0 1.0 1.0 1.0 1.0 1.0 1.0 1.0\n",
            "[5, 8, 'To', False]  1.0 | 1.0 1.0 1.0 1.0 1.0 1.0 1.0 1.0\n",
            "[5, 8, 'MeanColumns', False]  1.0 | 1.0 1.0 1.0 1.0 1.0 1.0 1.0 1.0\n",
            "[5, 8, 'MaxColumns', False]  1.0 | 1.0 1.0 1.0 1.0 1.0 1.0 1.0 1.0\n",
            "[5, 9, 'From', False]  1.0 | 1.0 1.0 1.0 1.0 1.0 1.0 1.0 1.0\n",
            "[5, 9, 'To', False]  1.0 | 1.0 1.0 1.0 1.0 1.0 1.0 1.0 1.0\n",
            "[5, 9, 'MeanColumns', False]  1.0 | 1.0 1.0 1.0 1.0 1.0 1.0 1.0 1.0\n",
            "[5, 9, 'MaxColumns', False]  1.0 | 1.0 1.0 1.0 1.0 1.0 1.0 1.0 1.0\n",
            "[5, 10, 'From', False]  1.0 | 1.0 1.0 1.0 1.0 1.0 1.0 1.0 1.0\n",
            "[5, 10, 'To', False]  1.0 | 1.0 1.0 1.0 1.0 1.0 1.0 1.0 1.0\n",
            "[5, 10, 'MeanColumns', False]  1.0 | 1.0 1.0 1.0 1.0 1.0 1.0 1.0 1.0\n",
            "[5, 10, 'MaxColumns', False]  1.0 | 1.0 1.0 1.0 1.0 1.0 1.0 1.0 1.0\n",
            "[5, 11, 'From', False]  1.0 | 1.0 1.0 1.0 1.0 1.0 1.0 1.0 1.0\n",
            "[5, 11, 'To', False]  1.0 | 1.0 1.0 1.0 1.0 1.0 1.0 1.0 1.0\n",
            "[5, 11, 'MeanColumns', False]  1.0 | 1.0 1.0 1.0 1.0 1.0 1.0 1.0 1.0\n",
            "[5, 11, 'MaxColumns', False]  1.0 | 1.0 1.0 1.0 1.0 1.0 1.0 1.0 1.0\n",
            "[6, 'Mean', 'From', False]  1.0 | 1.0 1.0 1.0 1.0 1.0 1.0 1.0 1.0\n",
            "[6, 'Mean', 'To', False]  1.0 | 1.0 1.0 1.0 1.0 1.0 1.0 1.0 1.0\n",
            "[6, 'Mean', 'MeanColumns', False]  1.0 | 1.0 1.0 1.0 1.0 1.0 1.0 1.0 1.0\n",
            "[6, 'Mean', 'MaxColumns', False]  1.0 | 1.0 1.0 1.0 1.0 1.0 1.0 1.0 1.0\n",
            "[6, 0, 'From', False]  1.0 | 1.0 1.0 1.0 1.0 1.0 1.0 1.0 1.0\n",
            "[6, 0, 'To', False]  1.0 | 1.0 1.0 1.0 1.0 1.0 1.0 1.0 1.0\n",
            "[6, 0, 'MeanColumns', False]  1.0 | 1.0 1.0 1.0 1.0 1.0 1.0 1.0 1.0\n",
            "[6, 0, 'MaxColumns', False]  1.0 | 1.0 1.0 1.0 1.0 1.0 1.0 1.0 1.0\n",
            "[6, 1, 'From', False]  1.0 | 1.0 1.0 1.0 1.0 1.0 1.0 1.0 1.0\n",
            "[6, 1, 'To', False]  1.0 | 1.0 1.0 1.0 1.0 1.0 1.0 1.0 1.0\n",
            "[6, 1, 'MeanColumns', False]  1.0 | 1.0 1.0 1.0 1.0 1.0 1.0 1.0 1.0\n",
            "[6, 1, 'MaxColumns', False]  1.0 | 1.0 1.0 1.0 1.0 1.0 1.0 1.0 1.0\n",
            "[6, 2, 'From', False]  1.0 | 1.0 1.0 1.0 1.0 1.0 1.0 1.0 1.0\n",
            "[6, 2, 'To', False]  1.0 | 1.0 1.0 1.0 1.0 1.0 1.0 1.0 1.0\n",
            "[6, 2, 'MeanColumns', False]  1.0 | 1.0 1.0 1.0 1.0 1.0 1.0 1.0 1.0\n",
            "[6, 2, 'MaxColumns', False]  1.0 | 1.0 1.0 1.0 1.0 1.0 1.0 1.0 1.0\n",
            "[6, 3, 'From', False]  1.0 | 1.0 1.0 1.0 1.0 1.0 1.0 1.0 1.0\n",
            "[6, 3, 'To', False]  1.0 | 1.0 1.0 1.0 1.0 1.0 1.0 1.0 1.0\n",
            "[6, 3, 'MeanColumns', False]  1.0 | 1.0 1.0 1.0 1.0 1.0 1.0 1.0 1.0\n",
            "[6, 3, 'MaxColumns', False]  1.0 | 1.0 1.0 1.0 1.0 1.0 1.0 1.0 1.0\n",
            "[6, 4, 'From', False]  1.0 | 1.0 1.0 1.0 1.0 1.0 1.0 1.0 1.0\n",
            "[6, 4, 'To', False]  1.0 | 1.0 1.0 1.0 1.0 1.0 1.0 1.0 1.0\n",
            "[6, 4, 'MeanColumns', False]  1.0 | 1.0 1.0 1.0 1.0 1.0 1.0 1.0 1.0\n",
            "[6, 4, 'MaxColumns', False]  1.0 | 1.0 1.0 1.0 1.0 1.0 1.0 1.0 1.0\n",
            "[6, 5, 'From', False]  1.0 | 1.0 1.0 1.0 1.0 1.0 1.0 1.0 1.0\n",
            "[6, 5, 'To', False]  1.0 | 1.0 1.0 1.0 1.0 1.0 1.0 1.0 1.0\n",
            "[6, 5, 'MeanColumns', False]  1.0 | 1.0 1.0 1.0 1.0 1.0 1.0 1.0 1.0\n",
            "[6, 5, 'MaxColumns', False]  1.0 | 1.0 1.0 1.0 1.0 1.0 1.0 1.0 1.0\n",
            "[6, 6, 'From', False]  1.0 | 1.0 1.0 1.0 1.0 1.0 1.0 1.0 1.0\n",
            "[6, 6, 'To', False]  1.0 | 1.0 1.0 1.0 1.0 1.0 1.0 1.0 1.0\n",
            "[6, 6, 'MeanColumns', False]  1.0 | 1.0 1.0 1.0 1.0 1.0 1.0 1.0 1.0\n",
            "[6, 6, 'MaxColumns', False]  1.0 | 1.0 1.0 1.0 1.0 1.0 1.0 1.0 1.0\n",
            "[6, 7, 'From', False]  1.0 | 1.0 1.0 1.0 1.0 1.0 1.0 1.0 1.0\n",
            "[6, 7, 'To', False]  1.0 | 1.0 1.0 1.0 1.0 1.0 1.0 1.0 1.0\n",
            "[6, 7, 'MeanColumns', False]  1.0 | 1.0 1.0 1.0 1.0 1.0 1.0 1.0 1.0\n",
            "[6, 7, 'MaxColumns', False]  1.0 | 1.0 1.0 1.0 1.0 1.0 1.0 1.0 1.0\n",
            "[6, 8, 'From', False]  1.0 | 1.0 1.0 1.0 1.0 1.0 1.0 1.0 1.0\n",
            "[6, 8, 'To', False]  1.0 | 1.0 1.0 1.0 1.0 1.0 1.0 1.0 1.0\n",
            "[6, 8, 'MeanColumns', False]  1.0 | 1.0 1.0 1.0 1.0 1.0 1.0 1.0 1.0\n",
            "[6, 8, 'MaxColumns', False]  1.0 | 1.0 1.0 1.0 1.0 1.0 1.0 1.0 1.0\n",
            "[6, 9, 'From', False]  1.0 | 1.0 1.0 1.0 1.0 1.0 1.0 1.0 1.0\n",
            "[6, 9, 'To', False]  1.0 | 1.0 1.0 1.0 1.0 1.0 1.0 1.0 1.0\n",
            "[6, 9, 'MeanColumns', False]  1.0 | 1.0 1.0 1.0 1.0 1.0 1.0 1.0 1.0\n",
            "[6, 9, 'MaxColumns', False]  1.0 | 1.0 1.0 1.0 1.0 1.0 1.0 1.0 1.0\n",
            "[6, 10, 'From', False]  1.0 | 1.0 1.0 1.0 1.0 1.0 1.0 1.0 1.0\n",
            "[6, 10, 'To', False]  1.0 | 1.0 1.0 1.0 1.0 1.0 1.0 1.0 1.0\n",
            "[6, 10, 'MeanColumns', False]  1.0 | 1.0 1.0 1.0 1.0 1.0 1.0 1.0 1.0\n",
            "[6, 10, 'MaxColumns', False]  1.0 | 1.0 1.0 1.0 1.0 1.0 1.0 1.0 1.0\n",
            "[6, 11, 'From', False]  1.0 | 1.0 1.0 1.0 1.0 1.0 1.0 1.0 1.0\n",
            "[6, 11, 'To', False]  1.0 | 1.0 1.0 1.0 1.0 1.0 1.0 1.0 1.0\n",
            "[6, 11, 'MeanColumns', False]  1.0 | 1.0 1.0 1.0 1.0 1.0 1.0 1.0 1.0\n",
            "[6, 11, 'MaxColumns', False]  1.0 | 1.0 1.0 1.0 1.0 1.0 1.0 1.0 1.0\n",
            "[7, 'Mean', 'From', False]  1.0 | 1.0 1.0 1.0 1.0 1.0 1.0 1.0 1.0\n",
            "[7, 'Mean', 'To', False]  1.0 | 1.0 1.0 1.0 1.0 1.0 1.0 1.0 1.0\n",
            "[7, 'Mean', 'MeanColumns', False]  1.0 | 1.0 1.0 1.0 1.0 1.0 1.0 1.0 1.0\n",
            "[7, 'Mean', 'MaxColumns', False]  1.0 | 1.0 1.0 1.0 1.0 1.0 1.0 1.0 1.0\n",
            "[7, 0, 'From', False]  1.0 | 1.0 1.0 1.0 1.0 1.0 1.0 1.0 1.0\n",
            "[7, 0, 'To', False]  1.0 | 1.0 1.0 1.0 1.0 1.0 1.0 1.0 1.0\n",
            "[7, 0, 'MeanColumns', False]  1.0 | 1.0 1.0 1.0 1.0 1.0 1.0 1.0 1.0\n",
            "[7, 0, 'MaxColumns', False]  1.0 | 1.0 1.0 1.0 1.0 1.0 1.0 1.0 1.0\n",
            "[7, 1, 'From', False]  1.0 | 1.0 1.0 1.0 1.0 1.0 1.0 1.0 1.0\n",
            "[7, 1, 'To', False]  1.0 | 1.0 1.0 1.0 1.0 1.0 1.0 1.0 1.0\n",
            "[7, 1, 'MeanColumns', False]  1.0 | 1.0 1.0 1.0 1.0 1.0 1.0 1.0 1.0\n",
            "[7, 1, 'MaxColumns', False]  1.0 | 1.0 1.0 1.0 1.0 1.0 1.0 1.0 1.0\n",
            "[7, 2, 'From', False]  1.0 | 1.0 1.0 1.0 1.0 1.0 1.0 1.0 1.0\n",
            "[7, 2, 'To', False]  1.0 | 1.0 1.0 1.0 1.0 1.0 1.0 1.0 1.0\n",
            "[7, 2, 'MeanColumns', False]  1.0 | 1.0 1.0 1.0 1.0 1.0 1.0 1.0 1.0\n",
            "[7, 2, 'MaxColumns', False]  1.0 | 1.0 1.0 1.0 1.0 1.0 1.0 1.0 1.0\n",
            "[7, 3, 'From', False]  1.0 | 1.0 1.0 1.0 1.0 1.0 1.0 1.0 1.0\n",
            "[7, 3, 'To', False]  1.0 | 1.0 1.0 1.0 1.0 1.0 1.0 1.0 1.0\n",
            "[7, 3, 'MeanColumns', False]  1.0 | 1.0 1.0 1.0 1.0 1.0 1.0 1.0 1.0\n",
            "[7, 3, 'MaxColumns', False]  1.0 | 1.0 1.0 1.0 1.0 1.0 1.0 1.0 1.0\n",
            "[7, 4, 'From', False]  1.0 | 1.0 1.0 1.0 1.0 1.0 1.0 1.0 1.0\n",
            "[7, 4, 'To', False]  1.0 | 1.0 1.0 1.0 1.0 1.0 1.0 1.0 1.0\n",
            "[7, 4, 'MeanColumns', False]  1.0 | 1.0 1.0 1.0 1.0 1.0 1.0 1.0 1.0\n",
            "[7, 4, 'MaxColumns', False]  1.0 | 1.0 1.0 1.0 1.0 1.0 1.0 1.0 1.0\n",
            "[7, 5, 'From', False]  1.0 | 1.0 1.0 1.0 1.0 1.0 1.0 1.0 1.0\n",
            "[7, 5, 'To', False]  1.0 | 1.0 1.0 1.0 1.0 1.0 1.0 1.0 1.0\n",
            "[7, 5, 'MeanColumns', False]  1.0 | 1.0 1.0 1.0 1.0 1.0 1.0 1.0 1.0\n",
            "[7, 5, 'MaxColumns', False]  1.0 | 1.0 1.0 1.0 1.0 1.0 1.0 1.0 1.0\n",
            "[7, 6, 'From', False]  1.0 | 1.0 1.0 1.0 1.0 1.0 1.0 1.0 1.0\n",
            "[7, 6, 'To', False]  1.0 | 1.0 1.0 1.0 1.0 1.0 1.0 1.0 1.0\n",
            "[7, 6, 'MeanColumns', False]  1.0 | 1.0 1.0 1.0 1.0 1.0 1.0 1.0 1.0\n",
            "[7, 6, 'MaxColumns', False]  1.0 | 1.0 1.0 1.0 1.0 1.0 1.0 1.0 1.0\n",
            "[7, 7, 'From', False]  1.0 | 1.0 1.0 1.0 1.0 1.0 1.0 1.0 1.0\n",
            "[7, 7, 'To', False]  1.0 | 1.0 1.0 1.0 1.0 1.0 1.0 1.0 1.0\n",
            "[7, 7, 'MeanColumns', False]  1.0 | 1.0 1.0 1.0 1.0 1.0 1.0 1.0 1.0\n",
            "[7, 7, 'MaxColumns', False]  1.0 | 1.0 1.0 1.0 1.0 1.0 1.0 1.0 1.0\n",
            "[7, 8, 'From', False]  1.0 | 1.0 1.0 1.0 1.0 1.0 1.0 1.0 1.0\n",
            "[7, 8, 'To', False]  1.0 | 1.0 1.0 1.0 1.0 1.0 1.0 1.0 1.0\n",
            "[7, 8, 'MeanColumns', False]  1.0 | 1.0 1.0 1.0 1.0 1.0 1.0 1.0 1.0\n",
            "[7, 8, 'MaxColumns', False]  1.0 | 1.0 1.0 1.0 1.0 1.0 1.0 1.0 1.0\n",
            "[7, 9, 'From', False]  1.0 | 1.0 1.0 1.0 1.0 1.0 1.0 1.0 1.0\n",
            "[7, 9, 'To', False]  1.0 | 1.0 1.0 1.0 1.0 1.0 1.0 1.0 1.0\n",
            "[7, 9, 'MeanColumns', False]  1.0 | 1.0 1.0 1.0 1.0 1.0 1.0 1.0 1.0\n",
            "[7, 9, 'MaxColumns', False]  1.0 | 1.0 1.0 1.0 1.0 1.0 1.0 1.0 1.0\n",
            "[7, 10, 'From', False]  1.0 | 1.0 1.0 1.0 1.0 1.0 1.0 1.0 1.0\n",
            "[7, 10, 'To', False]  1.0 | 1.0 1.0 1.0 1.0 1.0 1.0 1.0 1.0\n",
            "[7, 10, 'MeanColumns', False]  1.0 | 1.0 1.0 1.0 1.0 1.0 1.0 1.0 1.0\n",
            "[7, 10, 'MaxColumns', False]  1.0 | 1.0 1.0 1.0 1.0 1.0 1.0 1.0 1.0\n",
            "[7, 11, 'From', False]  1.0 | 1.0 1.0 1.0 1.0 1.0 1.0 1.0 1.0\n",
            "[7, 11, 'To', False]  1.0 | 1.0 1.0 1.0 1.0 1.0 1.0 1.0 1.0\n",
            "[7, 11, 'MeanColumns', False]  1.0 | 1.0 1.0 1.0 1.0 1.0 1.0 1.0 1.0\n",
            "[7, 11, 'MaxColumns', False]  1.0 | 1.0 1.0 1.0 1.0 1.0 1.0 1.0 1.0\n",
            "[8, 'Mean', 'From', False]  1.0 | 1.0 1.0 1.0 1.0 1.0 1.0 1.0 1.0\n",
            "[8, 'Mean', 'To', False]  1.0 | 1.0 1.0 1.0 1.0 1.0 1.0 1.0 1.0\n",
            "[8, 'Mean', 'MeanColumns', False]  1.0 | 1.0 1.0 1.0 1.0 1.0 1.0 1.0 1.0\n",
            "[8, 'Mean', 'MaxColumns', False]  1.0 | 1.0 1.0 1.0 1.0 1.0 1.0 1.0 1.0\n",
            "[8, 0, 'From', False]  1.0 | 1.0 1.0 1.0 1.0 1.0 1.0 1.0 1.0\n",
            "[8, 0, 'To', False]  1.0 | 1.0 1.0 1.0 1.0 1.0 1.0 1.0 1.0\n",
            "[8, 0, 'MeanColumns', False]  1.0 | 1.0 1.0 1.0 1.0 1.0 1.0 1.0 1.0\n",
            "[8, 0, 'MaxColumns', False]  1.0 | 1.0 1.0 1.0 1.0 1.0 1.0 1.0 1.0\n",
            "[8, 1, 'From', False]  1.0 | 1.0 1.0 1.0 1.0 1.0 1.0 1.0 1.0\n",
            "[8, 1, 'To', False]  1.0 | 1.0 1.0 1.0 1.0 1.0 1.0 1.0 1.0\n",
            "[8, 1, 'MeanColumns', False]  1.0 | 1.0 1.0 1.0 1.0 1.0 1.0 1.0 1.0\n",
            "[8, 1, 'MaxColumns', False]  1.0 | 1.0 1.0 1.0 1.0 1.0 1.0 1.0 1.0\n",
            "[8, 2, 'From', False]  1.0 | 1.0 1.0 1.0 1.0 1.0 1.0 1.0 1.0\n",
            "[8, 2, 'To', False]  1.0 | 1.0 1.0 1.0 1.0 1.0 1.0 1.0 1.0\n",
            "[8, 2, 'MeanColumns', False]  1.0 | 1.0 1.0 1.0 1.0 1.0 1.0 1.0 1.0\n",
            "[8, 2, 'MaxColumns', False]  1.0 | 1.0 1.0 1.0 1.0 1.0 1.0 1.0 1.0\n",
            "[8, 3, 'From', False]  1.0 | 1.0 1.0 1.0 1.0 1.0 1.0 1.0 1.0\n",
            "[8, 3, 'To', False]  1.0 | 1.0 1.0 1.0 1.0 1.0 1.0 1.0 1.0\n",
            "[8, 3, 'MeanColumns', False]  1.0 | 1.0 1.0 1.0 1.0 1.0 1.0 1.0 1.0\n",
            "[8, 3, 'MaxColumns', False]  1.0 | 1.0 1.0 1.0 1.0 1.0 1.0 1.0 1.0\n",
            "[8, 4, 'From', False]  1.0 | 1.0 1.0 1.0 1.0 1.0 1.0 1.0 1.0\n",
            "[8, 4, 'To', False]  1.0 | 1.0 1.0 1.0 1.0 1.0 1.0 1.0 1.0\n",
            "[8, 4, 'MeanColumns', False]  1.0 | 1.0 1.0 1.0 1.0 1.0 1.0 1.0 1.0\n",
            "[8, 4, 'MaxColumns', False]  1.0 | 1.0 1.0 1.0 1.0 1.0 1.0 1.0 1.0\n",
            "[8, 5, 'From', False]  1.0 | 1.0 1.0 1.0 1.0 1.0 1.0 1.0 1.0\n",
            "[8, 5, 'To', False]  1.0 | 1.0 1.0 1.0 1.0 1.0 1.0 1.0 1.0\n",
            "[8, 5, 'MeanColumns', False]  1.0 | 1.0 1.0 1.0 1.0 1.0 1.0 1.0 1.0\n",
            "[8, 5, 'MaxColumns', False]  1.0 | 1.0 1.0 1.0 1.0 1.0 1.0 1.0 1.0\n",
            "[8, 6, 'From', False]  1.0 | 1.0 1.0 1.0 1.0 1.0 1.0 1.0 1.0\n",
            "[8, 6, 'To', False]  1.0 | 1.0 1.0 1.0 1.0 1.0 1.0 1.0 1.0\n",
            "[8, 6, 'MeanColumns', False]  1.0 | 1.0 1.0 1.0 1.0 1.0 1.0 1.0 1.0\n",
            "[8, 6, 'MaxColumns', False]  1.0 | 1.0 1.0 1.0 1.0 1.0 1.0 1.0 1.0\n",
            "[8, 7, 'From', False]  1.0 | 1.0 1.0 1.0 1.0 1.0 1.0 1.0 1.0\n",
            "[8, 7, 'To', False]  1.0 | 1.0 1.0 1.0 1.0 1.0 1.0 1.0 1.0\n",
            "[8, 7, 'MeanColumns', False]  1.0 | 1.0 1.0 1.0 1.0 1.0 1.0 1.0 1.0\n",
            "[8, 7, 'MaxColumns', False]  1.0 | 1.0 1.0 1.0 1.0 1.0 1.0 1.0 1.0\n",
            "[8, 8, 'From', False]  1.0 | 1.0 1.0 1.0 1.0 1.0 1.0 1.0 1.0\n",
            "[8, 8, 'To', False]  1.0 | 1.0 1.0 1.0 1.0 1.0 1.0 1.0 1.0\n",
            "[8, 8, 'MeanColumns', False]  1.0 | 1.0 1.0 1.0 1.0 1.0 1.0 1.0 1.0\n",
            "[8, 8, 'MaxColumns', False]  1.0 | 1.0 1.0 1.0 1.0 1.0 1.0 1.0 1.0\n",
            "[8, 9, 'From', False]  1.0 | 1.0 1.0 1.0 1.0 1.0 1.0 1.0 1.0\n",
            "[8, 9, 'To', False]  1.0 | 1.0 1.0 1.0 1.0 1.0 1.0 1.0 1.0\n",
            "[8, 9, 'MeanColumns', False]  1.0 | 1.0 1.0 1.0 1.0 1.0 1.0 1.0 1.0\n",
            "[8, 9, 'MaxColumns', False]  1.0 | 1.0 1.0 1.0 1.0 1.0 1.0 1.0 1.0\n",
            "[8, 10, 'From', False]  1.0 | 1.0 1.0 1.0 1.0 1.0 1.0 1.0 1.0\n",
            "[8, 10, 'To', False]  1.0 | 1.0 1.0 1.0 1.0 1.0 1.0 1.0 1.0\n",
            "[8, 10, 'MeanColumns', False]  1.0 | 1.0 1.0 1.0 1.0 1.0 1.0 1.0 1.0\n",
            "[8, 10, 'MaxColumns', False]  1.0 | 1.0 1.0 1.0 1.0 1.0 1.0 1.0 1.0\n",
            "[8, 11, 'From', False]  1.0 | 1.0 1.0 1.0 1.0 1.0 1.0 1.0 1.0\n",
            "[8, 11, 'To', False]  1.0 | 1.0 1.0 1.0 1.0 1.0 1.0 1.0 1.0\n",
            "[8, 11, 'MeanColumns', False]  1.0 | 1.0 1.0 1.0 1.0 1.0 1.0 1.0 1.0\n",
            "[8, 11, 'MaxColumns', False]  1.0 | 1.0 1.0 1.0 1.0 1.0 1.0 1.0 1.0\n",
            "[9, 'Mean', 'From', False]  1.0 | 1.0 1.0 1.0 1.0 1.0 1.0 1.0 1.0\n",
            "[9, 'Mean', 'To', False]  1.0 | 1.0 1.0 1.0 1.0 1.0 1.0 1.0 1.0\n",
            "[9, 'Mean', 'MeanColumns', False]  1.0 | 1.0 1.0 1.0 1.0 1.0 1.0 1.0 1.0\n",
            "[9, 'Mean', 'MaxColumns', False]  1.0 | 1.0 1.0 1.0 1.0 1.0 1.0 1.0 1.0\n",
            "[9, 0, 'From', False]  1.0 | 1.0 1.0 1.0 1.0 1.0 1.0 1.0 1.0\n",
            "[9, 0, 'To', False]  1.0 | 1.0 1.0 1.0 1.0 1.0 1.0 1.0 1.0\n",
            "[9, 0, 'MeanColumns', False]  1.0 | 1.0 1.0 1.0 1.0 1.0 1.0 1.0 1.0\n",
            "[9, 0, 'MaxColumns', False]  1.0 | 1.0 1.0 1.0 1.0 1.0 1.0 1.0 1.0\n",
            "[9, 1, 'From', False]  1.0 | 1.0 1.0 1.0 1.0 1.0 1.0 1.0 1.0\n",
            "[9, 1, 'To', False]  1.0 | 1.0 1.0 1.0 1.0 1.0 1.0 1.0 1.0\n",
            "[9, 1, 'MeanColumns', False]  1.0 | 1.0 1.0 1.0 1.0 1.0 1.0 1.0 1.0\n",
            "[9, 1, 'MaxColumns', False]  1.0 | 1.0 1.0 1.0 1.0 1.0 1.0 1.0 1.0\n",
            "[9, 2, 'From', False]  1.0 | 1.0 1.0 1.0 1.0 1.0 1.0 1.0 1.0\n",
            "[9, 2, 'To', False]  1.0 | 1.0 1.0 1.0 1.0 1.0 1.0 1.0 1.0\n",
            "[9, 2, 'MeanColumns', False]  1.0 | 1.0 1.0 1.0 1.0 1.0 1.0 1.0 1.0\n",
            "[9, 2, 'MaxColumns', False]  1.0 | 1.0 1.0 1.0 1.0 1.0 1.0 1.0 1.0\n",
            "[9, 3, 'From', False]  1.0 | 1.0 1.0 1.0 1.0 1.0 1.0 1.0 1.0\n",
            "[9, 3, 'To', False]  1.0 | 1.0 1.0 1.0 1.0 1.0 1.0 1.0 1.0\n",
            "[9, 3, 'MeanColumns', False]  1.0 | 1.0 1.0 1.0 1.0 1.0 1.0 1.0 1.0\n",
            "[9, 3, 'MaxColumns', False]  1.0 | 1.0 1.0 1.0 1.0 1.0 1.0 1.0 1.0\n",
            "[9, 4, 'From', False]  1.0 | 1.0 1.0 1.0 1.0 1.0 1.0 1.0 1.0\n",
            "[9, 4, 'To', False]  1.0 | 1.0 1.0 1.0 1.0 1.0 1.0 1.0 1.0\n",
            "[9, 4, 'MeanColumns', False]  1.0 | 1.0 1.0 1.0 1.0 1.0 1.0 1.0 1.0\n",
            "[9, 4, 'MaxColumns', False]  1.0 | 1.0 1.0 1.0 1.0 1.0 1.0 1.0 1.0\n",
            "[9, 5, 'From', False]  1.0 | 1.0 1.0 1.0 1.0 1.0 1.0 1.0 1.0\n",
            "[9, 5, 'To', False]  1.0 | 1.0 1.0 1.0 1.0 1.0 1.0 1.0 1.0\n",
            "[9, 5, 'MeanColumns', False]  1.0 | 1.0 1.0 1.0 1.0 1.0 1.0 1.0 1.0\n",
            "[9, 5, 'MaxColumns', False]  1.0 | 1.0 1.0 1.0 1.0 1.0 1.0 1.0 1.0\n",
            "[9, 6, 'From', False]  1.0 | 1.0 1.0 1.0 1.0 1.0 1.0 1.0 1.0\n",
            "[9, 6, 'To', False]  1.0 | 1.0 1.0 1.0 1.0 1.0 1.0 1.0 1.0\n",
            "[9, 6, 'MeanColumns', False]  1.0 | 1.0 1.0 1.0 1.0 1.0 1.0 1.0 1.0\n",
            "[9, 6, 'MaxColumns', False]  1.0 | 1.0 1.0 1.0 1.0 1.0 1.0 1.0 1.0\n",
            "[9, 7, 'From', False]  1.0 | 1.0 1.0 1.0 1.0 1.0 1.0 1.0 1.0\n",
            "[9, 7, 'To', False]  1.0 | 1.0 1.0 1.0 1.0 1.0 1.0 1.0 1.0\n",
            "[9, 7, 'MeanColumns', False]  1.0 | 1.0 1.0 1.0 1.0 1.0 1.0 1.0 1.0\n",
            "[9, 7, 'MaxColumns', False]  1.0 | 1.0 1.0 1.0 1.0 1.0 1.0 1.0 1.0\n",
            "[9, 8, 'From', False]  1.0 | 1.0 1.0 1.0 1.0 1.0 1.0 1.0 1.0\n",
            "[9, 8, 'To', False]  1.0 | 1.0 1.0 1.0 1.0 1.0 1.0 1.0 1.0\n",
            "[9, 8, 'MeanColumns', False]  1.0 | 1.0 1.0 1.0 1.0 1.0 1.0 1.0 1.0\n",
            "[9, 8, 'MaxColumns', False]  1.0 | 1.0 1.0 1.0 1.0 1.0 1.0 1.0 1.0\n",
            "[9, 9, 'From', False]  1.0 | 1.0 1.0 1.0 1.0 1.0 1.0 1.0 1.0\n",
            "[9, 9, 'To', False]  1.0 | 1.0 1.0 1.0 1.0 1.0 1.0 1.0 1.0\n",
            "[9, 9, 'MeanColumns', False]  1.0 | 1.0 1.0 1.0 1.0 1.0 1.0 1.0 1.0\n",
            "[9, 9, 'MaxColumns', False]  1.0 | 1.0 1.0 1.0 1.0 1.0 1.0 1.0 1.0\n",
            "[9, 10, 'From', False]  1.0 | 1.0 1.0 1.0 1.0 1.0 1.0 1.0 1.0\n",
            "[9, 10, 'To', False]  1.0 | 1.0 1.0 1.0 1.0 1.0 1.0 1.0 1.0\n",
            "[9, 10, 'MeanColumns', False]  1.0 | 1.0 1.0 1.0 1.0 1.0 1.0 1.0 1.0\n",
            "[9, 10, 'MaxColumns', False]  1.0 | 1.0 1.0 1.0 1.0 1.0 1.0 1.0 1.0\n",
            "[9, 11, 'From', False]  1.0 | 1.0 1.0 1.0 1.0 1.0 1.0 1.0 1.0\n",
            "[9, 11, 'To', False]  1.0 | 1.0 1.0 1.0 1.0 1.0 1.0 1.0 1.0\n",
            "[9, 11, 'MeanColumns', False]  1.0 | 1.0 1.0 1.0 1.0 1.0 1.0 1.0 1.0\n",
            "[9, 11, 'MaxColumns', False]  1.0 | 1.0 1.0 1.0 1.0 1.0 1.0 1.0 1.0\n",
            "[10, 'Mean', 'From', False]  1.0 | 1.0 1.0 1.0 1.0 1.0 1.0 1.0 1.0\n",
            "[10, 'Mean', 'To', False]  1.0 | 1.0 1.0 1.0 1.0 1.0 1.0 1.0 1.0\n",
            "[10, 'Mean', 'MeanColumns', False]  1.0 | 1.0 1.0 1.0 1.0 1.0 1.0 1.0 1.0\n",
            "[10, 'Mean', 'MaxColumns', False]  1.0 | 1.0 1.0 1.0 1.0 1.0 1.0 1.0 1.0\n",
            "[10, 0, 'From', False]  1.0 | 1.0 1.0 1.0 1.0 1.0 1.0 1.0 1.0\n",
            "[10, 0, 'To', False]  1.0 | 1.0 1.0 1.0 1.0 1.0 1.0 1.0 1.0\n",
            "[10, 0, 'MeanColumns', False]  1.0 | 1.0 1.0 1.0 1.0 1.0 1.0 1.0 1.0\n",
            "[10, 0, 'MaxColumns', False]  1.0 | 1.0 1.0 1.0 1.0 1.0 1.0 1.0 1.0\n",
            "[10, 1, 'From', False]  1.0 | 1.0 1.0 1.0 1.0 1.0 1.0 1.0 1.0\n",
            "[10, 1, 'To', False]  1.0 | 1.0 1.0 1.0 1.0 1.0 1.0 1.0 1.0\n",
            "[10, 1, 'MeanColumns', False]  1.0 | 1.0 1.0 1.0 1.0 1.0 1.0 1.0 1.0\n",
            "[10, 1, 'MaxColumns', False]  1.0 | 1.0 1.0 1.0 1.0 1.0 1.0 1.0 1.0\n",
            "[10, 2, 'From', False]  1.0 | 1.0 1.0 1.0 1.0 1.0 1.0 1.0 1.0\n",
            "[10, 2, 'To', False]  1.0 | 1.0 1.0 1.0 1.0 1.0 1.0 1.0 1.0\n",
            "[10, 2, 'MeanColumns', False]  1.0 | 1.0 1.0 1.0 1.0 1.0 1.0 1.0 1.0\n",
            "[10, 2, 'MaxColumns', False]  1.0 | 1.0 1.0 1.0 1.0 1.0 1.0 1.0 1.0\n",
            "[10, 3, 'From', False]  1.0 | 1.0 1.0 1.0 1.0 1.0 1.0 1.0 1.0\n",
            "[10, 3, 'To', False]  1.0 | 1.0 1.0 1.0 1.0 1.0 1.0 1.0 1.0\n",
            "[10, 3, 'MeanColumns', False]  1.0 | 1.0 1.0 1.0 1.0 1.0 1.0 1.0 1.0\n",
            "[10, 3, 'MaxColumns', False]  1.0 | 1.0 1.0 1.0 1.0 1.0 1.0 1.0 1.0\n",
            "[10, 4, 'From', False]  1.0 | 1.0 1.0 1.0 1.0 1.0 1.0 1.0 1.0\n",
            "[10, 4, 'To', False]  1.0 | 1.0 1.0 1.0 1.0 1.0 1.0 1.0 1.0\n",
            "[10, 4, 'MeanColumns', False]  1.0 | 1.0 1.0 1.0 1.0 1.0 1.0 1.0 1.0\n",
            "[10, 4, 'MaxColumns', False]  1.0 | 1.0 1.0 1.0 1.0 1.0 1.0 1.0 1.0\n",
            "[10, 5, 'From', False]  1.0 | 1.0 1.0 1.0 1.0 1.0 1.0 1.0 1.0\n",
            "[10, 5, 'To', False]  1.0 | 1.0 1.0 1.0 1.0 1.0 1.0 1.0 1.0\n",
            "[10, 5, 'MeanColumns', False]  1.0 | 1.0 1.0 1.0 1.0 1.0 1.0 1.0 1.0\n",
            "[10, 5, 'MaxColumns', False]  1.0 | 1.0 1.0 1.0 1.0 1.0 1.0 1.0 1.0\n",
            "[10, 6, 'From', False]  1.0 | 1.0 1.0 1.0 1.0 1.0 1.0 1.0 1.0\n",
            "[10, 6, 'To', False]  1.0 | 1.0 1.0 1.0 1.0 1.0 1.0 1.0 1.0\n",
            "[10, 6, 'MeanColumns', False]  1.0 | 1.0 1.0 1.0 1.0 1.0 1.0 1.0 1.0\n",
            "[10, 6, 'MaxColumns', False]  1.0 | 1.0 1.0 1.0 1.0 1.0 1.0 1.0 1.0\n",
            "[10, 7, 'From', False]  1.0 | 1.0 1.0 1.0 1.0 1.0 1.0 1.0 1.0\n",
            "[10, 7, 'To', False]  1.0 | 1.0 1.0 1.0 1.0 1.0 1.0 1.0 1.0\n",
            "[10, 7, 'MeanColumns', False]  1.0 | 1.0 1.0 1.0 1.0 1.0 1.0 1.0 1.0\n",
            "[10, 7, 'MaxColumns', False]  1.0 | 1.0 1.0 1.0 1.0 1.0 1.0 1.0 1.0\n",
            "[10, 8, 'From', False]  1.0 | 1.0 1.0 1.0 1.0 1.0 1.0 1.0 1.0\n",
            "[10, 8, 'To', False]  1.0 | 1.0 1.0 1.0 1.0 1.0 1.0 1.0 1.0\n",
            "[10, 8, 'MeanColumns', False]  1.0 | 1.0 1.0 1.0 1.0 1.0 1.0 1.0 1.0\n",
            "[10, 8, 'MaxColumns', False]  1.0 | 1.0 1.0 1.0 1.0 1.0 1.0 1.0 1.0\n",
            "[10, 9, 'From', False]  1.0 | 1.0 1.0 1.0 1.0 1.0 1.0 1.0 1.0\n",
            "[10, 9, 'To', False]  1.0 | 1.0 1.0 1.0 1.0 1.0 1.0 1.0 1.0\n",
            "[10, 9, 'MeanColumns', False]  1.0 | 1.0 1.0 1.0 1.0 1.0 1.0 1.0 1.0\n",
            "[10, 9, 'MaxColumns', False]  1.0 | 1.0 1.0 1.0 1.0 1.0 1.0 1.0 1.0\n",
            "[10, 10, 'From', False]  1.0 | 1.0 1.0 1.0 1.0 1.0 1.0 1.0 1.0\n",
            "[10, 10, 'To', False]  1.0 | 1.0 1.0 1.0 1.0 1.0 1.0 1.0 1.0\n",
            "[10, 10, 'MeanColumns', False]  1.0 | 1.0 1.0 1.0 1.0 1.0 1.0 1.0 1.0\n",
            "[10, 10, 'MaxColumns', False]  1.0 | 1.0 1.0 1.0 1.0 1.0 1.0 1.0 1.0\n",
            "[10, 11, 'From', False]  1.0 | 1.0 1.0 1.0 1.0 1.0 1.0 1.0 1.0\n",
            "[10, 11, 'To', False]  1.0 | 1.0 1.0 1.0 1.0 1.0 1.0 1.0 1.0\n",
            "[10, 11, 'MeanColumns', False]  1.0 | 1.0 1.0 1.0 1.0 1.0 1.0 1.0 1.0\n",
            "[10, 11, 'MaxColumns', False]  1.0 | 1.0 1.0 1.0 1.0 1.0 1.0 1.0 1.0\n",
            "[11, 'Mean', 'From', False]  1.0 | 1.0 1.0 1.0 1.0 1.0 1.0 1.0 1.0\n",
            "[11, 'Mean', 'To', False]  1.0 | 1.0 1.0 1.0 1.0 1.0 1.0 1.0 1.0\n",
            "[11, 'Mean', 'MeanColumns', False]  1.0 | 1.0 1.0 1.0 1.0 1.0 1.0 1.0 1.0\n",
            "[11, 'Mean', 'MaxColumns', False]  1.0 | 1.0 1.0 1.0 1.0 1.0 1.0 1.0 1.0\n",
            "[11, 0, 'From', False]  1.0 | 1.0 1.0 1.0 1.0 1.0 1.0 1.0 1.0\n",
            "[11, 0, 'To', False]  1.0 | 1.0 1.0 1.0 1.0 1.0 1.0 1.0 1.0\n",
            "[11, 0, 'MeanColumns', False]  1.0 | 1.0 1.0 1.0 1.0 1.0 1.0 1.0 1.0\n",
            "[11, 0, 'MaxColumns', False]  1.0 | 1.0 1.0 1.0 1.0 1.0 1.0 1.0 1.0\n",
            "[11, 1, 'From', False]  1.0 | 1.0 1.0 1.0 1.0 1.0 1.0 1.0 1.0\n",
            "[11, 1, 'To', False]  1.0 | 1.0 1.0 1.0 1.0 1.0 1.0 1.0 1.0\n",
            "[11, 1, 'MeanColumns', False]  1.0 | 1.0 1.0 1.0 1.0 1.0 1.0 1.0 1.0\n",
            "[11, 1, 'MaxColumns', False]  1.0 | 1.0 1.0 1.0 1.0 1.0 1.0 1.0 1.0\n",
            "[11, 2, 'From', False]  1.0 | 1.0 1.0 1.0 1.0 1.0 1.0 1.0 1.0\n",
            "[11, 2, 'To', False]  1.0 | 1.0 1.0 1.0 1.0 1.0 1.0 1.0 1.0\n",
            "[11, 2, 'MeanColumns', False]  1.0 | 1.0 1.0 1.0 1.0 1.0 1.0 1.0 1.0\n",
            "[11, 2, 'MaxColumns', False]  1.0 | 1.0 1.0 1.0 1.0 1.0 1.0 1.0 1.0\n",
            "[11, 3, 'From', False]  1.0 | 1.0 1.0 1.0 1.0 1.0 1.0 1.0 1.0\n",
            "[11, 3, 'To', False]  1.0 | 1.0 1.0 1.0 1.0 1.0 1.0 1.0 1.0\n",
            "[11, 3, 'MeanColumns', False]  1.0 | 1.0 1.0 1.0 1.0 1.0 1.0 1.0 1.0\n",
            "[11, 3, 'MaxColumns', False]  1.0 | 1.0 1.0 1.0 1.0 1.0 1.0 1.0 1.0\n",
            "[11, 4, 'From', False]  1.0 | 1.0 1.0 1.0 1.0 1.0 1.0 1.0 1.0\n",
            "[11, 4, 'To', False]  1.0 | 1.0 1.0 1.0 1.0 1.0 1.0 1.0 1.0\n",
            "[11, 4, 'MeanColumns', False]  1.0 | 1.0 1.0 1.0 1.0 1.0 1.0 1.0 1.0\n",
            "[11, 4, 'MaxColumns', False]  1.0 | 1.0 1.0 1.0 1.0 1.0 1.0 1.0 1.0\n",
            "[11, 5, 'From', False]  1.0 | 1.0 1.0 1.0 1.0 1.0 1.0 1.0 1.0\n",
            "[11, 5, 'To', False]  1.0 | 1.0 1.0 1.0 1.0 1.0 1.0 1.0 1.0\n",
            "[11, 5, 'MeanColumns', False]  1.0 | 1.0 1.0 1.0 1.0 1.0 1.0 1.0 1.0\n",
            "[11, 5, 'MaxColumns', False]  1.0 | 1.0 1.0 1.0 1.0 1.0 1.0 1.0 1.0\n",
            "[11, 6, 'From', False]  1.0 | 1.0 1.0 1.0 1.0 1.0 1.0 1.0 1.0\n",
            "[11, 6, 'To', False]  1.0 | 1.0 1.0 1.0 1.0 1.0 1.0 1.0 1.0\n",
            "[11, 6, 'MeanColumns', False]  1.0 | 1.0 1.0 1.0 1.0 1.0 1.0 1.0 1.0\n",
            "[11, 6, 'MaxColumns', False]  1.0 | 1.0 1.0 1.0 1.0 1.0 1.0 1.0 1.0\n",
            "[11, 7, 'From', False]  1.0 | 1.0 1.0 1.0 1.0 1.0 1.0 1.0 1.0\n",
            "[11, 7, 'To', False]  1.0 | 1.0 1.0 1.0 1.0 1.0 1.0 1.0 1.0\n",
            "[11, 7, 'MeanColumns', False]  1.0 | 1.0 1.0 1.0 1.0 1.0 1.0 1.0 1.0\n",
            "[11, 7, 'MaxColumns', False]  1.0 | 1.0 1.0 1.0 1.0 1.0 1.0 1.0 1.0\n",
            "[11, 8, 'From', False]  1.0 | 1.0 1.0 1.0 1.0 1.0 1.0 1.0 1.0\n",
            "[11, 8, 'To', False]  1.0 | 1.0 1.0 1.0 1.0 1.0 1.0 1.0 1.0\n",
            "[11, 8, 'MeanColumns', False]  1.0 | 1.0 1.0 1.0 1.0 1.0 1.0 1.0 1.0\n",
            "[11, 8, 'MaxColumns', False]  1.0 | 1.0 1.0 1.0 1.0 1.0 1.0 1.0 1.0\n",
            "[11, 9, 'From', False]  1.0 | 1.0 1.0 1.0 1.0 1.0 1.0 1.0 1.0\n",
            "[11, 9, 'To', False]  1.0 | 1.0 1.0 1.0 1.0 1.0 1.0 1.0 1.0\n",
            "[11, 9, 'MeanColumns', False]  1.0 | 1.0 1.0 1.0 1.0 1.0 1.0 1.0 1.0\n",
            "[11, 9, 'MaxColumns', False]  1.0 | 1.0 1.0 1.0 1.0 1.0 1.0 1.0 1.0\n",
            "[11, 10, 'From', False]  1.0 | 1.0 1.0 1.0 1.0 1.0 1.0 1.0 1.0\n",
            "[11, 10, 'To', False]  1.0 | 1.0 1.0 1.0 1.0 1.0 1.0 1.0 1.0\n",
            "[11, 10, 'MeanColumns', False]  1.0 | 1.0 1.0 1.0 1.0 1.0 1.0 1.0 1.0\n",
            "[11, 10, 'MaxColumns', False]  1.0 | 1.0 1.0 1.0 1.0 1.0 1.0 1.0 1.0\n",
            "[11, 11, 'From', False]  1.0 | 1.0 1.0 1.0 1.0 1.0 1.0 1.0 1.0\n",
            "[11, 11, 'To', False]  1.0 | 1.0 1.0 1.0 1.0 1.0 1.0 1.0 1.0\n",
            "[11, 11, 'MeanColumns', False]  1.0 | 1.0 1.0 1.0 1.0 1.0 1.0 1.0 1.0\n",
            "[11, 11, 'MaxColumns', False]  1.0 | 1.0 1.0 1.0 1.0 1.0 1.0 1.0 1.0\n"
          ]
        }
      ],
      "source": [
        "print_results(file_name+' (A)', conf, metrics, label_names)"
      ]
    },
    {
      "cell_type": "code",
      "execution_count": null,
      "metadata": {
        "colab": {
          "base_uri": "https://localhost:8080/"
        },
        "id": "BIN0K0zs_B53",
        "outputId": "086d5948-c1dc-4ef8-bc5b-0829fb857506"
      },
      "outputs": [
        {
          "output_type": "stream",
          "name": "stdout",
          "text": [
            "FTP\n",
            "['Mean', 'Mean', 'From', False]  0.30974 | 0.1631 0.23266 0.23748 0.29964 0.48795 0.17011 0.26355 0.62341\n",
            "['Mean', 'Mean', 'To', False]  0.25168 | 0.14237 0.12252 0.10843 0.21728 0.45916 0.17018 0.33696 0.45653\n",
            "['Mean', 'Mean', 'MeanColumns', False]  0.28332 | 0.18717 0.29783 0.24088 0.25124 0.46858 0.13381 0.13584 0.55125\n",
            "['Mean', 'Mean', 'MaxColumns', False]  0.20608 | 0.15659 0.29082 0.10312 0.17844 0.36759 0.16795 0.09577 0.28838\n",
            "['Mean', 0, 'From', False]  0.31536 | 0.15039 0.20529 0.22588 0.29032 0.56005 0.17177 0.2594 0.65979\n",
            "['Mean', 0, 'To', False]  0.29258 | 0.08088 0.159 0.2222 0.35735 0.43073 0.20673 0.34499 0.53875\n",
            "['Mean', 0, 'MeanColumns', False]  0.25979 | 0.29211 0.23499 0.1892 0.22406 0.50011 0.11916 0.06939 0.44932\n",
            "['Mean', 0, 'MaxColumns', False]  0.25106 | 0.20705 0.22391 0.14583 0.25185 0.57341 0.1409 0.10579 0.35971\n",
            "['Mean', 1, 'From', False]  0.30868 | 0.1359 0.19666 0.21222 0.30176 0.48444 0.17391 0.35987 0.60465\n",
            "['Mean', 1, 'To', False]  0.29191 | 0.15665 0.12157 0.13242 0.33688 0.47255 0.18378 0.36388 0.56755\n",
            "['Mean', 1, 'MeanColumns', False]  0.2767 | 0.15428 0.23895 0.2344 0.28632 0.39176 0.15919 0.2342 0.51448\n",
            "['Mean', 1, 'MaxColumns', False]  0.23175 | 0.16015 0.19103 0.08883 0.33263 0.3134 0.09915 0.28133 0.38745\n",
            "['Mean', 2, 'From', False]  0.27478 | 0.20455 0.2138 0.2109 0.27684 0.44549 0.18356 0.14952 0.51361\n",
            "['Mean', 2, 'To', False]  0.22671 | 0.14965 0.13421 0.12169 0.195 0.53457 0.12947 0.21506 0.33407\n",
            "['Mean', 2, 'MeanColumns', False]  0.24088 | 0.1947 0.24779 0.17065 0.24919 0.42722 0.15547 0.11379 0.36821\n",
            "['Mean', 2, 'MaxColumns', False]  0.172 | 0.10047 0.25779 0.11811 0.16295 0.27284 0.09869 0.07957 0.28558\n",
            "['Mean', 3, 'From', False]  0.26504 | 0.22413 0.27265 0.24621 0.24885 0.47553 0.0854 0.14236 0.42522\n",
            "['Mean', 3, 'To', False]  0.2333 | 0.12415 0.13974 0.10093 0.18353 0.50053 0.18784 0.29026 0.33941\n",
            "['Mean', 3, 'MeanColumns', False]  0.23129 | 0.23228 0.29668 0.23108 0.15779 0.31778 0.11973 0.07489 0.42012\n",
            "['Mean', 3, 'MaxColumns', False]  0.20837 | 0.1644 0.27412 0.15671 0.15179 0.32453 0.05645 0.16771 0.37126\n",
            "['Mean', 4, 'From', False]  0.31946 | 0.10752 0.18481 0.23746 0.32374 0.55502 0.19088 0.25885 0.69743\n",
            "['Mean', 4, 'To', False]  0.29439 | 0.17909 0.13614 0.25326 0.26725 0.4836 0.09351 0.26432 0.67793\n",
            "['Mean', 4, 'MeanColumns', False]  0.24503 | 0.10244 0.27945 0.20396 0.24983 0.44421 0.08723 0.19959 0.39355\n",
            "['Mean', 4, 'MaxColumns', False]  0.28669 | 0.15856 0.24392 0.30962 0.20029 0.57634 0.16817 0.16838 0.46827\n",
            "['Mean', 5, 'From', False]  0.27224 | 0.12442 0.27149 0.17827 0.23363 0.4434 0.1178 0.22578 0.58316\n",
            "['Mean', 5, 'To', False]  0.20338 | 0.15285 0.16665 0.04054 0.2649 0.31464 0.25146 0.16377 0.2722\n",
            "['Mean', 5, 'MeanColumns', False]  0.18985 | 0.12962 0.30953 0.12177 0.16913 0.23084 0.11267 0.10123 0.34402\n",
            "['Mean', 5, 'MaxColumns', False]  0.14826 | 0.121 0.23938 0.04084 0.19485 0.20782 0.03341 0.08961 0.25913\n",
            "['Mean', 6, 'From', False]  0.29676 | 0.18664 0.24668 0.24846 0.26802 0.43081 0.17543 0.21856 0.59949\n",
            "['Mean', 6, 'To', False]  0.20071 | 0.15649 0.15827 0.1333 0.17352 0.39906 0.10398 0.10544 0.37559\n",
            "['Mean', 6, 'MeanColumns', False]  0.25479 | 0.1659 0.3082 0.19656 0.22808 0.43827 0.1747 0.11695 0.40969\n",
            "['Mean', 6, 'MaxColumns', False]  0.20194 | 0.22994 0.21297 0.11799 0.18019 0.33868 0.13865 0.06906 0.32802\n",
            "['Mean', 7, 'From', False]  0.22454 | 0.14703 0.28296 0.2146 0.18753 0.24619 0.12309 0.15086 0.44405\n",
            "['Mean', 7, 'To', False]  0.15998 | 0.14102 0.17764 0.04218 0.12495 0.26907 0.12046 0.1357 0.26886\n",
            "['Mean', 7, 'MeanColumns', False]  0.26228 | 0.14102 0.24114 0.20571 0.25112 0.41126 0.1329 0.22474 0.49033\n",
            "['Mean', 7, 'MaxColumns', False]  0.22116 | 0.13878 0.27314 0.13205 0.17655 0.30928 0.1442 0.145 0.45024\n",
            "['Mean', 8, 'From', False]  0.27797 | 0.13252 0.22838 0.22452 0.28534 0.51062 0.18781 0.23388 0.42068\n",
            "['Mean', 8, 'To', False]  0.25142 | 0.19876 0.15355 0.07271 0.26321 0.28417 0.18358 0.29251 0.56286\n",
            "['Mean', 8, 'MeanColumns', False]  0.2459 | 0.20905 0.28059 0.19475 0.2427 0.31474 0.19002 0.14752 0.38785\n",
            "['Mean', 8, 'MaxColumns', False]  0.23342 | 0.14667 0.21688 0.10017 0.28236 0.23342 0.26056 0.28355 0.34377\n",
            "['Mean', 9, 'From', False]  0.31121 | 0.14456 0.22271 0.23964 0.29311 0.53949 0.12216 0.28783 0.6402\n",
            "['Mean', 9, 'To', False]  0.25312 | 0.12129 0.15665 0.21065 0.24647 0.46122 0.19563 0.24351 0.38953\n",
            "['Mean', 9, 'MeanColumns', False]  0.28195 | 0.13894 0.30435 0.21081 0.25159 0.47402 0.15397 0.1779 0.54398\n",
            "['Mean', 9, 'MaxColumns', False]  0.25612 | 0.11419 0.27829 0.15966 0.16431 0.4936 0.1091 0.28425 0.44557\n",
            "['Mean', 10, 'From', False]  0.28175 | 0.23888 0.26381 0.24305 0.28084 0.44608 0.18462 0.12566 0.47102\n",
            "['Mean', 10, 'To', False]  0.28591 | 0.07554 0.14829 0.16774 0.28286 0.56915 0.20331 0.34468 0.49571\n",
            "['Mean', 10, 'MeanColumns', False]  0.22911 | 0.19831 0.28782 0.16645 0.21106 0.46777 0.12547 0.07213 0.30388\n",
            "['Mean', 10, 'MaxColumns', False]  0.17505 | 0.17824 0.25962 0.13247 0.15033 0.32953 0.06476 0.06379 0.22169\n",
            "['Mean', 11, 'From', False]  0.24478 | 0.14165 0.20899 0.15129 0.22151 0.43698 0.18404 0.12223 0.49154\n",
            "['Mean', 11, 'To', False]  0.1821 | 0.07693 0.19371 0.08363 0.17443 0.33186 0.10794 0.2181 0.27025\n",
            "['Mean', 11, 'MeanColumns', False]  0.24811 | 0.17046 0.22421 0.1538 0.22347 0.46213 0.12548 0.16774 0.45755\n",
            "['Mean', 11, 'MaxColumns', False]  0.19529 | 0.15167 0.25403 0.105 0.20524 0.35664 0.07968 0.07418 0.33586\n",
            "[0, 'Mean', 'From', False]  0.10709 | -0.00291 0.12679 0.02282 0.01993 0.25788 0.06613 0.13895 0.22716\n",
            "[0, 'Mean', 'To', False]  0.1679 | 0.07449 0.22879 0.06631 0.15911 0.32425 0.03206 0.19653 0.26167\n",
            "[0, 'Mean', 'MeanColumns', False]  0.22915 | 0.21483 0.25765 0.08477 0.22269 0.2608 0.11141 0.23952 0.44152\n",
            "[0, 'Mean', 'MaxColumns', False]  0.17707 | 0.21329 0.23574 0.07047 0.17296 0.23285 0.07321 0.11158 0.30648\n",
            "[0, 0, 'From', False]  -0.019 | -0.02097 -0.05631 -0.01555 -0.08591 -0.10407 0.01236 0.10433 0.01413\n",
            "[0, 0, 'To', False]  0.23712 | 0.09966 0.21714 0.08921 0.30535 0.34054 0.06729 0.22627 0.55148\n",
            "[0, 0, 'MeanColumns', False]  0.19628 | 0.11063 0.20933 0.06562 0.2435 0.3396 0.06073 0.10829 0.43251\n",
            "[0, 0, 'MaxColumns', False]  0.16117 | 0.16243 0.2182 0.04683 0.16584 0.32128 0.06027 0.05327 0.26119\n",
            "[0, 1, 'From', False]  0.06056 | 0.12935 0.05813 0.01471 0.11314 0.05153 -0.00868 0.07758 0.04874\n",
            "[0, 1, 'To', False]  0.13214 | 0.05698 0.17701 0.04286 0.13746 0.29841 0.03405 0.07237 0.23799\n",
            "[0, 1, 'MeanColumns', False]  0.18761 | 0.22983 0.24319 0.04794 0.22981 0.2421 0.06427 0.11798 0.32577\n",
            "[0, 1, 'MaxColumns', False]  0.18046 | 0.12978 0.23081 0.15813 0.13496 0.29293 0.05651 0.14124 0.29936\n",
            "[0, 2, 'From', False]  0.07652 | -0.0361 -0.0131 -0.05233 0.13252 0.26343 0.07055 0.01003 0.23718\n",
            "[0, 2, 'To', False]  0.17392 | 0.21649 0.23095 0.04182 0.23954 0.2954 0.06312 0.0625 0.24151\n",
            "[0, 2, 'MeanColumns', False]  0.13463 | 0.12912 0.21715 0.04379 0.10648 0.16457 0.04707 0.09915 0.26974\n",
            "[0, 2, 'MaxColumns', False]  0.1858 | 0.10583 0.27592 0.13145 0.1654 0.25662 0.02574 0.14199 0.38347\n",
            "[0, 3, 'From', False]  0.09918 | 0.06877 0.10835 0.13441 0.04797 0.18585 -0.0068 0.0638 0.1911\n",
            "[0, 3, 'To', False]  0.18352 | 0.11671 0.17853 -0.03149 0.23731 0.4825 0.03509 0.26995 0.17952\n",
            "[0, 3, 'MeanColumns', False]  0.17854 | 0.14578 0.17717 0.13746 0.11371 0.27599 0.08019 0.16826 0.32972\n",
            "[0, 3, 'MaxColumns', False]  0.25153 | 0.1715 0.16195 0.23337 0.31268 0.28462 0.11234 0.25027 0.48547\n",
            "[0, 4, 'From', False]  0.05408 | -0.01531 0.04608 -0.04223 0.18193 0.07202 0.02289 0.00087 0.16637\n",
            "[0, 4, 'To', False]  0.16822 | 0.14989 0.19911 0.04014 0.13551 0.32382 0.04759 0.10179 0.34793\n",
            "[0, 4, 'MeanColumns', False]  0.17784 | 0.18961 0.25254 0.07357 0.25366 0.21714 0.0398 0.07388 0.32252\n",
            "[0, 4, 'MaxColumns', False]  0.2576 | 0.18511 0.15613 0.25441 0.25642 0.39062 0.09634 0.25442 0.46737\n",
            "[0, 5, 'From', False]  -0.02193 | -0.15811 0.09072 -0.04263 -0.14479 0.04582 0.01957 -0.03122 0.04521\n",
            "[0, 5, 'To', False]  0.23936 | 0.16576 0.21829 0.08869 0.23616 0.37043 0.06526 0.11745 0.6528\n",
            "[0, 5, 'MeanColumns', False]  0.13612 | 0.06753 0.26472 0.04658 0.12138 0.25047 0.04074 0.06242 0.23516\n",
            "[0, 5, 'MaxColumns', False]  0.16953 | 0.11884 0.22023 0.03543 0.18925 0.30036 0.07438 0.1089 0.30886\n",
            "[0, 6, 'From', False]  0.00952 | 0.14522 0.1515 -0.05173 -0.16037 0.0144 -0.00665 0.03971 -0.05592\n",
            "[0, 6, 'To', False]  0.23384 | 0.12351 0.20484 0.12081 0.18666 0.57849 0.07478 0.19076 0.39087\n",
            "[0, 6, 'MeanColumns', False]  0.1883 | 0.24053 0.26466 0.12809 0.15296 0.34126 0.07578 0.05174 0.25135\n",
            "[0, 6, 'MaxColumns', False]  0.1891 | 0.21211 0.22932 0.14011 0.13394 0.34489 0.07377 0.05578 0.32286\n",
            "[0, 7, 'From', False]  0.0323 | 0.0643 0.15517 0.08278 0.0036 -0.16528 0.01823 -0.0128 0.11237\n",
            "[0, 7, 'To', False]  -0.09108 | -0.07002 -0.10051 0.04948 -0.08898 -0.26074 -0.0307 -0.16375 -0.06338\n",
            "[0, 7, 'MeanColumns', False]  0.10982 | 0.05462 0.16161 0.0642 0.08896 0.17682 0.05291 0.06532 0.21413\n",
            "[0, 7, 'MaxColumns', False]  0.2061 | 0.12058 0.21558 0.2132 0.18074 0.41917 0.05395 0.07583 0.36979\n",
            "[0, 8, 'From', False]  -0.12277 | -0.13187 -0.13198 -0.1348 -0.19184 -0.12148 -0.06225 0.06914 -0.27706\n",
            "[0, 8, 'To', False]  0.22372 | 0.13006 0.16259 0.10643 0.24979 0.3204 0.11458 0.14349 0.56245\n",
            "[0, 8, 'MeanColumns', False]  0.16176 | 0.13421 0.28606 0.09799 0.10013 0.19488 0.05561 0.13542 0.28976\n",
            "[0, 8, 'MaxColumns', False]  0.16977 | 0.1264 0.25146 0.10264 0.15472 0.24142 0.06165 0.13672 0.28312\n",
            "[0, 9, 'From', False]  0.10718 | 0.0733 0.03426 0.00108 0.09377 0.20049 0.02314 0.24864 0.18272\n",
            "[0, 9, 'To', False]  0.15222 | 0.08303 0.21675 0.04181 0.14687 0.30585 0.07048 0.07659 0.27638\n",
            "[0, 9, 'MeanColumns', False]  0.25157 | 0.20783 0.21874 0.09738 0.32095 0.31196 0.13451 0.15334 0.56783\n",
            "[0, 9, 'MaxColumns', False]  0.20299 | 0.17636 0.28983 0.12603 0.16068 0.29254 0.08873 0.10507 0.38467\n",
            "[0, 10, 'From', False]  0.18656 | 0.12187 0.16953 0.05882 0.22853 0.39321 0.08104 0.162 0.27745\n",
            "[0, 10, 'To', False]  0.19505 | 0.07069 0.13596 0.0598 0.18885 0.40559 0.14167 0.28157 0.27626\n",
            "[0, 10, 'MeanColumns', False]  0.1539 | 0.1463 0.19221 0.04521 0.11993 0.28772 0.04398 0.10785 0.28799\n",
            "[0, 10, 'MaxColumns', False]  0.17724 | 0.14939 0.23387 0.07605 0.14677 0.21438 0.06061 0.13843 0.39839\n",
            "[0, 11, 'From', False]  0.03213 | -0.03707 -0.02006 -0.01803 -0.01102 0.15204 0.02477 0.06616 0.10023\n",
            "[0, 11, 'To', False]  0.16021 | 0.09144 0.23533 0.06862 0.15295 0.29589 0.03094 0.18929 0.21725\n",
            "[0, 11, 'MeanColumns', False]  0.24604 | 0.14234 0.20475 0.14684 0.2158 0.38832 0.18276 0.23298 0.45455\n",
            "[0, 11, 'MaxColumns', False]  0.19154 | 0.21063 0.20257 0.15061 0.21789 0.35154 0.05523 0.06705 0.27678\n",
            "[1, 'Mean', 'From', False]  0.08197 | 0.07039 0.07627 0.00989 0.0656 0.07831 0.07242 0.07756 0.20536\n",
            "[1, 'Mean', 'To', False]  0.17118 | 0.13824 0.18037 0.05992 0.13416 0.35646 0.08407 0.11768 0.29855\n",
            "[1, 'Mean', 'MeanColumns', False]  0.1757 | 0.14438 0.22761 0.09437 0.1086 0.32331 0.1402 0.08594 0.28115\n",
            "[1, 'Mean', 'MaxColumns', False]  0.1738 | 0.08109 0.23334 0.05995 0.1202 0.4036 0.12858 0.08022 0.28345\n",
            "[1, 0, 'From', False]  0.03982 | 0.05795 0.00511 0.04456 0.07183 0.06901 0.0578 -0.08503 0.09731\n",
            "[1, 0, 'To', False]  0.20348 | 0.12876 0.22693 0.14958 0.13221 0.41244 0.11641 0.13196 0.32957\n",
            "[1, 0, 'MeanColumns', False]  0.20703 | 0.21572 0.1976 0.14712 0.10715 0.39956 0.15566 0.09508 0.33834\n",
            "[1, 0, 'MaxColumns', False]  0.19773 | 0.15453 0.21814 0.10002 0.1729 0.45318 0.12153 0.08045 0.2811\n",
            "[1, 1, 'From', False]  -0.08529 | -0.06641 -0.00425 -0.07744 -0.12966 -0.28213 -0.0231 0.04425 -0.1436\n",
            "[1, 1, 'To', False]  0.169 | 0.08387 0.2573 0.0896 0.13759 0.29706 0.09369 0.14212 0.25081\n",
            "[1, 1, 'MeanColumns', False]  0.16178 | 0.06907 0.25113 0.05824 0.12913 0.28008 0.08459 0.15103 0.271\n",
            "[1, 1, 'MaxColumns', False]  0.1609 | 0.12421 0.19743 0.03342 0.13668 0.27678 0.10487 0.13565 0.27817\n",
            "[1, 2, 'From', False]  -0.04635 | -0.04736 -0.08401 -0.0446 -0.02421 -0.11095 0.0607 -0.09621 -0.02419\n",
            "[1, 2, 'To', False]  0.18752 | 0.07523 0.22116 0.12275 0.1182 0.50389 0.04997 0.16116 0.24779\n",
            "[1, 2, 'MeanColumns', False]  0.0698 | 0.09395 -0.00563 0.0519 0.02098 0.14609 0.05499 0.13214 0.064\n",
            "[1, 2, 'MaxColumns', False]  0.20002 | 0.08351 0.23479 0.12183 0.14877 0.34253 0.12835 0.12775 0.41264\n",
            "[1, 3, 'From', False]  -0.01899 | -0.01192 -0.07472 0.01617 -0.11604 0.1003 -0.02093 0.00994 -0.05473\n",
            "[1, 3, 'To', False]  0.22023 | 0.17817 0.23485 0.13985 0.16252 0.48543 0.1484 0.12405 0.28859\n",
            "[1, 3, 'MeanColumns', False]  0.16971 | 0.13765 0.21088 0.10374 0.10716 0.28603 0.09643 0.06191 0.35385\n",
            "[1, 3, 'MaxColumns', False]  0.17138 | 0.14173 0.23156 0.05621 0.12924 0.28175 0.12346 0.1117 0.29539\n",
            "[1, 4, 'From', False]  -0.00889 | -0.06072 -0.04542 -0.01346 0.03988 0.03436 -0.00818 -0.08182 0.06428\n",
            "[1, 4, 'To', False]  0.19206 | 0.15982 0.27431 0.12425 0.2223 0.27674 0.0736 0.15577 0.24966\n",
            "[1, 4, 'MeanColumns', False]  0.15013 | 0.09405 0.17332 0.06194 0.06064 0.38113 0.06335 0.13977 0.22686\n",
            "[1, 4, 'MaxColumns', False]  0.16366 | 0.15879 0.2237 0.03855 0.15423 0.32303 0.09233 0.09028 0.22835\n",
            "[1, 5, 'From', False]  -0.02873 | 0.00558 -0.03716 -0.04054 0.00894 -0.15814 0.01363 0.01642 -0.03857\n",
            "[1, 5, 'To', False]  0.15133 | 0.07584 0.18033 0.03827 0.12878 0.34044 0.04679 0.0895 0.31071\n",
            "[1, 5, 'MeanColumns', False]  -0.11733 | -0.05461 -0.02135 -0.08704 -0.09558 -0.24487 -0.03177 -0.08381 -0.31963\n",
            "[1, 5, 'MaxColumns', False]  0.11919 | 0.12242 0.19028 0.03425 0.1346 0.23134 0.0477 0.09308 0.09987\n",
            "[1, 6, 'From', False]  0.15264 | 0.08887 0.13551 0.15697 0.13537 0.21844 0.16306 0.07169 0.25122\n",
            "[1, 6, 'To', False]  0.18864 | 0.1486 0.17657 0.04693 0.13755 0.38655 0.08472 0.10301 0.42519\n",
            "[1, 6, 'MeanColumns', False]  0.12527 | 0.09871 0.23963 0.064 0.11876 0.19612 0.05589 0.05484 0.17419\n",
            "[1, 6, 'MaxColumns', False]  0.23884 | 0.16527 0.27095 0.18329 0.25564 0.24697 0.10707 0.17676 0.50478\n",
            "[1, 7, 'From', False]  0.16464 | 0.09383 0.17959 0.10601 0.14633 0.31274 0.04829 0.19978 0.23058\n",
            "[1, 7, 'To', False]  0.15933 | 0.0935 0.14942 0.03118 0.10204 0.31718 0.08932 0.13981 0.35216\n",
            "[1, 7, 'MeanColumns', False]  0.21719 | 0.20425 0.20801 0.13 0.22754 0.3734 0.09317 0.21518 0.28598\n",
            "[1, 7, 'MaxColumns', False]  0.1672 | 0.12214 0.18683 0.07801 0.14769 0.27648 0.09697 0.14862 0.28083\n",
            "[1, 8, 'From', False]  0.0983 | 0.09642 0.20985 0.02694 0.08425 0.18704 0.06831 0.04236 0.07122\n",
            "[1, 8, 'To', False]  0.15413 | 0.07813 0.18059 0.03037 0.11481 0.32147 0.05267 0.10655 0.34841\n",
            "[1, 8, 'MeanColumns', False]  0.18606 | 0.11267 0.18805 0.08581 0.18777 0.32102 0.14805 0.14386 0.30123\n",
            "[1, 8, 'MaxColumns', False]  0.28325 | 0.1312 0.14094 0.22557 0.46023 0.41516 0.20811 0.24654 0.43821\n",
            "[1, 9, 'From', False]  -0.13923 | -0.11175 -0.06407 -0.11337 -0.1935 -0.23741 -0.06774 -0.00311 -0.32287\n",
            "[1, 9, 'To', False]  0.25522 | 0.23006 0.20874 0.11282 0.35026 0.2712 0.06204 0.17035 0.63625\n",
            "[1, 9, 'MeanColumns', False]  -0.18862 | -0.10859 -0.1638 -0.14269 -0.07142 -0.33823 -0.11168 -0.23053 -0.342\n",
            "[1, 9, 'MaxColumns', False]  0.23203 | 0.2434 0.16088 0.09034 0.22018 0.37569 0.18313 0.21844 0.36419\n",
            "[1, 10, 'From', False]  -0.00674 | 0.02743 -0.01113 0.02275 -0.02627 -0.14031 0.0025 0.065 0.00609\n",
            "[1, 10, 'To', False]  0.20863 | 0.17639 0.1767 0.15051 0.17242 0.36723 0.10304 0.12293 0.39982\n",
            "[1, 10, 'MeanColumns', False]  0.16898 | 0.1629 0.21243 0.13302 0.12144 0.32137 0.08774 0.11116 0.2018\n",
            "[1, 10, 'MaxColumns', False]  0.17338 | 0.19696 0.20347 0.1038 0.13236 0.33222 0.06887 0.07353 0.27586\n",
            "[1, 11, 'From', False]  0.0474 | 0.03339 -0.04818 -0.02737 0.06408 0.08889 0.06172 0.03797 0.16867\n",
            "[1, 11, 'To', False]  0.17837 | 0.23112 0.22226 0.07944 0.13085 0.34444 0.06956 0.10189 0.2474\n",
            "[1, 11, 'MeanColumns', False]  0.11746 | 0.07379 0.15994 0.07537 0.1385 0.2058 0.05433 0.09811 0.13387\n",
            "[1, 11, 'MaxColumns', False]  0.14434 | 0.10263 0.19983 0.10155 0.14499 0.2486 0.03912 0.10238 0.21562\n",
            "[2, 'Mean', 'From', False]  0.23065 | 0.17181 0.19393 0.14477 0.19599 0.45101 0.11856 0.16521 0.40389\n",
            "[2, 'Mean', 'To', False]  0.24875 | 0.2172 0.13842 0.12486 0.29712 0.397 0.1684 0.22488 0.42213\n",
            "[2, 'Mean', 'MeanColumns', False]  0.17037 | 0.10557 0.18764 0.06356 0.16342 0.32117 0.06882 0.1582 0.29456\n",
            "[2, 'Mean', 'MaxColumns', False]  0.17594 | 0.271 0.17935 0.12222 0.19409 0.22592 0.05698 0.14515 0.2128\n",
            "[2, 0, 'From', False]  0.14436 | 0.14458 0.12818 0.11268 0.08733 0.29878 0.03797 0.10107 0.24425\n",
            "[2, 0, 'To', False]  0.24285 | 0.10247 0.16919 0.16878 0.2299 0.47853 0.15933 0.22897 0.40563\n",
            "[2, 0, 'MeanColumns', False]  0.18782 | 0.21551 0.25379 0.13876 0.11219 0.33699 0.06407 0.07981 0.30148\n",
            "[2, 0, 'MaxColumns', False]  0.20557 | 0.20755 0.23261 0.1626 0.1369 0.42614 0.0747 0.07968 0.32438\n",
            "[2, 1, 'From', False]  0.23959 | 0.23051 0.16156 0.07362 0.31594 0.29014 0.19047 0.21836 0.4361\n",
            "[2, 1, 'To', False]  0.20977 | 0.12109 0.19976 0.11003 0.25656 0.26839 0.04524 0.22149 0.45561\n",
            "[2, 1, 'MeanColumns', False]  0.05275 | 0.07866 0.10124 0.09911 -0.04609 0.13143 0.00825 0.0736 -0.02419\n",
            "[2, 1, 'MaxColumns', False]  0.16496 | 0.14173 0.2063 0.05337 0.18379 0.21773 0.04614 0.19186 0.27876\n",
            "[2, 2, 'From', False]  0.17357 | 0.0961 0.17629 0.09897 0.16079 0.40012 0.08786 0.09854 0.26991\n",
            "[2, 2, 'To', False]  0.1741 | 0.11933 0.16295 0.06522 0.22656 0.35253 0.10575 0.06856 0.29191\n",
            "[2, 2, 'MeanColumns', False]  0.15292 | 0.09583 0.17207 0.07828 0.15379 0.32886 0.08755 0.08245 0.22453\n",
            "[2, 2, 'MaxColumns', False]  0.1511 | 0.11321 0.20183 0.0718 0.21169 0.30804 0.048 0.06646 0.18778\n",
            "[2, 3, 'From', False]  -0.05345 | -0.03699 -0.15387 0.05102 -0.03107 -0.13658 -0.02955 -0.00061 -0.08991\n",
            "[2, 3, 'To', False]  0.22291 | 0.14035 0.17224 0.13842 0.28293 0.37756 0.17912 0.16602 0.32667\n",
            "[2, 3, 'MeanColumns', False]  0.21027 | 0.26486 0.21473 0.21592 0.13177 0.32136 0.09254 0.12001 0.32099\n",
            "[2, 3, 'MaxColumns', False]  0.18486 | 0.15982 0.22034 0.18257 0.16365 0.30301 0.05988 0.14085 0.24873\n",
            "[2, 4, 'From', False]  0.10159 | 0.09549 -0.06902 0.02696 0.14108 0.08282 0.17213 0.11906 0.24422\n",
            "[2, 4, 'To', False]  0.15203 | 0.15674 0.19949 0.05432 0.15318 0.24272 0.03895 0.07673 0.29414\n",
            "[2, 4, 'MeanColumns', False]  0.15808 | 0.04376 0.16659 0.03818 0.19823 0.29962 0.05951 0.18525 0.27351\n",
            "[2, 4, 'MaxColumns', False]  0.20083 | 0.17164 0.2172 0.1219 0.20537 0.30298 0.0687 0.18437 0.33446\n",
            "[2, 5, 'From', False]  0.15447 | 0.07946 0.09247 0.13107 0.11246 0.24987 0.05674 0.20607 0.30763\n",
            "[2, 5, 'To', False]  0.22829 | 0.1063 0.15134 0.10334 0.27511 0.37311 0.13913 0.26763 0.41034\n",
            "[2, 5, 'MeanColumns', False]  0.17624 | 0.06728 0.22927 0.12383 0.15816 0.27995 0.05373 0.22391 0.27376\n",
            "[2, 5, 'MaxColumns', False]  0.16822 | 0.06724 0.26535 0.0694 0.13746 0.29048 0.08011 0.17497 0.26077\n",
            "[2, 6, 'From', False]  0.21864 | 0.16933 0.22912 0.09313 0.21198 0.41208 0.09783 0.16655 0.36909\n",
            "[2, 6, 'To', False]  0.2361 | 0.24258 0.18257 0.0953 0.18239 0.38365 0.16411 0.17924 0.45893\n",
            "[2, 6, 'MeanColumns', False]  0.15823 | 0.1295 0.23687 0.04796 0.19209 0.27821 0.10292 0.07981 0.19846\n",
            "[2, 6, 'MaxColumns', False]  0.22833 | 0.20533 0.17225 0.12598 0.39022 0.39405 0.05045 0.14049 0.34785\n",
            "[2, 7, 'From', False]  -0.12825 | -0.09505 -0.13215 -0.05895 -0.17648 -0.29379 -0.0729 -0.08333 -0.1133\n",
            "[2, 7, 'To', False]  0.19534 | 0.13448 0.20472 0.0655 0.25586 0.33373 0.08201 0.21005 0.27638\n",
            "[2, 7, 'MeanColumns', False]  0.12935 | 0.09983 0.25823 0.05397 0.02389 0.19931 0.06622 0.10714 0.22617\n",
            "[2, 7, 'MaxColumns', False]  0.13092 | 0.12127 0.2294 0.01917 0.12492 0.17448 0.0651 0.09502 0.21803\n",
            "[2, 8, 'From', False]  0.16038 | 0.07962 0.18275 0.10454 0.14098 0.39208 0.0524 0.08414 0.24655\n",
            "[2, 8, 'To', False]  0.23274 | 0.19574 0.12778 0.12821 0.20334 0.28258 0.18567 0.27811 0.4605\n",
            "[2, 8, 'MeanColumns', False]  0.24207 | 0.2128 0.22389 0.04235 0.39932 0.32703 0.17861 0.25231 0.30026\n",
            "[2, 8, 'MaxColumns', False]  0.18641 | 0.12115 0.13324 0.09137 0.22461 0.32168 0.0912 0.21049 0.29754\n",
            "[2, 9, 'From', False]  -0.03607 | -0.07562 -0.06563 0.0777 -0.02053 -0.0692 -0.0311 0.04196 -0.14613\n",
            "[2, 9, 'To', False]  0.23132 | 0.24916 0.18869 0.14041 0.25404 0.49231 0.10368 0.09204 0.33021\n",
            "[2, 9, 'MeanColumns', False]  0.00996 | 0.05984 0.04031 0.13585 -0.12057 0.04233 -0.03922 0.09637 -0.1352\n",
            "[2, 9, 'MaxColumns', False]  0.17798 | 0.12372 0.24243 0.06823 0.13427 0.33054 0.04855 0.11819 0.3579\n",
            "[2, 10, 'From', False]  0.10405 | 0.04063 -0.00787 0.08478 0.11021 0.19003 0.01177 0.1807 0.22213\n",
            "[2, 10, 'To', False]  0.20613 | 0.1143 0.16282 0.16568 0.2584 0.33755 0.08481 0.20042 0.3251\n",
            "[2, 10, 'MeanColumns', False]  0.14112 | 0.09723 0.2234 0.04323 0.15875 0.24414 0.06321 0.06404 0.23494\n",
            "[2, 10, 'MaxColumns', False]  0.13713 | 0.09431 0.20447 0.05571 0.15654 0.27099 0.04957 0.04701 0.21847\n",
            "[2, 11, 'From', False]  0.15078 | 0.15367 0.21023 0.03664 0.14154 0.26416 0.0651 0.03267 0.30227\n",
            "[2, 11, 'To', False]  0.24897 | 0.24877 0.20068 0.10718 0.2197 0.3586 0.22013 0.12133 0.51538\n",
            "[2, 11, 'MeanColumns', False]  0.1642 | 0.20181 0.15909 0.06523 0.17385 0.23406 0.08227 0.06906 0.32825\n",
            "[2, 11, 'MaxColumns', False]  0.1847 | 0.21248 0.23866 0.08047 0.14275 0.3134 0.09605 0.08219 0.31163\n",
            "[3, 'Mean', 'From', False]  0.16 | 0.1837 0.20629 0.11136 0.19304 0.2514 0.05807 0.02375 0.25241\n",
            "[3, 'Mean', 'To', False]  0.25903 | 0.15303 0.14868 0.18588 0.2617 0.39565 0.24216 0.28683 0.3983\n",
            "[3, 'Mean', 'MeanColumns', False]  0.14479 | 0.14281 0.22229 0.07756 0.16267 0.23952 0.05507 0.04134 0.21709\n",
            "[3, 'Mean', 'MaxColumns', False]  0.17085 | 0.20546 0.20052 0.08852 0.24108 0.25381 0.06711 0.10236 0.20791\n",
            "[3, 0, 'From', False]  0.20307 | 0.16439 0.21342 0.21651 0.18196 0.30798 0.06864 0.18984 0.28182\n",
            "[3, 0, 'To', False]  0.1721 | 0.0892 0.31626 0.16694 0.15235 0.32912 0.06909 0.03584 0.218\n",
            "[3, 0, 'MeanColumns', False]  0.14614 | 0.12131 0.21721 0.05612 0.14911 0.27607 0.03557 0.06624 0.24748\n",
            "[3, 0, 'MaxColumns', False]  0.16249 | 0.11424 0.22532 0.09916 0.17226 0.33799 0.05324 0.08627 0.21142\n",
            "[3, 1, 'From', False]  0.12841 | 0.14099 0.20222 0.05339 0.11307 0.22573 0.03281 0.02965 0.22947\n",
            "[3, 1, 'To', False]  0.29974 | 0.14441 0.15036 0.22494 0.30217 0.4656 0.17108 0.33891 0.60043\n",
            "[3, 1, 'MeanColumns', False]  0.20006 | 0.31431 0.22195 0.12918 0.15745 0.34079 0.09149 0.05207 0.29323\n",
            "[3, 1, 'MaxColumns', False]  0.21764 | 0.1016 0.1761 0.19111 0.19924 0.42774 0.08957 0.25342 0.30236\n",
            "[3, 2, 'From', False]  0.17357 | 0.33327 0.17168 0.06236 0.26539 0.22351 0.05717 0.00721 0.268\n",
            "[3, 2, 'To', False]  0.22247 | 0.12683 0.12074 0.11739 0.19748 0.47185 0.1925 0.24612 0.30685\n",
            "[3, 2, 'MeanColumns', False]  0.16955 | 0.12854 0.28696 0.16135 0.15043 0.28035 0.04899 0.07497 0.22478\n",
            "[3, 2, 'MaxColumns', False]  0.1801 | 0.13169 0.25422 0.16574 0.18023 0.36531 0.04069 0.0719 0.23105\n",
            "[3, 3, 'From', False]  0.20387 | 0.17587 0.21917 0.11725 0.27825 0.38119 0.06168 0.08486 0.3127\n",
            "[3, 3, 'To', False]  0.17792 | 0.09579 0.14052 0.11364 0.15933 0.32123 0.09607 0.1889 0.30787\n",
            "[3, 3, 'MeanColumns', False]  0.17374 | 0.16696 0.23569 0.12349 0.2087 0.28953 0.05262 0.04963 0.26333\n",
            "[3, 3, 'MaxColumns', False]  0.20872 | 0.25257 0.22838 0.14708 0.27514 0.29299 0.03896 0.08884 0.34578\n",
            "[3, 4, 'From', False]  0.21452 | 0.16237 0.22016 0.15282 0.22446 0.33039 0.1447 0.11896 0.36227\n",
            "[3, 4, 'To', False]  0.21544 | 0.23944 0.20527 0.13637 0.24336 0.26758 0.08568 0.05124 0.49456\n",
            "[3, 4, 'MeanColumns', False]  0.15679 | 0.10821 0.23724 0.05854 0.17245 0.24832 0.13948 0.08082 0.20928\n",
            "[3, 4, 'MaxColumns', False]  0.1817 | 0.2642 0.21325 0.06824 0.29361 0.21118 0.09003 0.01699 0.29608\n",
            "[3, 5, 'From', False]  0.1543 | 0.13322 0.223 0.07646 0.16227 0.26389 0.03576 0.04282 0.29693\n",
            "[3, 5, 'To', False]  0.14613 | 0.16645 0.17534 0.05065 0.14212 0.21698 0.08176 0.11017 0.22556\n",
            "[3, 5, 'MeanColumns', False]  0.13596 | 0.11685 0.21013 0.04459 0.12297 0.25638 0.04424 0.05181 0.24074\n",
            "[3, 5, 'MaxColumns', False]  0.14895 | 0.13995 0.2512 0.02728 0.14327 0.27742 0.055 0.03986 0.25763\n",
            "[3, 6, 'From', False]  0.15836 | 0.11865 0.2149 0.06534 0.14675 0.20439 0.08771 0.16702 0.26212\n",
            "[3, 6, 'To', False]  0.19237 | 0.18639 0.21063 0.08304 0.22288 0.19696 0.11046 0.15679 0.37181\n",
            "[3, 6, 'MeanColumns', False]  0.12479 | 0.11452 0.21329 0.06654 0.1005 0.17157 0.04188 0.0801 0.20995\n",
            "[3, 6, 'MaxColumns', False]  0.15024 | 0.12691 0.23774 0.04847 0.15144 0.19285 0.05307 0.07997 0.31149\n",
            "[3, 7, 'From', False]  -0.11292 | 0.01816 -0.06482 -0.06128 -0.07343 -0.37451 -0.03598 -0.02252 -0.28898\n",
            "[3, 7, 'To', False]  0.16864 | 0.08707 0.16823 0.07013 0.17548 0.32272 0.09129 0.16334 0.27085\n",
            "[3, 7, 'MeanColumns', False]  0.14806 | 0.09541 0.22561 0.06155 0.11499 0.26087 0.05408 0.1257 0.24627\n",
            "[3, 7, 'MaxColumns', False]  0.1481 | 0.08222 0.24143 0.0537 0.12663 0.26819 0.06282 0.08648 0.26333\n",
            "[3, 8, 'From', False]  0.17171 | 0.12245 0.21588 0.13623 0.19003 0.33307 0.05016 0.03522 0.29061\n",
            "[3, 8, 'To', False]  0.29702 | 0.09193 0.1961 0.34837 0.32708 0.32587 0.19599 0.4032 0.48764\n",
            "[3, 8, 'MeanColumns', False]  0.14282 | 0.17311 0.23526 0.07217 0.17298 0.2457 0.03559 0.02937 0.17839\n",
            "[3, 8, 'MaxColumns', False]  0.27787 | 0.19178 0.18546 0.32165 0.38597 0.28414 0.1515 0.34764 0.35484\n",
            "[3, 9, 'From', False]  0.09216 | 0.12293 0.12646 0.12974 0.10949 0.04731 0.03224 0.01452 0.15458\n",
            "[3, 9, 'To', False]  0.18896 | 0.09223 0.13077 0.1394 0.18891 0.37555 0.12383 0.12422 0.33678\n",
            "[3, 9, 'MeanColumns', False]  0.16617 | 0.17795 0.21949 0.1536 0.12113 0.27929 0.06864 0.05077 0.2585\n",
            "[3, 9, 'MaxColumns', False]  0.1627 | 0.13527 0.22552 0.09657 0.11914 0.28853 0.05008 0.1164 0.27011\n",
            "[3, 10, 'From', False]  0.19206 | 0.15142 0.26543 0.11921 0.21454 0.28499 0.06822 0.08733 0.34531\n",
            "[3, 10, 'To', False]  0.20606 | 0.0984 0.20682 0.15158 0.17174 0.39521 0.2256 0.0882 0.31091\n",
            "[3, 10, 'MeanColumns', False]  0.1487 | 0.15095 0.2386 0.07697 0.15471 0.27781 0.05956 0.04682 0.18421\n",
            "[3, 10, 'MaxColumns', False]  0.15043 | 0.12199 0.17655 0.07293 0.17868 0.33309 0.06476 0.08582 0.16959\n",
            "[3, 11, 'From', False]  0.17239 | 0.10163 0.20294 0.10198 0.18087 0.41033 0.07251 0.02839 0.28046\n",
            "[3, 11, 'To', False]  0.17838 | 0.11033 0.12936 0.05963 0.22458 0.3224 0.11129 0.22349 0.24599\n",
            "[3, 11, 'MeanColumns', False]  0.1523 | 0.10704 0.25449 0.0736 0.16184 0.36466 0.02922 0.03758 0.19001\n",
            "[3, 11, 'MaxColumns', False]  0.18068 | 0.14772 0.20654 0.07277 0.22754 0.34674 0.08636 0.06021 0.29755\n",
            "[4, 'Mean', 'From', False]  0.21085 | 0.1894 0.18382 0.15664 0.22692 0.35395 0.07277 0.17769 0.32558\n",
            "[4, 'Mean', 'To', False]  0.21689 | 0.27857 0.14413 0.16018 0.20321 0.32038 0.14154 0.09086 0.39622\n",
            "[4, 'Mean', 'MeanColumns', False]  0.16559 | 0.12066 0.25134 0.06903 0.16927 0.22715 0.06958 0.15248 0.26519\n",
            "[4, 'Mean', 'MaxColumns', False]  0.13805 | 0.13559 0.20484 0.04033 0.13588 0.20488 0.07382 0.0807 0.22837\n",
            "[4, 0, 'From', False]  0.0043 | -0.04461 -0.03 0.06303 -0.00112 -0.12424 -0.06251 0.13477 0.09911\n",
            "[4, 0, 'To', False]  0.23999 | 0.08754 0.20013 0.10902 0.26649 0.38802 0.21162 0.14827 0.50885\n",
            "[4, 0, 'MeanColumns', False]  0.15179 | 0.13116 0.22526 0.06635 0.16251 0.22015 0.06631 0.11629 0.22628\n",
            "[4, 0, 'MaxColumns', False]  0.18192 | 0.11049 0.22664 0.10107 0.20558 0.36943 0.06082 0.12264 0.25868\n",
            "[4, 1, 'From', False]  0.18638 | 0.24553 0.18375 0.05962 0.15243 0.27605 0.05578 0.19578 0.32208\n",
            "[4, 1, 'To', False]  0.16302 | 0.17591 0.15459 0.08983 0.14699 0.32146 0.06238 0.06263 0.29038\n",
            "[4, 1, 'MeanColumns', False]  0.16858 | 0.1187 0.232 0.05103 0.19614 0.30563 0.03952 0.1655 0.24011\n",
            "[4, 1, 'MaxColumns', False]  0.1892 | 0.09212 0.2289 0.0574 0.20308 0.38478 0.0779 0.16198 0.30742\n",
            "[4, 2, 'From', False]  0.09514 | 0.10925 0.10875 0.09603 0.08721 0.25032 -0.0309 0.06294 0.0775\n",
            "[4, 2, 'To', False]  0.18571 | 0.1399 0.20564 0.15779 0.20349 0.35792 0.06558 0.10193 0.25344\n",
            "[4, 2, 'MeanColumns', False]  0.17098 | 0.15299 0.26749 0.14441 0.09429 0.29451 0.04061 0.04736 0.32615\n",
            "[4, 2, 'MaxColumns', False]  0.18525 | 0.11172 0.24653 0.15969 0.15267 0.33472 0.07639 0.09771 0.30253\n",
            "[4, 3, 'From', False]  0.17877 | 0.2089 0.17812 0.08217 0.17426 0.3153 0.05382 0.13818 0.27938\n",
            "[4, 3, 'To', False]  0.16712 | 0.18919 0.16202 0.13795 0.13176 0.27596 0.19387 0.03954 0.20671\n",
            "[4, 3, 'MeanColumns', False]  0.15938 | 0.15031 0.24989 0.11343 0.12536 0.2687 0.06883 0.04038 0.25811\n",
            "[4, 3, 'MaxColumns', False]  0.14779 | 0.13838 0.22442 0.07328 0.106 0.27901 0.04863 0.04552 0.2671\n",
            "[4, 4, 'From', False]  0.06692 | 0.1261 0.17785 -0.0522 0.05744 0.04872 0.01216 0.05407 0.11121\n",
            "[4, 4, 'To', False]  0.13526 | 0.17882 0.17071 0.03632 0.10647 0.21216 0.04321 0.02769 0.30668\n",
            "[4, 4, 'MeanColumns', False]  0.1352 | 0.11737 0.2154 0.05046 0.11644 0.21412 0.0577 0.07672 0.23334\n",
            "[4, 4, 'MaxColumns', False]  0.13828 | 0.12251 0.24033 0.02641 0.14642 0.21934 0.07099 0.06808 0.21212\n",
            "[4, 5, 'From', False]  -0.11897 | -0.03504 -0.25474 -0.13156 -0.14991 -0.23572 -0.0523 0.06422 -0.1567\n",
            "[4, 5, 'To', False]  0.16852 | 0.14938 0.17031 0.07629 0.20966 0.36347 0.09695 0.03616 0.24595\n",
            "[4, 5, 'MeanColumns', False]  0.12879 | 0.09824 0.22634 0.05241 0.12239 0.18656 0.04328 0.05962 0.24148\n",
            "[4, 5, 'MaxColumns', False]  0.12739 | 0.1139 0.18841 0.03403 0.11844 0.24323 0.0504 0.06988 0.20083\n",
            "[4, 6, 'From', False]  0.2162 | 0.20283 0.18693 0.16136 0.25402 0.24912 0.09499 0.20478 0.37556\n",
            "[4, 6, 'To', False]  0.17443 | 0.14022 0.17717 0.0795 0.1679 0.32381 0.16058 0.05707 0.28915\n",
            "[4, 6, 'MeanColumns', False]  0.18166 | 0.16528 0.20536 0.11748 0.19934 0.26261 0.06082 0.16073 0.28164\n",
            "[4, 6, 'MaxColumns', False]  0.14678 | 0.12129 0.18194 0.05236 0.12962 0.24555 0.09645 0.05204 0.29501\n",
            "[4, 7, 'From', False]  -0.08502 | -0.07705 -0.14827 0.03838 -0.08471 -0.23689 -0.07611 -0.05601 -0.03948\n",
            "[4, 7, 'To', False]  0.24157 | 0.20919 0.16788 0.14794 0.25264 0.34243 0.17815 0.25744 0.37691\n",
            "[4, 7, 'MeanColumns', False]  0.30934 | 0.13968 0.2143 0.27782 0.2432 0.51005 0.24298 0.28074 0.56598\n",
            "[4, 7, 'MaxColumns', False]  0.23168 | 0.12496 0.20897 0.13567 0.17581 0.42539 0.12893 0.18603 0.46767\n",
            "[4, 8, 'From', False]  0.19655 | 0.04114 0.22063 0.13644 0.19341 0.47677 0.0367 0.17159 0.29569\n",
            "[4, 8, 'To', False]  0.2383 | 0.35698 0.19482 0.15005 0.32443 0.24989 0.09369 0.15173 0.38479\n",
            "[4, 8, 'MeanColumns', False]  0.15197 | 0.12836 0.22244 0.03902 0.15272 0.2563 0.053 0.10251 0.26138\n",
            "[4, 8, 'MaxColumns', False]  0.15594 | 0.13194 0.17644 0.03591 0.20906 0.22863 0.08863 0.17528 0.20166\n",
            "[4, 9, 'From', False]  0.18516 | 0.2609 0.1996 0.13753 0.1784 0.22746 0.07601 0.10841 0.29299\n",
            "[4, 9, 'To', False]  0.19349 | 0.2552 0.15933 0.12534 0.21125 0.25641 0.08905 0.16001 0.29135\n",
            "[4, 9, 'MeanColumns', False]  0.19546 | 0.14552 0.23013 0.08758 0.14809 0.31222 0.14956 0.20301 0.28753\n",
            "[4, 9, 'MaxColumns', False]  0.25253 | 0.26206 0.19245 0.04727 0.1886 0.28571 0.28016 0.39189 0.37208\n",
            "[4, 10, 'From', False]  -0.08027 | -0.11759 -0.13156 0.00509 -0.07116 -0.26169 -0.01117 -0.04559 -0.00852\n",
            "[4, 10, 'To', False]  0.24493 | 0.13256 0.17108 0.09964 0.25088 0.45712 0.12522 0.13622 0.58674\n",
            "[4, 10, 'MeanColumns', False]  0.17543 | 0.08183 0.27042 0.10479 0.18594 0.27846 0.05195 0.12645 0.30362\n",
            "[4, 10, 'MaxColumns', False]  0.16959 | 0.11301 0.28673 0.08881 0.12714 0.27579 0.07444 0.09307 0.29772\n",
            "[4, 11, 'From', False]  0.04514 | 0.00565 0.00955 0.03113 0.04728 0.16067 0.038 -0.05167 0.12055\n",
            "[4, 11, 'To', False]  0.18656 | 0.18104 0.17655 0.12511 0.15046 0.22934 0.13466 0.1256 0.36971\n",
            "[4, 11, 'MeanColumns', False]  0.19225 | 0.07861 0.28549 0.10574 0.16914 0.32043 0.08354 0.17488 0.32019\n",
            "[4, 11, 'MaxColumns', False]  0.19469 | 0.09617 0.24998 0.06137 0.181 0.33021 0.13201 0.15909 0.34768\n",
            "[5, 'Mean', 'From', False]  0.20461 | 0.13508 0.16751 0.25393 0.21724 0.29081 0.08875 0.10811 0.37542\n",
            "[5, 'Mean', 'To', False]  0.25932 | 0.10959 0.14534 0.05377 0.40298 0.40719 0.18534 0.34331 0.42706\n",
            "[5, 'Mean', 'MeanColumns', False]  0.19771 | 0.15325 0.30715 0.18783 0.16961 0.31068 0.08604 0.05231 0.31484\n",
            "[5, 'Mean', 'MaxColumns', False]  0.18627 | 0.12759 0.24651 0.13483 0.18393 0.3712 0.06533 0.08724 0.27355\n",
            "[5, 0, 'From', False]  0.13796 | -0.09318 0.03323 0.16654 0.12892 0.27687 0.09092 0.0485 0.45191\n",
            "[5, 0, 'To', False]  0.21433 | 0.11814 0.19776 0.07655 0.168 0.28101 0.17028 0.31643 0.38647\n",
            "[5, 0, 'MeanColumns', False]  0.19848 | 0.23829 0.25473 0.1684 0.15679 0.35312 0.10194 0.05769 0.25692\n",
            "[5, 0, 'MaxColumns', False]  0.16334 | 0.2075 0.26664 0.08629 0.14693 0.26919 0.06992 0.02809 0.23213\n",
            "[5, 1, 'From', False]  -0.14771 | -0.07428 -0.1205 -0.05139 -0.08438 -0.35055 -0.07148 -0.12445 -0.30469\n",
            "[5, 1, 'To', False]  0.24027 | 0.09855 0.20434 0.06837 0.25013 0.35662 0.14642 0.23595 0.56174\n",
            "[5, 1, 'MeanColumns', False]  0.08827 | 0.09052 0.1544 0.06233 0.02044 0.18564 0.01876 0.06083 0.11328\n",
            "[5, 1, 'MaxColumns', False]  0.16695 | 0.16547 0.26085 0.05027 0.177 0.22792 0.12801 0.08949 0.23657\n",
            "[5, 2, 'From', False]  0.23886 | 0.1034 0.20535 0.17943 0.21865 0.35978 0.03894 0.20318 0.60217\n",
            "[5, 2, 'To', False]  0.27883 | 0.09276 0.14502 0.23914 0.33 0.3173 0.11156 0.35669 0.63818\n",
            "[5, 2, 'MeanColumns', False]  0.17796 | 0.20793 0.26819 0.10608 0.14841 0.27718 0.06742 0.07712 0.27135\n",
            "[5, 2, 'MaxColumns', False]  0.14083 | 0.14666 0.19728 0.05336 0.12876 0.24545 0.05885 0.06401 0.23229\n",
            "[5, 3, 'From', False]  0.13214 | 0.12633 0.20638 0.15236 0.1283 0.21181 -0.00185 0.12551 0.10831\n",
            "[5, 3, 'To', False]  0.30433 | 0.09013 0.14409 0.1218 0.44572 0.57119 0.17917 0.40239 0.48015\n",
            "[5, 3, 'MeanColumns', False]  0.1845 | 0.14089 0.23966 0.18225 0.14703 0.24883 0.06845 0.08908 0.35981\n",
            "[5, 3, 'MaxColumns', False]  0.1965 | 0.21591 0.20249 0.11941 0.14951 0.29856 0.16096 0.14293 0.28224\n",
            "[5, 4, 'From', False]  0.07565 | 0.06675 0.16074 0.17652 0.10652 0.10052 0.00643 -0.0184 0.00613\n",
            "[5, 4, 'To', False]  0.23897 | 0.06929 0.16812 0.06345 0.24299 0.38788 0.1134 0.28133 0.58529\n",
            "[5, 4, 'MeanColumns', False]  0.22409 | 0.09143 0.28956 0.1808 0.22052 0.4227 0.04321 0.12231 0.4222\n",
            "[5, 4, 'MaxColumns', False]  0.24005 | 0.10188 0.24165 0.22358 0.25863 0.55295 0.04141 0.15903 0.34127\n",
            "[5, 5, 'From', False]  -0.0855 | -0.06099 -0.10996 0.05127 -0.0478 -0.2597 -0.03513 -0.05541 -0.16625\n",
            "[5, 5, 'To', False]  0.19109 | 0.14909 0.19575 0.04981 0.24062 0.33229 0.25178 0.05194 0.25742\n",
            "[5, 5, 'MeanColumns', False]  0.17642 | 0.09319 0.26466 0.12666 0.16248 0.28724 0.04419 0.10656 0.32641\n",
            "[5, 5, 'MaxColumns', False]  0.16488 | 0.11144 0.19605 0.08815 0.17762 0.26684 0.0439 0.09294 0.34211\n",
            "[5, 6, 'From', False]  0.25815 | 0.12856 0.22301 0.20612 0.23869 0.46213 0.17349 0.12744 0.50574\n",
            "[5, 6, 'To', False]  0.22018 | 0.15606 0.17847 0.14522 0.25063 0.32612 0.05531 0.23516 0.41448\n",
            "[5, 6, 'MeanColumns', False]  0.14301 | 0.0976 0.24194 0.05624 0.13342 0.25521 0.08309 0.03939 0.23722\n",
            "[5, 6, 'MaxColumns', False]  0.14885 | 0.14391 0.21683 0.09051 0.1538 0.16882 0.06129 0.07924 0.27644\n",
            "[5, 7, 'From', False]  -0.02388 | -0.08201 -0.033 0.06353 -0.04506 -0.13032 -0.00127 -0.05669 0.0938\n",
            "[5, 7, 'To', False]  0.16977 | 0.09417 0.16182 0.03781 0.22391 0.23787 0.22642 0.12463 0.2515\n",
            "[5, 7, 'MeanColumns', False]  0.21282 | 0.16563 0.24318 0.20586 0.21516 0.37919 0.07872 0.12194 0.29285\n",
            "[5, 7, 'MaxColumns', False]  0.19509 | 0.20752 0.21188 0.2598 0.18053 0.30233 0.05725 0.06814 0.27325\n",
            "[5, 8, 'From', False]  0.11788 | 0.12322 0.03895 0.21449 0.1253 0.1611 0.07916 0.03909 0.16171\n",
            "[5, 8, 'To', False]  0.27308 | 0.08382 0.20303 0.148 0.27679 0.52985 0.18351 0.40059 0.35901\n",
            "[5, 8, 'MeanColumns', False]  0.25089 | 0.27928 0.21651 0.26138 0.19857 0.43447 0.11394 0.05936 0.44363\n",
            "[5, 8, 'MaxColumns', False]  0.22493 | 0.20318 0.19814 0.2147 0.2528 0.39474 0.13591 0.06705 0.33292\n",
            "[5, 9, 'From', False]  -0.12233 | -0.06891 -0.14855 -0.03219 -0.09488 -0.29296 -0.057 -0.05709 -0.22703\n",
            "[5, 9, 'To', False]  0.1605 | 0.1433 0.26355 0.05084 0.17428 0.2444 0.06453 0.15073 0.1924\n",
            "[5, 9, 'MeanColumns', False]  0.14009 | 0.12517 0.23969 0.0941 0.12179 0.20681 0.04188 0.05052 0.24079\n",
            "[5, 9, 'MaxColumns', False]  0.14108 | 0.15128 0.19827 0.05087 0.14363 0.27381 0.04041 0.10087 0.16952\n",
            "[5, 10, 'From', False]  0.15308 | 0.15528 0.27063 0.19245 0.13984 0.12622 0.02873 0.04111 0.27036\n",
            "[5, 10, 'To', False]  0.20649 | 0.11057 0.15936 0.06186 0.23193 0.28167 0.18797 0.35106 0.2675\n",
            "[5, 10, 'MeanColumns', False]  0.1562 | 0.14267 0.2339 0.11338 0.16287 0.25454 0.07135 0.04565 0.22525\n",
            "[5, 10, 'MaxColumns', False]  0.18459 | 0.20781 0.21565 0.11753 0.17545 0.37149 0.04686 0.06537 0.27654\n",
            "[5, 11, 'From', False]  0.26681 | 0.14638 0.18729 0.24306 0.20508 0.46299 0.13626 0.21118 0.54228\n",
            "[5, 11, 'To', False]  0.15672 | 0.13253 0.16861 0.06774 0.23477 0.29105 0.09221 0.02446 0.24236\n",
            "[5, 11, 'MeanColumns', False]  0.23739 | 0.07403 0.21446 0.21604 0.21562 0.45481 0.11067 0.22623 0.38723\n",
            "[5, 11, 'MaxColumns', False]  0.27381 | 0.1043 0.161 0.17567 0.30518 0.43097 0.10623 0.25193 0.65522\n",
            "[6, 'Mean', 'From', False]  0.29665 | 0.0555 0.08112 0.23559 0.31918 0.55858 0.12335 0.34879 0.65105\n",
            "[6, 'Mean', 'To', False]  0.29293 | 0.07999 0.13226 0.18395 0.35321 0.46053 0.20267 0.4101 0.52068\n",
            "[6, 'Mean', 'MeanColumns', False]  0.3083 | 0.14236 0.20593 0.24513 0.29836 0.53953 0.15665 0.26368 0.61478\n",
            "[6, 'Mean', 'MaxColumns', False]  0.31371 | 0.08247 0.21911 0.26935 0.3183 0.55575 0.14811 0.2933 0.62333\n",
            "[6, 0, 'From', False]  0.35535 | 0.03967 0.10895 0.30833 0.50395 0.63178 0.20301 0.34405 0.70303\n",
            "[6, 0, 'To', False]  0.32239 | 0.15683 0.13758 0.20377 0.38851 0.45083 0.22018 0.33966 0.68173\n",
            "[6, 0, 'MeanColumns', False]  0.3771 | 0.17106 0.12787 0.23252 0.50412 0.65616 0.24326 0.35542 0.72643\n",
            "[6, 0, 'MaxColumns', False]  0.38303 | 0.18927 0.11314 0.24685 0.49224 0.67406 0.22511 0.39153 0.73202\n",
            "[6, 1, 'From', False]  0.30801 | 0.07825 0.12107 0.23316 0.29857 0.57826 0.12347 0.38699 0.64431\n",
            "[6, 1, 'To', False]  0.24799 | 0.08645 0.13971 0.19073 0.27449 0.35952 0.1267 0.3028 0.50355\n",
            "[6, 1, 'MeanColumns', False]  0.34888 | 0.10624 0.14878 0.28787 0.51628 0.49116 0.19981 0.37 0.6709\n",
            "[6, 1, 'MaxColumns', False]  0.35201 | 0.10932 0.13909 0.27097 0.47856 0.54528 0.23073 0.38907 0.65306\n",
            "[6, 2, 'From', False]  0.31415 | 0.07395 0.13729 0.20492 0.34121 0.53038 0.17605 0.37224 0.67717\n",
            "[6, 2, 'To', False]  0.20189 | 0.19701 0.19126 0.14804 0.17633 0.26214 0.05049 0.25559 0.33428\n",
            "[6, 2, 'MeanColumns', False]  0.22731 | 0.06975 0.23705 0.1861 0.29054 0.36859 0.06468 0.25427 0.34754\n",
            "[6, 2, 'MaxColumns', False]  0.18493 | 0.12748 0.19513 0.14439 0.23928 0.25973 0.06732 0.25248 0.19363\n",
            "[6, 3, 'From', False]  -0.1405 | -0.07366 -0.12996 -0.07467 -0.11858 -0.30463 -0.04313 -0.12385 -0.25551\n",
            "[6, 3, 'To', False]  0.17225 | 0.20678 0.16983 0.05501 0.15333 0.24962 0.06168 0.15107 0.33067\n",
            "[6, 3, 'MeanColumns', False]  0.12306 | 0.17433 0.17994 0.119 0.055 0.19127 0.04471 0.0602 0.16004\n",
            "[6, 3, 'MaxColumns', False]  0.17268 | 0.19389 0.22276 0.06612 0.17235 0.2275 0.07048 0.12622 0.30213\n",
            "[6, 4, 'From', False]  0.26276 | 0.17107 0.14984 0.25258 0.26141 0.45823 0.09223 0.17057 0.54616\n",
            "[6, 4, 'To', False]  0.30055 | 0.02329 0.12749 0.2243 0.39046 0.60653 0.18308 0.3387 0.51055\n",
            "[6, 4, 'MeanColumns', False]  0.23326 | 0.22016 0.20159 0.26786 0.1129 0.49375 0.07806 0.072 0.41978\n",
            "[6, 4, 'MaxColumns', False]  0.20867 | 0.15193 0.23757 0.1901 0.18007 0.39347 0.05012 0.1434 0.32269\n",
            "[6, 5, 'From', False]  -0.11995 | -0.11784 -0.138 -0.03507 -0.0689 -0.23807 -0.05466 -0.08326 -0.22381\n",
            "[6, 5, 'To', False]  0.20614 | 0.11635 0.16592 0.05558 0.2026 0.28744 0.2102 0.28811 0.32295\n",
            "[6, 5, 'MeanColumns', False]  0.13773 | 0.15275 0.22686 0.06855 0.13013 0.20005 0.0516 0.03984 0.23208\n",
            "[6, 5, 'MaxColumns', False]  0.14386 | 0.14759 0.22341 0.05929 0.1246 0.22381 0.06363 0.04812 0.26046\n",
            "[6, 6, 'From', False]  -0.09973 | -0.0889 -0.12526 -0.00472 -0.05597 -0.23731 -0.04793 -0.05171 -0.18602\n",
            "[6, 6, 'To', False]  0.27549 | 0.05553 0.0955 0.25614 0.39723 0.49082 0.18211 0.28998 0.43664\n",
            "[6, 6, 'MeanColumns', False]  0.16294 | 0.24734 0.22652 0.171 0.06908 0.27274 0.04101 0.04746 0.22837\n",
            "[6, 6, 'MaxColumns', False]  0.16102 | 0.1528 0.23633 0.13323 0.12614 0.31219 0.0228 0.04751 0.25713\n",
            "[6, 7, 'From', False]  -0.15957 | -0.02033 -0.09573 -0.02245 -0.12629 -0.37447 -0.11233 -0.26225 -0.26271\n",
            "[6, 7, 'To', False]  0.14736 | 0.1105 0.23893 0.03366 0.16624 0.31733 0.03637 0.05582 0.22\n",
            "[6, 7, 'MeanColumns', False]  0.0995 | 0.07089 0.21299 0.09102 0.09965 0.17314 0.02613 0.02974 0.09242\n",
            "[6, 7, 'MaxColumns', False]  0.13338 | 0.07784 0.24454 0.04381 0.17549 0.26834 0.04625 0.08498 0.12579\n",
            "[6, 8, 'From', False]  0.2824 | 0.19229 0.21664 0.21169 0.27033 0.38927 0.18835 0.19673 0.59391\n",
            "[6, 8, 'To', False]  0.16743 | 0.17176 0.19012 0.03889 0.18635 0.25565 0.11805 0.11541 0.26323\n",
            "[6, 8, 'MeanColumns', False]  0.23828 | 0.21438 0.23437 0.16323 0.28294 0.29068 0.13175 0.13292 0.456\n",
            "[6, 8, 'MaxColumns', False]  0.28644 | 0.16499 0.24749 0.2754 0.2748 0.30631 0.27972 0.22315 0.51966\n",
            "[6, 9, 'From', False]  0.36205 | 0.02395 0.09908 0.28489 0.56567 0.6629 0.16683 0.38754 0.70553\n",
            "[6, 9, 'To', False]  0.29349 | 0.08375 0.22034 0.30948 0.30205 0.45347 0.2241 0.28707 0.46769\n",
            "[6, 9, 'MeanColumns', False]  0.37317 | 0.03973 0.18587 0.32899 0.52957 0.66234 0.2083 0.34778 0.68275\n",
            "[6, 9, 'MaxColumns', False]  0.37294 | 0.09338 0.23643 0.35295 0.42974 0.62777 0.22941 0.32532 0.68854\n",
            "[6, 10, 'From', False]  -0.07346 | -0.09112 -0.1677 -0.01416 -0.05765 -0.15103 0.00236 -0.04894 -0.05942\n",
            "[6, 10, 'To', False]  0.28603 | 0.03422 0.27897 0.25424 0.31328 0.61321 0.09825 0.27928 0.41681\n",
            "[6, 10, 'MeanColumns', False]  0.23613 | 0.12999 0.26264 0.17124 0.18617 0.44703 0.04881 0.11388 0.52931\n",
            "[6, 10, 'MaxColumns', False]  0.25591 | 0.08281 0.27848 0.28418 0.19221 0.46404 0.1503 0.13642 0.45886\n",
            "[6, 11, 'From', False]  0.29445 | 0.0365 0.1857 0.18939 0.33097 0.57045 0.08148 0.33824 0.62286\n",
            "[6, 11, 'To', False]  0.20793 | 0.04666 0.25827 0.12669 0.25039 0.29554 0.10355 0.31937 0.26298\n",
            "[6, 11, 'MeanColumns', False]  0.28929 | 0.0838 0.18714 0.25117 0.43997 0.51956 0.13849 0.18759 0.5066\n",
            "[6, 11, 'MaxColumns', False]  0.30993 | 0.09992 0.20062 0.21445 0.46394 0.51181 0.06475 0.25818 0.66577\n",
            "[7, 'Mean', 'From', False]  -0.07072 | -0.10083 -0.11819 0.00703 -0.10553 -0.14238 -0.0503 -0.06003 0.00447\n",
            "[7, 'Mean', 'To', False]  0.331 | 0.05274 0.1768 0.23134 0.4859 0.44259 0.19872 0.44515 0.61479\n",
            "[7, 'Mean', 'MeanColumns', False]  0.18202 | 0.20945 0.26905 0.09059 0.15027 0.31389 0.11637 0.02937 0.27714\n",
            "[7, 'Mean', 'MaxColumns', False]  0.17158 | 0.14847 0.27166 0.06104 0.15456 0.36847 0.10204 0.04285 0.2236\n",
            "[7, 0, 'From', False]  -0.11367 | -0.09535 -0.20338 -0.095 -0.11319 -0.22699 -0.06496 -0.07633 -0.0342\n",
            "[7, 0, 'To', False]  0.20983 | 0.13498 0.16241 0.07928 0.24015 0.41138 0.093 0.17925 0.37822\n",
            "[7, 0, 'MeanColumns', False]  0.14199 | 0.18492 0.26836 0.04622 0.07636 0.25532 0.02705 0.01617 0.26151\n",
            "[7, 0, 'MaxColumns', False]  0.16562 | 0.15189 0.25552 0.02849 0.17874 0.33433 0.03605 0.06221 0.27769\n",
            "[7, 1, 'From', False]  0.02815 | -0.03368 -0.01206 0.11915 -0.07184 0.14764 -0.01912 0.0036 0.09152\n",
            "[7, 1, 'To', False]  0.31212 | 0.1573 0.1365 0.1941 0.36155 0.27524 0.21405 0.42275 0.73548\n",
            "[7, 1, 'MeanColumns', False]  0.16031 | 0.17532 0.23883 0.10401 0.1294 0.23893 0.08032 0.03094 0.28474\n",
            "[7, 1, 'MaxColumns', False]  0.14656 | 0.15448 0.23176 0.0705 0.13464 0.20579 0.06332 0.03722 0.27474\n",
            "[7, 2, 'From', False]  -0.03399 | -0.01417 -0.0672 0.09119 -0.06303 -0.08699 -0.00154 -0.05628 -0.07391\n",
            "[7, 2, 'To', False]  0.34617 | 0.07502 0.15457 0.1882 0.54853 0.47062 0.24432 0.395 0.69308\n",
            "[7, 2, 'MeanColumns', False]  0.21919 | 0.20888 0.23538 0.16042 0.22382 0.40052 0.12475 0.06512 0.33467\n",
            "[7, 2, 'MaxColumns', False]  0.23087 | 0.15272 0.28899 0.2277 0.19665 0.48046 0.03757 0.09674 0.36617\n",
            "[7, 3, 'From', False]  -0.12765 | -0.11254 -0.15618 -0.01222 -0.15342 -0.17989 -0.03925 -0.10819 -0.2595\n",
            "[7, 3, 'To', False]  0.18343 | 0.10333 0.26815 0.07272 0.15675 0.35218 0.05982 0.23054 0.22398\n",
            "[7, 3, 'MeanColumns', False]  -0.13063 | -0.08288 -0.12415 -0.12277 -0.05409 -0.22585 -0.05561 -0.13918 -0.24054\n",
            "[7, 3, 'MaxColumns', False]  0.1213 | 0.12812 0.14928 -0.0087 0.17366 0.35999 0.04846 0.0751 0.04454\n",
            "[7, 4, 'From', False]  0.11135 | 0.0306 0.03291 0.12724 0.08962 0.01389 -0.00869 0.17854 0.42671\n",
            "[7, 4, 'To', False]  0.3161 | 0.03034 0.17533 0.32956 0.40112 0.51148 0.18554 0.37911 0.51632\n",
            "[7, 4, 'MeanColumns', False]  0.15585 | 0.30991 0.23332 0.04361 0.13678 0.21379 0.05825 0.01859 0.23252\n",
            "[7, 4, 'MaxColumns', False]  0.17408 | 0.26212 0.26851 0.08573 0.14905 0.25102 0.11146 0.02835 0.23641\n",
            "[7, 5, 'From', False]  -0.15875 | -0.12361 -0.10547 -0.10505 -0.15557 -0.31063 -0.06699 -0.07443 -0.32827\n",
            "[7, 5, 'To', False]  0.1551 | 0.09314 0.26692 0.09665 0.16329 0.19382 0.10931 0.05595 0.26171\n",
            "[7, 5, 'MeanColumns', False]  0.11349 | 0.14099 0.28094 0.06112 0.04566 0.15638 0.0522 0.04469 0.12597\n",
            "[7, 5, 'MaxColumns', False]  0.13538 | 0.12572 0.28741 0.03358 0.10041 0.21318 0.04053 0.07454 0.20767\n",
            "[7, 6, 'From', False]  -0.00591 | -0.00201 -0.12882 0.05352 -0.04652 0.05389 -0.03219 0.00392 0.05097\n",
            "[7, 6, 'To', False]  0.14695 | 0.10635 0.20701 0.06729 0.15838 0.34737 0.06849 0.05864 0.16209\n",
            "[7, 6, 'MeanColumns', False]  0.15248 | 0.23347 0.17326 0.12475 -0.01872 0.3118 0.06821 0.05124 0.27581\n",
            "[7, 6, 'MaxColumns', False]  0.16866 | 0.15887 0.24138 0.11289 0.20099 0.26607 0.02559 0.1098 0.2337\n",
            "[7, 7, 'From', False]  -0.11485 | -0.12522 -0.1382 -0.03999 -0.10939 -0.2991 -0.05406 -0.04745 -0.10543\n",
            "[7, 7, 'To', False]  0.16006 | 0.12711 0.16898 0.0507 0.21697 0.21102 0.06422 0.1811 0.26037\n",
            "[7, 7, 'MeanColumns', False]  0.15354 | 0.12458 0.21591 0.0568 0.14012 0.26219 0.03065 0.0654 0.33263\n",
            "[7, 7, 'MaxColumns', False]  0.1565 | 0.11106 0.21093 0.05742 0.15518 0.318 0.0588 0.05373 0.28689\n",
            "[7, 8, 'From', False]  0.18411 | 0.04515 0.04541 0.06421 0.33187 0.32771 0.27409 0.23356 0.15085\n",
            "[7, 8, 'To', False]  0.16159 | 0.1653 0.20824 0.0381 0.1986 0.27039 0.06257 0.05359 0.29593\n",
            "[7, 8, 'MeanColumns', False]  0.17276 | 0.12441 0.22619 0.13245 0.05262 0.28407 0.14076 0.11996 0.30164\n",
            "[7, 8, 'MaxColumns', False]  0.17081 | 0.08103 0.20027 0.05518 0.17734 0.37997 0.14097 0.10041 0.23132\n",
            "[7, 9, 'From', False]  0.11306 | -0.08494 0.03521 0.07289 0.05598 0.37734 0.0013 0.1248 0.32193\n",
            "[7, 9, 'To', False]  0.34687 | 0.02919 0.18071 0.32207 0.42792 0.58307 0.21105 0.38046 0.64051\n",
            "[7, 9, 'MeanColumns', False]  0.18969 | 0.06223 0.30081 0.17435 0.16416 0.44163 0.03332 0.08248 0.25857\n",
            "[7, 9, 'MaxColumns', False]  0.19028 | 0.06274 0.29379 0.13913 0.14326 0.43156 0.04957 0.11599 0.28616\n",
            "[7, 10, 'From', False]  -0.0369 | -0.05574 -0.00717 0.07896 -0.036 -0.23979 -0.00453 -0.08898 0.05806\n",
            "[7, 10, 'To', False]  0.32016 | 0.05983 0.11634 0.26085 0.45492 0.45938 0.17509 0.39217 0.64267\n",
            "[7, 10, 'MeanColumns', False]  0.23959 | 0.21306 0.26248 0.20199 0.21997 0.44045 0.132 0.05375 0.39302\n",
            "[7, 10, 'MaxColumns', False]  0.19005 | 0.17202 0.26036 0.17313 0.20303 0.32721 0.03314 0.05964 0.29187\n",
            "[7, 11, 'From', False]  -0.10272 | -0.13414 -0.19432 -0.03623 -0.12619 -0.19742 -0.06901 -0.07683 0.01238\n",
            "[7, 11, 'To', False]  0.31733 | 0.07197 0.13841 0.25498 0.31146 0.45438 0.22588 0.44724 0.63431\n",
            "[7, 11, 'MeanColumns', False]  0.2435 | 0.15257 0.27551 0.1557 0.1481 0.44822 0.05321 0.12529 0.58939\n",
            "[7, 11, 'MaxColumns', False]  0.23996 | 0.18026 0.18693 0.09291 0.19308 0.58393 0.0292 0.16642 0.48695\n",
            "[8, 'Mean', 'From', False]  0.29314 | 0.13213 0.26945 0.22854 0.26568 0.42201 0.16355 0.26261 0.60113\n",
            "[8, 'Mean', 'To', False]  0.22534 | 0.06256 0.13269 0.11473 0.25151 0.39202 0.09828 0.24156 0.50932\n",
            "[8, 'Mean', 'MeanColumns', False]  0.27107 | 0.1012 0.27192 0.24532 0.29583 0.38241 0.13998 0.22854 0.50332\n",
            "[8, 'Mean', 'MaxColumns', False]  0.23362 | 0.10362 0.28093 0.22766 0.2379 0.31268 0.11947 0.20437 0.38236\n",
            "[8, 0, 'From', False]  0.09528 | 0.17824 0.1852 0.10774 0.0157 0.1895 -0.02219 0.01209 0.09592\n",
            "[8, 0, 'To', False]  0.16798 | 0.10286 0.21064 0.0651 0.25082 0.24716 0.07819 0.13616 0.25292\n",
            "[8, 0, 'MeanColumns', False]  0.18708 | 0.17194 0.28981 0.16251 0.10896 0.27527 0.11104 0.05024 0.32683\n",
            "[8, 0, 'MaxColumns', False]  0.18528 | 0.10673 0.26875 0.07752 0.1664 0.35255 0.07535 0.10018 0.33474\n",
            "[8, 1, 'From', False]  0.31114 | 0.07899 0.2545 0.22478 0.30539 0.54311 0.17714 0.28448 0.62073\n",
            "[8, 1, 'To', False]  0.22204 | 0.09665 0.11914 0.19096 0.29265 0.33178 0.12475 0.26845 0.35194\n",
            "[8, 1, 'MeanColumns', False]  0.29404 | 0.07954 0.23979 0.25899 0.26452 0.56508 0.19032 0.27633 0.47773\n",
            "[8, 1, 'MaxColumns', False]  0.26925 | 0.05967 0.25619 0.28317 0.27191 0.49108 0.14668 0.29324 0.35202\n",
            "[8, 2, 'From', False]  0.23458 | 0.10403 0.20911 0.19473 0.12019 0.39834 0.16202 0.22837 0.45987\n",
            "[8, 2, 'To', False]  0.15938 | 0.15814 0.16485 0.02665 0.12415 0.34299 0.04881 0.09775 0.31172\n",
            "[8, 2, 'MeanColumns', False]  0.21173 | 0.07969 0.2921 0.17244 0.19944 0.44135 0.09375 0.11094 0.30418\n",
            "[8, 2, 'MaxColumns', False]  0.21263 | 0.16198 0.30785 0.17618 0.14537 0.43991 0.14001 0.09124 0.2385\n",
            "[8, 3, 'From', False]  0.14367 | 0.19188 0.26584 0.08272 0.02478 0.25761 0.04181 0.06072 0.22401\n",
            "[8, 3, 'To', False]  0.21259 | 0.05249 0.24062 0.18311 0.24633 0.37387 0.12595 0.16411 0.31419\n",
            "[8, 3, 'MeanColumns', False]  0.23841 | 0.23986 0.34544 0.24988 0.12974 0.33152 0.08449 0.15728 0.36908\n",
            "[8, 3, 'MaxColumns', False]  0.19893 | 0.17737 0.34427 0.17814 0.14207 0.27948 0.04079 0.14745 0.28184\n",
            "[8, 4, 'From', False]  0.34707 | 0.03726 0.20527 0.35226 0.34429 0.57315 0.1656 0.35943 0.73932\n",
            "[8, 4, 'To', False]  0.21576 | 0.17258 0.15788 0.08933 0.27332 0.35196 0.06384 0.24277 0.37444\n",
            "[8, 4, 'MeanColumns', False]  0.31108 | 0.04142 0.22639 0.40088 0.34453 0.46806 0.08431 0.33062 0.59246\n",
            "[8, 4, 'MaxColumns', False]  0.31057 | 0.05657 0.2554 0.39939 0.31177 0.47874 0.0657 0.338 0.57895\n",
            "[8, 5, 'From', False]  0.33619 | 0.07564 0.24113 0.31288 0.35019 0.42247 0.26126 0.29129 0.73467\n",
            "[8, 5, 'To', False]  0.33652 | 0.16165 0.18782 0.2248 0.39523 0.58358 0.21566 0.27621 0.6472\n",
            "[8, 5, 'MeanColumns', False]  0.33878 | 0.06932 0.18449 0.31501 0.41853 0.4633 0.1689 0.33949 0.75122\n",
            "[8, 5, 'MaxColumns', False]  0.3097 | 0.06666 0.20364 0.26047 0.37049 0.49697 0.12221 0.27452 0.68265\n",
            "[8, 6, 'From', False]  0.27992 | 0.09138 0.29097 0.27121 0.28188 0.49815 0.17736 0.17434 0.45403\n",
            "[8, 6, 'To', False]  0.18491 | 0.06476 0.1371 0.05026 0.18258 0.36525 0.11686 0.18453 0.37794\n",
            "[8, 6, 'MeanColumns', False]  0.27661 | 0.04912 0.32099 0.25284 0.31644 0.39907 0.26789 0.205 0.40151\n",
            "[8, 6, 'MaxColumns', False]  0.25286 | 0.05506 0.3021 0.25972 0.30204 0.34709 0.20999 0.17626 0.37064\n",
            "[8, 7, 'From', False]  0.07509 | 0.2071 0.17744 0.04587 0.02203 -0.04377 -0.0295 0.05249 0.16905\n",
            "[8, 7, 'To', False]  0.20346 | 0.08772 0.16422 0.12512 0.15281 0.42813 0.05395 0.12698 0.48878\n",
            "[8, 7, 'MeanColumns', False]  0.15631 | 0.1868 0.30563 0.12541 0.13922 0.18406 0.02994 0.04786 0.23153\n",
            "[8, 7, 'MaxColumns', False]  0.17351 | 0.1467 0.31196 0.11008 0.17148 0.2053 0.12406 0.07027 0.24824\n",
            "[8, 8, 'From', False]  0.29654 | 0.08792 0.23506 0.22809 0.30626 0.52868 0.1327 0.28038 0.57319\n",
            "[8, 8, 'To', False]  0.15217 | 0.09912 0.18623 0.04589 0.17839 0.21192 0.06121 0.14129 0.29328\n",
            "[8, 8, 'MeanColumns', False]  0.25799 | 0.11492 0.25826 0.20168 0.20942 0.35206 0.21282 0.23011 0.48463\n",
            "[8, 8, 'MaxColumns', False]  0.181 | 0.12089 0.2113 0.11738 0.15585 0.18055 0.15335 0.17081 0.33792\n",
            "[8, 9, 'From', False]  0.18841 | 0.16628 0.13423 0.11272 0.19528 0.18005 0.15734 0.23887 0.32251\n",
            "[8, 9, 'To', False]  0.17811 | 0.12215 0.17024 0.0778 0.24697 0.25797 0.05117 0.11083 0.38778\n",
            "[8, 9, 'MeanColumns', False]  0.23394 | 0.14256 0.27028 0.1782 0.21252 0.32675 0.14128 0.19793 0.40202\n",
            "[8, 9, 'MaxColumns', False]  0.19256 | 0.10382 0.23014 0.16706 0.21807 0.18612 0.09798 0.19323 0.34403\n",
            "[8, 10, 'From', False]  0.04796 | 0.16357 0.09773 0.07341 -0.04441 -0.10547 0.0448 0.04655 0.10751\n",
            "[8, 10, 'To', False]  0.20662 | 0.07658 0.19549 0.12926 0.12738 0.45346 0.14912 0.15374 0.36791\n",
            "[8, 10, 'MeanColumns', False]  0.21272 | 0.31155 0.27164 0.17122 0.14197 0.2798 0.08337 0.10553 0.33665\n",
            "[8, 10, 'MaxColumns', False]  0.2122 | 0.31677 0.27088 0.1857 0.12683 0.29391 0.03765 0.13555 0.33028\n",
            "[8, 11, 'From', False]  0.09884 | 0.19274 0.20408 0.09952 -0.03873 0.05097 0.04238 0.04515 0.19459\n",
            "[8, 11, 'To', False]  0.21806 | 0.14887 0.1817 0.12726 0.16854 0.38897 0.15352 0.08796 0.48764\n",
            "[8, 11, 'MeanColumns', False]  0.14823 | 0.15307 0.21356 0.12565 0.06302 0.2534 0.03378 0.06338 0.27993\n",
            "[8, 11, 'MaxColumns', False]  0.15057 | 0.15252 0.21709 0.08133 0.12858 0.24253 0.0496 0.08029 0.25261\n",
            "[9, 'Mean', 'From', False]  0.30193 | 0.14364 0.24899 0.21302 0.28258 0.42026 0.1838 0.26153 0.66164\n",
            "[9, 'Mean', 'To', False]  0.25578 | 0.21268 0.17976 0.28325 0.17703 0.33874 0.18518 0.17977 0.48981\n",
            "[9, 'Mean', 'MeanColumns', False]  0.31445 | 0.17444 0.23626 0.22304 0.28241 0.49442 0.18883 0.22579 0.69039\n",
            "[9, 'Mean', 'MaxColumns', False]  0.28313 | 0.17979 0.20464 0.16942 0.26908 0.39744 0.20767 0.20979 0.62718\n",
            "[9, 0, 'From', False]  0.27534 | 0.24946 0.2165 0.13435 0.2956 0.38728 0.07142 0.2048 0.64327\n",
            "[9, 0, 'To', False]  0.22276 | 0.10439 0.23345 0.23041 0.17018 0.22908 0.09614 0.26644 0.45201\n",
            "[9, 0, 'MeanColumns', False]  0.26853 | 0.2694 0.19942 0.14339 0.2589 0.34735 0.14027 0.16065 0.62885\n",
            "[9, 0, 'MaxColumns', False]  0.2293 | 0.26214 0.19539 0.12145 0.20482 0.25214 0.07204 0.14018 0.58624\n",
            "[9, 1, 'From', False]  0.26556 | 0.1218 0.18691 0.20259 0.30418 0.27038 0.24404 0.27717 0.51739\n",
            "[9, 1, 'To', False]  0.1667 | 0.19737 0.18765 0.1089 0.21563 0.21039 0.06055 0.03892 0.31422\n",
            "[9, 1, 'MeanColumns', False]  0.28704 | 0.09641 0.17662 0.199 0.31726 0.36973 0.28201 0.32051 0.53479\n",
            "[9, 1, 'MaxColumns', False]  0.22092 | 0.09234 0.13621 0.10828 0.28327 0.23769 0.23161 0.27587 0.40208\n",
            "[9, 2, 'From', False]  0.21988 | 0.33383 0.33415 0.1142 0.13944 0.27636 0.12575 0.09366 0.34162\n",
            "[9, 2, 'To', False]  0.21891 | 0.08935 0.17779 0.1518 0.16542 0.32564 0.12535 0.31031 0.40565\n",
            "[9, 2, 'MeanColumns', False]  0.24919 | 0.36271 0.32338 0.11928 0.18687 0.33666 0.11503 0.08858 0.46097\n",
            "[9, 2, 'MaxColumns', False]  0.21936 | 0.28609 0.32467 0.14842 0.16232 0.26862 0.06888 0.08327 0.41261\n",
            "[9, 3, 'From', False]  0.2886 | 0.17137 0.24929 0.13641 0.28839 0.29176 0.17629 0.3544 0.64088\n",
            "[9, 3, 'To', False]  0.1606 | 0.12444 0.21884 0.08537 0.12225 0.28329 0.05967 0.06131 0.32965\n",
            "[9, 3, 'MeanColumns', False]  0.26091 | 0.19182 0.25948 0.16137 0.22254 0.29669 0.13662 0.19213 0.62662\n",
            "[9, 3, 'MaxColumns', False]  0.23597 | 0.14659 0.22576 0.15765 0.15197 0.30012 0.07199 0.21955 0.61416\n",
            "[9, 4, 'From', False]  0.32773 | 0.0969 0.13052 0.20337 0.3438 0.57491 0.27249 0.32923 0.67061\n",
            "[9, 4, 'To', False]  0.3507 | 0.16869 0.1674 0.32761 0.34555 0.60125 0.22372 0.34539 0.626\n",
            "[9, 4, 'MeanColumns', False]  0.23287 | 0.13528 0.2183 0.11172 0.15154 0.4504 0.14278 0.23307 0.41987\n",
            "[9, 4, 'MaxColumns', False]  0.26586 | 0.08378 0.18055 0.18552 0.20403 0.58213 0.15216 0.25526 0.48347\n",
            "[9, 5, 'From', False]  0.22426 | 0.18318 0.28501 0.15451 0.16744 0.12317 0.09126 0.17382 0.61567\n",
            "[9, 5, 'To', False]  0.13662 | 0.20239 0.17778 0.05403 0.12544 0.20746 0.04235 0.06169 0.2218\n",
            "[9, 5, 'MeanColumns', False]  0.23579 | 0.18184 0.25697 0.11757 0.20888 0.32423 0.13556 0.14103 0.52026\n",
            "[9, 5, 'MaxColumns', False]  0.22407 | 0.17853 0.28634 0.12323 0.19412 0.29023 0.13247 0.12448 0.46316\n",
            "[9, 6, 'From', False]  0.30522 | 0.18875 0.1775 0.14583 0.21693 0.49269 0.25065 0.31151 0.65794\n",
            "[9, 6, 'To', False]  0.15852 | 0.25893 0.18001 0.09427 0.1309 0.23313 0.0595 0.09257 0.21882\n",
            "[9, 6, 'MeanColumns', False]  0.34483 | 0.17544 0.15752 0.16896 0.32137 0.55026 0.28448 0.33571 0.7649\n",
            "[9, 6, 'MaxColumns', False]  0.34146 | 0.20028 0.1606 0.16264 0.32583 0.5912 0.28175 0.3256 0.68379\n",
            "[9, 7, 'From', False]  0.33821 | 0.09629 0.29351 0.2943 0.3756 0.43019 0.19766 0.26008 0.75809\n",
            "[9, 7, 'To', False]  0.19827 | 0.33307 0.16977 0.13811 0.25365 0.34534 0.0417 0.07655 0.22794\n",
            "[9, 7, 'MeanColumns', False]  0.3477 | 0.12588 0.23756 0.24173 0.38332 0.62781 0.16296 0.26058 0.74178\n",
            "[9, 7, 'MaxColumns', False]  0.33916 | 0.17012 0.23755 0.22359 0.32209 0.61006 0.0932 0.28544 0.7712\n",
            "[9, 8, 'From', False]  0.26045 | 0.09167 0.25542 0.12686 0.29171 0.42691 0.14917 0.16221 0.57964\n",
            "[9, 8, 'To', False]  0.202 | 0.09821 0.21383 0.10357 0.24188 0.38143 0.14315 0.0537 0.38023\n",
            "[9, 8, 'MeanColumns', False]  0.2474 | 0.1081 0.26265 0.13728 0.32727 0.38753 0.12458 0.13755 0.49421\n",
            "[9, 8, 'MaxColumns', False]  0.20435 | 0.12467 0.25064 0.11749 0.22708 0.28454 0.11045 0.15592 0.36402\n",
            "[9, 9, 'From', False]  0.25044 | 0.16739 0.27056 0.16069 0.22647 0.39119 0.06642 0.19007 0.53074\n",
            "[9, 9, 'To', False]  0.18394 | 0.07886 0.14053 0.08735 0.14246 0.36626 0.04615 0.21292 0.39697\n",
            "[9, 9, 'MeanColumns', False]  0.21981 | 0.16724 0.23153 0.1303 0.19623 0.36599 0.06945 0.09234 0.50537\n",
            "[9, 9, 'MaxColumns', False]  0.20516 | 0.13649 0.21046 0.07337 0.19993 0.32175 0.13552 0.09136 0.47235\n",
            "[9, 10, 'From', False]  0.25515 | 0.0677 0.26458 0.16948 0.21699 0.51405 0.14966 0.19318 0.46553\n",
            "[9, 10, 'To', False]  0.28096 | 0.15011 0.19696 0.18502 0.29808 0.39152 0.21795 0.25662 0.55141\n",
            "[9, 10, 'MeanColumns', False]  0.24164 | 0.05125 0.24763 0.14328 0.2479 0.49681 0.07612 0.15538 0.51474\n",
            "[9, 10, 'MaxColumns', False]  0.20457 | 0.02434 0.24025 0.14503 0.22403 0.38749 0.07738 0.11178 0.42626\n",
            "[9, 11, 'From', False]  0.2277 | 0.15192 0.27577 0.18804 0.15268 0.41208 0.06542 0.11908 0.45665\n",
            "[9, 11, 'To', False]  0.17959 | 0.13596 0.21433 0.16417 0.13568 0.2548 0.13205 0.10314 0.2966\n",
            "[9, 11, 'MeanColumns', False]  0.22416 | 0.23739 0.22855 0.10654 0.16299 0.43136 0.10927 0.02859 0.48862\n",
            "[9, 11, 'MaxColumns', False]  0.21245 | 0.19753 0.21527 0.13336 0.11649 0.44173 0.06552 0.02666 0.503\n",
            "[10, 'Mean', 'From', False]  0.35156 | 0.25648 0.29884 0.29824 0.37545 0.50236 0.22221 0.22563 0.63327\n",
            "[10, 'Mean', 'To', False]  0.1815 | 0.11657 0.23528 0.03963 0.15063 0.46982 0.13598 0.06928 0.23478\n",
            "[10, 'Mean', 'MeanColumns', False]  0.36251 | 0.20561 0.28045 0.29162 0.40259 0.59754 0.22788 0.21473 0.6797\n",
            "[10, 'Mean', 'MaxColumns', False]  0.34092 | 0.1767 0.29409 0.28495 0.29151 0.56579 0.21684 0.21024 0.68722\n",
            "[10, 0, 'From', False]  0.18995 | 0.20086 0.34274 0.19671 0.16597 0.24054 0.01699 0.06985 0.28592\n",
            "[10, 0, 'To', False]  0.18589 | 0.09927 0.16323 0.04204 0.22021 0.37955 0.11837 0.18513 0.27936\n",
            "[10, 0, 'MeanColumns', False]  0.20788 | 0.20769 0.33638 0.21145 0.16178 0.30899 0.02157 0.08452 0.33071\n",
            "[10, 0, 'MaxColumns', False]  0.20265 | 0.15343 0.32119 0.22322 0.18007 0.2834 0.06569 0.11528 0.27895\n",
            "[10, 1, 'From', False]  0.28533 | 0.19655 0.35833 0.31353 0.28601 0.28519 0.20117 0.13042 0.51147\n",
            "[10, 1, 'To', False]  0.23533 | 0.15419 0.22706 0.08216 0.24775 0.42761 0.06431 0.18124 0.49829\n",
            "[10, 1, 'MeanColumns', False]  0.30946 | 0.19301 0.32219 0.23335 0.41138 0.3273 0.26846 0.14047 0.57955\n",
            "[10, 1, 'MaxColumns', False]  0.28785 | 0.16789 0.31647 0.22237 0.3371 0.32756 0.20593 0.10088 0.62459\n",
            "[10, 2, 'From', False]  0.21883 | 0.13822 0.29274 0.13523 0.34604 0.28085 0.16824 0.11383 0.27549\n",
            "[10, 2, 'To', False]  0.15124 | 0.13594 0.18951 0.03848 0.18773 0.25387 0.0431 0.0861 0.27518\n",
            "[10, 2, 'MeanColumns', False]  0.23401 | 0.14368 0.28221 0.12263 0.34105 0.36325 0.22275 0.10184 0.29472\n",
            "[10, 2, 'MaxColumns', False]  0.21053 | 0.165 0.27554 0.09609 0.19871 0.31182 0.21651 0.10125 0.31932\n",
            "[10, 3, 'From', False]  0.27231 | 0.1471 0.32349 0.32585 0.17401 0.50157 0.08427 0.17687 0.44532\n",
            "[10, 3, 'To', False]  0.17181 | 0.09001 0.2432 0.08363 0.15717 0.37465 0.11702 0.07767 0.23115\n",
            "[10, 3, 'MeanColumns', False]  0.27547 | 0.13191 0.35175 0.32968 0.20726 0.46063 0.07144 0.15635 0.49476\n",
            "[10, 3, 'MaxColumns', False]  0.25809 | 0.10507 0.34214 0.27629 0.19712 0.37981 0.07665 0.17348 0.51421\n",
            "[10, 4, 'From', False]  0.35326 | 0.13593 0.15311 0.28891 0.46193 0.5888 0.2637 0.29763 0.63605\n",
            "[10, 4, 'To', False]  0.2636 | 0.12067 0.13066 0.23028 0.19084 0.53611 0.2135 0.28053 0.40625\n",
            "[10, 4, 'MeanColumns', False]  0.36691 | 0.0888 0.1684 0.34346 0.5001 0.61351 0.29761 0.2982 0.62517\n",
            "[10, 4, 'MaxColumns', False]  0.34715 | 0.06816 0.1664 0.27019 0.44929 0.65387 0.24437 0.28298 0.64192\n",
            "[10, 5, 'From', False]  0.31921 | 0.20355 0.26134 0.22076 0.42212 0.50824 0.11275 0.19432 0.63062\n",
            "[10, 5, 'To', False]  0.17398 | 0.06357 0.19072 0.04773 0.1966 0.41879 0.22233 0.06606 0.18603\n",
            "[10, 5, 'MeanColumns', False]  0.29531 | 0.19049 0.30201 0.17501 0.40014 0.50974 0.06075 0.16108 0.56322\n",
            "[10, 5, 'MaxColumns', False]  0.27209 | 0.15037 0.30502 0.17283 0.27483 0.52177 0.08341 0.1504 0.51807\n",
            "[10, 6, 'From', False]  0.24998 | 0.20716 0.23668 0.23152 0.18107 0.60024 0.04762 0.15974 0.33584\n",
            "[10, 6, 'To', False]  0.23913 | 0.25244 0.24439 0.08591 0.19737 0.52939 0.09261 0.13604 0.37491\n",
            "[10, 6, 'MeanColumns', False]  0.25528 | 0.15628 0.25316 0.2457 0.19392 0.63864 0.0581 0.13664 0.35983\n",
            "[10, 6, 'MaxColumns', False]  0.25165 | 0.16556 0.27689 0.23569 0.14496 0.64357 0.03955 0.15326 0.3537\n",
            "[10, 7, 'From', False]  0.35775 | 0.09531 0.16216 0.32558 0.53833 0.45068 0.31301 0.36859 0.60834\n",
            "[10, 7, 'To', False]  0.16144 | 0.14833 0.23159 0.0315 0.15171 0.40171 0.05526 0.06443 0.20698\n",
            "[10, 7, 'MeanColumns', False]  0.35913 | 0.06742 0.165 0.33158 0.52133 0.45625 0.29223 0.37647 0.66274\n",
            "[10, 7, 'MaxColumns', False]  0.3521 | 0.05965 0.16826 0.33467 0.47879 0.44971 0.2949 0.3692 0.6616\n",
            "[10, 8, 'From', False]  0.36038 | 0.2727 0.1982 0.33252 0.3815 0.50182 0.23323 0.23231 0.73079\n",
            "[10, 8, 'To', False]  0.15786 | 0.10323 0.20675 0.03694 0.1336 0.31833 0.12152 0.12883 0.21366\n",
            "[10, 8, 'MeanColumns', False]  0.35799 | 0.17459 0.2467 0.24746 0.32412 0.59179 0.26394 0.26746 0.74785\n",
            "[10, 8, 'MaxColumns', False]  0.33787 | 0.1917 0.22343 0.1809 0.26914 0.62638 0.23881 0.26685 0.70572\n",
            "[10, 9, 'From', False]  0.3265 | 0.20068 0.25913 0.18886 0.26164 0.52664 0.18051 0.30376 0.6908\n",
            "[10, 9, 'To', False]  0.17239 | 0.11198 0.23534 0.06794 0.16329 0.38058 0.11019 0.11448 0.19531\n",
            "[10, 9, 'MeanColumns', False]  0.2926 | 0.20419 0.243 0.24009 0.20257 0.49263 0.1268 0.27741 0.55412\n",
            "[10, 9, 'MaxColumns', False]  0.27695 | 0.18467 0.2448 0.18249 0.19974 0.49915 0.07932 0.24296 0.58249\n",
            "[10, 10, 'From', False]  0.24745 | 0.35566 0.27471 0.15055 0.17471 0.39281 0.09525 0.11351 0.4224\n",
            "[10, 10, 'To', False]  0.16945 | 0.16686 0.30313 0.0399 0.12011 0.36935 0.05139 0.0421 0.26277\n",
            "[10, 10, 'MeanColumns', False]  0.29936 | 0.3888 0.28313 0.24836 0.22661 0.44595 0.15477 0.13487 0.51234\n",
            "[10, 10, 'MaxColumns', False]  0.28464 | 0.37435 0.27585 0.24714 0.22171 0.36801 0.15137 0.14247 0.49621\n",
            "[10, 11, 'From', False]  0.22428 | 0.21705 0.23883 0.11668 0.20942 0.29153 0.17765 0.07593 0.46716\n",
            "[10, 11, 'To', False]  0.14906 | 0.05836 0.16892 0.06379 0.19183 0.29154 0.09217 0.14519 0.18066\n",
            "[10, 11, 'MeanColumns', False]  0.22131 | 0.18731 0.23178 0.10775 0.18927 0.34399 0.18978 0.0455 0.47508\n",
            "[10, 11, 'MaxColumns', False]  0.19882 | 0.17698 0.24095 0.10535 0.2091 0.32473 0.10844 0.0653 0.35973\n",
            "[11, 'Mean', 'From', False]  0.3538 | 0.17271 0.21551 0.26285 0.37809 0.66184 0.23079 0.26407 0.6445\n",
            "[11, 'Mean', 'To', False]  0.13821 | 0.07688 0.21728 0.05714 0.10872 0.3199 0.05068 0.04691 0.2282\n",
            "[11, 'Mean', 'MeanColumns', False]  0.33808 | 0.17346 0.20819 0.30307 0.43209 0.66059 0.12474 0.23793 0.56457\n",
            "[11, 'Mean', 'MaxColumns', False]  0.33613 | 0.17148 0.21373 0.23361 0.34509 0.66442 0.20172 0.25309 0.60585\n",
            "[11, 0, 'From', False]  0.26457 | 0.15229 0.22122 0.1657 0.16171 0.42275 0.28358 0.16425 0.54503\n",
            "[11, 0, 'To', False]  0.11834 | 0.07254 0.04788 -0.04628 0.13334 0.4315 0.05251 0.0348 0.22047\n",
            "[11, 0, 'MeanColumns', False]  0.26829 | 0.13591 0.23252 0.12577 0.20579 0.5149 0.29036 0.11766 0.52337\n",
            "[11, 0, 'MaxColumns', False]  0.26087 | 0.14935 0.20147 0.13462 0.17407 0.43644 0.28393 0.16931 0.53781\n",
            "[11, 1, 'From', False]  0.3329 | 0.0868 0.2226 0.22859 0.35636 0.51332 0.16519 0.34868 0.74168\n",
            "[11, 1, 'To', False]  0.1312 | 0.09867 0.2022 0.05387 0.11411 0.27907 0.04869 0.05784 0.19514\n",
            "[11, 1, 'MeanColumns', False]  0.3088 | 0.11142 0.21812 0.13823 0.36737 0.52402 0.14674 0.28474 0.67976\n",
            "[11, 1, 'MaxColumns', False]  0.28401 | 0.1262 0.20808 0.12638 0.34326 0.43806 0.10469 0.28484 0.64053\n",
            "[11, 2, 'From', False]  0.32092 | 0.16594 0.16941 0.25031 0.31746 0.63748 0.14436 0.39314 0.48928\n",
            "[11, 2, 'To', False]  0.1182 | 0.1085 0.22558 0.03147 0.00726 0.26701 0.03676 0.04651 0.22247\n",
            "[11, 2, 'MeanColumns', False]  0.3269 | 0.14666 0.15751 0.25323 0.37208 0.57502 0.16987 0.4013 0.53956\n",
            "[11, 2, 'MaxColumns', False]  0.30264 | 0.14116 0.15377 0.25572 0.31579 0.56619 0.1324 0.37519 0.48089\n",
            "[11, 3, 'From', False]  0.28695 | 0.2029 0.22422 0.18467 0.29918 0.45243 0.06129 0.26996 0.60095\n",
            "[11, 3, 'To', False]  0.15798 | 0.09801 0.20724 0.13584 0.15313 0.26462 0.06027 0.10466 0.24009\n",
            "[11, 3, 'MeanColumns', False]  0.25741 | 0.20698 0.24967 0.14061 0.2367 0.37322 0.05871 0.22064 0.57277\n",
            "[11, 3, 'MaxColumns', False]  0.26134 | 0.17351 0.21369 0.13726 0.2587 0.42554 0.08182 0.26374 0.53644\n",
            "[11, 4, 'From', False]  0.20038 | 0.04418 0.03341 0.14458 0.30978 0.41563 0.20806 -0.00443 0.45186\n",
            "[11, 4, 'To', False]  0.06902 | 0.13111 0.07109 -0.03436 0.14806 0.12624 0.0696 -0.16826 0.20866\n",
            "[11, 4, 'MeanColumns', False]  0.17901 | 0.07334 0.05958 0.08977 0.29586 0.39539 0.15072 -0.05883 0.42626\n",
            "[11, 4, 'MaxColumns', False]  0.21787 | 0.06255 0.04652 0.18667 0.31032 0.45132 0.22047 0.0261 0.43906\n",
            "[11, 5, 'From', False]  0.25278 | 0.09364 0.19241 0.22389 0.30086 0.45879 0.09067 0.23221 0.42973\n",
            "[11, 5, 'To', False]  0.19398 | 0.06802 0.1789 0.08526 0.1619 0.37383 0.08074 0.33246 0.27075\n",
            "[11, 5, 'MeanColumns', False]  0.21536 | 0.12638 0.22247 0.22427 0.2718 0.35735 0.03357 0.14234 0.34473\n",
            "[11, 5, 'MaxColumns', False]  0.21008 | 0.13462 0.23087 0.22058 0.21481 0.39791 0.03996 0.14741 0.29449\n",
            "[11, 6, 'From', False]  0.26658 | 0.18495 0.2371 0.25198 0.19773 0.31768 0.11283 0.19011 0.64026\n",
            "[11, 6, 'To', False]  0.13308 | 0.08502 0.21332 0.11368 0.10099 0.26463 0.04436 0.05842 0.18424\n",
            "[11, 6, 'MeanColumns', False]  0.27171 | 0.17724 0.20188 0.29378 0.22526 0.39015 0.12264 0.17357 0.58915\n",
            "[11, 6, 'MaxColumns', False]  0.26217 | 0.1807 0.23711 0.25727 0.22238 0.3164 0.11304 0.18254 0.58791\n",
            "[11, 7, 'From', False]  0.24001 | 0.22546 0.2191 0.15684 0.29976 0.27466 0.21827 0.27885 0.24713\n",
            "[11, 7, 'To', False]  0.13615 | 0.10405 0.19999 0.04058 0.11531 0.31104 0.06197 0.03973 0.21652\n",
            "[11, 7, 'MeanColumns', False]  0.24398 | 0.22732 0.216 0.1949 0.3062 0.31781 0.17178 0.24679 0.27104\n",
            "[11, 7, 'MaxColumns', False]  0.23911 | 0.22377 0.21883 0.15282 0.30506 0.27383 0.21907 0.27236 0.24713\n",
            "[11, 8, 'From', False]  0.27462 | 0.13957 0.20384 0.26045 0.32015 0.44343 0.19047 0.16038 0.47871\n",
            "[11, 8, 'To', False]  0.16004 | 0.12309 0.14074 0.05799 0.20564 0.3546 0.04877 0.02282 0.3267\n",
            "[11, 8, 'MeanColumns', False]  0.24766 | 0.14493 0.21954 0.22611 0.30852 0.45266 0.13793 0.11852 0.37308\n",
            "[11, 8, 'MaxColumns', False]  0.25733 | 0.14444 0.22027 0.29299 0.27922 0.43778 0.13704 0.15114 0.39577\n",
            "[11, 9, 'From', False]  0.21967 | 0.12371 0.21192 0.1691 0.35105 0.37141 0.06423 0.13603 0.32992\n",
            "[11, 9, 'To', False]  0.13561 | 0.09307 0.2072 0.04961 0.12135 0.29007 0.0398 0.09757 0.18625\n",
            "[11, 9, 'MeanColumns', False]  0.23949 | 0.13992 0.18648 0.16431 0.41534 0.44581 0.07788 0.15905 0.32715\n",
            "[11, 9, 'MaxColumns', False]  0.21961 | 0.12371 0.21196 0.1691 0.3507 0.37152 0.06393 0.13605 0.32992\n",
            "[11, 10, 'From', False]  0.29155 | 0.27179 0.16924 0.16494 0.40971 0.55805 0.16709 0.17355 0.41802\n",
            "[11, 10, 'To', False]  0.14492 | 0.10694 0.24572 0.04886 0.15298 0.24712 0.06914 0.07343 0.21521\n",
            "[11, 10, 'MeanColumns', False]  0.28752 | 0.23851 0.17125 0.18308 0.39844 0.56264 0.11446 0.17587 0.45592\n",
            "[11, 10, 'MaxColumns', False]  0.27264 | 0.25878 0.18265 0.18185 0.35558 0.56273 0.09206 0.14095 0.40655\n",
            "[11, 11, 'From', False]  0.26073 | 0.18077 0.18923 0.20432 0.3493 0.44854 0.05085 0.26235 0.40051\n",
            "[11, 11, 'To', False]  0.14907 | 0.16524 0.21189 0.08183 0.12243 0.32125 0.08221 0.05293 0.15474\n",
            "[11, 11, 'MeanColumns', False]  0.21208 | 0.14367 0.17972 0.19203 0.23452 0.42974 0.02911 0.14669 0.34116\n",
            "[11, 11, 'MaxColumns', False]  0.19825 | 0.16767 0.17902 0.18998 0.22571 0.34744 0.02167 0.14592 0.30861\n",
            "F\n",
            "['Mean', 'Mean', 'From', False]  0.14559 | 0.01543 0.06889 0.1264 0.10148 0.25417 0.08604 0.16025 0.35209\n",
            "['Mean', 'Mean', 'To', False]  0.11491 | 0.02537 -0.033 -0.00482 0.05498 0.29608 0.09501 0.29436 0.19132\n",
            "['Mean', 'Mean', 'MeanColumns', False]  0.13933 | 0.05399 0.1165 0.12481 0.06947 0.23805 0.08587 0.07387 0.35206\n",
            "['Mean', 'Mean', 'MaxColumns', False]  0.06633 | 0.06993 0.13895 0.04923 0.05289 0.09046 0.07507 0.01473 0.0394\n",
            "['Mean', 0, 'From', False]  0.16871 | 0.03733 0.06986 0.12852 0.06074 0.34138 0.07484 0.14323 0.49378\n",
            "['Mean', 0, 'To', False]  0.15258 | -0.02815 -0.00342 0.1416 0.152 0.1607 0.13902 0.32309 0.33577\n",
            "['Mean', 0, 'MeanColumns', False]  0.11401 | 0.14552 0.05904 0.06994 0.06875 0.26073 0.0736 0.00906 0.22544\n",
            "['Mean', 0, 'MaxColumns', False]  0.12498 | 0.06973 0.10684 0.0748 0.11187 0.37955 0.05262 0.0506 0.15378\n",
            "['Mean', 1, 'From', False]  0.15491 | 0.00858 0.03738 0.12655 0.08267 0.23866 0.08554 0.31337 0.34653\n",
            "['Mean', 1, 'To', False]  0.15953 | 0.03765 -0.03972 0.00723 0.17372 0.2843 0.12585 0.34336 0.34385\n",
            "['Mean', 1, 'MeanColumns', False]  0.12508 | 0.02287 0.07915 0.12481 0.1071 0.15716 0.08537 0.14733 0.27682\n",
            "['Mean', 1, 'MaxColumns', False]  0.08794 | 0.05295 0.02137 0.00088 0.18163 0.15834 -0.00687 0.23049 0.06473\n",
            "['Mean', 2, 'From', False]  0.09578 | 0.0783 0.03537 0.07149 0.06631 0.1851 0.10337 0.05236 0.17395\n",
            "['Mean', 2, 'To', False]  0.09867 | 0.0551 -0.01011 0.05178 0.01496 0.3289 0.04476 0.147 0.15698\n",
            "['Mean', 2, 'MeanColumns', False]  0.09047 | 0.08112 0.0598 0.06612 0.06969 0.15762 0.08556 0.04874 0.15512\n",
            "['Mean', 2, 'MaxColumns', False]  0.0513 | -0.00637 0.1064 0.08253 0.01441 0.07933 0.01966 0.01756 0.09688\n",
            "['Mean', 3, 'From', False]  0.11077 | 0.08607 0.09952 0.12651 0.06077 0.2562 0.00282 0.04495 0.2093\n",
            "['Mean', 3, 'To', False]  0.09975 | 0.02718 -0.02362 0.01862 0.01759 0.28677 0.11275 0.23773 0.12094\n",
            "['Mean', 3, 'MeanColumns', False]  0.09206 | 0.08282 0.12082 0.12785 0.01383 0.08899 0.08604 0.00554 0.21057\n",
            "['Mean', 3, 'MaxColumns', False]  0.0877 | 0.06816 0.11312 0.09927 0.03391 0.08307 0.00641 0.11166 0.18599\n",
            "['Mean', 4, 'From', False]  0.16582 | -0.00885 0.03467 0.12546 0.10149 0.34854 0.08863 0.14293 0.49366\n",
            "['Mean', 4, 'To', False]  0.16661 | 0.06897 -0.02527 0.17326 0.14112 0.29652 -0.00143 0.1755 0.50421\n",
            "['Mean', 4, 'MeanColumns', False]  0.08652 | 0.01908 0.09885 0.06681 0.09862 0.17392 0.00479 0.11952 0.11057\n",
            "['Mean', 4, 'MaxColumns', False]  0.15593 | 0.01919 0.07984 0.25054 0.05739 0.41694 0.10516 0.05104 0.26738\n",
            "['Mean', 5, 'From', False]  0.11058 | 0.01828 0.1017 0.06654 0.04727 0.23417 0.00836 0.11498 0.29335\n",
            "['Mean', 5, 'To', False]  0.0831 | 0.03262 0.02096 -0.01729 0.14468 0.15999 0.1754 0.06941 0.07906\n",
            "['Mean', 5, 'MeanColumns', False]  0.05673 | 0.05568 0.1329 0.06464 0.01901 0.00163 0.07426 0.03848 0.06727\n",
            "['Mean', 5, 'MaxColumns', False]  0.02603 | 0.03091 0.0505 0.00606 0.06251 0.00541 0.00083 0.02401 0.02801\n",
            "['Mean', 6, 'From', False]  0.13215 | 0.0285 0.08698 0.13041 0.08286 0.18518 0.08863 0.09922 0.3554\n",
            "['Mean', 6, 'To', False]  0.06121 | 0.02617 -0.00167 0.06871 0.05083 0.1869 -0.00098 -0.00925 0.16899\n",
            "['Mean', 6, 'MeanColumns', False]  0.09441 | 0.04794 0.1445 0.06725 0.06462 0.19309 0.0741 0.01937 0.14441\n",
            "['Mean', 6, 'MaxColumns', False]  0.07258 | 0.14088 0.04573 0.04294 0.06212 0.10118 0.06128 0.01862 0.10788\n",
            "['Mean', 7, 'From', False]  0.05941 | 0.04993 0.12312 0.12252 0.00987 0.00553 -0.00305 0.02666 0.14072\n",
            "['Mean', 7, 'To', False]  0.02902 | 0.01376 0.03288 0.00315 0.01183 0.08525 0.01387 0.06183 0.00957\n",
            "['Mean', 7, 'MeanColumns', False]  0.12055 | 0.06406 0.08633 0.1247 0.05291 0.20273 0.08863 0.13739 0.20762\n",
            "['Mean', 7, 'MaxColumns', False]  0.09237 | 0.07043 0.13167 0.05447 0.05855 0.08879 0.07336 0.06156 0.20011\n",
            "['Mean', 8, 'From', False]  0.13095 | 0.03413 0.0708 0.1264 0.10167 0.27074 0.10353 0.13618 0.20414\n",
            "['Mean', 8, 'To', False]  0.11958 | 0.08642 0.00877 -0.02623 0.10831 0.08808 0.10529 0.22702 0.35894\n",
            "['Mean', 8, 'MeanColumns', False]  0.09069 | 0.07732 0.11789 0.06944 0.06875 0.08887 0.10267 0.06647 0.13413\n",
            "['Mean', 8, 'MaxColumns', False]  0.07892 | 0.03651 0.05257 0.0026 0.13595 0.00168 0.13087 0.20283 0.06833\n",
            "['Mean', 9, 'From', False]  0.15292 | -0.00097 0.06836 0.12546 0.08291 0.34138 -0.00612 0.18762 0.4247\n",
            "['Mean', 9, 'To', False]  0.11385 | 0.00688 0.00907 0.15087 0.06121 0.26748 0.14241 0.14063 0.13228\n",
            "['Mean', 9, 'MeanColumns', False]  0.13637 | 0.02818 0.14553 0.09481 0.06615 0.24065 0.08913 0.07445 0.35206\n",
            "['Mean', 9, 'MaxColumns', False]  0.11902 | 0.00572 0.14415 0.0673 0.01455 0.25969 0.00095 0.24181 0.218\n",
            "['Mean', 10, 'From', False]  0.11858 | 0.07872 0.09997 0.13068 0.08547 0.23377 0.10334 0.00661 0.21013\n",
            "['Mean', 10, 'To', False]  0.134 | -0.0348 -0.02339 0.01831 0.0581 0.34487 0.14198 0.29626 0.27067\n",
            "['Mean', 10, 'MeanColumns', False]  0.07378 | 0.0497 0.10885 0.07041 0.01889 0.24065 0.07438 0.0066 0.02075\n",
            "['Mean', 10, 'MaxColumns', False]  0.04885 | 0.08611 0.09278 0.0659 0.01904 0.08986 0.00782 0.0059 0.02343\n",
            "['Mean', 11, 'From', False]  0.08066 | 0.04003 0.0368 0.06438 0.01082 0.18482 0.08574 0.05035 0.17238\n",
            "['Mean', 11, 'To', False]  0.04662 | -0.00821 0.06129 0.04421 0.01243 0.10807 0.00786 0.11378 0.03358\n",
            "['Mean', 11, 'MeanColumns', False]  0.10134 | 0.05183 0.0352 0.06149 0.01661 0.21469 0.08722 0.12148 0.22221\n",
            "['Mean', 11, 'MaxColumns', False]  0.07542 | 0.07546 0.079 0.05824 0.11368 0.15907 -0.00035 0.01538 0.1029\n",
            "[0, 'Mean', 'From', False]  0.06077 | 0.01401 0.03967 0.01398 0.01822 0.15271 0.09055 0.08976 0.06722\n",
            "[0, 'Mean', 'To', False]  0.04821 | -0.00645 0.08384 0.04382 0.01193 0.10293 0.00251 0.11395 0.03315\n",
            "[0, 'Mean', 'MeanColumns', False]  0.09961 | 0.08572 0.10686 0.00458 0.09219 0.01894 0.00905 0.20838 0.27117\n",
            "[0, 'Mean', 'MaxColumns', False]  0.06391 | 0.1222 0.07985 0.00213 0.06657 0.0149 0.00095 0.06082 0.16383\n",
            "[0, 0, 'From', False]  0.0783 | 0.02157 0.03727 0.08321 0.00596 0.00627 0.12539 0.24182 0.10488\n",
            "[0, 0, 'To', False]  0.10017 | 0.01812 0.07207 0.01883 0.10502 0.16924 -0.00394 0.10208 0.31991\n",
            "[0, 0, 'MeanColumns', False]  0.07366 | 0.04235 0.05625 0.00725 0.13064 0.15488 -0.00105 -0.00049 0.19947\n",
            "[0, 0, 'MaxColumns', False]  0.04471 | 0.06044 0.07787 -0.00163 0.05847 0.09191 0.01133 -0.00566 0.06499\n",
            "[0, 1, 'From', False]  0.03777 | 0.06091 0.03826 0.07002 0.11846 0.00053 -0.01051 0.0748 -0.05034\n",
            "[0, 1, 'To', False]  0.03366 | -0.0069 0.03433 0.00487 0.044 0.15509 0.00011 0.01176 0.02605\n",
            "[0, 1, 'MeanColumns', False]  0.04403 | 0.07279 0.10171 -0.01901 0.07607 0.01698 -0.00172 0.01762 0.08776\n",
            "[0, 1, 'MaxColumns', False]  0.05322 | 0.03502 0.06296 0.06148 0.00557 0.07264 0.01158 0.07496 0.10156\n",
            "[0, 2, 'From', False]  0.05673 | 0.01432 0.05371 0.08016 0.01666 0.13486 0.0085 0.06694 0.07872\n",
            "[0, 2, 'To', False]  0.05672 | 0.12513 0.08745 0.00362 0.10749 0.09464 0.0047 0.00011 0.03065\n",
            "[0, 2, 'MeanColumns', False]  0.02894 | 0.07698 0.07649 -0.01805 -0.00203 0.02994 -0.01025 0.01934 0.0591\n",
            "[0, 2, 'MaxColumns', False]  0.07409 | 0.01294 0.13127 0.0735 0.05147 0.07936 -0.01103 0.06604 0.18916\n",
            "[0, 3, 'From', False]  0.05965 | 0.0326 0.03586 0.1409 0.02625 0.10064 0.00435 0.03139 0.10523\n",
            "[0, 3, 'To', False]  0.08728 | 0.02221 0.0574 0.03124 0.08875 0.26794 -0.01302 0.17456 0.06913\n",
            "[0, 3, 'MeanColumns', False]  0.05872 | 0.06811 0.03007 0.06181 0.00517 0.08705 0.00153 0.05746 0.15855\n",
            "[0, 3, 'MaxColumns', False]  0.11709 | 0.05617 0.01433 0.16554 0.1482 0.01233 0.06901 0.141 0.33016\n",
            "[0, 4, 'From', False]  0.0583 | 0.026 0.06704 0.00016 0.12726 0.06859 -0.00167 -0.00841 0.18742\n",
            "[0, 4, 'To', False]  0.06997 | 0.07487 0.04699 -0.01315 0.03758 0.17513 0.00765 0.0692 0.1615\n",
            "[0, 4, 'MeanColumns', False]  0.06735 | 0.11281 0.11194 0.02641 0.11909 0.01852 -0.00994 0.00182 0.15817\n",
            "[0, 4, 'MaxColumns', False]  0.11194 | 0.09066 0.00045 0.19282 0.06299 0.13074 0.02056 0.17183 0.22548\n",
            "[0, 5, 'From', False]  0.04874 | 0.00772 0.05598 -8e-05 0.04551 0.19937 0.02278 0.00753 0.05114\n",
            "[0, 5, 'To', False]  0.12095 | 0.04043 0.0421 0.02744 0.12381 0.17231 0.03078 0.05395 0.47675\n",
            "[0, 5, 'MeanColumns', False]  0.02425 | 0.00628 0.09597 0.00543 0.02582 0.02205 -0.00023 0.01303 0.02563\n",
            "[0, 5, 'MaxColumns', False]  0.05573 | 0.03644 0.06479 -0.00825 0.06552 0.10017 0.02663 0.03609 0.12446\n",
            "[0, 6, 'From', False]  0.04789 | 0.09574 0.10533 0.04907 0.01308 0.01183 0.00108 0.04933 0.05769\n",
            "[0, 6, 'To', False]  0.11229 | 0.0252 0.07013 0.0579 0.06209 0.35775 -0.00467 0.103 0.22694\n",
            "[0, 6, 'MeanColumns', False]  0.06871 | 0.13524 0.11511 0.05709 0.02196 0.13524 -0.00602 -0.00843 0.09946\n",
            "[0, 6, 'MaxColumns', False]  0.07503 | 0.09983 0.09517 0.07718 0.03525 0.13107 0.03135 -0.00471 0.13512\n",
            "[0, 7, 'From', False]  0.04212 | 0.03389 0.09559 0.02113 0.01482 0.02181 0.00414 -0.0003 0.14587\n",
            "[0, 7, 'To', False]  0.06012 | 0.09005 0.05449 0.15613 0.00744 -0.04945 0.0298 -0.07751 0.27003\n",
            "[0, 7, 'MeanColumns', False]  0.04121 | 0.00302 0.15606 0.05574 0.01555 0.02552 0.02534 0.00327 0.04517\n",
            "[0, 7, 'MaxColumns', False]  0.05979 | -0.00464 0.06091 0.10269 0.02122 0.18404 -0.00497 -0.00555 0.12463\n",
            "[0, 8, 'From', False]  0.04875 | 0.03751 0.06973 0.00147 0.00747 0.1397 0.00473 0.13049 -0.0011\n",
            "[0, 8, 'To', False]  0.07802 | 0.0434 0.02124 0.05029 0.0676 0.08316 0.03491 0.00102 0.32256\n",
            "[0, 8, 'MeanColumns', False]  0.05449 | 0.04214 0.14225 0.05776 -0.00133 0.01945 0.00809 0.05377 0.11384\n",
            "[0, 8, 'MaxColumns', False]  0.05042 | 0.04491 0.10033 0.05294 0.05054 0.01664 0.02887 0.04798 0.06117\n",
            "[0, 9, 'From', False]  0.07849 | 0.02965 0.04644 0.01125 0.14085 0.08085 0.02737 0.22265 0.06887\n",
            "[0, 9, 'To', False]  0.03891 | 0.01616 0.05012 -0.00966 0.0317 0.09696 0.01411 0.02703 0.08483\n",
            "[0, 9, 'MeanColumns', False]  0.1155 | 0.08786 0.06352 0.01222 0.15184 0.09269 0.03621 0.05783 0.42183\n",
            "[0, 9, 'MaxColumns', False]  0.08516 | 0.10087 0.16809 0.09674 0.01233 0.10116 0.0331 0.00497 0.16402\n",
            "[0, 10, 'From', False]  0.07635 | 0.03024 0.06924 -0.00544 0.10855 0.17282 0.03127 0.08537 0.11878\n",
            "[0, 10, 'To', False]  0.07332 | -0.00711 0.02782 0.01936 0.01791 0.15757 0.10406 0.21079 0.05619\n",
            "[0, 10, 'MeanColumns', False]  0.05255 | 0.05235 0.05744 0.00027 0.01675 0.11126 -0.00766 0.04146 0.14851\n",
            "[0, 10, 'MaxColumns', False]  0.05452 | 0.07315 0.07538 -0.00352 0.00438 0.02135 -0.00503 0.07426 0.19621\n",
            "[0, 11, 'From', False]  0.07394 | -0.0018 0.01983 0.02913 0.01671 0.16275 0.16892 0.12482 0.07113\n",
            "[0, 11, 'To', False]  0.04821 | -0.00645 0.08384 0.04382 0.01193 0.10293 0.00251 0.11395 0.03315\n",
            "[0, 11, 'MeanColumns', False]  0.11281 | 0.00798 0.04372 0.06916 0.06819 0.13804 0.12492 0.17031 0.28018\n",
            "[0, 11, 'MaxColumns', False]  0.07626 | 0.11766 0.06026 0.08316 0.1252 0.11471 -0.00649 0.01887 0.0967\n",
            "[1, 'Mean', 'From', False]  0.03648 | 0.02482 0.02258 0.00555 0.01369 0.08029 0.00936 0.02356 0.11197\n",
            "[1, 'Mean', 'To', False]  0.04438 | 0.02962 0.03412 0.0035 0.01202 0.13351 0.00726 0.04134 0.0937\n",
            "[1, 'Mean', 'MeanColumns', False]  0.05993 | 0.05042 0.09857 0.02936 0.01303 0.11007 0.07396 -0.0042 0.10827\n",
            "[1, 'Mean', 'MaxColumns', False]  0.06411 | -0.00501 0.07285 -0.01078 0.00813 0.21908 0.06742 0.01551 0.14567\n",
            "[1, 0, 'From', False]  0.03259 | 0.05505 0.07097 0.00608 0.00813 0.00775 0.00177 -0.01703 0.12797\n",
            "[1, 0, 'To', False]  0.067 | 0.04935 0.08637 0.06176 0.00634 0.13962 0.05253 0.07203 0.06801\n",
            "[1, 0, 'MeanColumns', False]  0.09297 | 0.10557 0.08346 0.07415 0.00138 0.16418 0.12144 0.03193 0.16166\n",
            "[1, 0, 'MaxColumns', False]  0.07078 | 0.03704 0.06556 0.01754 0.01776 0.26504 0.04745 0.01338 0.10249\n",
            "[1, 1, 'From', False]  0.03169 | 0.02476 0.07129 0.00421 0.00219 0.0088 0.00959 0.03371 0.09898\n",
            "[1, 1, 'To', False]  0.04634 | -0.01415 0.08781 0.04397 0.0081 0.12414 0.00231 0.07027 0.04826\n",
            "[1, 1, 'MeanColumns', False]  0.04037 | -0.00796 0.10487 -0.00385 0.00295 0.08404 0.02251 0.0828 0.03761\n",
            "[1, 1, 'MaxColumns', False]  0.04444 | 0.04837 0.03914 -0.00827 0.01758 0.08817 0.03944 0.04809 0.08302\n",
            "[1, 2, 'From', False]  0.05594 | 0.0011 0.06851 -0.00157 0.01365 0.18485 -0.00022 0.01238 0.16885\n",
            "[1, 2, 'To', False]  0.08454 | -0.0038 0.08584 0.08771 0.00502 0.27217 0.00156 0.12312 0.10472\n",
            "[1, 2, 'MeanColumns', False]  0.09401 | 0.0718 0.07212 0.05224 0.09994 0.13398 0.12249 0.04911 0.15043\n",
            "[1, 2, 'MaxColumns', False]  0.07423 | -0.02927 0.06912 0.05684 0.00663 0.17252 0.03291 0.07393 0.21117\n",
            "[1, 3, 'From', False]  0.05237 | 0.00225 0.08297 -0.00129 0.00944 0.19548 -0.00231 0.03934 0.09311\n",
            "[1, 3, 'To', False]  0.08656 | 0.06442 0.08509 0.05649 0.04833 0.22693 0.05312 0.07924 0.07883\n",
            "[1, 3, 'MeanColumns', False]  0.05465 | 0.04973 0.04793 0.03511 0.01551 0.09961 0.01663 -0.00394 0.17664\n",
            "[1, 3, 'MaxColumns', False]  0.04562 | 0.0553 0.0817 -0.00736 0.02892 0.0459 0.06077 0.01254 0.0872\n",
            "[1, 4, 'From', False]  0.05539 | 0.00283 0.07699 0.05071 0.09817 0.17508 0.0131 -0.00566 0.0319\n",
            "[1, 4, 'To', False]  0.07046 | 0.06446 0.10757 0.08151 0.09001 0.09932 0.00459 0.11188 0.00439\n",
            "[1, 4, 'MeanColumns', False]  0.05787 | 0.01885 0.05729 -0.0093 0.05431 0.24709 0.00573 0.05979 0.0292\n",
            "[1, 4, 'MaxColumns', False]  0.03378 | 0.05984 0.06889 -0.01809 0.02086 0.11403 0.00612 0.02089 -0.00234\n",
            "[1, 5, 'From', False]  0.0064 | 0.02929 0.01102 0.00551 0.01109 0.003 -0.00321 0.03698 -0.04248\n",
            "[1, 5, 'To', False]  0.04351 | 0.01343 0.04677 -0.0023 0.02933 0.135 -0.00063 0.03207 0.09444\n",
            "[1, 5, 'MeanColumns', False]  -0.00531 | 0.03382 0.04081 0.00867 0.01382 -0.01754 0.00109 -0.00118 -0.12201\n",
            "[1, 5, 'MaxColumns', False]  0.01295 | 0.04045 0.049 0.00518 0.02182 0.02064 0.00116 -0.00249 -0.03219\n",
            "[1, 6, 'From', False]  0.05825 | 0.02213 0.05815 0.11688 0.02259 0.02289 0.10132 0.02426 0.09778\n",
            "[1, 6, 'To', False]  0.06943 | 0.04674 0.03318 0.01332 0.02776 0.20985 0.00664 0.00321 0.21477\n",
            "[1, 6, 'MeanColumns', False]  0.014 | 0.02298 0.08115 0.0053 0.00772 0.00416 0.00134 -0.0298 0.01919\n",
            "[1, 6, 'MaxColumns', False]  0.11395 | 0.07716 0.13345 0.08501 0.10625 0.00875 0.04276 0.11466 0.34361\n",
            "[1, 7, 'From', False]  0.05359 | 0.01604 0.0243 0.06836 0.01977 0.16302 -0.00058 0.1108 0.02702\n",
            "[1, 7, 'To', False]  0.04718 | 0.0168 0.02458 0.00474 0.0034 0.13091 0.00414 0.0488 0.14403\n",
            "[1, 7, 'MeanColumns', False]  0.09839 | 0.15086 0.06986 0.08466 0.07846 0.21037 -0.00205 0.12772 0.06721\n",
            "[1, 7, 'MaxColumns', False]  0.04144 | 0.02421 0.06696 0.00808 0.01894 0.07734 0.0243 0.07838 0.03328\n",
            "[1, 8, 'From', False]  0.02296 | 0.03253 0.05719 0.00393 0.01952 0.00655 0.02332 0.01592 0.02473\n",
            "[1, 8, 'To', False]  0.04994 | -0.00534 0.03487 0.01092 0.01074 0.13259 0.00751 0.05864 0.14961\n",
            "[1, 8, 'MeanColumns', False]  0.0591 | 0.03681 0.05075 0.01523 0.00606 0.09164 0.09408 0.0701 0.10811\n",
            "[1, 8, 'MaxColumns', False]  0.15898 | 0.06374 -0.00344 0.20885 0.34388 0.20183 0.15422 0.15263 0.15016\n",
            "[1, 9, 'From', False]  0.01095 | 0.02952 0.03882 -0.04912 0.01304 0.02544 0.0025 0.02984 -0.00242\n",
            "[1, 9, 'To', False]  0.13179 | 0.13117 0.09641 0.09326 0.22035 0.04618 -0.01488 0.06205 0.41982\n",
            "[1, 9, 'MeanColumns', False]  -0.02362 | 0.00053 -0.00026 0.01359 0.01552 -0.06339 -0.00095 -0.09593 -0.05806\n",
            "[1, 9, 'MaxColumns', False]  0.08732 | 0.12362 0.0177 -0.02289 0.0601 0.13609 0.14495 0.14181 0.09721\n",
            "[1, 10, 'From', False]  0.06536 | 0.09164 0.08941 0.00498 0.06305 0.08693 0.02715 0.05725 0.10249\n",
            "[1, 10, 'To', False]  0.06959 | 0.08536 0.05327 0.08442 0.01919 0.13456 0.00814 0.01909 0.15265\n",
            "[1, 10, 'MeanColumns', False]  0.04557 | 0.04946 0.08686 0.04973 0.0129 0.10593 0.01886 0.04749 -0.00665\n",
            "[1, 10, 'MaxColumns', False]  0.05155 | 0.09088 0.05922 0.04972 0.01522 0.10505 0.01747 -0.00253 0.07737\n",
            "[1, 11, 'From', False]  0.03909 | 0.01984 0.03709 0.00655 0.01608 0.01266 0.0234 0.07362 0.12352\n",
            "[1, 11, 'To', False]  0.06161 | 0.12932 0.07914 0.03705 0.00695 0.20835 -0.00868 0.02398 0.01674\n",
            "[1, 11, 'MeanColumns', False]  0.02412 | 0.00768 0.01564 0.00893 0.01502 0.08255 -0.0036 0.02386 0.04284\n",
            "[1, 11, 'MaxColumns', False]  0.03328 | 0.02362 0.04806 0.03379 0.01824 0.08022 -0.00374 0.04468 0.02133\n",
            "[2, 'Mean', 'From', False]  0.08693 | 0.05537 0.02692 0.06079 0.01028 0.24957 0.02221 0.07155 0.19873\n",
            "[2, 'Mean', 'To', False]  0.11372 | 0.12268 0.01068 0.05605 0.11173 0.17202 0.09714 0.15417 0.18527\n",
            "[2, 'Mean', 'MeanColumns', False]  0.04314 | 0.03405 0.0224 0.0111 0.01581 0.0755 -0.00962 0.06825 0.12763\n",
            "[2, 'Mean', 'MaxColumns', False]  0.05139 | 0.18855 0.04891 0.06026 0.05753 0.00604 -0.00451 0.05733 -0.00302\n",
            "[2, 0, 'From', False]  0.05614 | 0.02515 0.02089 0.06913 0.01052 0.20765 0.00398 0.00258 0.1092\n",
            "[2, 0, 'To', False]  0.09842 | -0.0054 0.02554 0.07166 0.04181 0.22269 0.0933 0.13934 0.19847\n",
            "[2, 0, 'MeanColumns', False]  0.07221 | 0.10403 0.1278 0.03906 0.01342 0.1307 -0.00957 0.03288 0.1394\n",
            "[2, 0, 'MaxColumns', False]  0.08323 | 0.05259 0.1076 0.08327 0.02242 0.19627 0.01246 0.01209 0.17911\n",
            "[2, 1, 'From', False]  0.08963 | 0.14381 0.01565 0.01286 0.08361 0.08523 0.10451 0.1302 0.14119\n",
            "[2, 1, 'To', False]  0.07442 | 0.01687 0.04125 0.00455 0.12632 0.01135 0.00089 0.15339 0.24071\n",
            "[2, 1, 'MeanColumns', False]  0.02156 | 0.02653 0.06486 0.00563 0.01115 0.0209 0.00325 0.01936 0.02078\n",
            "[2, 1, 'MaxColumns', False]  0.05221 | 0.06908 0.06309 -0.00334 0.05818 0.02387 -0.00389 0.13722 0.07348\n",
            "[2, 2, 'From', False]  0.04501 | 0.02513 0.02159 0.0019 0.03354 0.16208 -7e-05 0.0174 0.09848\n",
            "[2, 2, 'To', False]  0.04656 | 0.03167 0.02837 0.02343 0.10244 0.11227 -0.00082 0.00824 0.0669\n",
            "[2, 2, 'MeanColumns', False]  0.0366 | 0.01532 0.01683 0.0069 0.03888 0.09077 0.00134 0.02301 0.09978\n",
            "[2, 2, 'MaxColumns', False]  0.03674 | 0.03738 0.05053 -0.00275 0.11388 0.08891 -0.0075 0.02218 -0.0087\n",
            "[2, 3, 'From', False]  0.07638 | 0.0044 0.05004 0.06337 0.11126 0.08154 -0.00851 0.09555 0.21343\n",
            "[2, 3, 'To', False]  0.09085 | 0.05593 0.04809 0.05576 0.11482 0.16163 0.13473 0.04478 0.11106\n",
            "[2, 3, 'MeanColumns', False]  0.08912 | 0.1273 0.09214 0.14882 0.0163 0.09017 0.00903 0.10157 0.12766\n",
            "[2, 3, 'MaxColumns', False]  0.07373 | 0.07188 0.06622 0.1588 0.0134 0.09107 0.00705 0.09566 0.08571\n",
            "[2, 4, 'From', False]  0.12129 | 0.08188 0.0818 0.07395 0.0523 0.32516 0.10236 0.06041 0.19247\n",
            "[2, 4, 'To', False]  0.03917 | 0.03794 0.05267 -0.00103 0.02659 0.08657 0.01047 0.02581 0.0743\n",
            "[2, 4, 'MeanColumns', False]  0.03844 | -0.0092 0.03369 -0.00028 0.03764 0.08695 0.01885 0.1029 0.037\n",
            "[2, 4, 'MaxColumns', False]  0.09224 | 0.05851 0.08285 0.05362 0.07669 0.15925 0.0105 0.14432 0.15216\n",
            "[2, 5, 'From', False]  0.05437 | 0.02351 0.01307 0.06737 0.01027 0.00554 0.00654 0.14158 0.16708\n",
            "[2, 5, 'To', False]  0.08857 | 0.00844 0.02452 0.03283 0.10423 0.15946 0.01928 0.17899 0.18085\n",
            "[2, 5, 'MeanColumns', False]  0.05253 | 0.0007 0.08103 0.06493 0.02967 0.08269 0.00239 0.13073 0.02809\n",
            "[2, 5, 'MaxColumns', False]  0.04773 | -0.00442 0.13883 -0.0159 0.01268 0.09832 0.02247 0.07664 0.05323\n",
            "[2, 6, 'From', False]  0.08832 | 0.07197 0.04585 0.03087 0.05404 0.25295 -0.00028 0.1008 0.15037\n",
            "[2, 6, 'To', False]  0.08981 | 0.11958 0.0316 -0.00116 0.03061 0.13052 0.08773 0.05688 0.26273\n",
            "[2, 6, 'MeanColumns', False]  0.03405 | 0.05646 0.08886 -0.01849 0.05398 0.0199 0.04419 0.02214 0.00532\n",
            "[2, 6, 'MaxColumns', False]  0.0937 | 0.08453 0.02799 0.07872 0.2829 0.19438 -0.00832 0.03318 0.05622\n",
            "[2, 7, 'From', False]  0.03048 | -0.0098 0.06658 0.04192 0.00058 0.08554 0.01016 0.02544 0.02345\n",
            "[2, 7, 'To', False]  0.0686 | 0.01347 0.03303 7e-05 0.11684 0.16329 0.00753 0.17394 0.04066\n",
            "[2, 7, 'MeanColumns', False]  0.02913 | 0.03116 0.12557 0.00604 0.00525 0.00428 0.004 0.0294 0.02737\n",
            "[2, 7, 'MaxColumns', False]  0.02353 | 0.03589 0.08064 -0.01288 0.02109 0.00838 0.00418 0.03466 0.01631\n",
            "[2, 8, 'From', False]  0.04619 | -0.00105 0.01669 0.06491 0.01401 0.17355 0.00011 0.00724 0.09405\n",
            "[2, 8, 'To', False]  0.09836 | 0.09837 -0.006 0.09052 0.05963 0.02217 0.09489 0.24398 0.18333\n",
            "[2, 8, 'MeanColumns', False]  0.10264 | 0.13096 0.08202 -0.01238 0.16031 0.1265 0.10168 0.15868 0.07333\n",
            "[2, 8, 'MaxColumns', False]  0.05304 | 0.03789 -0.00663 0.06889 0.05146 0.08375 0.02955 0.05253 0.10691\n",
            "[2, 9, 'From', False]  0.06632 | 0.03985 0.09281 0.1233 0.02858 0.08378 -0.00881 0.06667 0.10439\n",
            "[2, 9, 'To', False]  0.10195 | 0.15884 0.05107 0.06302 0.06342 0.29604 0.04004 0.02254 0.12065\n",
            "[2, 9, 'MeanColumns', False]  0.04907 | 0.01373 0.12928 0.09267 0.0118 0.08068 -0.02228 0.06169 0.02501\n",
            "[2, 9, 'MaxColumns', False]  0.06252 | 0.01582 0.07898 0.00376 0.01109 0.16332 0.00699 0.05056 0.16967\n",
            "[2, 10, 'From', False]  0.10068 | 0.03786 0.03637 0.03956 0.10155 0.23461 -0.00519 0.13209 0.22855\n",
            "[2, 10, 'To', False]  0.08533 | 0.04082 0.03659 0.11596 0.1385 0.09769 0.00214 0.12985 0.12109\n",
            "[2, 10, 'MeanColumns', False]  0.0383 | 0.04481 0.07274 0.00285 0.03434 0.00754 0.03124 0.01323 0.09961\n",
            "[2, 10, 'MaxColumns', False]  0.0309 | 0.02407 0.07012 0.01 0.04487 0.07948 0.00715 -0.00735 0.01889\n",
            "[2, 11, 'From', False]  0.01264 | 0.03396 0.03916 0.00397 0.00526 0.00508 0.01903 -0.03086 0.02555\n",
            "[2, 11, 'To', False]  0.12152 | 0.12535 0.0579 0.03213 0.03613 0.1701 0.17961 0.04767 0.32326\n",
            "[2, 11, 'MeanColumns', False]  0.02134 | 0.07158 -0.00717 0.01635 0.01367 0.00643 0.00439 0.0019 0.06354\n",
            "[2, 11, 'MaxColumns', False]  0.0684 | 0.11989 0.0853 0.02197 0.01296 0.16538 0.0316 0.00603 0.10407\n",
            "[3, 'Mean', 'From', False]  0.02453 | 0.07372 0.02564 0.01108 0.07941 0.00668 -0.00176 -0.01883 0.02032\n",
            "[3, 'Mean', 'To', False]  0.13568 | 0.05256 0.00178 0.10811 0.1192 0.22507 0.19019 0.21009 0.17843\n",
            "[3, 'Mean', 'MeanColumns', False]  0.03289 | 0.0248 0.04243 0.00732 0.05774 0.09239 0.01981 -0.00281 0.02141\n",
            "[3, 'Mean', 'MaxColumns', False]  0.05397 | 0.11969 0.07674 0.03407 0.10057 0.07695 0.00348 0.00576 0.01452\n",
            "[3, 0, 'From', False]  0.06512 | 0.07212 0.06875 0.15134 0.03212 0.10552 0.001 0.07055 0.01954\n",
            "[3, 0, 'To', False]  0.06192 | -0.00491 0.14744 0.11232 0.0235 0.16226 0.00679 -0.01465 0.0626\n",
            "[3, 0, 'MeanColumns', False]  0.03657 | 0.02884 0.06281 0.0072 0.00352 0.09452 -0.00295 0.0026 0.09599\n",
            "[3, 0, 'MaxColumns', False]  0.04628 | 0.00455 0.05444 0.03338 0.03743 0.17194 0.00259 0.04544 0.02047\n",
            "[3, 1, 'From', False]  0.01228 | 0.05222 0.02499 0.01015 0.00368 0.0048 -0.00085 -0.01855 0.02181\n",
            "[3, 1, 'To', False]  0.15765 | 0.04129 -0.00569 0.10993 0.08513 0.25022 0.08685 0.29458 0.3989\n",
            "[3, 1, 'MeanColumns', False]  0.06431 | 0.21906 0.08405 0.0397 0.00535 0.15845 -0.01548 -0.04075 0.06407\n",
            "[3, 1, 'MaxColumns', False]  0.09042 | 0.01093 0.05345 0.13301 0.04399 0.18246 0.02684 0.16077 0.11191\n",
            "[3, 2, 'From', False]  0.05091 | 0.25443 0.00945 0.02224 0.1074 0.02331 -0.00603 -0.04515 0.04163\n",
            "[3, 2, 'To', False]  0.08725 | 0.00746 -0.00328 0.01411 0.02997 0.28503 0.09698 0.1692 0.09852\n",
            "[3, 2, 'MeanColumns', False]  0.05119 | 0.04034 0.1476 0.08967 0.01054 0.08472 0.00112 0.01432 0.02118\n",
            "[3, 2, 'MaxColumns', False]  0.05058 | 0.02564 0.09173 0.08789 0.03005 0.15343 0.00217 -0.01156 0.02534\n",
            "[3, 3, 'From', False]  0.06296 | 0.07573 0.04378 0.00357 0.11616 0.19008 0.01227 0.03922 0.02286\n",
            "[3, 3, 'To', False]  0.06492 | 0.02019 0.01229 0.07931 0.01699 0.16441 0.00146 0.10581 0.11889\n",
            "[3, 3, 'MeanColumns', False]  0.05064 | 0.06338 0.06391 0.06555 0.08259 0.0946 0.00966 0.00077 0.02466\n",
            "[3, 3, 'MaxColumns', False]  0.08434 | 0.13768 0.09083 0.07494 0.1239 0.08465 -0.00171 0.04549 0.11895\n",
            "[3, 4, 'From', False]  0.076 | 0.04265 0.0542 0.07412 0.06103 0.11385 0.07249 0.02951 0.16013\n",
            "[3, 4, 'To', False]  0.09676 | 0.12094 0.05652 0.09326 0.11777 0.09182 0.01364 -0.04073 0.32091\n",
            "[3, 4, 'MeanColumns', False]  0.04351 | 0.03001 0.06643 0.0078 0.06067 0.09091 0.07425 -0.00634 0.02437\n",
            "[3, 4, 'MaxColumns', False]  0.06562 | 0.15034 0.04552 0.03068 0.21119 0.02339 0.01601 -0.03164 0.0795\n",
            "[3, 5, 'From', False]  0.04976 | 0.05553 0.05745 -0.00581 0.07142 0.10194 -0.00486 -0.00488 0.12727\n",
            "[3, 5, 'To', False]  0.02198 | 0.0805 0.03483 0.00637 0.018 0.01935 0.00539 -0.00456 0.01595\n",
            "[3, 5, 'MeanColumns', False]  0.02558 | 0.02164 0.06972 0.00248 0.00744 0.07855 0.003 -0.00571 0.02754\n",
            "[3, 5, 'MaxColumns', False]  0.03675 | 0.0411 0.09825 -0.00349 0.02259 0.08287 0.00321 -0.00773 0.05716\n",
            "[3, 6, 'From', False]  0.02554 | 0.02943 0.05709 0.00383 0.01195 0.00616 -0.00071 0.07204 0.02456\n",
            "[3, 6, 'To', False]  0.05555 | 0.04669 0.0595 0.0129 0.07794 -0.00057 0.02066 0.09594 0.13131\n",
            "[3, 6, 'MeanColumns', False]  0.01633 | 0.02166 0.07525 0.0044 0.01369 0.00469 -0.00098 -0.00971 0.02166\n",
            "[3, 6, 'MaxColumns', False]  0.04405 | 0.06134 0.10588 0.00705 0.0355 0.00595 0.01053 -0.00774 0.1339\n",
            "[3, 7, 'From', False]  0.0161 | 0.03213 0.06052 -0.00195 0.01771 0.00516 0.02017 0.04642 -0.05137\n",
            "[3, 7, 'To', False]  0.0426 | 0.02057 0.04878 0.00241 0.05958 0.07869 0.01219 0.0566 0.06196\n",
            "[3, 7, 'MeanColumns', False]  0.03243 | 0.01852 0.10125 0.00949 0.00558 0.08455 -0.00026 0.01353 0.02676\n",
            "[3, 7, 'MaxColumns', False]  0.03934 | -0.00106 0.10044 0.0137 0.0201 0.08899 0.01518 -0.00362 0.08102\n",
            "[3, 8, 'From', False]  0.04152 | 0.02714 0.05911 0.0071 0.07868 0.10664 0.00139 -0.00649 0.05856\n",
            "[3, 8, 'To', False]  0.17362 | -0.02755 0.04573 0.29709 0.20043 0.06847 0.12765 0.39174 0.28541\n",
            "[3, 8, 'MeanColumns', False]  0.03852 | 0.06934 0.07005 0.02502 0.06525 0.09401 -0.00693 -0.00902 0.00046\n",
            "[3, 8, 'MaxColumns', False]  0.14834 | 0.10383 0.0369 0.26451 0.25817 0.07545 0.10254 0.28705 0.05831\n",
            "[3, 9, 'From', False]  0.06343 | 0.06169 0.07061 0.06854 0.05465 0.16214 0.00766 -0.01261 0.09477\n",
            "[3, 9, 'To', False]  0.05735 | 0.00122 -0.00356 0.07729 0.0183 0.13147 0.01244 0.03916 0.18248\n",
            "[3, 9, 'MeanColumns', False]  0.05205 | 0.04971 0.07877 0.08662 0.01401 0.09953 0.02388 -0.01619 0.08005\n",
            "[3, 9, 'MaxColumns', False]  0.04942 | 0.02118 0.09471 0.04988 0.00568 0.08625 0.01165 0.02784 0.09816\n",
            "[3, 10, 'From', False]  0.0508 | 0.05035 0.10589 0.06807 0.08282 0.02757 -0.00046 -0.01877 0.09092\n",
            "[3, 10, 'To', False]  0.07491 | -0.0055 0.05285 0.0209 0.02054 0.15919 0.17617 0.01193 0.16324\n",
            "[3, 10, 'MeanColumns', False]  0.03356 | 0.0333 0.06213 0.0012 0.05812 0.10235 0.00862 -0.01742 0.02014\n",
            "[3, 10, 'MaxColumns', False]  0.04519 | 0.04445 0.01303 0.03407 0.06504 0.16132 0.01795 0.02238 0.00325\n",
            "[3, 11, 'From', False]  0.04845 | 0.03897 0.05603 0.0656 0.02717 0.15638 0.01468 -0.01045 0.03921\n",
            "[3, 11, 'To', False]  0.05336 | 0.01765 0.01507 0.00512 0.07123 0.16116 0.0176 0.12383 0.01522\n",
            "[3, 11, 'MeanColumns', False]  0.04265 | 0.03462 0.08139 0.01424 0.04352 0.17039 -0.00614 0.00108 0.00207\n",
            "[3, 11, 'MaxColumns', False]  0.05781 | 0.04816 0.04211 0.0064 0.08427 0.16851 -0.00679 -0.00637 0.12616\n",
            "[4, 'Mean', 'From', False]  0.06007 | 0.06358 0.03511 0.06643 0.06077 0.17118 0.00133 0.06054 0.02159\n",
            "[4, 'Mean', 'To', False]  0.08871 | 0.19211 -0.00765 0.10622 0.05282 0.10553 0.04496 0.00081 0.21488\n",
            "[4, 'Mean', 'MeanColumns', False]  0.03744 | 0.03857 0.07435 0.00418 0.05764 0.00426 0.02023 0.07826 0.02202\n",
            "[4, 'Mean', 'MaxColumns', False]  0.0179 | 0.05791 0.03911 0.00414 0.01288 0.00559 -0.00902 0.01144 0.02115\n",
            "[4, 0, 'From', False]  0.05291 | 0.0469 0.03243 0.08535 0.05296 0.00605 -0.00012 0.10488 0.09487\n",
            "[4, 0, 'To', False]  0.08882 | 0.01459 0.03346 0.02877 0.04371 0.13089 0.13875 0.04005 0.28034\n",
            "[4, 0, 'MeanColumns', False]  0.03165 | 0.03908 0.02846 0.01023 0.0582 0.00584 0.01972 0.07657 0.01512\n",
            "[4, 0, 'MaxColumns', False]  0.05852 | 0.04477 0.06374 0.02246 0.07385 0.13646 0.00193 0.06093 0.06402\n",
            "[4, 1, 'From', False]  0.04238 | 0.0833 0.0169 0.00495 0.01003 0.08308 -0.00674 0.12544 0.02208\n",
            "[4, 1, 'To', False]  0.0454 | 0.05039 0.01511 0.00898 0.01708 0.15312 0.0004 0.00031 0.11779\n",
            "[4, 1, 'MeanColumns', False]  0.04951 | 0.03396 0.06087 0.00421 0.07911 0.09245 -0.00199 0.10512 0.02235\n",
            "[4, 1, 'MaxColumns', False]  0.06684 | -0.00079 0.06964 -0.00822 0.07907 0.17394 0.02045 0.09858 0.10202\n",
            "[4, 2, 'From', False]  0.0479 | 0.04754 0.05229 0.00471 0.00974 0.17142 -0.00532 0.00761 0.0952\n",
            "[4, 2, 'To', False]  0.05481 | 0.01104 0.07854 0.01068 0.04758 0.16051 -0.0009 0.0377 0.09334\n",
            "[4, 2, 'MeanColumns', False]  0.0611 | 0.04947 0.1325 0.06966 0.01373 0.0812 -0.00812 -0.0193 0.16965\n",
            "[4, 2, 'MaxColumns', False]  0.06593 | 0.02493 0.08416 0.13402 0.04187 0.09505 0.01651 0.00448 0.12646\n",
            "[4, 3, 'From', False]  0.05702 | 0.08339 0.04406 0.00636 0.05774 0.08296 0.00771 0.07741 0.09653\n",
            "[4, 3, 'To', False]  0.05554 | 0.11074 0.02171 0.07833 0.03444 0.09259 0.13134 -0.02398 -0.00085\n",
            "[4, 3, 'MeanColumns', False]  0.05025 | 0.05105 0.08646 0.06434 0.01264 0.09184 0.02019 -0.02023 0.09573\n",
            "[4, 3, 'MaxColumns', False]  0.03874 | 0.06346 0.04993 0.01613 0.00218 0.11074 0.00379 -0.01882 0.08251\n",
            "[4, 4, 'From', False]  0.02018 | 0.05468 0.0436 0.00683 0.00651 0.00911 0.00972 0.0074 0.02359\n",
            "[4, 4, 'To', False]  0.02221 | 0.08138 0.03018 -0.01106 0.00183 0.02251 0.00384 -0.01747 0.06649\n",
            "[4, 4, 'MeanColumns', False]  0.02195 | 0.0499 0.04817 0.00607 0.00847 0.00453 0.02216 0.0134 0.02289\n",
            "[4, 4, 'MaxColumns', False]  0.03013 | 0.04957 0.08233 -0.01316 0.05104 0.01828 0.03255 0.00988 0.01055\n",
            "[4, 5, 'From', False]  0.01561 | 0.01677 0.00233 -0.04973 0.00688 0.08186 -0.01021 0.10881 -0.03183\n",
            "[4, 5, 'To', False]  0.06332 | 0.03761 0.01833 0.02747 0.10351 0.17212 0.05166 -0.00476 0.10061\n",
            "[4, 5, 'MeanColumns', False]  0.0157 | 0.02447 0.06415 0.0046 0.00342 0.00325 -0.00093 0.00245 0.02421\n",
            "[4, 5, 'MaxColumns', False]  0.02541 | 0.03061 0.02345 -0.00648 0.02714 0.07785 -0.00311 0.01825 0.03562\n",
            "[4, 6, 'From', False]  0.04412 | 0.06256 0.03245 0.07188 0.06334 0.00332 0.0241 0.06199 0.03335\n",
            "[4, 6, 'To', False]  0.03884 | 0.06381 0.03445 0.00171 0.02247 0.08077 0.04065 -0.01086 0.07773\n",
            "[4, 6, 'MeanColumns', False]  0.05013 | 0.05084 0.04403 0.064 0.05781 0.08104 0.01784 0.06676 0.0187\n",
            "[4, 6, 'MaxColumns', False]  0.03896 | 0.03268 0.04809 -0.01229 0.009 0.07898 0.02416 0.00294 0.12812\n",
            "[4, 7, 'From', False]  0.03522 | -0.00864 -0.01196 0.06699 -0.00216 0.08575 -0.02265 -0.00271 0.17715\n",
            "[4, 7, 'To', False]  0.10334 | 0.12448 0.02507 0.07585 0.10388 0.10401 0.08261 0.17908 0.13176\n",
            "[4, 7, 'MeanColumns', False]  0.18097 | 0.03609 0.08459 0.23728 0.03434 0.30373 0.19555 0.20468 0.35149\n",
            "[4, 7, 'MaxColumns', False]  0.09366 | 0.04371 0.05456 0.02786 0.04201 0.17184 0.01773 0.10872 0.28286\n",
            "[4, 8, 'From', False]  0.06717 | -0.01919 0.06715 0.06384 0.05299 0.17161 -0.00018 0.10595 0.09521\n",
            "[4, 8, 'To', False]  0.10432 | 0.27425 0.06755 0.09392 0.16003 0.00972 -0.01266 0.08335 0.15841\n",
            "[4, 8, 'MeanColumns', False]  0.02923 | 0.03691 0.05501 0.00837 0.01264 0.09077 0.00778 -0.00043 0.0228\n",
            "[4, 8, 'MaxColumns', False]  0.03164 | 0.02093 0.0469 0.0062 0.0614 0.02505 0.03937 0.05761 -0.00434\n",
            "[4, 9, 'From', False]  0.03437 | 0.10317 0.03472 0.00621 0.05706 0.00448 -0.01178 0.05921 0.02192\n",
            "[4, 9, 'To', False]  0.06224 | 0.11272 0.00633 0.08512 0.0448 0.08022 -0.01187 0.08832 0.09232\n",
            "[4, 9, 'MeanColumns', False]  0.05756 | 0.0818 0.0429 0.01036 0.0089 0.09114 0.08725 0.11272 0.02544\n",
            "[4, 9, 'MaxColumns', False]  0.13123 | 0.16395 0.04857 -0.02559 0.05774 0.09963 0.23906 0.34423 0.12228\n",
            "[4, 10, 'From', False]  0.04237 | -0.01086 0.01302 0.07118 -0.00253 0.0081 0.03041 0.05983 0.16986\n",
            "[4, 10, 'To', False]  0.10726 | 0.04915 0.03907 0.0012 0.06477 0.27101 0.00521 0.0226 0.4051\n",
            "[4, 10, 'MeanColumns', False]  0.05414 | -0.00374 0.10977 0.06562 0.06285 0.08184 0.00067 0.01867 0.09745\n",
            "[4, 10, 'MaxColumns', False]  0.05848 | 0.04686 0.14723 0.04964 0.01374 0.09047 0.02122 0.00239 0.09629\n",
            "[4, 11, 'From', False]  0.04892 | -0.01332 0.04794 0.00521 0.05739 0.17168 -0.00417 0.03 0.0966\n",
            "[4, 11, 'To', False]  0.04561 | 0.09213 0.03895 0.05296 0.01726 0.00702 0.05714 -0.00148 0.10093\n",
            "[4, 11, 'MeanColumns', False]  0.0592 | 0.01315 0.16175 0.05897 0.00334 0.08879 0.00059 0.10234 0.04464\n",
            "[4, 11, 'MaxColumns', False]  0.06341 | 0.02623 0.07415 -0.0027 0.06435 0.07344 0.07026 0.08635 0.11521\n",
            "[5, 'Mean', 'From', False]  0.11566 | 0.01018 0.10299 0.15021 0.08823 0.25258 -0.00638 0.00479 0.32272\n",
            "[5, 'Mean', 'To', False]  0.12002 | 0.03137 0.01001 -0.03034 0.22889 0.14972 0.09197 0.28334 0.19517\n",
            "[5, 'Mean', 'MeanColumns', False]  0.05457 | 0.03059 0.15105 0.06553 0.01284 0.08808 0.00804 -0.01548 0.09592\n",
            "[5, 'Mean', 'MaxColumns', False]  0.06449 | 0.04365 0.07269 0.06458 0.01262 0.15871 -0.0092 0.03046 0.14244\n",
            "[5, 0, 'From', False]  0.1384 | -0.01502 0.11355 0.12353 0.08831 0.34611 0.02226 -0.00837 0.43684\n",
            "[5, 0, 'To', False]  0.06507 | 0.03628 0.07848 0.02117 0.01052 -0.00401 0.05986 0.23302 0.08523\n",
            "[5, 0, 'MeanColumns', False]  0.05428 | 0.07734 0.09906 0.12107 0.01268 0.08924 0.00488 0.0115 0.01848\n",
            "[5, 0, 'MaxColumns', False]  0.04762 | 0.11603 0.11463 0.06041 0.04434 0.07561 -0.00838 -0.04277 0.02111\n",
            "[5, 1, 'From', False]  -0.01928 | -0.01201 0.0223 0.00256 -0.00014 -0.08819 0.00319 -0.02263 -0.05933\n",
            "[5, 1, 'To', False]  0.10057 | 0.01559 0.05705 -0.0132 0.05611 0.09992 0.07721 0.16967 0.34222\n",
            "[5, 1, 'MeanColumns', False]  0.03014 | 0.00064 0.08518 0.0013 0.01212 0.08296 0.01993 0.01706 0.02191\n",
            "[5, 1, 'MaxColumns', False]  0.04566 | 0.05972 0.11251 0.007 0.05382 0.02374 0.0724 0.02152 0.01458\n",
            "[5, 2, 'From', False]  0.10393 | 0.03318 0.07232 0.0646 0.02163 0.08076 -0.00239 0.1244 0.43694\n",
            "[5, 2, 'To', False]  0.15709 | 0.02294 0.02974 0.17002 0.151 0.08361 -0.00548 0.30909 0.49584\n",
            "[5, 2, 'MeanColumns', False]  0.0566 | 0.03128 0.12445 0.06484 0.01266 0.07513 0.01875 0.0313 0.09436\n",
            "[5, 2, 'MaxColumns', False]  0.03724 | 0.05232 0.0349 0.01438 0.0131 0.07563 0.0029 0.00783 0.09688\n",
            "[5, 3, 'From', False]  0.06126 | 0.03853 0.12431 0.06628 0.06271 0.08413 0.01199 0.07709 0.02505\n",
            "[5, 3, 'To', False]  0.17129 | -0.01028 -0.02209 -0.01241 0.32868 0.37184 0.07361 0.38784 0.25315\n",
            "[5, 3, 'MeanColumns', False]  0.05888 | 0.03699 0.08778 0.1219 0.01329 0.07572 0.00564 0.00285 0.12685\n",
            "[5, 3, 'MaxColumns', False]  0.06489 | 0.1225 0.0533 0.08545 0.01755 0.06305 0.07652 0.04377 0.05694\n",
            "[5, 4, 'From', False]  0.04396 | 0.0156 0.12175 0.08971 0.03455 0.08058 2e-05 -0.01193 0.0214\n",
            "[5, 4, 'To', False]  0.10971 | 0.00251 0.04181 -0.01795 0.07469 0.1683 0.0092 0.2248 0.37432\n",
            "[5, 4, 'MeanColumns', False]  0.08201 | 0.01915 0.13135 0.06672 0.03488 0.1677 -0.00758 0.03315 0.21068\n",
            "[5, 4, 'MaxColumns', False]  0.11123 | -0.00833 0.0749 0.17118 0.05927 0.392 -0.00675 0.09459 0.11299\n",
            "[5, 5, 'From', False]  0.02061 | -0.00081 0.03195 0.09624 0.00898 -0.07606 0.03846 -0.03609 0.10219\n",
            "[5, 5, 'To', False]  0.05633 | 0.05316 0.04653 0.01878 0.10031 0.04902 0.15449 -0.03002 0.05834\n",
            "[5, 5, 'MeanColumns', False]  0.04612 | 0.00157 0.10356 0.01114 0.01609 0.08207 -0.00106 0.05908 0.09652\n",
            "[5, 5, 'MaxColumns', False]  0.04008 | 0.02411 0.0681 0.03236 0.07703 -0.00154 -0.00337 0.02153 0.10239\n",
            "[5, 6, 'From', False]  0.09342 | -0.01466 0.08084 0.06812 0.01824 0.23277 0.03292 0.03574 0.29338\n",
            "[5, 6, 'To', False]  0.09364 | 0.07034 0.05645 0.0876 0.11571 0.07821 -0.00239 0.14151 0.20169\n",
            "[5, 6, 'MeanColumns', False]  0.0289 | 0.0272 0.07041 0.00677 0.01395 0.08846 0.01669 -0.01327 0.02094\n",
            "[5, 6, 'MaxColumns', False]  0.02279 | 0.05762 0.05009 0.00312 0.00708 0.00169 0.00068 0.03882 0.02321\n",
            "[5, 7, 'From', False]  0.08555 | 0.00028 0.12348 0.06466 0.03771 0.08935 0.02616 0.03629 0.30646\n",
            "[5, 7, 'To', False]  0.05198 | 0.01686 0.01067 0.00499 0.10256 0.02274 0.1626 0.03205 0.06339\n",
            "[5, 7, 'MeanColumns', False]  0.08157 | 0.0371 0.07141 0.1228 0.08854 0.16995 0.00492 0.06194 0.09587\n",
            "[5, 7, 'MaxColumns', False]  0.06974 | 0.09376 0.04489 0.24357 0.0521 0.09168 -0.00134 0.00979 0.02348\n",
            "[5, 8, 'From', False]  0.11043 | 0.0702 0.08343 0.14925 0.06343 0.18341 0.02747 -0.03581 0.34204\n",
            "[5, 8, 'To', False]  0.14618 | 0.0037 0.06642 0.03317 0.07715 0.32436 0.11387 0.39433 0.15644\n",
            "[5, 8, 'MeanColumns', False]  0.10151 | 0.11936 0.07306 0.15401 0.06334 0.19067 0.01895 -0.03684 0.22952\n",
            "[5, 8, 'MaxColumns', False]  0.08556 | 0.06105 0.04795 0.14679 0.10375 0.17184 0.07063 -0.03068 0.11318\n",
            "[5, 9, 'From', False]  -0.01735 | -0.00875 -0.01305 0.00313 0.00583 -0.08074 0.00129 0.00774 -0.05426\n",
            "[5, 9, 'To', False]  0.0351 | 0.05154 0.0873 0.0 0.06146 0.0127 0.00552 0.06856 -0.00625\n",
            "[5, 9, 'MeanColumns', False]  0.02799 | 0.03434 0.05771 0.00651 0.01367 0.08819 0.00056 0.00113 0.0218\n",
            "[5, 9, 'MaxColumns', False]  0.02954 | 0.04309 0.02249 0.01012 0.01955 0.0895 0.0092 0.04157 0.00083\n",
            "[5, 10, 'From', False]  0.0425 | 0.05453 0.11304 0.07207 0.01207 0.00273 -2e-05 -0.00976 0.09534\n",
            "[5, 10, 'To', False]  0.07843 | 0.01488 0.01545 0.00198 0.02207 0.087 0.07562 0.30995 0.10048\n",
            "[5, 10, 'MeanColumns', False]  0.03087 | 0.056 0.07289 0.0641 0.01262 0.00245 0.02526 -0.00849 0.0221\n",
            "[5, 10, 'MaxColumns', False]  0.06897 | 0.08961 0.0794 0.0617 0.0629 0.15207 0.00751 0.00107 0.0975\n",
            "[5, 11, 'From', False]  0.13034 | 0.05647 0.04786 0.1282 0.03423 0.23815 0.03513 0.15177 0.35093\n",
            "[5, 11, 'To', False]  0.03348 | 0.02862 0.03076 0.00839 0.10383 0.08024 0.00021 -0.0246 0.04036\n",
            "[5, 11, 'MeanColumns', False]  0.09941 | -0.00352 0.05088 0.12325 0.01285 0.16763 0.05966 0.14703 0.23747\n",
            "[5, 11, 'MaxColumns', False]  0.12697 | 0.00944 0.00321 0.0662 0.08969 0.23822 0.00987 0.15052 0.4486\n",
            "[6, 'Mean', 'From', False]  0.16554 | -0.02862 0.00438 0.12725 0.10712 0.34594 -0.00344 0.27803 0.49366\n",
            "[6, 'Mean', 'To', False]  0.17458 | -0.01693 -0.03674 0.07638 0.19712 0.26044 0.15872 0.41673 0.34095\n",
            "[6, 'Mean', 'MeanColumns', False]  0.15824 | 0.02442 0.03571 0.1282 0.06633 0.34594 0.07678 0.16393 0.42458\n",
            "[6, 'Mean', 'MaxColumns', False]  0.18218 | -0.01591 0.09096 0.17197 0.13275 0.37397 0.03165 0.18446 0.48762\n",
            "[6, 0, 'From', False]  0.24281 | -0.0373 -0.0276 0.29159 0.35246 0.43466 0.13989 0.24234 0.54642\n",
            "[6, 0, 'To', False]  0.21415 | 0.0379 -0.00466 0.14669 0.23527 0.25529 0.16903 0.32378 0.5499\n",
            "[6, 0, 'MeanColumns', False]  0.25903 | 0.07519 -0.0345 0.18451 0.36445 0.45868 0.16955 0.28187 0.57248\n",
            "[6, 0, 'MaxColumns', False]  0.26025 | 0.05886 -0.03588 0.15976 0.3485 0.48635 0.12892 0.36297 0.57248\n",
            "[6, 1, 'From', False]  0.17497 | -0.01297 0.02939 0.13283 0.08509 0.34569 -0.00442 0.33052 0.49366\n",
            "[6, 1, 'To', False]  0.10778 | 0.01631 0.01059 0.09676 0.06688 0.10822 0.03102 0.22861 0.30388\n",
            "[6, 1, 'MeanColumns', False]  0.22261 | -0.01629 0.01543 0.23557 0.38442 0.26009 0.11341 0.2999 0.48834\n",
            "[6, 1, 'MaxColumns', False]  0.22319 | -0.01138 0.00347 0.20887 0.31449 0.30947 0.17276 0.33087 0.45695\n",
            "[6, 2, 'From', False]  0.1688 | 0.00062 0.0006 0.07872 0.15127 0.24672 0.07733 0.30135 0.49378\n",
            "[6, 2, 'To', False]  0.07805 | 0.09385 0.03624 0.04772 0.04132 0.07972 0.00544 0.16157 0.15851\n",
            "[6, 2, 'MeanColumns', False]  0.07318 | -0.01345 0.0814 0.09429 0.06508 0.16868 -0.00591 0.17643 0.01892\n",
            "[6, 2, 'MaxColumns', False]  0.05838 | 0.03931 0.04689 0.0572 0.11876 0.07284 -0.00339 0.1489 -0.0135\n",
            "[6, 3, 'From', False]  -0.02603 | -0.01153 0.00865 -0.05074 0.0045 -0.07976 0.00076 -0.02786 -0.05223\n",
            "[6, 3, 'To', False]  0.04011 | 0.10073 0.04199 0.01178 0.01444 0.08609 -0.00017 0.02821 0.03778\n",
            "[6, 3, 'MeanColumns', False]  0.02139 | 0.05003 0.05493 0.00654 0.01196 0.00176 -0.00963 0.03352 0.02201\n",
            "[6, 3, 'MaxColumns', False]  0.05225 | 0.10861 0.09068 0.0111 0.03132 0.02348 0.01516 0.07132 0.06632\n",
            "[6, 4, 'From', False]  0.1221 | 0.05507 0.08934 0.12624 0.01599 0.27597 -0.01029 0.00414 0.42035\n",
            "[6, 4, 'To', False]  0.18791 | -0.04794 -0.0423 0.1405 0.29198 0.41597 0.11872 0.28047 0.34592\n",
            "[6, 4, 'MeanColumns', False]  0.11293 | 0.07432 0.07503 0.15052 0.01392 0.34594 -0.01029 -0.04071 0.29468\n",
            "[6, 4, 'MaxColumns', False]  0.08152 | 0.06379 0.11645 0.1478 0.02698 0.10598 0.0 0.0495 0.14162\n",
            "[6, 5, 'From', False]  -0.01428 | -0.04155 -0.01339 0.00488 0.00586 -0.00202 0.00988 -0.0206 -0.05727\n",
            "[6, 5, 'To', False]  0.07539 | 0.01612 0.05516 -0.00102 0.02076 0.07389 0.13332 0.20744 0.09746\n",
            "[6, 5, 'MeanColumns', False]  0.021 | 0.05528 0.04764 0.00425 0.01288 0.00307 0.02039 0.00199 0.0225\n",
            "[6, 5, 'MaxColumns', False]  0.02901 | 0.08597 0.05833 0.00907 0.00275 0.00256 0.00746 0.00342 0.06255\n",
            "[6, 6, 'From', False]  0.04106 | 0.00947 0.08055 0.06779 -0.00256 0.09007 -0.01922 0.0155 0.08687\n",
            "[6, 6, 'To', False]  0.15127 | -0.04181 -0.03572 0.20944 0.23324 0.24828 0.11413 0.21628 0.26636\n",
            "[6, 6, 'MeanColumns', False]  0.05173 | 0.10827 0.09187 0.09312 0.01283 0.11163 -0.01244 -0.01583 0.02443\n",
            "[6, 6, 'MaxColumns', False]  0.05013 | 0.05295 0.1014 0.06953 0.00803 0.11664 -0.01036 -0.03391 0.09673\n",
            "[6, 7, 'From', False]  0.0054 | 0.02589 0.04674 0.00619 0.01263 0.001 0.00366 -0.00184 -0.05107\n",
            "[6, 7, 'To', False]  0.0427 | 0.03301 0.08226 0.00263 0.05422 0.16153 -0.0057 -0.01261 0.02628\n",
            "[6, 7, 'MeanColumns', False]  0.02981 | 0.03185 0.07353 0.0678 0.01543 0.00249 0.02863 -0.00994 0.02867\n",
            "[6, 7, 'MaxColumns', False]  0.03389 | 0.01745 0.09284 -0.00795 0.04097 0.07844 0.01284 0.03796 -0.00141\n",
            "[6, 8, 'From', False]  0.12121 | 0.05452 0.09653 0.12635 0.06335 0.1518 0.07697 0.04809 0.35209\n",
            "[6, 8, 'To', False]  0.05843 | 0.07653 0.03654 -0.01272 0.06617 0.08153 0.08314 0.0564 0.07982\n",
            "[6, 8, 'MeanColumns', False]  0.08303 | 0.07462 0.07762 0.01302 0.12707 0.0885 0.07706 0.04191 0.16446\n",
            "[6, 8, 'MaxColumns', False]  0.1509 | 0.07233 0.09329 0.19662 0.12908 0.0891 0.21923 0.14487 0.26272\n",
            "[6, 9, 'From', False]  0.26186 | -0.02832 -0.02068 0.23289 0.46299 0.47625 0.08262 0.34268 0.54642\n",
            "[6, 9, 'To', False]  0.16679 | -0.03627 0.07717 0.26206 0.159 0.22933 0.17547 0.23591 0.23164\n",
            "[6, 9, 'MeanColumns', False]  0.26675 | -0.03146 0.00554 0.29853 0.41477 0.45868 0.13517 0.30709 0.5457\n",
            "[6, 9, 'MaxColumns', False]  0.26352 | 0.00631 0.09398 0.32939 0.27718 0.39682 0.17024 0.26179 0.57248\n",
            "[6, 10, 'From', False]  0.0651 | -0.0037 0.00999 0.0072 0.00331 0.16188 0.10655 0.00701 0.22852\n",
            "[6, 10, 'To', False]  0.15219 | -0.01193 0.14855 0.14562 0.16118 0.37996 -0.0039 0.19343 0.2046\n",
            "[6, 10, 'MeanColumns', False]  0.10905 | 0.03799 0.12536 0.06464 0.06317 0.31809 -0.00953 -0.00941 0.28212\n",
            "[6, 10, 'MaxColumns', False]  0.11672 | 0.00707 0.11755 0.2101 0.05009 0.23281 0.04122 0.02495 0.24998\n",
            "[6, 11, 'From', False]  0.15323 | -0.02512 0.03735 0.06571 0.10713 0.34611 -0.00811 0.27803 0.4247\n",
            "[6, 11, 'To', False]  0.08845 | -0.01964 0.0868 0.08358 0.11039 0.07666 0.01226 0.26747 0.09009\n",
            "[6, 11, 'MeanColumns', False]  0.14411 | -0.00504 0.03431 0.17993 0.26079 0.24897 0.07678 0.08135 0.27579\n",
            "[6, 11, 'MaxColumns', False]  0.19251 | 0.00668 0.07541 0.12639 0.34131 0.31282 -0.00651 0.16218 0.52179\n",
            "[7, 'Mean', 'From', False]  0.08224 | -0.00439 0.06377 0.06627 0.00611 0.24515 -0.02379 0.00355 0.30125\n",
            "[7, 'Mean', 'To', False]  0.21378 | -0.04602 0.02746 0.15647 0.36558 0.22206 0.12657 0.45571 0.40241\n",
            "[7, 'Mean', 'MeanColumns', False]  0.03486 | 0.0828 0.07113 0.0051 0.01558 0.02421 0.07422 -0.01629 0.02216\n",
            "[7, 'Mean', 'MaxColumns', False]  0.05485 | 0.04097 0.1004 0.00324 0.06133 0.159 0.0568 -0.00706 0.02415\n",
            "[7, 0, 'From', False]  0.01011 | -0.00112 -0.01552 0.00036 -0.01009 -0.00196 -0.0005 0.03963 0.07006\n",
            "[7, 0, 'To', False]  0.07509 | 0.03877 0.03333 0.00869 0.05309 0.15088 0.02252 0.10998 0.18343\n",
            "[7, 0, 'MeanColumns', False]  0.04384 | 0.09107 0.11993 0.01507 0.01064 0.01442 -0.00139 -0.02194 0.12295\n",
            "[7, 0, 'MaxColumns', False]  0.04776 | 0.03751 0.11813 -0.00588 0.03933 0.0911 0.00202 0.01491 0.08498\n",
            "[7, 1, 'From', False]  0.12561 | 0.00988 0.09668 0.07167 0.01612 0.34594 0.02087 0.09367 0.35005\n",
            "[7, 1, 'To', False]  0.17404 | 0.02738 -0.00225 0.1039 0.15462 0.01622 0.13849 0.4004 0.55353\n",
            "[7, 1, 'MeanColumns', False]  0.02111 | 0.06374 0.03802 0.01338 0.01558 0.00243 0.00545 0.00298 0.02733\n",
            "[7, 1, 'MaxColumns', False]  0.02784 | 0.05176 0.03222 0.01142 0.03722 0.00124 0.02432 -0.0038 0.06833\n",
            "[7, 2, 'From', False]  0.08775 | 0.10377 0.08561 0.12622 0.01615 0.1733 0.10812 0.00448 0.08436\n",
            "[7, 2, 'To', False]  0.22653 | -0.04208 0.03132 0.07557 0.46312 0.2182 0.14756 0.35606 0.56247\n",
            "[7, 2, 'MeanColumns', False]  0.08527 | 0.08893 0.0642 0.05882 0.03467 0.2238 0.10277 -0.03247 0.14148\n",
            "[7, 2, 'MaxColumns', False]  0.09552 | 0.04648 0.10222 0.15133 0.06168 0.26151 -0.00482 0.00332 0.14241\n",
            "[7, 3, 'From', False]  -0.01631 | -0.03258 -0.01652 0.00844 -0.01947 -0.00206 0.00056 -0.01513 -0.0537\n",
            "[7, 3, 'To', False]  0.0505 | 0.04994 0.11948 -0.00084 0.00826 0.0435 0.01224 0.12555 0.04585\n",
            "[7, 3, 'MeanColumns', False]  -0.00441 | -0.02756 0.0366 -0.05651 0.00954 0.02212 0.07092 -0.03996 -0.05046\n",
            "[7, 3, 'MaxColumns', False]  0.02672 | 0.06839 0.04538 0.01181 0.03431 0.10229 0.00139 -0.00367 -0.04616\n",
            "[7, 4, 'From', False]  0.13878 | 0.02066 0.06664 0.12561 0.07303 0.26082 0.0207 0.14738 0.39537\n",
            "[7, 4, 'To', False]  0.18268 | -0.0368 0.0298 0.29714 0.24949 0.22715 0.10612 0.36721 0.22133\n",
            "[7, 4, 'MeanColumns', False]  0.03237 | 0.16292 0.06846 -0.00263 0.00908 0.00607 0.00771 -0.02469 0.03203\n",
            "[7, 4, 'MaxColumns', False]  0.04681 | 0.16214 0.10438 0.02219 0.02208 0.01208 0.05773 -0.0221 0.01595\n",
            "[7, 5, 'From', False]  -0.01564 | -0.02192 0.03633 -0.00971 0.01416 -0.08674 -0.00233 0.00475 -0.05967\n",
            "[7, 5, 'To', False]  0.03959 | 0.01953 0.116 0.05965 0.02347 0.00889 0.03239 -0.00903 0.06582\n",
            "[7, 5, 'MeanColumns', False]  0.02286 | 0.04741 0.10606 0.01278 -0.03524 0.00143 0.02014 0.00168 0.02866\n",
            "[7, 5, 'MaxColumns', False]  0.03004 | 0.03772 0.11284 -0.00434 0.01499 0.027 0.00748 0.03259 0.01203\n",
            "[7, 6, 'From', False]  0.14711 | 0.0609 0.05263 0.06627 0.12325 0.26065 0.00732 0.13893 0.46693\n",
            "[7, 6, 'To', False]  0.03086 | 0.04304 0.06516 0.00574 0.02643 0.10049 0.01222 -0.00349 -0.00269\n",
            "[7, 6, 'MeanColumns', False]  0.04579 | 0.10521 0.06048 0.01341 0.01038 0.11448 -0.01272 -0.02758 0.10267\n",
            "[7, 6, 'MaxColumns', False]  0.04508 | 0.06028 0.10147 0.07036 0.026 0.02211 -0.01111 0.02878 0.06277\n",
            "[7, 7, 'From', False]  0.02186 | -0.03587 -0.0011 0.00613 0.00607 -0.07861 -0.02157 -0.00136 0.30119\n",
            "[7, 7, 'To', False]  0.03405 | 0.03527 0.01437 0.01169 0.0713 0.00464 -0.00048 0.11933 0.0163\n",
            "[7, 7, 'MeanColumns', False]  0.03431 | 0.04255 0.05144 0.00751 0.01553 0.02434 -0.00893 0.00489 0.13712\n",
            "[7, 7, 'MaxColumns', False]  0.04169 | 0.01515 0.07279 0.01667 0.03265 0.11184 0.01402 0.00349 0.06688\n",
            "[7, 8, 'From', False]  0.09226 | -0.01616 0.02924 0.0634 0.11766 0.11335 0.23376 0.17438 0.02242\n",
            "[7, 8, 'To', False]  0.05429 | 0.05558 0.03209 -0.01506 0.10481 0.17177 0.01636 0.0133 0.05549\n",
            "[7, 8, 'MeanColumns', False]  0.0506 | -0.00186 0.06987 0.0649 0.01479 0.10917 0.05929 0.06276 0.0259\n",
            "[7, 8, 'MaxColumns', False]  0.05615 | 0.00546 0.04095 -0.00458 0.04507 0.20375 0.0869 0.03801 0.03362\n",
            "[7, 9, 'From', False]  0.12323 | -0.0121 0.11091 0.06797 0.0223 0.33877 -0.00399 0.10933 0.3526\n",
            "[7, 9, 'To', False]  0.2229 | -0.04146 0.01818 0.29354 0.28975 0.31606 0.15882 0.34665 0.40166\n",
            "[7, 9, 'MeanColumns', False]  0.06623 | -0.00724 0.13351 0.12124 0.02189 0.24896 -0.00199 -0.00681 0.02028\n",
            "[7, 9, 'MaxColumns', False]  0.06405 | 0.0107 0.13386 0.06246 0.01193 0.18442 -0.00658 0.02556 0.09009\n",
            "[7, 10, 'From', False]  0.08103 | 0.01277 0.13478 0.09531 0.05529 -0.07723 0.01571 -0.02885 0.44048\n",
            "[7, 10, 'To', False]  0.18881 | -0.04594 -0.03247 0.14746 0.32049 0.20363 0.11584 0.38165 0.4198\n",
            "[7, 10, 'MeanColumns', False]  0.07992 | 0.07149 0.07465 0.06822 0.05661 0.23773 0.07375 -0.03476 0.09165\n",
            "[7, 10, 'MaxColumns', False]  0.05498 | 0.03856 0.10024 0.08978 0.06114 0.08205 -0.01117 0.0149 0.06438\n",
            "[7, 11, 'From', False]  0.05337 | -0.03295 -0.04136 0.05599 0.07332 0.06935 -0.0229 -0.0118 0.33728\n",
            "[7, 11, 'To', False]  0.18336 | -0.02481 0.01682 0.18131 0.15836 0.17992 0.1635 0.44314 0.34861\n",
            "[7, 11, 'MeanColumns', False]  0.11543 | 0.09066 0.11767 0.06042 0.01413 0.19389 -0.0014 0.06373 0.38435\n",
            "[7, 11, 'MaxColumns', False]  0.11785 | 0.08195 0.02213 0.01597 0.03313 0.38151 -0.00012 0.10525 0.30297\n",
            "[8, 'Mean', 'From', False]  0.13451 | 0.0043 0.09535 0.13401 0.06649 0.1846 0.07786 0.16344 0.35006\n",
            "[8, 'Mean', 'To', False]  0.08353 | -0.01218 0.01737 -0.00536 0.0916 0.13721 0.02989 0.11947 0.29021\n",
            "[8, 'Mean', 'MeanColumns', False]  0.11267 | -0.01576 0.0813 0.13028 0.10727 0.15178 0.07786 0.1633 0.20531\n",
            "[8, 'Mean', 'MaxColumns', False]  0.08128 | 0.0234 0.1298 0.11932 0.05286 0.08597 0.07098 0.104 0.06389\n",
            "[8, 0, 'From', False]  0.05895 | 0.13335 0.07085 0.06789 0.01241 0.00273 -0.01008 0.0119 0.18254\n",
            "[8, 0, 'To', False]  0.04275 | 0.02506 0.05555 -0.0127 0.12809 0.02767 0.03799 0.03691 0.04346\n",
            "[8, 0, 'MeanColumns', False]  0.05399 | 0.0438 0.09533 0.03669 0.07026 0.08428 0.01838 -0.01701 0.1002\n",
            "[8, 0, 'MaxColumns', False]  0.06302 | 0.02842 0.11582 -0.01123 0.02385 0.1214 0.01764 0.04478 0.16347\n",
            "[8, 1, 'From', False]  0.1718 | -0.00373 0.09484 0.12594 0.1072 0.33877 0.07736 0.20931 0.4247\n",
            "[8, 1, 'To', False]  0.07998 | 0.00349 -0.01972 0.09739 0.10992 0.08965 0.06157 0.16875 0.12881\n",
            "[8, 1, 'MeanColumns', False]  0.1263 | -0.00939 0.06301 0.16847 0.05339 0.2767 0.07736 0.20216 0.17873\n",
            "[8, 1, 'MaxColumns', False]  0.11374 | -0.00786 0.10436 0.23203 0.10031 0.23291 0.00628 0.20094 0.04096\n",
            "[8, 2, 'From', False]  0.11671 | -0.00707 0.1067 0.06912 0.0157 0.1832 0.07786 0.20916 0.27904\n",
            "[8, 2, 'To', False]  0.02959 | 0.03397 0.05208 -0.02469 0.01296 0.09084 0.00566 0.00309 0.06279\n",
            "[8, 2, 'MeanColumns', False]  0.06357 | -0.00337 0.13224 0.06623 0.034 0.16853 0.02042 0.02476 0.06574\n",
            "[8, 2, 'MaxColumns', False]  0.08292 | 0.03736 0.16213 0.12085 0.00095 0.1881 0.07732 0.003 0.07362\n",
            "[8, 3, 'From', False]  0.06525 | 0.11873 0.11368 0.00978 0.01297 0.08303 -0.01031 0.05882 0.13529\n",
            "[8, 3, 'To', False]  0.06458 | -0.02131 0.09619 0.08074 0.06162 0.13057 0.03643 0.03511 0.09732\n",
            "[8, 3, 'MeanColumns', False]  0.10423 | 0.12768 0.18078 0.15804 0.01396 0.08947 0.00665 0.11541 0.14183\n",
            "[8, 3, 'MaxColumns', False]  0.07407 | 0.05747 0.17521 0.07682 0.02342 0.09185 0.00385 0.09523 0.06872\n",
            "[8, 4, 'From', False]  0.232 | -0.03192 0.07132 0.31911 0.20541 0.33447 0.05965 0.30991 0.58807\n",
            "[8, 4, 'To', False]  0.07641 | 0.05209 0.0198 -0.01784 0.11095 0.13731 0.00256 0.13587 0.17051\n",
            "[8, 4, 'MeanColumns', False]  0.18615 | -0.03175 0.07215 0.38872 0.20057 0.23734 -0.01108 0.26197 0.37124\n",
            "[8, 4, 'MaxColumns', False]  0.18537 | -0.0064 0.10602 0.38279 0.13809 0.26082 -0.00945 0.26695 0.34412\n",
            "[8, 5, 'From', False]  0.20847 | 0.00654 0.068 0.30015 0.16093 0.17281 0.1993 0.23069 0.52936\n",
            "[8, 5, 'To', False]  0.21607 | 0.03157 0.07307 0.1659 0.22591 0.39674 0.15907 0.23315 0.44313\n",
            "[8, 5, 'MeanColumns', False]  0.21476 | -0.02236 -0.00329 0.30252 0.26487 0.21703 0.07006 0.27928 0.61003\n",
            "[8, 5, 'MaxColumns', False]  0.15975 | -0.01898 0.03118 0.19281 0.16879 0.27895 -0.01096 0.17591 0.4603\n",
            "[8, 6, 'From', False]  0.12274 | -0.01359 0.12994 0.19014 0.07119 0.25374 0.0654 0.08009 0.20499\n",
            "[8, 6, 'To', False]  0.04588 | 0.00112 0.00132 -0.02743 0.05683 0.09053 0.05926 0.06621 0.1192\n",
            "[8, 6, 'MeanColumns', False]  0.14078 | -0.01978 0.18685 0.17789 0.15819 0.16429 0.21664 0.10787 0.13428\n",
            "[8, 6, 'MaxColumns', False]  0.11557 | -0.00364 0.14718 0.17883 0.17191 0.12281 0.112 0.04962 0.14586\n",
            "[8, 7, 'From', False]  0.02465 | 0.08282 0.0856 -0.00085 0.01025 0.00391 -0.00499 -0.0007 0.0212\n",
            "[8, 7, 'To', False]  0.07063 | 0.02487 0.03389 0.04812 0.02992 0.17781 0.00049 0.04625 0.20372\n",
            "[8, 7, 'MeanColumns', False]  0.04415 | 0.08079 0.1458 0.07641 0.01342 0.0014 -0.00042 0.01497 0.02083\n",
            "[8, 7, 'MaxColumns', False]  0.05709 | 0.05971 0.15608 0.04864 0.06113 0.00606 0.06889 0.02856 0.02766\n",
            "[8, 8, 'From', False]  0.14825 | -0.01495 0.06453 0.12661 0.10429 0.33853 0.02528 0.19165 0.35006\n",
            "[8, 8, 'To', False]  0.02599 | 0.02084 0.05044 -0.00626 0.03234 0.00041 -0.0013 0.05535 0.05613\n",
            "[8, 8, 'MeanColumns', False]  0.0938 | 0.01495 0.10092 0.07219 0.01592 0.07656 0.10605 0.1466 0.21724\n",
            "[8, 8, 'MaxColumns', False]  0.03616 | 0.04932 0.02953 0.00318 0.03427 0.00083 0.00736 0.09175 0.073\n",
            "[8, 9, 'From', False]  0.09709 | 0.04233 0.03165 0.00274 0.0157 0.08081 0.07786 0.23394 0.29166\n",
            "[8, 9, 'To', False]  0.05906 | 0.03566 0.02763 0.02327 0.12651 0.02921 -0.00338 0.03469 0.19888\n",
            "[8, 9, 'MeanColumns', False]  0.08081 | 0.01025 0.10919 0.07044 0.05643 0.10368 0.07793 0.12091 0.09763\n",
            "[8, 9, 'MaxColumns', False]  0.06617 | 0.02111 0.0901 0.12483 0.09152 -0.00202 0.01421 0.09238 0.09727\n",
            "[8, 10, 'From', False]  0.06789 | 0.09644 0.07398 0.00675 0.01234 0.08184 0.08551 0.05047 0.13584\n",
            "[8, 10, 'To', False]  0.06729 | 0.02867 0.05178 0.04174 0.00663 0.16484 0.01802 0.07121 0.15539\n",
            "[8, 10, 'MeanColumns', False]  0.06902 | 0.13752 0.12762 0.05907 0.01383 0.08717 0.00686 0.05045 0.06966\n",
            "[8, 10, 'MaxColumns', False]  0.08973 | 0.18879 0.14235 0.11584 0.01935 0.08316 0.00279 0.06201 0.10351\n",
            "[8, 11, 'From', False]  0.0272 | 0.04173 0.05878 0.00693 0.01265 0.00405 -0.00045 -0.00272 0.0966\n",
            "[8, 11, 'To', False]  0.09326 | 0.06296 0.04279 0.04938 0.03686 0.22622 0.09246 -0.00525 0.24067\n",
            "[8, 11, 'MeanColumns', False]  0.04514 | 0.03451 0.05747 0.06202 0.01219 0.08303 -0.00176 0.01624 0.09743\n",
            "[8, 11, 'MaxColumns', False]  0.02985 | 0.06476 0.05813 0.04948 0.01317 0.0107 -0.00391 0.02025 0.02618\n",
            "[9, 'Mean', 'From', False]  0.15008 | 0.00026 0.08913 0.12745 0.1075 0.16193 0.08925 0.19178 0.43333\n",
            "[9, 'Mean', 'To', False]  0.12272 | 0.13114 0.05769 0.23732 0.04144 0.04806 0.10932 0.06804 0.28876\n",
            "[9, 'Mean', 'MeanColumns', False]  0.16673 | 0.05483 0.06655 0.12524 0.10391 0.23117 0.08518 0.16455 0.50241\n",
            "[9, 'Mean', 'MaxColumns', False]  0.13715 | 0.0787 0.05384 0.06736 0.10825 0.08089 0.125 0.15024 0.43296\n",
            "[9, 0, 'From', False]  0.11999 | 0.09657 0.04327 0.00583 0.10727 0.17556 -0.01036 0.10839 0.43342\n",
            "[9, 0, 'To', False]  0.09658 | 0.03502 0.08861 0.14684 0.03538 0.00106 0.03971 0.17857 0.24747\n",
            "[9, 0, 'MeanColumns', False]  0.12615 | 0.14225 0.05613 0.06378 0.10369 0.08058 0.07368 0.05612 0.43296\n",
            "[9, 0, 'MaxColumns', False]  0.08514 | 0.14572 0.05367 0.06168 0.04345 0.00322 -0.01128 0.02064 0.364\n",
            "[9, 1, 'From', False]  0.13635 | 0.02562 0.04362 0.12751 0.1039 0.071 0.19563 0.1648 0.35873\n",
            "[9, 1, 'To', False]  0.04464 | 0.08315 0.03014 0.05214 0.11182 0.01691 0.0029 -0.00518 0.0652\n",
            "[9, 1, 'MeanColumns', False]  0.13538 | 0.01617 0.00938 0.06976 0.10392 0.15131 0.23239 0.25716 0.24295\n",
            "[9, 1, 'MaxColumns', False]  0.09177 | 0.01794 -0.00303 0.07007 0.0687 0.09038 0.12864 0.21736 0.14414\n",
            "[9, 2, 'From', False]  0.09066 | 0.21494 0.16541 0.0291 0.05938 0.08319 0.08266 0.01769 0.07289\n",
            "[9, 2, 'To', False]  0.09819 | 0.01767 0.06377 0.0543 0.03242 0.10445 0.04711 0.24593 0.21985\n",
            "[9, 2, 'MeanColumns', False]  0.11492 | 0.25208 0.14015 0.01753 0.06033 0.09184 0.06607 0.03293 0.25846\n",
            "[9, 2, 'MaxColumns', False]  0.07868 | 0.16126 0.12657 0.05513 0.06119 0.01539 0.00206 0.01861 0.18923\n",
            "[9, 3, 'From', False]  0.13841 | 0.07139 0.0839 0.03998 0.10781 0.00236 0.07786 0.29957 0.42441\n",
            "[9, 3, 'To', False]  0.04302 | 0.05402 0.05969 0.03679 0.00363 0.08394 0.00066 -0.01999 0.12544\n",
            "[9, 3, 'MeanColumns', False]  0.11683 | 0.05794 0.08275 0.06645 0.05312 0.07135 0.08875 0.08111 0.43318\n",
            "[9, 3, 'MaxColumns', False]  0.08515 | 0.01417 0.03565 0.06639 0.01999 0.00127 -0.00865 0.12791 0.42446\n",
            "[9, 4, 'From', False]  0.18756 | -0.02022 -0.01699 0.1194 0.1417 0.334 0.21462 0.27914 0.44888\n",
            "[9, 4, 'To', False]  0.21119 | 0.07714 -0.01946 0.2778 0.13348 0.36344 0.13048 0.29459 0.43203\n",
            "[9, 4, 'MeanColumns', False]  0.09504 | 0.02042 0.04294 -0.00016 0.00594 0.19434 0.05076 0.20906 0.237\n",
            "[9, 4, 'MaxColumns', False]  0.12914 | 0.00316 0.00863 0.06361 0.06053 0.32772 0.08173 0.20362 0.28411\n",
            "[9, 5, 'From', False]  0.11469 | 0.0629 0.13761 0.0636 0.01229 0.00078 0.07429 0.1326 0.43342\n",
            "[9, 5, 'To', False]  0.03426 | 0.11748 0.04332 0.00066 0.02834 0.00997 0.00136 0.00169 0.07129\n",
            "[9, 5, 'MeanColumns', False]  0.07273 | 0.04223 0.06393 0.00753 0.02198 0.07171 0.07399 0.08208 0.21843\n",
            "[9, 5, 'MaxColumns', False]  0.0855 | 0.06511 0.12362 0.00349 0.05828 0.08207 0.07253 0.06954 0.20933\n",
            "[9, 6, 'From', False]  0.15767 | 0.05867 0.01854 0.03655 0.08348 0.22196 0.1848 0.22575 0.43159\n",
            "[9, 6, 'To', False]  0.03769 | 0.14965 0.04859 0.03039 0.01979 0.01735 0.00221 0.02888 0.00468\n",
            "[9, 6, 'MeanColumns', False]  0.21263 | 0.06983 -0.01127 0.03293 0.1571 0.31013 0.24043 0.25494 0.64695\n",
            "[9, 6, 'MaxColumns', False]  0.2082 | 0.10686 0.01767 0.0351 0.15715 0.3871 0.24017 0.22932 0.49226\n",
            "[9, 7, 'From', False]  0.19962 | 0.00047 0.1178 0.24266 0.21681 0.14711 0.0818 0.18634 0.60397\n",
            "[9, 7, 'To', False]  0.07073 | 0.23873 0.03955 0.06701 0.16375 0.08522 -0.01367 -0.01382 -0.00091\n",
            "[9, 7, 'MeanColumns', False]  0.21471 | 0.02956 0.06308 0.13718 0.2253 0.42429 0.06975 0.17168 0.59682\n",
            "[9, 7, 'MaxColumns', False]  0.21411 | 0.09574 0.06758 0.11992 0.16037 0.39662 -0.00847 0.22541 0.6557\n",
            "[9, 8, 'From', False]  0.09248 | -0.00505 0.0881 0.00848 0.08118 0.15985 0.00881 0.10597 0.29251\n",
            "[9, 8, 'To', False]  0.07321 | 0.01857 0.04173 -0.00286 0.08992 0.15953 0.04817 0.01857 0.21206\n",
            "[9, 8, 'MeanColumns', False]  0.08114 | 0.00766 0.09217 -0.00387 0.15149 0.08062 0.0073 0.06085 0.25291\n",
            "[9, 8, 'MaxColumns', False]  0.05698 | 0.04449 0.09855 0.01861 0.05439 0.00209 0.00957 0.1206 0.1075\n",
            "[9, 9, 'From', False]  0.10945 | 0.05014 0.09596 0.08994 0.05429 0.16912 0.01929 0.10554 0.29133\n",
            "[9, 9, 'To', False]  0.05911 | 0.02081 0.00541 0.00264 0.01226 0.13525 -0.01313 0.08689 0.22276\n",
            "[9, 9, 'MeanColumns', False]  0.0663 | 0.03655 0.03602 0.03094 0.02204 0.08792 0.01957 0.01297 0.28438\n",
            "[9, 9, 'MaxColumns', False]  0.07758 | 0.04813 0.07248 0.00021 0.02244 0.07424 0.09374 0.03009 0.27931\n",
            "[9, 10, 'From', False]  0.11901 | 0.00668 0.11548 0.06562 0.0342 0.30332 0.05945 0.12973 0.23757\n",
            "[9, 10, 'To', False]  0.1375 | 0.04521 0.06857 0.13063 0.14675 0.1465 0.06624 0.16846 0.32763\n",
            "[9, 10, 'MeanColumns', False]  0.10506 | 0.01026 0.11563 0.06767 0.0342 0.23048 -0.00479 0.10698 0.28006\n",
            "[9, 10, 'MaxColumns', False]  0.07046 | -0.03017 0.0929 0.06467 0.0725 0.08596 0.01395 0.04427 0.21959\n",
            "[9, 11, 'From', False]  0.0871 | 0.04124 0.12655 0.13479 0.03452 0.14614 -0.00176 0.0323 0.18301\n",
            "[9, 11, 'To', False]  0.04851 | 0.05602 0.0688 0.05887 0.05126 0.01438 0.00072 0.0498 0.08825\n",
            "[9, 11, 'MeanColumns', False]  0.09303 | 0.09796 0.073 0.02027 0.0429 0.16653 0.07464 -0.02987 0.29882\n",
            "[9, 11, 'MaxColumns', False]  0.08964 | 0.06658 0.05543 0.0776 0.01038 0.26945 0.00123 -0.03226 0.26876\n",
            "[10, 'Mean', 'From', False]  0.20903 | 0.17184 0.13141 0.24106 0.2048 0.21538 0.16522 0.16656 0.37593\n",
            "[10, 'Mean', 'To', False]  0.05481 | 0.023 0.07975 -0.00734 0.03155 0.21043 0.03899 0.00271 0.05937\n",
            "[10, 'Mean', 'MeanColumns', False]  0.23582 | 0.10926 0.10826 0.21762 0.26512 0.37436 0.16558 0.16242 0.48394\n",
            "[10, 'Mean', 'MaxColumns', False]  0.21013 | 0.08348 0.11942 0.23381 0.09012 0.32947 0.15804 0.16198 0.50469\n",
            "[10, 0, 'From', False]  0.05318 | 0.07605 0.18518 0.08924 0.04239 0.00362 -0.01784 0.01091 0.03589\n",
            "[10, 0, 'To', False]  0.05968 | 0.02501 0.05279 -0.02466 0.0773 0.12892 0.04409 0.06291 0.11105\n",
            "[10, 0, 'MeanColumns', False]  0.06089 | 0.09862 0.16481 0.09103 0.0031 0.07369 -0.01731 0.01073 0.06248\n",
            "[10, 0, 'MaxColumns', False]  0.05535 | 0.0359 0.1521 0.09204 0.01885 0.07205 -0.00684 0.05748 0.02122\n",
            "[10, 1, 'From', False]  0.15324 | 0.08141 0.18337 0.28748 0.14374 0.06943 0.05868 0.08523 0.31654\n",
            "[10, 1, 'To', False]  0.09539 | 0.05061 0.10791 0.04199 0.08735 0.1892 -0.00712 0.09203 0.20113\n",
            "[10, 1, 'MeanColumns', False]  0.17708 | 0.08094 0.13725 0.13263 0.26934 0.10277 0.21409 0.08995 0.38965\n",
            "[10, 1, 'MaxColumns', False]  0.14862 | 0.04479 0.1429 0.11472 0.18216 0.10277 0.1357 0.04474 0.42118\n",
            "[10, 2, 'From', False]  0.08255 | 0.04884 0.12645 0.06809 0.2133 0.06607 0.09354 0.02714 0.01697\n",
            "[10, 2, 'To', False]  0.03689 | 0.05279 0.04495 -0.00997 0.04839 0.08542 0.002 0.00317 0.0684\n",
            "[10, 2, 'MeanColumns', False]  0.09336 | 0.03947 0.11712 0.06794 0.17701 0.16271 0.17237 0.02004 -0.00981\n",
            "[10, 2, 'MaxColumns', False]  0.08509 | 0.088 0.11866 0.05728 0.05315 0.10555 0.15876 0.03567 0.06362\n",
            "[10, 3, 'From', False]  0.13621 | 0.05873 0.15395 0.28745 0.00638 0.27165 0.00362 0.13579 0.17211\n",
            "[10, 3, 'To', False]  0.04591 | 0.01615 0.06133 0.01534 0.0288 0.13253 0.02561 0.02333 0.06422\n",
            "[10, 3, 'MeanColumns', False]  0.14054 | 0.05291 0.18888 0.28735 0.05913 0.20341 -0.01094 0.09744 0.24617\n",
            "[10, 3, 'MaxColumns', False]  0.11637 | 0.02472 0.19827 0.18837 0.05222 0.07426 -0.00766 0.11137 0.28938\n",
            "[10, 4, 'From', False]  0.22048 | 0.02004 0.05554 0.23253 0.28783 0.35233 0.22304 0.19063 0.40187\n",
            "[10, 4, 'To', False]  0.1224 | 0.01943 -0.00075 0.17829 0.05257 0.23774 0.11958 0.17543 0.19687\n",
            "[10, 4, 'MeanColumns', False]  0.23961 | 0.00642 0.03739 0.28136 0.38085 0.37571 0.24896 0.21403 0.37212\n",
            "[10, 4, 'MaxColumns', False]  0.21648 | -0.01051 0.03281 0.1748 0.27886 0.43935 0.1624 0.19071 0.46346\n",
            "[10, 5, 'From', False]  0.16174 | 0.10777 0.08541 0.12671 0.24295 0.22929 -0.00235 0.09947 0.40471\n",
            "[10, 5, 'To', False]  0.05098 | 0.00234 0.02651 0.00673 0.02741 0.21161 0.11675 0.01031 0.00618\n",
            "[10, 5, 'MeanColumns', False]  0.14097 | 0.0678 0.13049 0.06829 0.2708 0.22625 -0.00565 0.08186 0.28791\n",
            "[10, 5, 'MaxColumns', False]  0.11552 | 0.05424 0.13846 0.04798 0.12069 0.24039 -0.00566 0.08249 0.24557\n",
            "[10, 6, 'From', False]  0.1181 | 0.10925 0.06521 0.17226 0.06717 0.3589 -0.01347 0.07869 0.10681\n",
            "[10, 6, 'To', False]  0.10555 | 0.17627 0.08853 0.03086 0.04414 0.27362 -0.01299 0.06384 0.1801\n",
            "[10, 6, 'MeanColumns', False]  0.1227 | 0.07349 0.08026 0.19668 0.06454 0.42495 -0.01131 0.04917 0.10387\n",
            "[10, 6, 'MaxColumns', False]  0.11983 | 0.05923 0.09886 0.19351 0.02123 0.4471 -0.01645 0.05037 0.10475\n",
            "[10, 7, 'From', False]  0.2353 | -0.00063 0.02829 0.29943 0.42395 0.14389 0.26991 0.33955 0.37804\n",
            "[10, 7, 'To', False]  0.04645 | 0.02755 0.08163 -0.0049 0.0418 0.191 0.01778 0.01101 0.00573\n",
            "[10, 7, 'MeanColumns', False]  0.23989 | -0.02831 0.02487 0.30002 0.4238 0.14389 0.25054 0.33904 0.46527\n",
            "[10, 7, 'MaxColumns', False]  0.2355 | -0.03249 0.0312 0.30002 0.36306 0.1668 0.25054 0.33962 0.46527\n",
            "[10, 8, 'From', False]  0.23356 | 0.18032 0.04365 0.33718 0.21917 0.23307 0.16825 0.11908 0.56779\n",
            "[10, 8, 'To', False]  0.03432 | 0.03147 0.03769 -0.00755 0.0122 0.09408 0.03915 0.05263 0.01489\n",
            "[10, 8, 'MeanColumns', False]  0.22384 | 0.04351 0.08546 0.15003 0.13475 0.33799 0.21983 0.21735 0.60179\n",
            "[10, 8, 'MaxColumns', False]  0.20665 | 0.09141 0.0615 0.10977 0.06785 0.38922 0.21451 0.17591 0.54301\n",
            "[10, 9, 'From', False]  0.1935 | 0.09462 0.0661 0.09563 0.14536 0.30741 0.09372 0.2478 0.49734\n",
            "[10, 9, 'To', False]  0.05603 | 0.0211 0.09103 0.03949 0.04306 0.14934 0.05158 0.04958 0.00305\n",
            "[10, 9, 'MeanColumns', False]  0.15676 | 0.06876 0.04075 0.17517 0.05922 0.30469 0.07338 0.21863 0.31345\n",
            "[10, 9, 'MaxColumns', False]  0.13305 | 0.04453 0.06219 0.09266 0.05467 0.31037 -0.0105 0.15657 0.35386\n",
            "[10, 10, 'From', False]  0.09463 | 0.24981 0.08715 0.03473 0.05082 0.10668 -0.0146 0.05834 0.18408\n",
            "[10, 10, 'To', False]  0.04796 | 0.04774 0.14625 -0.00367 0.0178 0.11658 1e-05 -0.00118 0.06013\n",
            "[10, 10, 'MeanColumns', False]  0.16213 | 0.31662 0.10503 0.17122 0.10309 0.15766 0.07157 0.08256 0.28927\n",
            "[10, 10, 'MaxColumns', False]  0.13621 | 0.29372 0.10288 0.17238 0.08225 0.03105 0.069 0.07121 0.26715\n",
            "[10, 11, 'From', False]  0.0763 | 0.11289 0.05237 0.04212 0.03859 0.02305 0.07434 0.053 0.21401\n",
            "[10, 11, 'To', False]  0.03159 | 0.00386 0.01674 0.01173 0.07395 0.08696 0.0174 0.04745 -0.0054\n",
            "[10, 11, 'MeanColumns', False]  0.0875 | 0.09287 0.04816 0.04794 0.02808 0.08881 0.10691 0.00074 0.28651\n",
            "[10, 11, 'MaxColumns', False]  0.07413 | 0.09252 0.07976 0.04761 0.0621 0.12415 0.0264 0.01903 0.14149\n",
            "[11, 'Mean', 'From', False]  0.2309 | 0.0621 0.03295 0.2109 0.21976 0.45134 0.16302 0.19088 0.51624\n",
            "[11, 'Mean', 'To', False]  0.04156 | 0.00387 0.05575 0.02459 0.01113 0.17527 0.01369 0.00257 0.04559\n",
            "[11, 'Mean', 'MeanColumns', False]  0.20804 | 0.07012 0.02925 0.27097 0.2775 0.4562 0.031 0.1761 0.35317\n",
            "[11, 'Mean', 'MaxColumns', False]  0.19707 | 0.06174 0.03045 0.15251 0.15042 0.4562 0.1022 0.18065 0.44236\n",
            "[11, 0, 'From', False]  0.14243 | 0.09263 0.10757 0.10169 0.01893 0.17843 0.21006 0.08119 0.34893\n",
            "[11, 0, 'To', False]  0.03314 | 0.01864 -0.01635 -0.04567 0.04627 0.16702 0.0132 0.02552 0.05645\n",
            "[11, 0, 'MeanColumns', False]  0.15528 | 0.07127 0.11376 0.10095 0.04903 0.22537 0.21549 0.08791 0.37843\n",
            "[11, 0, 'MaxColumns', False]  0.1395 | 0.07261 0.08466 0.10385 0.04875 0.17758 0.21006 0.0828 0.33569\n",
            "[11, 1, 'From', False]  0.1973 | -0.0053 0.05694 0.15301 0.21632 0.22426 0.06841 0.27603 0.58876\n",
            "[11, 1, 'To', False]  0.02606 | 0.04516 0.04618 0.0112 0.00812 0.10528 0.00185 -0.00045 -0.00884\n",
            "[11, 1, 'MeanColumns', False]  0.16624 | 0.02629 0.03402 0.03403 0.21339 0.29309 0.06893 0.18907 0.47107\n",
            "[11, 1, 'MaxColumns', False]  0.14462 | 0.05083 0.01295 0.05244 0.21131 0.2054 0.00388 0.21716 0.403\n",
            "[11, 2, 'From', False]  0.1968 | 0.06713 -0.01825 0.20295 0.1576 0.4007 0.07232 0.36522 0.32669\n",
            "[11, 2, 'To', False]  0.02911 | 0.03308 0.04288 -0.00448 0.01382 0.09781 -0.00196 -0.00646 0.05819\n",
            "[11, 2, 'MeanColumns', False]  0.20406 | 0.05699 -0.01236 0.19848 0.20021 0.32984 0.12666 0.36552 0.36715\n",
            "[11, 2, 'MaxColumns', False]  0.17879 | 0.03279 -0.01921 0.22151 0.14881 0.32077 0.0829 0.32226 0.32052\n",
            "[11, 3, 'From', False]  0.15069 | 0.08501 0.07278 0.09416 0.1372 0.21773 -0.01203 0.22099 0.38969\n",
            "[11, 3, 'To', False]  0.04797 | 0.0382 0.06982 0.10025 0.05731 0.09111 0.01542 0.01149 0.0002\n",
            "[11, 3, 'MeanColumns', False]  0.11869 | 0.10791 0.10725 0.04939 0.06151 0.09808 -0.00459 0.16809 0.36192\n",
            "[11, 3, 'MaxColumns', False]  0.13406 | 0.06193 0.06199 0.07344 0.10534 0.16831 0.04193 0.23825 0.32126\n",
            "[11, 4, 'From', False]  0.07392 | -0.0031 -0.01586 0.08401 0.12974 0.14471 0.07978 -0.02038 0.19244\n",
            "[11, 4, 'To', False]  0.02774 | 0.02223 0.03482 0.02761 0.04604 0.16423 0.01998 -0.13245 0.03948\n",
            "[11, 4, 'MeanColumns', False]  0.06941 | -0.00943 0.01372 0.08387 0.13445 0.14038 0.02855 -0.05873 0.22246\n",
            "[11, 4, 'MaxColumns', False]  0.08599 | -0.00277 -0.00963 0.14435 0.13069 0.14102 0.10563 -0.01434 0.19295\n",
            "[11, 5, 'From', False]  0.13443 | -0.00727 0.0474 0.16137 0.15541 0.31079 0.02027 0.12783 0.25967\n",
            "[11, 5, 'To', False]  0.06979 | -0.00094 0.05859 0.02291 0.01381 0.15477 0.01714 0.26095 0.03105\n",
            "[11, 5, 'MeanColumns', False]  0.10164 | 0.02553 0.07846 0.19323 0.155 0.13652 -0.01292 0.07703 0.16025\n",
            "[11, 5, 'MaxColumns', False]  0.09664 | 0.04879 0.08549 0.15709 0.09762 0.2255 -0.0063 0.0753 0.08962\n",
            "[11, 6, 'From', False]  0.132 | 0.08634 0.06806 0.20902 0.09785 0.08338 0.007 0.08352 0.42083\n",
            "[11, 6, 'To', False]  0.02977 | 0.01542 0.05026 0.08229 0.00619 0.08845 0.00359 -0.00401 -0.00403\n",
            "[11, 6, 'MeanColumns', False]  0.13388 | 0.06597 0.05727 0.27581 0.0962 0.13473 0.03051 0.0367 0.37385\n",
            "[11, 6, 'MaxColumns', False]  0.12186 | 0.07808 0.06783 0.21889 0.09801 0.08192 0.007 0.07198 0.35121\n",
            "[11, 7, 'From', False]  0.09536 | 0.12161 0.04402 0.04098 0.13416 0.0275 0.16167 0.22123 0.01176\n",
            "[11, 7, 'To', False]  0.03649 | 0.02216 0.05543 -0.00156 0.01212 0.16474 0.02148 0.00152 0.01604\n",
            "[11, 7, 'MeanColumns', False]  0.09693 | 0.12319 0.04212 0.09333 0.15246 0.04541 0.0944 0.15672 0.06779\n",
            "[11, 7, 'MaxColumns', False]  0.0932 | 0.11993 0.0439 0.0355 0.13412 0.0275 0.16167 0.21121 0.01176\n",
            "[11, 8, 'From', False]  0.12403 | 0.04055 0.04576 0.17482 0.13294 0.15113 0.12691 0.09311 0.22704\n",
            "[11, 8, 'To', False]  0.0521 | 0.04941 0.00865 -0.00016 0.11753 0.17595 0.00318 -0.00781 0.07005\n",
            "[11, 8, 'MeanColumns', False]  0.08779 | 0.04236 0.0638 0.12776 0.13168 0.1655 0.0365 0.02664 0.1081\n",
            "[11, 8, 'MaxColumns', False]  0.11191 | 0.06059 0.05799 0.23668 0.13168 0.15792 0.0358 0.03312 0.18153\n",
            "[11, 9, 'From', False]  0.09533 | 0.02939 0.02263 0.09576 0.26446 0.16412 0.00111 0.04605 0.13911\n",
            "[11, 9, 'To', False]  0.02748 | 0.01434 0.05339 -0.00392 0.02123 0.09665 -0.00252 0.03969 0.00101\n",
            "[11, 9, 'MeanColumns', False]  0.11779 | 0.04606 0.03481 0.09622 0.31953 0.24746 -0.00443 0.05722 0.14543\n",
            "[11, 9, 'MaxColumns', False]  0.09535 | 0.02939 0.02263 0.09576 0.26458 0.16412 0.00119 0.04605 0.13911\n",
            "[11, 10, 'From', False]  0.14503 | 0.16569 0.00891 0.09971 0.24773 0.33754 0.03853 0.10661 0.15551\n",
            "[11, 10, 'To', False]  0.016 | 0.0232 0.08284 -0.01338 0.01444 0.01334 -0.00423 0.00289 0.00888\n",
            "[11, 10, 'MeanColumns', False]  0.13081 | 0.12212 0.01223 0.08545 0.20845 0.30642 -0.00408 0.10499 0.21089\n",
            "[11, 10, 'MaxColumns', False]  0.121 | 0.14972 0.02794 0.09137 0.16857 0.32447 -0.01057 0.06096 0.15551\n",
            "[11, 11, 'From', False]  0.10725 | 0.08482 0.04656 0.12344 0.15686 0.13515 0.01392 0.20971 0.08752\n",
            "[11, 11, 'To', False]  0.03616 | 0.09467 0.0392 0.04618 0.0124 0.08748 0.00263 0.02073 -0.014\n",
            "[11, 11, 'MeanColumns', False]  0.06185 | 0.02668 0.02967 0.1176 0.08694 0.13772 -0.00849 0.07657 0.02812\n",
            "[11, 11, 'MaxColumns', False]  0.05632 | 0.05158 0.03391 0.13489 0.08459 0.0609 -0.00892 0.06577 0.02788\n",
            "NZW\n",
            "['Mean', 'Mean', 'From', False]  1.0 | 1.0 1.0 1.0 1.0 1.0 1.0 1.0 1.0\n",
            "['Mean', 'Mean', 'To', False]  1.0 | 1.0 1.0 1.0 1.0 1.0 1.0 1.0 1.0\n",
            "['Mean', 'Mean', 'MeanColumns', False]  1.0 | 1.0 1.0 1.0 1.0 1.0 1.0 1.0 1.0\n",
            "['Mean', 'Mean', 'MaxColumns', False]  1.0 | 1.0 1.0 1.0 1.0 1.0 1.0 1.0 1.0\n",
            "['Mean', 0, 'From', False]  1.0 | 1.0 1.0 1.0 1.0 1.0 1.0 1.0 1.0\n",
            "['Mean', 0, 'To', False]  1.0 | 1.0 1.0 1.0 1.0 1.0 1.0 1.0 1.0\n",
            "['Mean', 0, 'MeanColumns', False]  1.0 | 1.0 1.0 1.0 1.0 1.0 1.0 1.0 1.0\n",
            "['Mean', 0, 'MaxColumns', False]  1.0 | 1.0 1.0 1.0 1.0 1.0 1.0 1.0 1.0\n",
            "['Mean', 1, 'From', False]  1.0 | 1.0 1.0 1.0 1.0 1.0 1.0 1.0 1.0\n",
            "['Mean', 1, 'To', False]  1.0 | 1.0 1.0 1.0 1.0 1.0 1.0 1.0 1.0\n",
            "['Mean', 1, 'MeanColumns', False]  1.0 | 1.0 1.0 1.0 1.0 1.0 1.0 1.0 1.0\n",
            "['Mean', 1, 'MaxColumns', False]  1.0 | 1.0 1.0 1.0 1.0 1.0 1.0 1.0 1.0\n",
            "['Mean', 2, 'From', False]  1.0 | 1.0 1.0 1.0 1.0 1.0 1.0 1.0 1.0\n",
            "['Mean', 2, 'To', False]  1.0 | 1.0 1.0 1.0 1.0 1.0 1.0 1.0 1.0\n",
            "['Mean', 2, 'MeanColumns', False]  1.0 | 1.0 1.0 1.0 1.0 1.0 1.0 1.0 1.0\n",
            "['Mean', 2, 'MaxColumns', False]  1.0 | 1.0 1.0 1.0 1.0 1.0 1.0 1.0 1.0\n",
            "['Mean', 3, 'From', False]  1.0 | 1.0 1.0 1.0 1.0 1.0 1.0 1.0 1.0\n",
            "['Mean', 3, 'To', False]  1.0 | 1.0 1.0 1.0 1.0 1.0 1.0 1.0 1.0\n",
            "['Mean', 3, 'MeanColumns', False]  1.0 | 1.0 1.0 1.0 1.0 1.0 1.0 1.0 1.0\n",
            "['Mean', 3, 'MaxColumns', False]  1.0 | 1.0 1.0 1.0 1.0 1.0 1.0 1.0 1.0\n",
            "['Mean', 4, 'From', False]  1.0 | 1.0 1.0 1.0 1.0 1.0 1.0 1.0 1.0\n",
            "['Mean', 4, 'To', False]  1.0 | 1.0 1.0 1.0 1.0 1.0 1.0 1.0 1.0\n",
            "['Mean', 4, 'MeanColumns', False]  1.0 | 1.0 1.0 1.0 1.0 1.0 1.0 1.0 1.0\n",
            "['Mean', 4, 'MaxColumns', False]  1.0 | 1.0 1.0 1.0 1.0 1.0 1.0 1.0 1.0\n",
            "['Mean', 5, 'From', False]  1.0 | 1.0 1.0 1.0 1.0 1.0 1.0 1.0 1.0\n",
            "['Mean', 5, 'To', False]  1.0 | 1.0 1.0 1.0 1.0 1.0 1.0 1.0 1.0\n",
            "['Mean', 5, 'MeanColumns', False]  1.0 | 1.0 1.0 1.0 1.0 1.0 1.0 1.0 1.0\n",
            "['Mean', 5, 'MaxColumns', False]  1.0 | 1.0 1.0 1.0 1.0 1.0 1.0 1.0 1.0\n",
            "['Mean', 6, 'From', False]  1.0 | 1.0 1.0 1.0 1.0 1.0 1.0 1.0 1.0\n",
            "['Mean', 6, 'To', False]  1.0 | 1.0 1.0 1.0 1.0 1.0 1.0 1.0 1.0\n",
            "['Mean', 6, 'MeanColumns', False]  1.0 | 1.0 1.0 1.0 1.0 1.0 1.0 1.0 1.0\n",
            "['Mean', 6, 'MaxColumns', False]  1.0 | 1.0 1.0 1.0 1.0 1.0 1.0 1.0 1.0\n",
            "['Mean', 7, 'From', False]  1.0 | 1.0 1.0 1.0 1.0 1.0 1.0 1.0 1.0\n",
            "['Mean', 7, 'To', False]  1.0 | 1.0 1.0 1.0 1.0 1.0 1.0 1.0 1.0\n",
            "['Mean', 7, 'MeanColumns', False]  1.0 | 1.0 1.0 1.0 1.0 1.0 1.0 1.0 1.0\n",
            "['Mean', 7, 'MaxColumns', False]  1.0 | 1.0 1.0 1.0 1.0 1.0 1.0 1.0 1.0\n",
            "['Mean', 8, 'From', False]  1.0 | 1.0 1.0 1.0 1.0 1.0 1.0 1.0 1.0\n",
            "['Mean', 8, 'To', False]  1.0 | 1.0 1.0 1.0 1.0 1.0 1.0 1.0 1.0\n",
            "['Mean', 8, 'MeanColumns', False]  1.0 | 1.0 1.0 1.0 1.0 1.0 1.0 1.0 1.0\n",
            "['Mean', 8, 'MaxColumns', False]  1.0 | 1.0 1.0 1.0 1.0 1.0 1.0 1.0 1.0\n",
            "['Mean', 9, 'From', False]  1.0 | 1.0 1.0 1.0 1.0 1.0 1.0 1.0 1.0\n",
            "['Mean', 9, 'To', False]  1.0 | 1.0 1.0 1.0 1.0 1.0 1.0 1.0 1.0\n",
            "['Mean', 9, 'MeanColumns', False]  1.0 | 1.0 1.0 1.0 1.0 1.0 1.0 1.0 1.0\n",
            "['Mean', 9, 'MaxColumns', False]  1.0 | 1.0 1.0 1.0 1.0 1.0 1.0 1.0 1.0\n",
            "['Mean', 10, 'From', False]  1.0 | 1.0 1.0 1.0 1.0 1.0 1.0 1.0 1.0\n",
            "['Mean', 10, 'To', False]  1.0 | 1.0 1.0 1.0 1.0 1.0 1.0 1.0 1.0\n",
            "['Mean', 10, 'MeanColumns', False]  1.0 | 1.0 1.0 1.0 1.0 1.0 1.0 1.0 1.0\n",
            "['Mean', 10, 'MaxColumns', False]  1.0 | 1.0 1.0 1.0 1.0 1.0 1.0 1.0 1.0\n",
            "['Mean', 11, 'From', False]  1.0 | 1.0 1.0 1.0 1.0 1.0 1.0 1.0 1.0\n",
            "['Mean', 11, 'To', False]  1.0 | 1.0 1.0 1.0 1.0 1.0 1.0 1.0 1.0\n",
            "['Mean', 11, 'MeanColumns', False]  1.0 | 1.0 1.0 1.0 1.0 1.0 1.0 1.0 1.0\n",
            "['Mean', 11, 'MaxColumns', False]  1.0 | 1.0 1.0 1.0 1.0 1.0 1.0 1.0 1.0\n",
            "[0, 'Mean', 'From', False]  1.0 | 1.0 1.0 1.0 1.0 1.0 1.0 1.0 1.0\n",
            "[0, 'Mean', 'To', False]  1.0 | 1.0 1.0 1.0 1.0 1.0 1.0 1.0 1.0\n",
            "[0, 'Mean', 'MeanColumns', False]  1.0 | 1.0 1.0 1.0 1.0 1.0 1.0 1.0 1.0\n",
            "[0, 'Mean', 'MaxColumns', False]  1.0 | 1.0 1.0 1.0 1.0 1.0 1.0 1.0 1.0\n",
            "[0, 0, 'From', False]  1.0 | 1.0 1.0 1.0 1.0 1.0 1.0 1.0 1.0\n",
            "[0, 0, 'To', False]  1.0 | 1.0 1.0 1.0 1.0 1.0 1.0 1.0 1.0\n",
            "[0, 0, 'MeanColumns', False]  1.0 | 1.0 1.0 1.0 1.0 1.0 1.0 1.0 1.0\n",
            "[0, 0, 'MaxColumns', False]  1.0 | 1.0 1.0 1.0 1.0 1.0 1.0 1.0 1.0\n",
            "[0, 1, 'From', False]  1.0 | 1.0 1.0 1.0 1.0 1.0 1.0 1.0 1.0\n",
            "[0, 1, 'To', False]  1.0 | 1.0 1.0 1.0 1.0 1.0 1.0 1.0 1.0\n",
            "[0, 1, 'MeanColumns', False]  1.0 | 1.0 1.0 1.0 1.0 1.0 1.0 1.0 1.0\n",
            "[0, 1, 'MaxColumns', False]  1.0 | 1.0 1.0 1.0 1.0 1.0 1.0 1.0 1.0\n",
            "[0, 2, 'From', False]  1.0 | 1.0 1.0 1.0 1.0 1.0 1.0 1.0 1.0\n",
            "[0, 2, 'To', False]  1.0 | 1.0 1.0 1.0 1.0 1.0 1.0 1.0 1.0\n",
            "[0, 2, 'MeanColumns', False]  1.0 | 1.0 1.0 1.0 1.0 1.0 1.0 1.0 1.0\n",
            "[0, 2, 'MaxColumns', False]  1.0 | 1.0 1.0 1.0 1.0 1.0 1.0 1.0 1.0\n",
            "[0, 3, 'From', False]  1.0 | 1.0 1.0 1.0 1.0 1.0 1.0 1.0 1.0\n",
            "[0, 3, 'To', False]  1.0 | 1.0 1.0 1.0 1.0 1.0 1.0 1.0 1.0\n",
            "[0, 3, 'MeanColumns', False]  1.0 | 1.0 1.0 1.0 1.0 1.0 1.0 1.0 1.0\n",
            "[0, 3, 'MaxColumns', False]  1.0 | 1.0 1.0 1.0 1.0 1.0 1.0 1.0 1.0\n",
            "[0, 4, 'From', False]  1.0 | 1.0 1.0 1.0 1.0 1.0 1.0 1.0 1.0\n",
            "[0, 4, 'To', False]  1.0 | 1.0 1.0 1.0 1.0 1.0 1.0 1.0 1.0\n",
            "[0, 4, 'MeanColumns', False]  1.0 | 1.0 1.0 1.0 1.0 1.0 1.0 1.0 1.0\n",
            "[0, 4, 'MaxColumns', False]  1.0 | 1.0 1.0 1.0 1.0 1.0 1.0 1.0 1.0\n",
            "[0, 5, 'From', False]  1.0 | 1.0 1.0 1.0 1.0 1.0 1.0 1.0 1.0\n",
            "[0, 5, 'To', False]  1.0 | 1.0 1.0 1.0 1.0 1.0 1.0 1.0 1.0\n",
            "[0, 5, 'MeanColumns', False]  1.0 | 1.0 1.0 1.0 1.0 1.0 1.0 1.0 1.0\n",
            "[0, 5, 'MaxColumns', False]  1.0 | 1.0 1.0 1.0 1.0 1.0 1.0 1.0 1.0\n",
            "[0, 6, 'From', False]  1.0 | 1.0 1.0 1.0 1.0 1.0 1.0 1.0 1.0\n",
            "[0, 6, 'To', False]  1.0 | 1.0 1.0 1.0 1.0 1.0 1.0 1.0 1.0\n",
            "[0, 6, 'MeanColumns', False]  1.0 | 1.0 1.0 1.0 1.0 1.0 1.0 1.0 1.0\n",
            "[0, 6, 'MaxColumns', False]  1.0 | 1.0 1.0 1.0 1.0 1.0 1.0 1.0 1.0\n",
            "[0, 7, 'From', False]  1.0 | 1.0 1.0 1.0 1.0 1.0 1.0 1.0 1.0\n",
            "[0, 7, 'To', False]  1.0 | 1.0 1.0 1.0 1.0 1.0 1.0 1.0 1.0\n",
            "[0, 7, 'MeanColumns', False]  1.0 | 1.0 1.0 1.0 1.0 1.0 1.0 1.0 1.0\n",
            "[0, 7, 'MaxColumns', False]  1.0 | 1.0 1.0 1.0 1.0 1.0 1.0 1.0 1.0\n",
            "[0, 8, 'From', False]  1.0 | 1.0 1.0 1.0 1.0 1.0 1.0 1.0 1.0\n",
            "[0, 8, 'To', False]  1.0 | 1.0 1.0 1.0 1.0 1.0 1.0 1.0 1.0\n",
            "[0, 8, 'MeanColumns', False]  1.0 | 1.0 1.0 1.0 1.0 1.0 1.0 1.0 1.0\n",
            "[0, 8, 'MaxColumns', False]  1.0 | 1.0 1.0 1.0 1.0 1.0 1.0 1.0 1.0\n",
            "[0, 9, 'From', False]  1.0 | 1.0 1.0 1.0 1.0 1.0 1.0 1.0 1.0\n",
            "[0, 9, 'To', False]  1.0 | 1.0 1.0 1.0 1.0 1.0 1.0 1.0 1.0\n",
            "[0, 9, 'MeanColumns', False]  1.0 | 1.0 1.0 1.0 1.0 1.0 1.0 1.0 1.0\n",
            "[0, 9, 'MaxColumns', False]  1.0 | 1.0 1.0 1.0 1.0 1.0 1.0 1.0 1.0\n",
            "[0, 10, 'From', False]  1.0 | 1.0 1.0 1.0 1.0 1.0 1.0 1.0 1.0\n",
            "[0, 10, 'To', False]  1.0 | 1.0 1.0 1.0 1.0 1.0 1.0 1.0 1.0\n",
            "[0, 10, 'MeanColumns', False]  1.0 | 1.0 1.0 1.0 1.0 1.0 1.0 1.0 1.0\n",
            "[0, 10, 'MaxColumns', False]  1.0 | 1.0 1.0 1.0 1.0 1.0 1.0 1.0 1.0\n",
            "[0, 11, 'From', False]  1.0 | 1.0 1.0 1.0 1.0 1.0 1.0 1.0 1.0\n",
            "[0, 11, 'To', False]  1.0 | 1.0 1.0 1.0 1.0 1.0 1.0 1.0 1.0\n",
            "[0, 11, 'MeanColumns', False]  1.0 | 1.0 1.0 1.0 1.0 1.0 1.0 1.0 1.0\n",
            "[0, 11, 'MaxColumns', False]  1.0 | 1.0 1.0 1.0 1.0 1.0 1.0 1.0 1.0\n",
            "[1, 'Mean', 'From', False]  1.0 | 1.0 1.0 1.0 1.0 1.0 1.0 1.0 1.0\n",
            "[1, 'Mean', 'To', False]  1.0 | 1.0 1.0 1.0 1.0 1.0 1.0 1.0 1.0\n",
            "[1, 'Mean', 'MeanColumns', False]  1.0 | 1.0 1.0 1.0 1.0 1.0 1.0 1.0 1.0\n",
            "[1, 'Mean', 'MaxColumns', False]  1.0 | 1.0 1.0 1.0 1.0 1.0 1.0 1.0 1.0\n",
            "[1, 0, 'From', False]  1.0 | 1.0 1.0 1.0 1.0 1.0 1.0 1.0 1.0\n",
            "[1, 0, 'To', False]  1.0 | 1.0 1.0 1.0 1.0 1.0 1.0 1.0 1.0\n",
            "[1, 0, 'MeanColumns', False]  1.0 | 1.0 1.0 1.0 1.0 1.0 1.0 1.0 1.0\n",
            "[1, 0, 'MaxColumns', False]  1.0 | 1.0 1.0 1.0 1.0 1.0 1.0 1.0 1.0\n",
            "[1, 1, 'From', False]  1.0 | 1.0 1.0 1.0 1.0 1.0 1.0 1.0 1.0\n",
            "[1, 1, 'To', False]  1.0 | 1.0 1.0 1.0 1.0 1.0 1.0 1.0 1.0\n",
            "[1, 1, 'MeanColumns', False]  1.0 | 1.0 1.0 1.0 1.0 1.0 1.0 1.0 1.0\n",
            "[1, 1, 'MaxColumns', False]  1.0 | 1.0 1.0 1.0 1.0 1.0 1.0 1.0 1.0\n",
            "[1, 2, 'From', False]  1.0 | 1.0 1.0 1.0 1.0 1.0 1.0 1.0 1.0\n",
            "[1, 2, 'To', False]  1.0 | 1.0 1.0 1.0 1.0 1.0 1.0 1.0 1.0\n",
            "[1, 2, 'MeanColumns', False]  1.0 | 1.0 1.0 1.0 1.0 1.0 1.0 1.0 1.0\n",
            "[1, 2, 'MaxColumns', False]  1.0 | 1.0 1.0 1.0 1.0 1.0 1.0 1.0 1.0\n",
            "[1, 3, 'From', False]  1.0 | 1.0 1.0 1.0 1.0 1.0 1.0 1.0 1.0\n",
            "[1, 3, 'To', False]  1.0 | 1.0 1.0 1.0 1.0 1.0 1.0 1.0 1.0\n",
            "[1, 3, 'MeanColumns', False]  1.0 | 1.0 1.0 1.0 1.0 1.0 1.0 1.0 1.0\n",
            "[1, 3, 'MaxColumns', False]  1.0 | 1.0 1.0 1.0 1.0 1.0 1.0 1.0 1.0\n",
            "[1, 4, 'From', False]  1.0 | 1.0 1.0 1.0 1.0 1.0 1.0 1.0 1.0\n",
            "[1, 4, 'To', False]  1.0 | 1.0 1.0 1.0 1.0 1.0 1.0 1.0 1.0\n",
            "[1, 4, 'MeanColumns', False]  1.0 | 1.0 1.0 1.0 1.0 1.0 1.0 1.0 1.0\n",
            "[1, 4, 'MaxColumns', False]  1.0 | 1.0 1.0 1.0 1.0 1.0 1.0 1.0 1.0\n",
            "[1, 5, 'From', False]  1.0 | 1.0 1.0 1.0 1.0 1.0 1.0 1.0 1.0\n",
            "[1, 5, 'To', False]  1.0 | 1.0 1.0 1.0 1.0 1.0 1.0 1.0 1.0\n",
            "[1, 5, 'MeanColumns', False]  1.0 | 1.0 1.0 1.0 1.0 1.0 1.0 1.0 1.0\n",
            "[1, 5, 'MaxColumns', False]  1.0 | 1.0 1.0 1.0 1.0 1.0 1.0 1.0 1.0\n",
            "[1, 6, 'From', False]  1.0 | 1.0 1.0 1.0 1.0 1.0 1.0 1.0 1.0\n",
            "[1, 6, 'To', False]  1.0 | 1.0 1.0 1.0 1.0 1.0 1.0 1.0 1.0\n",
            "[1, 6, 'MeanColumns', False]  1.0 | 1.0 1.0 1.0 1.0 1.0 1.0 1.0 1.0\n",
            "[1, 6, 'MaxColumns', False]  1.0 | 1.0 1.0 1.0 1.0 1.0 1.0 1.0 1.0\n",
            "[1, 7, 'From', False]  1.0 | 1.0 1.0 1.0 1.0 1.0 1.0 1.0 1.0\n",
            "[1, 7, 'To', False]  1.0 | 1.0 1.0 1.0 1.0 1.0 1.0 1.0 1.0\n",
            "[1, 7, 'MeanColumns', False]  1.0 | 1.0 1.0 1.0 1.0 1.0 1.0 1.0 1.0\n",
            "[1, 7, 'MaxColumns', False]  1.0 | 1.0 1.0 1.0 1.0 1.0 1.0 1.0 1.0\n",
            "[1, 8, 'From', False]  1.0 | 1.0 1.0 1.0 1.0 1.0 1.0 1.0 1.0\n",
            "[1, 8, 'To', False]  1.0 | 1.0 1.0 1.0 1.0 1.0 1.0 1.0 1.0\n",
            "[1, 8, 'MeanColumns', False]  1.0 | 1.0 1.0 1.0 1.0 1.0 1.0 1.0 1.0\n",
            "[1, 8, 'MaxColumns', False]  1.0 | 1.0 1.0 1.0 1.0 1.0 1.0 1.0 1.0\n",
            "[1, 9, 'From', False]  1.0 | 1.0 1.0 1.0 1.0 1.0 1.0 1.0 1.0\n",
            "[1, 9, 'To', False]  1.0 | 1.0 1.0 1.0 1.0 1.0 1.0 1.0 1.0\n",
            "[1, 9, 'MeanColumns', False]  1.0 | 1.0 1.0 1.0 1.0 1.0 1.0 1.0 1.0\n",
            "[1, 9, 'MaxColumns', False]  1.0 | 1.0 1.0 1.0 1.0 1.0 1.0 1.0 1.0\n",
            "[1, 10, 'From', False]  1.0 | 1.0 1.0 1.0 1.0 1.0 1.0 1.0 1.0\n",
            "[1, 10, 'To', False]  1.0 | 1.0 1.0 1.0 1.0 1.0 1.0 1.0 1.0\n",
            "[1, 10, 'MeanColumns', False]  1.0 | 1.0 1.0 1.0 1.0 1.0 1.0 1.0 1.0\n",
            "[1, 10, 'MaxColumns', False]  1.0 | 1.0 1.0 1.0 1.0 1.0 1.0 1.0 1.0\n",
            "[1, 11, 'From', False]  1.0 | 1.0 1.0 1.0 1.0 1.0 1.0 1.0 1.0\n",
            "[1, 11, 'To', False]  1.0 | 1.0 1.0 1.0 1.0 1.0 1.0 1.0 1.0\n",
            "[1, 11, 'MeanColumns', False]  1.0 | 1.0 1.0 1.0 1.0 1.0 1.0 1.0 1.0\n",
            "[1, 11, 'MaxColumns', False]  1.0 | 1.0 1.0 1.0 1.0 1.0 1.0 1.0 1.0\n",
            "[2, 'Mean', 'From', False]  1.0 | 1.0 1.0 1.0 1.0 1.0 1.0 1.0 1.0\n",
            "[2, 'Mean', 'To', False]  1.0 | 1.0 1.0 1.0 1.0 1.0 1.0 1.0 1.0\n",
            "[2, 'Mean', 'MeanColumns', False]  1.0 | 1.0 1.0 1.0 1.0 1.0 1.0 1.0 1.0\n",
            "[2, 'Mean', 'MaxColumns', False]  1.0 | 1.0 1.0 1.0 1.0 1.0 1.0 1.0 1.0\n",
            "[2, 0, 'From', False]  1.0 | 1.0 1.0 1.0 1.0 1.0 1.0 1.0 1.0\n",
            "[2, 0, 'To', False]  1.0 | 1.0 1.0 1.0 1.0 1.0 1.0 1.0 1.0\n",
            "[2, 0, 'MeanColumns', False]  1.0 | 1.0 1.0 1.0 1.0 1.0 1.0 1.0 1.0\n",
            "[2, 0, 'MaxColumns', False]  1.0 | 1.0 1.0 1.0 1.0 1.0 1.0 1.0 1.0\n",
            "[2, 1, 'From', False]  1.0 | 1.0 1.0 1.0 1.0 1.0 1.0 1.0 1.0\n",
            "[2, 1, 'To', False]  1.0 | 1.0 1.0 1.0 1.0 1.0 1.0 1.0 1.0\n",
            "[2, 1, 'MeanColumns', False]  1.0 | 1.0 1.0 1.0 1.0 1.0 1.0 1.0 1.0\n",
            "[2, 1, 'MaxColumns', False]  1.0 | 1.0 1.0 1.0 1.0 1.0 1.0 1.0 1.0\n",
            "[2, 2, 'From', False]  1.0 | 1.0 1.0 1.0 1.0 1.0 1.0 1.0 1.0\n",
            "[2, 2, 'To', False]  1.0 | 1.0 1.0 1.0 1.0 1.0 1.0 1.0 1.0\n",
            "[2, 2, 'MeanColumns', False]  1.0 | 1.0 1.0 1.0 1.0 1.0 1.0 1.0 1.0\n",
            "[2, 2, 'MaxColumns', False]  1.0 | 1.0 1.0 1.0 1.0 1.0 1.0 1.0 1.0\n",
            "[2, 3, 'From', False]  1.0 | 1.0 1.0 1.0 1.0 1.0 1.0 1.0 1.0\n",
            "[2, 3, 'To', False]  1.0 | 1.0 1.0 1.0 1.0 1.0 1.0 1.0 1.0\n",
            "[2, 3, 'MeanColumns', False]  1.0 | 1.0 1.0 1.0 1.0 1.0 1.0 1.0 1.0\n",
            "[2, 3, 'MaxColumns', False]  1.0 | 1.0 1.0 1.0 1.0 1.0 1.0 1.0 1.0\n",
            "[2, 4, 'From', False]  1.0 | 1.0 1.0 1.0 1.0 1.0 1.0 1.0 1.0\n",
            "[2, 4, 'To', False]  1.0 | 1.0 1.0 1.0 1.0 1.0 1.0 1.0 1.0\n",
            "[2, 4, 'MeanColumns', False]  1.0 | 1.0 1.0 1.0 1.0 1.0 1.0 1.0 1.0\n",
            "[2, 4, 'MaxColumns', False]  1.0 | 1.0 1.0 1.0 1.0 1.0 1.0 1.0 1.0\n",
            "[2, 5, 'From', False]  1.0 | 1.0 1.0 1.0 1.0 1.0 1.0 1.0 1.0\n",
            "[2, 5, 'To', False]  1.0 | 1.0 1.0 1.0 1.0 1.0 1.0 1.0 1.0\n",
            "[2, 5, 'MeanColumns', False]  1.0 | 1.0 1.0 1.0 1.0 1.0 1.0 1.0 1.0\n",
            "[2, 5, 'MaxColumns', False]  1.0 | 1.0 1.0 1.0 1.0 1.0 1.0 1.0 1.0\n",
            "[2, 6, 'From', False]  1.0 | 1.0 1.0 1.0 1.0 1.0 1.0 1.0 1.0\n",
            "[2, 6, 'To', False]  1.0 | 1.0 1.0 1.0 1.0 1.0 1.0 1.0 1.0\n",
            "[2, 6, 'MeanColumns', False]  1.0 | 1.0 1.0 1.0 1.0 1.0 1.0 1.0 1.0\n",
            "[2, 6, 'MaxColumns', False]  1.0 | 1.0 1.0 1.0 1.0 1.0 1.0 1.0 1.0\n",
            "[2, 7, 'From', False]  1.0 | 1.0 1.0 1.0 1.0 1.0 1.0 1.0 1.0\n",
            "[2, 7, 'To', False]  1.0 | 1.0 1.0 1.0 1.0 1.0 1.0 1.0 1.0\n",
            "[2, 7, 'MeanColumns', False]  1.0 | 1.0 1.0 1.0 1.0 1.0 1.0 1.0 1.0\n",
            "[2, 7, 'MaxColumns', False]  1.0 | 1.0 1.0 1.0 1.0 1.0 1.0 1.0 1.0\n",
            "[2, 8, 'From', False]  1.0 | 1.0 1.0 1.0 1.0 1.0 1.0 1.0 1.0\n",
            "[2, 8, 'To', False]  1.0 | 1.0 1.0 1.0 1.0 1.0 1.0 1.0 1.0\n",
            "[2, 8, 'MeanColumns', False]  1.0 | 1.0 1.0 1.0 1.0 1.0 1.0 1.0 1.0\n",
            "[2, 8, 'MaxColumns', False]  1.0 | 1.0 1.0 1.0 1.0 1.0 1.0 1.0 1.0\n",
            "[2, 9, 'From', False]  1.0 | 1.0 1.0 1.0 1.0 1.0 1.0 1.0 1.0\n",
            "[2, 9, 'To', False]  1.0 | 1.0 1.0 1.0 1.0 1.0 1.0 1.0 1.0\n",
            "[2, 9, 'MeanColumns', False]  1.0 | 1.0 1.0 1.0 1.0 1.0 1.0 1.0 1.0\n",
            "[2, 9, 'MaxColumns', False]  1.0 | 1.0 1.0 1.0 1.0 1.0 1.0 1.0 1.0\n",
            "[2, 10, 'From', False]  1.0 | 1.0 1.0 1.0 1.0 1.0 1.0 1.0 1.0\n",
            "[2, 10, 'To', False]  1.0 | 1.0 1.0 1.0 1.0 1.0 1.0 1.0 1.0\n",
            "[2, 10, 'MeanColumns', False]  1.0 | 1.0 1.0 1.0 1.0 1.0 1.0 1.0 1.0\n",
            "[2, 10, 'MaxColumns', False]  1.0 | 1.0 1.0 1.0 1.0 1.0 1.0 1.0 1.0\n",
            "[2, 11, 'From', False]  1.0 | 1.0 1.0 1.0 1.0 1.0 1.0 1.0 1.0\n",
            "[2, 11, 'To', False]  1.0 | 1.0 1.0 1.0 1.0 1.0 1.0 1.0 1.0\n",
            "[2, 11, 'MeanColumns', False]  1.0 | 1.0 1.0 1.0 1.0 1.0 1.0 1.0 1.0\n",
            "[2, 11, 'MaxColumns', False]  1.0 | 1.0 1.0 1.0 1.0 1.0 1.0 1.0 1.0\n",
            "[3, 'Mean', 'From', False]  1.0 | 1.0 1.0 1.0 1.0 1.0 1.0 1.0 1.0\n",
            "[3, 'Mean', 'To', False]  1.0 | 1.0 1.0 1.0 1.0 1.0 1.0 1.0 1.0\n",
            "[3, 'Mean', 'MeanColumns', False]  1.0 | 1.0 1.0 1.0 1.0 1.0 1.0 1.0 1.0\n",
            "[3, 'Mean', 'MaxColumns', False]  1.0 | 1.0 1.0 1.0 1.0 1.0 1.0 1.0 1.0\n",
            "[3, 0, 'From', False]  1.0 | 1.0 1.0 1.0 1.0 1.0 1.0 1.0 1.0\n",
            "[3, 0, 'To', False]  1.0 | 1.0 1.0 1.0 1.0 1.0 1.0 1.0 1.0\n",
            "[3, 0, 'MeanColumns', False]  1.0 | 1.0 1.0 1.0 1.0 1.0 1.0 1.0 1.0\n",
            "[3, 0, 'MaxColumns', False]  1.0 | 1.0 1.0 1.0 1.0 1.0 1.0 1.0 1.0\n",
            "[3, 1, 'From', False]  1.0 | 1.0 1.0 1.0 1.0 1.0 1.0 1.0 1.0\n",
            "[3, 1, 'To', False]  1.0 | 1.0 1.0 1.0 1.0 1.0 1.0 1.0 1.0\n",
            "[3, 1, 'MeanColumns', False]  1.0 | 1.0 1.0 1.0 1.0 1.0 1.0 1.0 1.0\n",
            "[3, 1, 'MaxColumns', False]  1.0 | 1.0 1.0 1.0 1.0 1.0 1.0 1.0 1.0\n",
            "[3, 2, 'From', False]  1.0 | 1.0 1.0 1.0 1.0 1.0 1.0 1.0 1.0\n",
            "[3, 2, 'To', False]  1.0 | 1.0 1.0 1.0 1.0 1.0 1.0 1.0 1.0\n",
            "[3, 2, 'MeanColumns', False]  1.0 | 1.0 1.0 1.0 1.0 1.0 1.0 1.0 1.0\n",
            "[3, 2, 'MaxColumns', False]  1.0 | 1.0 1.0 1.0 1.0 1.0 1.0 1.0 1.0\n",
            "[3, 3, 'From', False]  1.0 | 1.0 1.0 1.0 1.0 1.0 1.0 1.0 1.0\n",
            "[3, 3, 'To', False]  1.0 | 1.0 1.0 1.0 1.0 1.0 1.0 1.0 1.0\n",
            "[3, 3, 'MeanColumns', False]  1.0 | 1.0 1.0 1.0 1.0 1.0 1.0 1.0 1.0\n",
            "[3, 3, 'MaxColumns', False]  1.0 | 1.0 1.0 1.0 1.0 1.0 1.0 1.0 1.0\n",
            "[3, 4, 'From', False]  1.0 | 1.0 1.0 1.0 1.0 1.0 1.0 1.0 1.0\n",
            "[3, 4, 'To', False]  1.0 | 1.0 1.0 1.0 1.0 1.0 1.0 1.0 1.0\n",
            "[3, 4, 'MeanColumns', False]  1.0 | 1.0 1.0 1.0 1.0 1.0 1.0 1.0 1.0\n",
            "[3, 4, 'MaxColumns', False]  1.0 | 1.0 1.0 1.0 1.0 1.0 1.0 1.0 1.0\n",
            "[3, 5, 'From', False]  1.0 | 1.0 1.0 1.0 1.0 1.0 1.0 1.0 1.0\n",
            "[3, 5, 'To', False]  1.0 | 1.0 1.0 1.0 1.0 1.0 1.0 1.0 1.0\n",
            "[3, 5, 'MeanColumns', False]  1.0 | 1.0 1.0 1.0 1.0 1.0 1.0 1.0 1.0\n",
            "[3, 5, 'MaxColumns', False]  1.0 | 1.0 1.0 1.0 1.0 1.0 1.0 1.0 1.0\n",
            "[3, 6, 'From', False]  1.0 | 1.0 1.0 1.0 1.0 1.0 1.0 1.0 1.0\n",
            "[3, 6, 'To', False]  1.0 | 1.0 1.0 1.0 1.0 1.0 1.0 1.0 1.0\n",
            "[3, 6, 'MeanColumns', False]  1.0 | 1.0 1.0 1.0 1.0 1.0 1.0 1.0 1.0\n",
            "[3, 6, 'MaxColumns', False]  1.0 | 1.0 1.0 1.0 1.0 1.0 1.0 1.0 1.0\n",
            "[3, 7, 'From', False]  1.0 | 1.0 1.0 1.0 1.0 1.0 1.0 1.0 1.0\n",
            "[3, 7, 'To', False]  1.0 | 1.0 1.0 1.0 1.0 1.0 1.0 1.0 1.0\n",
            "[3, 7, 'MeanColumns', False]  1.0 | 1.0 1.0 1.0 1.0 1.0 1.0 1.0 1.0\n",
            "[3, 7, 'MaxColumns', False]  1.0 | 1.0 1.0 1.0 1.0 1.0 1.0 1.0 1.0\n",
            "[3, 8, 'From', False]  1.0 | 1.0 1.0 1.0 1.0 1.0 1.0 1.0 1.0\n",
            "[3, 8, 'To', False]  1.0 | 1.0 1.0 1.0 1.0 1.0 1.0 1.0 1.0\n",
            "[3, 8, 'MeanColumns', False]  1.0 | 1.0 1.0 1.0 1.0 1.0 1.0 1.0 1.0\n",
            "[3, 8, 'MaxColumns', False]  1.0 | 1.0 1.0 1.0 1.0 1.0 1.0 1.0 1.0\n",
            "[3, 9, 'From', False]  1.0 | 1.0 1.0 1.0 1.0 1.0 1.0 1.0 1.0\n",
            "[3, 9, 'To', False]  1.0 | 1.0 1.0 1.0 1.0 1.0 1.0 1.0 1.0\n",
            "[3, 9, 'MeanColumns', False]  1.0 | 1.0 1.0 1.0 1.0 1.0 1.0 1.0 1.0\n",
            "[3, 9, 'MaxColumns', False]  1.0 | 1.0 1.0 1.0 1.0 1.0 1.0 1.0 1.0\n",
            "[3, 10, 'From', False]  1.0 | 1.0 1.0 1.0 1.0 1.0 1.0 1.0 1.0\n",
            "[3, 10, 'To', False]  1.0 | 1.0 1.0 1.0 1.0 1.0 1.0 1.0 1.0\n",
            "[3, 10, 'MeanColumns', False]  1.0 | 1.0 1.0 1.0 1.0 1.0 1.0 1.0 1.0\n",
            "[3, 10, 'MaxColumns', False]  1.0 | 1.0 1.0 1.0 1.0 1.0 1.0 1.0 1.0\n",
            "[3, 11, 'From', False]  1.0 | 1.0 1.0 1.0 1.0 1.0 1.0 1.0 1.0\n",
            "[3, 11, 'To', False]  1.0 | 1.0 1.0 1.0 1.0 1.0 1.0 1.0 1.0\n",
            "[3, 11, 'MeanColumns', False]  1.0 | 1.0 1.0 1.0 1.0 1.0 1.0 1.0 1.0\n",
            "[3, 11, 'MaxColumns', False]  1.0 | 1.0 1.0 1.0 1.0 1.0 1.0 1.0 1.0\n",
            "[4, 'Mean', 'From', False]  1.0 | 1.0 1.0 1.0 1.0 1.0 1.0 1.0 1.0\n",
            "[4, 'Mean', 'To', False]  1.0 | 1.0 1.0 1.0 1.0 1.0 1.0 1.0 1.0\n",
            "[4, 'Mean', 'MeanColumns', False]  1.0 | 1.0 1.0 1.0 1.0 1.0 1.0 1.0 1.0\n",
            "[4, 'Mean', 'MaxColumns', False]  1.0 | 1.0 1.0 1.0 1.0 1.0 1.0 1.0 1.0\n",
            "[4, 0, 'From', False]  1.0 | 1.0 1.0 1.0 1.0 1.0 1.0 1.0 1.0\n",
            "[4, 0, 'To', False]  1.0 | 1.0 1.0 1.0 1.0 1.0 1.0 1.0 1.0\n",
            "[4, 0, 'MeanColumns', False]  1.0 | 1.0 1.0 1.0 1.0 1.0 1.0 1.0 1.0\n",
            "[4, 0, 'MaxColumns', False]  1.0 | 1.0 1.0 1.0 1.0 1.0 1.0 1.0 1.0\n",
            "[4, 1, 'From', False]  1.0 | 1.0 1.0 1.0 1.0 1.0 1.0 1.0 1.0\n",
            "[4, 1, 'To', False]  1.0 | 1.0 1.0 1.0 1.0 1.0 1.0 1.0 1.0\n",
            "[4, 1, 'MeanColumns', False]  1.0 | 1.0 1.0 1.0 1.0 1.0 1.0 1.0 1.0\n",
            "[4, 1, 'MaxColumns', False]  1.0 | 1.0 1.0 1.0 1.0 1.0 1.0 1.0 1.0\n",
            "[4, 2, 'From', False]  1.0 | 1.0 1.0 1.0 1.0 1.0 1.0 1.0 1.0\n",
            "[4, 2, 'To', False]  1.0 | 1.0 1.0 1.0 1.0 1.0 1.0 1.0 1.0\n",
            "[4, 2, 'MeanColumns', False]  1.0 | 1.0 1.0 1.0 1.0 1.0 1.0 1.0 1.0\n",
            "[4, 2, 'MaxColumns', False]  1.0 | 1.0 1.0 1.0 1.0 1.0 1.0 1.0 1.0\n",
            "[4, 3, 'From', False]  1.0 | 1.0 1.0 1.0 1.0 1.0 1.0 1.0 1.0\n",
            "[4, 3, 'To', False]  1.0 | 1.0 1.0 1.0 1.0 1.0 1.0 1.0 1.0\n",
            "[4, 3, 'MeanColumns', False]  1.0 | 1.0 1.0 1.0 1.0 1.0 1.0 1.0 1.0\n",
            "[4, 3, 'MaxColumns', False]  1.0 | 1.0 1.0 1.0 1.0 1.0 1.0 1.0 1.0\n",
            "[4, 4, 'From', False]  1.0 | 1.0 1.0 1.0 1.0 1.0 1.0 1.0 1.0\n",
            "[4, 4, 'To', False]  1.0 | 1.0 1.0 1.0 1.0 1.0 1.0 1.0 1.0\n",
            "[4, 4, 'MeanColumns', False]  1.0 | 1.0 1.0 1.0 1.0 1.0 1.0 1.0 1.0\n",
            "[4, 4, 'MaxColumns', False]  1.0 | 1.0 1.0 1.0 1.0 1.0 1.0 1.0 1.0\n",
            "[4, 5, 'From', False]  1.0 | 1.0 1.0 1.0 1.0 1.0 1.0 1.0 1.0\n",
            "[4, 5, 'To', False]  1.0 | 1.0 1.0 1.0 1.0 1.0 1.0 1.0 1.0\n",
            "[4, 5, 'MeanColumns', False]  1.0 | 1.0 1.0 1.0 1.0 1.0 1.0 1.0 1.0\n",
            "[4, 5, 'MaxColumns', False]  1.0 | 1.0 1.0 1.0 1.0 1.0 1.0 1.0 1.0\n",
            "[4, 6, 'From', False]  1.0 | 1.0 1.0 1.0 1.0 1.0 1.0 1.0 1.0\n",
            "[4, 6, 'To', False]  1.0 | 1.0 1.0 1.0 1.0 1.0 1.0 1.0 1.0\n",
            "[4, 6, 'MeanColumns', False]  1.0 | 1.0 1.0 1.0 1.0 1.0 1.0 1.0 1.0\n",
            "[4, 6, 'MaxColumns', False]  1.0 | 1.0 1.0 1.0 1.0 1.0 1.0 1.0 1.0\n",
            "[4, 7, 'From', False]  1.0 | 1.0 1.0 1.0 1.0 1.0 1.0 1.0 1.0\n",
            "[4, 7, 'To', False]  1.0 | 1.0 1.0 1.0 1.0 1.0 1.0 1.0 1.0\n",
            "[4, 7, 'MeanColumns', False]  1.0 | 1.0 1.0 1.0 1.0 1.0 1.0 1.0 1.0\n",
            "[4, 7, 'MaxColumns', False]  1.0 | 1.0 1.0 1.0 1.0 1.0 1.0 1.0 1.0\n",
            "[4, 8, 'From', False]  1.0 | 1.0 1.0 1.0 1.0 1.0 1.0 1.0 1.0\n",
            "[4, 8, 'To', False]  1.0 | 1.0 1.0 1.0 1.0 1.0 1.0 1.0 1.0\n",
            "[4, 8, 'MeanColumns', False]  1.0 | 1.0 1.0 1.0 1.0 1.0 1.0 1.0 1.0\n",
            "[4, 8, 'MaxColumns', False]  1.0 | 1.0 1.0 1.0 1.0 1.0 1.0 1.0 1.0\n",
            "[4, 9, 'From', False]  1.0 | 1.0 1.0 1.0 1.0 1.0 1.0 1.0 1.0\n",
            "[4, 9, 'To', False]  1.0 | 1.0 1.0 1.0 1.0 1.0 1.0 1.0 1.0\n",
            "[4, 9, 'MeanColumns', False]  1.0 | 1.0 1.0 1.0 1.0 1.0 1.0 1.0 1.0\n",
            "[4, 9, 'MaxColumns', False]  1.0 | 1.0 1.0 1.0 1.0 1.0 1.0 1.0 1.0\n",
            "[4, 10, 'From', False]  1.0 | 1.0 1.0 1.0 1.0 1.0 1.0 1.0 1.0\n",
            "[4, 10, 'To', False]  1.0 | 1.0 1.0 1.0 1.0 1.0 1.0 1.0 1.0\n",
            "[4, 10, 'MeanColumns', False]  1.0 | 1.0 1.0 1.0 1.0 1.0 1.0 1.0 1.0\n",
            "[4, 10, 'MaxColumns', False]  1.0 | 1.0 1.0 1.0 1.0 1.0 1.0 1.0 1.0\n",
            "[4, 11, 'From', False]  1.0 | 1.0 1.0 1.0 1.0 1.0 1.0 1.0 1.0\n",
            "[4, 11, 'To', False]  1.0 | 1.0 1.0 1.0 1.0 1.0 1.0 1.0 1.0\n",
            "[4, 11, 'MeanColumns', False]  1.0 | 1.0 1.0 1.0 1.0 1.0 1.0 1.0 1.0\n",
            "[4, 11, 'MaxColumns', False]  1.0 | 1.0 1.0 1.0 1.0 1.0 1.0 1.0 1.0\n",
            "[5, 'Mean', 'From', False]  1.0 | 1.0 1.0 1.0 1.0 1.0 1.0 1.0 1.0\n",
            "[5, 'Mean', 'To', False]  1.0 | 1.0 1.0 1.0 1.0 1.0 1.0 1.0 1.0\n",
            "[5, 'Mean', 'MeanColumns', False]  1.0 | 1.0 1.0 1.0 1.0 1.0 1.0 1.0 1.0\n",
            "[5, 'Mean', 'MaxColumns', False]  1.0 | 1.0 1.0 1.0 1.0 1.0 1.0 1.0 1.0\n",
            "[5, 0, 'From', False]  1.0 | 1.0 1.0 1.0 1.0 1.0 1.0 1.0 1.0\n",
            "[5, 0, 'To', False]  1.0 | 1.0 1.0 1.0 1.0 1.0 1.0 1.0 1.0\n",
            "[5, 0, 'MeanColumns', False]  1.0 | 1.0 1.0 1.0 1.0 1.0 1.0 1.0 1.0\n",
            "[5, 0, 'MaxColumns', False]  1.0 | 1.0 1.0 1.0 1.0 1.0 1.0 1.0 1.0\n",
            "[5, 1, 'From', False]  1.0 | 1.0 1.0 1.0 1.0 1.0 1.0 1.0 1.0\n",
            "[5, 1, 'To', False]  1.0 | 1.0 1.0 1.0 1.0 1.0 1.0 1.0 1.0\n",
            "[5, 1, 'MeanColumns', False]  1.0 | 1.0 1.0 1.0 1.0 1.0 1.0 1.0 1.0\n",
            "[5, 1, 'MaxColumns', False]  1.0 | 1.0 1.0 1.0 1.0 1.0 1.0 1.0 1.0\n",
            "[5, 2, 'From', False]  1.0 | 1.0 1.0 1.0 1.0 1.0 1.0 1.0 1.0\n",
            "[5, 2, 'To', False]  1.0 | 1.0 1.0 1.0 1.0 1.0 1.0 1.0 1.0\n",
            "[5, 2, 'MeanColumns', False]  1.0 | 1.0 1.0 1.0 1.0 1.0 1.0 1.0 1.0\n",
            "[5, 2, 'MaxColumns', False]  1.0 | 1.0 1.0 1.0 1.0 1.0 1.0 1.0 1.0\n",
            "[5, 3, 'From', False]  1.0 | 1.0 1.0 1.0 1.0 1.0 1.0 1.0 1.0\n",
            "[5, 3, 'To', False]  1.0 | 1.0 1.0 1.0 1.0 1.0 1.0 1.0 1.0\n",
            "[5, 3, 'MeanColumns', False]  1.0 | 1.0 1.0 1.0 1.0 1.0 1.0 1.0 1.0\n",
            "[5, 3, 'MaxColumns', False]  1.0 | 1.0 1.0 1.0 1.0 1.0 1.0 1.0 1.0\n",
            "[5, 4, 'From', False]  1.0 | 1.0 1.0 1.0 1.0 1.0 1.0 1.0 1.0\n",
            "[5, 4, 'To', False]  1.0 | 1.0 1.0 1.0 1.0 1.0 1.0 1.0 1.0\n",
            "[5, 4, 'MeanColumns', False]  1.0 | 1.0 1.0 1.0 1.0 1.0 1.0 1.0 1.0\n",
            "[5, 4, 'MaxColumns', False]  1.0 | 1.0 1.0 1.0 1.0 1.0 1.0 1.0 1.0\n",
            "[5, 5, 'From', False]  1.0 | 1.0 1.0 1.0 1.0 1.0 1.0 1.0 1.0\n",
            "[5, 5, 'To', False]  1.0 | 1.0 1.0 1.0 1.0 1.0 1.0 1.0 1.0\n",
            "[5, 5, 'MeanColumns', False]  1.0 | 1.0 1.0 1.0 1.0 1.0 1.0 1.0 1.0\n",
            "[5, 5, 'MaxColumns', False]  1.0 | 1.0 1.0 1.0 1.0 1.0 1.0 1.0 1.0\n",
            "[5, 6, 'From', False]  1.0 | 1.0 1.0 1.0 1.0 1.0 1.0 1.0 1.0\n",
            "[5, 6, 'To', False]  1.0 | 1.0 1.0 1.0 1.0 1.0 1.0 1.0 1.0\n",
            "[5, 6, 'MeanColumns', False]  1.0 | 1.0 1.0 1.0 1.0 1.0 1.0 1.0 1.0\n",
            "[5, 6, 'MaxColumns', False]  1.0 | 1.0 1.0 1.0 1.0 1.0 1.0 1.0 1.0\n",
            "[5, 7, 'From', False]  1.0 | 1.0 1.0 1.0 1.0 1.0 1.0 1.0 1.0\n",
            "[5, 7, 'To', False]  1.0 | 1.0 1.0 1.0 1.0 1.0 1.0 1.0 1.0\n",
            "[5, 7, 'MeanColumns', False]  1.0 | 1.0 1.0 1.0 1.0 1.0 1.0 1.0 1.0\n",
            "[5, 7, 'MaxColumns', False]  1.0 | 1.0 1.0 1.0 1.0 1.0 1.0 1.0 1.0\n",
            "[5, 8, 'From', False]  1.0 | 1.0 1.0 1.0 1.0 1.0 1.0 1.0 1.0\n",
            "[5, 8, 'To', False]  1.0 | 1.0 1.0 1.0 1.0 1.0 1.0 1.0 1.0\n",
            "[5, 8, 'MeanColumns', False]  1.0 | 1.0 1.0 1.0 1.0 1.0 1.0 1.0 1.0\n",
            "[5, 8, 'MaxColumns', False]  1.0 | 1.0 1.0 1.0 1.0 1.0 1.0 1.0 1.0\n",
            "[5, 9, 'From', False]  1.0 | 1.0 1.0 1.0 1.0 1.0 1.0 1.0 1.0\n",
            "[5, 9, 'To', False]  1.0 | 1.0 1.0 1.0 1.0 1.0 1.0 1.0 1.0\n",
            "[5, 9, 'MeanColumns', False]  1.0 | 1.0 1.0 1.0 1.0 1.0 1.0 1.0 1.0\n",
            "[5, 9, 'MaxColumns', False]  1.0 | 1.0 1.0 1.0 1.0 1.0 1.0 1.0 1.0\n",
            "[5, 10, 'From', False]  1.0 | 1.0 1.0 1.0 1.0 1.0 1.0 1.0 1.0\n",
            "[5, 10, 'To', False]  1.0 | 1.0 1.0 1.0 1.0 1.0 1.0 1.0 1.0\n",
            "[5, 10, 'MeanColumns', False]  1.0 | 1.0 1.0 1.0 1.0 1.0 1.0 1.0 1.0\n",
            "[5, 10, 'MaxColumns', False]  1.0 | 1.0 1.0 1.0 1.0 1.0 1.0 1.0 1.0\n",
            "[5, 11, 'From', False]  1.0 | 1.0 1.0 1.0 1.0 1.0 1.0 1.0 1.0\n",
            "[5, 11, 'To', False]  1.0 | 1.0 1.0 1.0 1.0 1.0 1.0 1.0 1.0\n",
            "[5, 11, 'MeanColumns', False]  1.0 | 1.0 1.0 1.0 1.0 1.0 1.0 1.0 1.0\n",
            "[5, 11, 'MaxColumns', False]  1.0 | 1.0 1.0 1.0 1.0 1.0 1.0 1.0 1.0\n",
            "[6, 'Mean', 'From', False]  1.0 | 1.0 1.0 1.0 1.0 1.0 1.0 1.0 1.0\n",
            "[6, 'Mean', 'To', False]  1.0 | 1.0 1.0 1.0 1.0 1.0 1.0 1.0 1.0\n",
            "[6, 'Mean', 'MeanColumns', False]  1.0 | 1.0 1.0 1.0 1.0 1.0 1.0 1.0 1.0\n",
            "[6, 'Mean', 'MaxColumns', False]  1.0 | 1.0 1.0 1.0 1.0 1.0 1.0 1.0 1.0\n",
            "[6, 0, 'From', False]  1.0 | 1.0 1.0 1.0 1.0 1.0 1.0 1.0 1.0\n",
            "[6, 0, 'To', False]  1.0 | 1.0 1.0 1.0 1.0 1.0 1.0 1.0 1.0\n",
            "[6, 0, 'MeanColumns', False]  1.0 | 1.0 1.0 1.0 1.0 1.0 1.0 1.0 1.0\n",
            "[6, 0, 'MaxColumns', False]  1.0 | 1.0 1.0 1.0 1.0 1.0 1.0 1.0 1.0\n",
            "[6, 1, 'From', False]  1.0 | 1.0 1.0 1.0 1.0 1.0 1.0 1.0 1.0\n",
            "[6, 1, 'To', False]  1.0 | 1.0 1.0 1.0 1.0 1.0 1.0 1.0 1.0\n",
            "[6, 1, 'MeanColumns', False]  1.0 | 1.0 1.0 1.0 1.0 1.0 1.0 1.0 1.0\n",
            "[6, 1, 'MaxColumns', False]  1.0 | 1.0 1.0 1.0 1.0 1.0 1.0 1.0 1.0\n",
            "[6, 2, 'From', False]  1.0 | 1.0 1.0 1.0 1.0 1.0 1.0 1.0 1.0\n",
            "[6, 2, 'To', False]  1.0 | 1.0 1.0 1.0 1.0 1.0 1.0 1.0 1.0\n",
            "[6, 2, 'MeanColumns', False]  1.0 | 1.0 1.0 1.0 1.0 1.0 1.0 1.0 1.0\n",
            "[6, 2, 'MaxColumns', False]  1.0 | 1.0 1.0 1.0 1.0 1.0 1.0 1.0 1.0\n",
            "[6, 3, 'From', False]  1.0 | 1.0 1.0 1.0 1.0 1.0 1.0 1.0 1.0\n",
            "[6, 3, 'To', False]  1.0 | 1.0 1.0 1.0 1.0 1.0 1.0 1.0 1.0\n",
            "[6, 3, 'MeanColumns', False]  1.0 | 1.0 1.0 1.0 1.0 1.0 1.0 1.0 1.0\n",
            "[6, 3, 'MaxColumns', False]  1.0 | 1.0 1.0 1.0 1.0 1.0 1.0 1.0 1.0\n",
            "[6, 4, 'From', False]  1.0 | 1.0 1.0 1.0 1.0 1.0 1.0 1.0 1.0\n",
            "[6, 4, 'To', False]  1.0 | 1.0 1.0 1.0 1.0 1.0 1.0 1.0 1.0\n",
            "[6, 4, 'MeanColumns', False]  1.0 | 1.0 1.0 1.0 1.0 1.0 1.0 1.0 1.0\n",
            "[6, 4, 'MaxColumns', False]  1.0 | 1.0 1.0 1.0 1.0 1.0 1.0 1.0 1.0\n",
            "[6, 5, 'From', False]  1.0 | 1.0 1.0 1.0 1.0 1.0 1.0 1.0 1.0\n",
            "[6, 5, 'To', False]  1.0 | 1.0 1.0 1.0 1.0 1.0 1.0 1.0 1.0\n",
            "[6, 5, 'MeanColumns', False]  1.0 | 1.0 1.0 1.0 1.0 1.0 1.0 1.0 1.0\n",
            "[6, 5, 'MaxColumns', False]  1.0 | 1.0 1.0 1.0 1.0 1.0 1.0 1.0 1.0\n",
            "[6, 6, 'From', False]  1.0 | 1.0 1.0 1.0 1.0 1.0 1.0 1.0 1.0\n",
            "[6, 6, 'To', False]  1.0 | 1.0 1.0 1.0 1.0 1.0 1.0 1.0 1.0\n",
            "[6, 6, 'MeanColumns', False]  1.0 | 1.0 1.0 1.0 1.0 1.0 1.0 1.0 1.0\n",
            "[6, 6, 'MaxColumns', False]  1.0 | 1.0 1.0 1.0 1.0 1.0 1.0 1.0 1.0\n",
            "[6, 7, 'From', False]  1.0 | 1.0 1.0 1.0 1.0 1.0 1.0 1.0 1.0\n",
            "[6, 7, 'To', False]  1.0 | 1.0 1.0 1.0 1.0 1.0 1.0 1.0 1.0\n",
            "[6, 7, 'MeanColumns', False]  1.0 | 1.0 1.0 1.0 1.0 1.0 1.0 1.0 1.0\n",
            "[6, 7, 'MaxColumns', False]  1.0 | 1.0 1.0 1.0 1.0 1.0 1.0 1.0 1.0\n",
            "[6, 8, 'From', False]  1.0 | 1.0 1.0 1.0 1.0 1.0 1.0 1.0 1.0\n",
            "[6, 8, 'To', False]  1.0 | 1.0 1.0 1.0 1.0 1.0 1.0 1.0 1.0\n",
            "[6, 8, 'MeanColumns', False]  1.0 | 1.0 1.0 1.0 1.0 1.0 1.0 1.0 1.0\n",
            "[6, 8, 'MaxColumns', False]  1.0 | 1.0 1.0 1.0 1.0 1.0 1.0 1.0 1.0\n",
            "[6, 9, 'From', False]  1.0 | 1.0 1.0 1.0 1.0 1.0 1.0 1.0 1.0\n",
            "[6, 9, 'To', False]  1.0 | 1.0 1.0 1.0 1.0 1.0 1.0 1.0 1.0\n",
            "[6, 9, 'MeanColumns', False]  1.0 | 1.0 1.0 1.0 1.0 1.0 1.0 1.0 1.0\n",
            "[6, 9, 'MaxColumns', False]  1.0 | 1.0 1.0 1.0 1.0 1.0 1.0 1.0 1.0\n",
            "[6, 10, 'From', False]  1.0 | 1.0 1.0 1.0 1.0 1.0 1.0 1.0 1.0\n",
            "[6, 10, 'To', False]  1.0 | 1.0 1.0 1.0 1.0 1.0 1.0 1.0 1.0\n",
            "[6, 10, 'MeanColumns', False]  1.0 | 1.0 1.0 1.0 1.0 1.0 1.0 1.0 1.0\n",
            "[6, 10, 'MaxColumns', False]  1.0 | 1.0 1.0 1.0 1.0 1.0 1.0 1.0 1.0\n",
            "[6, 11, 'From', False]  1.0 | 1.0 1.0 1.0 1.0 1.0 1.0 1.0 1.0\n",
            "[6, 11, 'To', False]  1.0 | 1.0 1.0 1.0 1.0 1.0 1.0 1.0 1.0\n",
            "[6, 11, 'MeanColumns', False]  1.0 | 1.0 1.0 1.0 1.0 1.0 1.0 1.0 1.0\n",
            "[6, 11, 'MaxColumns', False]  1.0 | 1.0 1.0 1.0 1.0 1.0 1.0 1.0 1.0\n",
            "[7, 'Mean', 'From', False]  1.0 | 1.0 1.0 1.0 1.0 1.0 1.0 1.0 1.0\n",
            "[7, 'Mean', 'To', False]  1.0 | 1.0 1.0 1.0 1.0 1.0 1.0 1.0 1.0\n",
            "[7, 'Mean', 'MeanColumns', False]  1.0 | 1.0 1.0 1.0 1.0 1.0 1.0 1.0 1.0\n",
            "[7, 'Mean', 'MaxColumns', False]  1.0 | 1.0 1.0 1.0 1.0 1.0 1.0 1.0 1.0\n",
            "[7, 0, 'From', False]  1.0 | 1.0 1.0 1.0 1.0 1.0 1.0 1.0 1.0\n",
            "[7, 0, 'To', False]  1.0 | 1.0 1.0 1.0 1.0 1.0 1.0 1.0 1.0\n",
            "[7, 0, 'MeanColumns', False]  1.0 | 1.0 1.0 1.0 1.0 1.0 1.0 1.0 1.0\n",
            "[7, 0, 'MaxColumns', False]  1.0 | 1.0 1.0 1.0 1.0 1.0 1.0 1.0 1.0\n",
            "[7, 1, 'From', False]  1.0 | 1.0 1.0 1.0 1.0 1.0 1.0 1.0 1.0\n",
            "[7, 1, 'To', False]  1.0 | 1.0 1.0 1.0 1.0 1.0 1.0 1.0 1.0\n",
            "[7, 1, 'MeanColumns', False]  1.0 | 1.0 1.0 1.0 1.0 1.0 1.0 1.0 1.0\n",
            "[7, 1, 'MaxColumns', False]  1.0 | 1.0 1.0 1.0 1.0 1.0 1.0 1.0 1.0\n",
            "[7, 2, 'From', False]  1.0 | 1.0 1.0 1.0 1.0 1.0 1.0 1.0 1.0\n",
            "[7, 2, 'To', False]  1.0 | 1.0 1.0 1.0 1.0 1.0 1.0 1.0 1.0\n",
            "[7, 2, 'MeanColumns', False]  1.0 | 1.0 1.0 1.0 1.0 1.0 1.0 1.0 1.0\n",
            "[7, 2, 'MaxColumns', False]  1.0 | 1.0 1.0 1.0 1.0 1.0 1.0 1.0 1.0\n",
            "[7, 3, 'From', False]  1.0 | 1.0 1.0 1.0 1.0 1.0 1.0 1.0 1.0\n",
            "[7, 3, 'To', False]  1.0 | 1.0 1.0 1.0 1.0 1.0 1.0 1.0 1.0\n",
            "[7, 3, 'MeanColumns', False]  1.0 | 1.0 1.0 1.0 1.0 1.0 1.0 1.0 1.0\n",
            "[7, 3, 'MaxColumns', False]  1.0 | 1.0 1.0 1.0 1.0 1.0 1.0 1.0 1.0\n",
            "[7, 4, 'From', False]  1.0 | 1.0 1.0 1.0 1.0 1.0 1.0 1.0 1.0\n",
            "[7, 4, 'To', False]  1.0 | 1.0 1.0 1.0 1.0 1.0 1.0 1.0 1.0\n",
            "[7, 4, 'MeanColumns', False]  1.0 | 1.0 1.0 1.0 1.0 1.0 1.0 1.0 1.0\n",
            "[7, 4, 'MaxColumns', False]  1.0 | 1.0 1.0 1.0 1.0 1.0 1.0 1.0 1.0\n",
            "[7, 5, 'From', False]  1.0 | 1.0 1.0 1.0 1.0 1.0 1.0 1.0 1.0\n",
            "[7, 5, 'To', False]  1.0 | 1.0 1.0 1.0 1.0 1.0 1.0 1.0 1.0\n",
            "[7, 5, 'MeanColumns', False]  1.0 | 1.0 1.0 1.0 1.0 1.0 1.0 1.0 1.0\n",
            "[7, 5, 'MaxColumns', False]  1.0 | 1.0 1.0 1.0 1.0 1.0 1.0 1.0 1.0\n",
            "[7, 6, 'From', False]  1.0 | 1.0 1.0 1.0 1.0 1.0 1.0 1.0 1.0\n",
            "[7, 6, 'To', False]  1.0 | 1.0 1.0 1.0 1.0 1.0 1.0 1.0 1.0\n",
            "[7, 6, 'MeanColumns', False]  1.0 | 1.0 1.0 1.0 1.0 1.0 1.0 1.0 1.0\n",
            "[7, 6, 'MaxColumns', False]  1.0 | 1.0 1.0 1.0 1.0 1.0 1.0 1.0 1.0\n",
            "[7, 7, 'From', False]  1.0 | 1.0 1.0 1.0 1.0 1.0 1.0 1.0 1.0\n",
            "[7, 7, 'To', False]  1.0 | 1.0 1.0 1.0 1.0 1.0 1.0 1.0 1.0\n",
            "[7, 7, 'MeanColumns', False]  1.0 | 1.0 1.0 1.0 1.0 1.0 1.0 1.0 1.0\n",
            "[7, 7, 'MaxColumns', False]  1.0 | 1.0 1.0 1.0 1.0 1.0 1.0 1.0 1.0\n",
            "[7, 8, 'From', False]  1.0 | 1.0 1.0 1.0 1.0 1.0 1.0 1.0 1.0\n",
            "[7, 8, 'To', False]  1.0 | 1.0 1.0 1.0 1.0 1.0 1.0 1.0 1.0\n",
            "[7, 8, 'MeanColumns', False]  1.0 | 1.0 1.0 1.0 1.0 1.0 1.0 1.0 1.0\n",
            "[7, 8, 'MaxColumns', False]  1.0 | 1.0 1.0 1.0 1.0 1.0 1.0 1.0 1.0\n",
            "[7, 9, 'From', False]  1.0 | 1.0 1.0 1.0 1.0 1.0 1.0 1.0 1.0\n",
            "[7, 9, 'To', False]  1.0 | 1.0 1.0 1.0 1.0 1.0 1.0 1.0 1.0\n",
            "[7, 9, 'MeanColumns', False]  1.0 | 1.0 1.0 1.0 1.0 1.0 1.0 1.0 1.0\n",
            "[7, 9, 'MaxColumns', False]  1.0 | 1.0 1.0 1.0 1.0 1.0 1.0 1.0 1.0\n",
            "[7, 10, 'From', False]  1.0 | 1.0 1.0 1.0 1.0 1.0 1.0 1.0 1.0\n",
            "[7, 10, 'To', False]  1.0 | 1.0 1.0 1.0 1.0 1.0 1.0 1.0 1.0\n",
            "[7, 10, 'MeanColumns', False]  1.0 | 1.0 1.0 1.0 1.0 1.0 1.0 1.0 1.0\n",
            "[7, 10, 'MaxColumns', False]  1.0 | 1.0 1.0 1.0 1.0 1.0 1.0 1.0 1.0\n",
            "[7, 11, 'From', False]  1.0 | 1.0 1.0 1.0 1.0 1.0 1.0 1.0 1.0\n",
            "[7, 11, 'To', False]  1.0 | 1.0 1.0 1.0 1.0 1.0 1.0 1.0 1.0\n",
            "[7, 11, 'MeanColumns', False]  1.0 | 1.0 1.0 1.0 1.0 1.0 1.0 1.0 1.0\n",
            "[7, 11, 'MaxColumns', False]  1.0 | 1.0 1.0 1.0 1.0 1.0 1.0 1.0 1.0\n",
            "[8, 'Mean', 'From', False]  1.0 | 1.0 1.0 1.0 1.0 1.0 1.0 1.0 1.0\n",
            "[8, 'Mean', 'To', False]  1.0 | 1.0 1.0 1.0 1.0 1.0 1.0 1.0 1.0\n",
            "[8, 'Mean', 'MeanColumns', False]  1.0 | 1.0 1.0 1.0 1.0 1.0 1.0 1.0 1.0\n",
            "[8, 'Mean', 'MaxColumns', False]  1.0 | 1.0 1.0 1.0 1.0 1.0 1.0 1.0 1.0\n",
            "[8, 0, 'From', False]  1.0 | 1.0 1.0 1.0 1.0 1.0 1.0 1.0 1.0\n",
            "[8, 0, 'To', False]  1.0 | 1.0 1.0 1.0 1.0 1.0 1.0 1.0 1.0\n",
            "[8, 0, 'MeanColumns', False]  1.0 | 1.0 1.0 1.0 1.0 1.0 1.0 1.0 1.0\n",
            "[8, 0, 'MaxColumns', False]  1.0 | 1.0 1.0 1.0 1.0 1.0 1.0 1.0 1.0\n",
            "[8, 1, 'From', False]  1.0 | 1.0 1.0 1.0 1.0 1.0 1.0 1.0 1.0\n",
            "[8, 1, 'To', False]  1.0 | 1.0 1.0 1.0 1.0 1.0 1.0 1.0 1.0\n",
            "[8, 1, 'MeanColumns', False]  1.0 | 1.0 1.0 1.0 1.0 1.0 1.0 1.0 1.0\n",
            "[8, 1, 'MaxColumns', False]  1.0 | 1.0 1.0 1.0 1.0 1.0 1.0 1.0 1.0\n",
            "[8, 2, 'From', False]  1.0 | 1.0 1.0 1.0 1.0 1.0 1.0 1.0 1.0\n",
            "[8, 2, 'To', False]  1.0 | 1.0 1.0 1.0 1.0 1.0 1.0 1.0 1.0\n",
            "[8, 2, 'MeanColumns', False]  1.0 | 1.0 1.0 1.0 1.0 1.0 1.0 1.0 1.0\n",
            "[8, 2, 'MaxColumns', False]  1.0 | 1.0 1.0 1.0 1.0 1.0 1.0 1.0 1.0\n",
            "[8, 3, 'From', False]  1.0 | 1.0 1.0 1.0 1.0 1.0 1.0 1.0 1.0\n",
            "[8, 3, 'To', False]  1.0 | 1.0 1.0 1.0 1.0 1.0 1.0 1.0 1.0\n",
            "[8, 3, 'MeanColumns', False]  1.0 | 1.0 1.0 1.0 1.0 1.0 1.0 1.0 1.0\n",
            "[8, 3, 'MaxColumns', False]  1.0 | 1.0 1.0 1.0 1.0 1.0 1.0 1.0 1.0\n",
            "[8, 4, 'From', False]  1.0 | 1.0 1.0 1.0 1.0 1.0 1.0 1.0 1.0\n",
            "[8, 4, 'To', False]  1.0 | 1.0 1.0 1.0 1.0 1.0 1.0 1.0 1.0\n",
            "[8, 4, 'MeanColumns', False]  1.0 | 1.0 1.0 1.0 1.0 1.0 1.0 1.0 1.0\n",
            "[8, 4, 'MaxColumns', False]  1.0 | 1.0 1.0 1.0 1.0 1.0 1.0 1.0 1.0\n",
            "[8, 5, 'From', False]  1.0 | 1.0 1.0 1.0 1.0 1.0 1.0 1.0 1.0\n",
            "[8, 5, 'To', False]  1.0 | 1.0 1.0 1.0 1.0 1.0 1.0 1.0 1.0\n",
            "[8, 5, 'MeanColumns', False]  1.0 | 1.0 1.0 1.0 1.0 1.0 1.0 1.0 1.0\n",
            "[8, 5, 'MaxColumns', False]  1.0 | 1.0 1.0 1.0 1.0 1.0 1.0 1.0 1.0\n",
            "[8, 6, 'From', False]  1.0 | 1.0 1.0 1.0 1.0 1.0 1.0 1.0 1.0\n",
            "[8, 6, 'To', False]  1.0 | 1.0 1.0 1.0 1.0 1.0 1.0 1.0 1.0\n",
            "[8, 6, 'MeanColumns', False]  1.0 | 1.0 1.0 1.0 1.0 1.0 1.0 1.0 1.0\n",
            "[8, 6, 'MaxColumns', False]  1.0 | 1.0 1.0 1.0 1.0 1.0 1.0 1.0 1.0\n",
            "[8, 7, 'From', False]  1.0 | 1.0 1.0 1.0 1.0 1.0 1.0 1.0 1.0\n",
            "[8, 7, 'To', False]  1.0 | 1.0 1.0 1.0 1.0 1.0 1.0 1.0 1.0\n",
            "[8, 7, 'MeanColumns', False]  1.0 | 1.0 1.0 1.0 1.0 1.0 1.0 1.0 1.0\n",
            "[8, 7, 'MaxColumns', False]  1.0 | 1.0 1.0 1.0 1.0 1.0 1.0 1.0 1.0\n",
            "[8, 8, 'From', False]  1.0 | 1.0 1.0 1.0 1.0 1.0 1.0 1.0 1.0\n",
            "[8, 8, 'To', False]  1.0 | 1.0 1.0 1.0 1.0 1.0 1.0 1.0 1.0\n",
            "[8, 8, 'MeanColumns', False]  1.0 | 1.0 1.0 1.0 1.0 1.0 1.0 1.0 1.0\n",
            "[8, 8, 'MaxColumns', False]  1.0 | 1.0 1.0 1.0 1.0 1.0 1.0 1.0 1.0\n",
            "[8, 9, 'From', False]  1.0 | 1.0 1.0 1.0 1.0 1.0 1.0 1.0 1.0\n",
            "[8, 9, 'To', False]  1.0 | 1.0 1.0 1.0 1.0 1.0 1.0 1.0 1.0\n",
            "[8, 9, 'MeanColumns', False]  1.0 | 1.0 1.0 1.0 1.0 1.0 1.0 1.0 1.0\n",
            "[8, 9, 'MaxColumns', False]  1.0 | 1.0 1.0 1.0 1.0 1.0 1.0 1.0 1.0\n",
            "[8, 10, 'From', False]  1.0 | 1.0 1.0 1.0 1.0 1.0 1.0 1.0 1.0\n",
            "[8, 10, 'To', False]  1.0 | 1.0 1.0 1.0 1.0 1.0 1.0 1.0 1.0\n",
            "[8, 10, 'MeanColumns', False]  1.0 | 1.0 1.0 1.0 1.0 1.0 1.0 1.0 1.0\n",
            "[8, 10, 'MaxColumns', False]  1.0 | 1.0 1.0 1.0 1.0 1.0 1.0 1.0 1.0\n",
            "[8, 11, 'From', False]  1.0 | 1.0 1.0 1.0 1.0 1.0 1.0 1.0 1.0\n",
            "[8, 11, 'To', False]  1.0 | 1.0 1.0 1.0 1.0 1.0 1.0 1.0 1.0\n",
            "[8, 11, 'MeanColumns', False]  1.0 | 1.0 1.0 1.0 1.0 1.0 1.0 1.0 1.0\n",
            "[8, 11, 'MaxColumns', False]  1.0 | 1.0 1.0 1.0 1.0 1.0 1.0 1.0 1.0\n",
            "[9, 'Mean', 'From', False]  1.0 | 1.0 1.0 1.0 1.0 1.0 1.0 1.0 1.0\n",
            "[9, 'Mean', 'To', False]  1.0 | 1.0 1.0 1.0 1.0 1.0 1.0 1.0 1.0\n",
            "[9, 'Mean', 'MeanColumns', False]  1.0 | 1.0 1.0 1.0 1.0 1.0 1.0 1.0 1.0\n",
            "[9, 'Mean', 'MaxColumns', False]  1.0 | 1.0 1.0 1.0 1.0 1.0 1.0 1.0 1.0\n",
            "[9, 0, 'From', False]  1.0 | 1.0 1.0 1.0 1.0 1.0 1.0 1.0 1.0\n",
            "[9, 0, 'To', False]  1.0 | 1.0 1.0 1.0 1.0 1.0 1.0 1.0 1.0\n",
            "[9, 0, 'MeanColumns', False]  1.0 | 1.0 1.0 1.0 1.0 1.0 1.0 1.0 1.0\n",
            "[9, 0, 'MaxColumns', False]  1.0 | 1.0 1.0 1.0 1.0 1.0 1.0 1.0 1.0\n",
            "[9, 1, 'From', False]  1.0 | 1.0 1.0 1.0 1.0 1.0 1.0 1.0 1.0\n",
            "[9, 1, 'To', False]  1.0 | 1.0 1.0 1.0 1.0 1.0 1.0 1.0 1.0\n",
            "[9, 1, 'MeanColumns', False]  1.0 | 1.0 1.0 1.0 1.0 1.0 1.0 1.0 1.0\n",
            "[9, 1, 'MaxColumns', False]  1.0 | 1.0 1.0 1.0 1.0 1.0 1.0 1.0 1.0\n",
            "[9, 2, 'From', False]  1.0 | 1.0 1.0 1.0 1.0 1.0 1.0 1.0 1.0\n",
            "[9, 2, 'To', False]  1.0 | 1.0 1.0 1.0 1.0 1.0 1.0 1.0 1.0\n",
            "[9, 2, 'MeanColumns', False]  1.0 | 1.0 1.0 1.0 1.0 1.0 1.0 1.0 1.0\n",
            "[9, 2, 'MaxColumns', False]  1.0 | 1.0 1.0 1.0 1.0 1.0 1.0 1.0 1.0\n",
            "[9, 3, 'From', False]  1.0 | 1.0 1.0 1.0 1.0 1.0 1.0 1.0 1.0\n",
            "[9, 3, 'To', False]  1.0 | 1.0 1.0 1.0 1.0 1.0 1.0 1.0 1.0\n",
            "[9, 3, 'MeanColumns', False]  1.0 | 1.0 1.0 1.0 1.0 1.0 1.0 1.0 1.0\n",
            "[9, 3, 'MaxColumns', False]  1.0 | 1.0 1.0 1.0 1.0 1.0 1.0 1.0 1.0\n",
            "[9, 4, 'From', False]  1.0 | 1.0 1.0 1.0 1.0 1.0 1.0 1.0 1.0\n",
            "[9, 4, 'To', False]  1.0 | 1.0 1.0 1.0 1.0 1.0 1.0 1.0 1.0\n",
            "[9, 4, 'MeanColumns', False]  1.0 | 1.0 1.0 1.0 1.0 1.0 1.0 1.0 1.0\n",
            "[9, 4, 'MaxColumns', False]  1.0 | 1.0 1.0 1.0 1.0 1.0 1.0 1.0 1.0\n",
            "[9, 5, 'From', False]  1.0 | 1.0 1.0 1.0 1.0 1.0 1.0 1.0 1.0\n",
            "[9, 5, 'To', False]  1.0 | 1.0 1.0 1.0 1.0 1.0 1.0 1.0 1.0\n",
            "[9, 5, 'MeanColumns', False]  1.0 | 1.0 1.0 1.0 1.0 1.0 1.0 1.0 1.0\n",
            "[9, 5, 'MaxColumns', False]  1.0 | 1.0 1.0 1.0 1.0 1.0 1.0 1.0 1.0\n",
            "[9, 6, 'From', False]  1.0 | 1.0 1.0 1.0 1.0 1.0 1.0 1.0 1.0\n",
            "[9, 6, 'To', False]  1.0 | 1.0 1.0 1.0 1.0 1.0 1.0 1.0 1.0\n",
            "[9, 6, 'MeanColumns', False]  1.0 | 1.0 1.0 1.0 1.0 1.0 1.0 1.0 1.0\n",
            "[9, 6, 'MaxColumns', False]  1.0 | 1.0 1.0 1.0 1.0 1.0 1.0 1.0 1.0\n",
            "[9, 7, 'From', False]  1.0 | 1.0 1.0 1.0 1.0 1.0 1.0 1.0 1.0\n",
            "[9, 7, 'To', False]  1.0 | 1.0 1.0 1.0 1.0 1.0 1.0 1.0 1.0\n",
            "[9, 7, 'MeanColumns', False]  1.0 | 1.0 1.0 1.0 1.0 1.0 1.0 1.0 1.0\n",
            "[9, 7, 'MaxColumns', False]  1.0 | 1.0 1.0 1.0 1.0 1.0 1.0 1.0 1.0\n",
            "[9, 8, 'From', False]  1.0 | 1.0 1.0 1.0 1.0 1.0 1.0 1.0 1.0\n",
            "[9, 8, 'To', False]  1.0 | 1.0 1.0 1.0 1.0 1.0 1.0 1.0 1.0\n",
            "[9, 8, 'MeanColumns', False]  1.0 | 1.0 1.0 1.0 1.0 1.0 1.0 1.0 1.0\n",
            "[9, 8, 'MaxColumns', False]  1.0 | 1.0 1.0 1.0 1.0 1.0 1.0 1.0 1.0\n",
            "[9, 9, 'From', False]  1.0 | 1.0 1.0 1.0 1.0 1.0 1.0 1.0 1.0\n",
            "[9, 9, 'To', False]  1.0 | 1.0 1.0 1.0 1.0 1.0 1.0 1.0 1.0\n",
            "[9, 9, 'MeanColumns', False]  1.0 | 1.0 1.0 1.0 1.0 1.0 1.0 1.0 1.0\n",
            "[9, 9, 'MaxColumns', False]  1.0 | 1.0 1.0 1.0 1.0 1.0 1.0 1.0 1.0\n",
            "[9, 10, 'From', False]  1.0 | 1.0 1.0 1.0 1.0 1.0 1.0 1.0 1.0\n",
            "[9, 10, 'To', False]  1.0 | 1.0 1.0 1.0 1.0 1.0 1.0 1.0 1.0\n",
            "[9, 10, 'MeanColumns', False]  1.0 | 1.0 1.0 1.0 1.0 1.0 1.0 1.0 1.0\n",
            "[9, 10, 'MaxColumns', False]  1.0 | 1.0 1.0 1.0 1.0 1.0 1.0 1.0 1.0\n",
            "[9, 11, 'From', False]  1.0 | 1.0 1.0 1.0 1.0 1.0 1.0 1.0 1.0\n",
            "[9, 11, 'To', False]  1.0 | 1.0 1.0 1.0 1.0 1.0 1.0 1.0 1.0\n",
            "[9, 11, 'MeanColumns', False]  1.0 | 1.0 1.0 1.0 1.0 1.0 1.0 1.0 1.0\n",
            "[9, 11, 'MaxColumns', False]  1.0 | 1.0 1.0 1.0 1.0 1.0 1.0 1.0 1.0\n",
            "[10, 'Mean', 'From', False]  1.0 | 1.0 1.0 1.0 1.0 1.0 1.0 1.0 1.0\n",
            "[10, 'Mean', 'To', False]  1.0 | 1.0 1.0 1.0 1.0 1.0 1.0 1.0 1.0\n",
            "[10, 'Mean', 'MeanColumns', False]  1.0 | 1.0 1.0 1.0 1.0 1.0 1.0 1.0 1.0\n",
            "[10, 'Mean', 'MaxColumns', False]  1.0 | 1.0 1.0 1.0 1.0 1.0 1.0 1.0 1.0\n",
            "[10, 0, 'From', False]  1.0 | 1.0 1.0 1.0 1.0 1.0 1.0 1.0 1.0\n",
            "[10, 0, 'To', False]  1.0 | 1.0 1.0 1.0 1.0 1.0 1.0 1.0 1.0\n",
            "[10, 0, 'MeanColumns', False]  1.0 | 1.0 1.0 1.0 1.0 1.0 1.0 1.0 1.0\n",
            "[10, 0, 'MaxColumns', False]  1.0 | 1.0 1.0 1.0 1.0 1.0 1.0 1.0 1.0\n",
            "[10, 1, 'From', False]  1.0 | 1.0 1.0 1.0 1.0 1.0 1.0 1.0 1.0\n",
            "[10, 1, 'To', False]  1.0 | 1.0 1.0 1.0 1.0 1.0 1.0 1.0 1.0\n",
            "[10, 1, 'MeanColumns', False]  1.0 | 1.0 1.0 1.0 1.0 1.0 1.0 1.0 1.0\n",
            "[10, 1, 'MaxColumns', False]  1.0 | 1.0 1.0 1.0 1.0 1.0 1.0 1.0 1.0\n",
            "[10, 2, 'From', False]  1.0 | 1.0 1.0 1.0 1.0 1.0 1.0 1.0 1.0\n",
            "[10, 2, 'To', False]  1.0 | 1.0 1.0 1.0 1.0 1.0 1.0 1.0 1.0\n",
            "[10, 2, 'MeanColumns', False]  1.0 | 1.0 1.0 1.0 1.0 1.0 1.0 1.0 1.0\n",
            "[10, 2, 'MaxColumns', False]  1.0 | 1.0 1.0 1.0 1.0 1.0 1.0 1.0 1.0\n",
            "[10, 3, 'From', False]  1.0 | 1.0 1.0 1.0 1.0 1.0 1.0 1.0 1.0\n",
            "[10, 3, 'To', False]  1.0 | 1.0 1.0 1.0 1.0 1.0 1.0 1.0 1.0\n",
            "[10, 3, 'MeanColumns', False]  1.0 | 1.0 1.0 1.0 1.0 1.0 1.0 1.0 1.0\n",
            "[10, 3, 'MaxColumns', False]  1.0 | 1.0 1.0 1.0 1.0 1.0 1.0 1.0 1.0\n",
            "[10, 4, 'From', False]  1.0 | 1.0 1.0 1.0 1.0 1.0 1.0 1.0 1.0\n",
            "[10, 4, 'To', False]  1.0 | 1.0 1.0 1.0 1.0 1.0 1.0 1.0 1.0\n",
            "[10, 4, 'MeanColumns', False]  1.0 | 1.0 1.0 1.0 1.0 1.0 1.0 1.0 1.0\n",
            "[10, 4, 'MaxColumns', False]  1.0 | 1.0 1.0 1.0 1.0 1.0 1.0 1.0 1.0\n",
            "[10, 5, 'From', False]  1.0 | 1.0 1.0 1.0 1.0 1.0 1.0 1.0 1.0\n",
            "[10, 5, 'To', False]  1.0 | 1.0 1.0 1.0 1.0 1.0 1.0 1.0 1.0\n",
            "[10, 5, 'MeanColumns', False]  1.0 | 1.0 1.0 1.0 1.0 1.0 1.0 1.0 1.0\n",
            "[10, 5, 'MaxColumns', False]  1.0 | 1.0 1.0 1.0 1.0 1.0 1.0 1.0 1.0\n",
            "[10, 6, 'From', False]  1.0 | 1.0 1.0 1.0 1.0 1.0 1.0 1.0 1.0\n",
            "[10, 6, 'To', False]  1.0 | 1.0 1.0 1.0 1.0 1.0 1.0 1.0 1.0\n",
            "[10, 6, 'MeanColumns', False]  1.0 | 1.0 1.0 1.0 1.0 1.0 1.0 1.0 1.0\n",
            "[10, 6, 'MaxColumns', False]  1.0 | 1.0 1.0 1.0 1.0 1.0 1.0 1.0 1.0\n",
            "[10, 7, 'From', False]  1.0 | 1.0 1.0 1.0 1.0 1.0 1.0 1.0 1.0\n",
            "[10, 7, 'To', False]  1.0 | 1.0 1.0 1.0 1.0 1.0 1.0 1.0 1.0\n",
            "[10, 7, 'MeanColumns', False]  1.0 | 1.0 1.0 1.0 1.0 1.0 1.0 1.0 1.0\n",
            "[10, 7, 'MaxColumns', False]  1.0 | 1.0 1.0 1.0 1.0 1.0 1.0 1.0 1.0\n",
            "[10, 8, 'From', False]  1.0 | 1.0 1.0 1.0 1.0 1.0 1.0 1.0 1.0\n",
            "[10, 8, 'To', False]  1.0 | 1.0 1.0 1.0 1.0 1.0 1.0 1.0 1.0\n",
            "[10, 8, 'MeanColumns', False]  1.0 | 1.0 1.0 1.0 1.0 1.0 1.0 1.0 1.0\n",
            "[10, 8, 'MaxColumns', False]  1.0 | 1.0 1.0 1.0 1.0 1.0 1.0 1.0 1.0\n",
            "[10, 9, 'From', False]  1.0 | 1.0 1.0 1.0 1.0 1.0 1.0 1.0 1.0\n",
            "[10, 9, 'To', False]  1.0 | 1.0 1.0 1.0 1.0 1.0 1.0 1.0 1.0\n",
            "[10, 9, 'MeanColumns', False]  1.0 | 1.0 1.0 1.0 1.0 1.0 1.0 1.0 1.0\n",
            "[10, 9, 'MaxColumns', False]  1.0 | 1.0 1.0 1.0 1.0 1.0 1.0 1.0 1.0\n",
            "[10, 10, 'From', False]  1.0 | 1.0 1.0 1.0 1.0 1.0 1.0 1.0 1.0\n",
            "[10, 10, 'To', False]  1.0 | 1.0 1.0 1.0 1.0 1.0 1.0 1.0 1.0\n",
            "[10, 10, 'MeanColumns', False]  1.0 | 1.0 1.0 1.0 1.0 1.0 1.0 1.0 1.0\n",
            "[10, 10, 'MaxColumns', False]  1.0 | 1.0 1.0 1.0 1.0 1.0 1.0 1.0 1.0\n",
            "[10, 11, 'From', False]  1.0 | 1.0 1.0 1.0 1.0 1.0 1.0 1.0 1.0\n",
            "[10, 11, 'To', False]  1.0 | 1.0 1.0 1.0 1.0 1.0 1.0 1.0 1.0\n",
            "[10, 11, 'MeanColumns', False]  1.0 | 1.0 1.0 1.0 1.0 1.0 1.0 1.0 1.0\n",
            "[10, 11, 'MaxColumns', False]  1.0 | 1.0 1.0 1.0 1.0 1.0 1.0 1.0 1.0\n",
            "[11, 'Mean', 'From', False]  1.0 | 1.0 1.0 1.0 1.0 1.0 1.0 1.0 1.0\n",
            "[11, 'Mean', 'To', False]  1.0 | 1.0 1.0 1.0 1.0 1.0 1.0 1.0 1.0\n",
            "[11, 'Mean', 'MeanColumns', False]  1.0 | 1.0 1.0 1.0 1.0 1.0 1.0 1.0 1.0\n",
            "[11, 'Mean', 'MaxColumns', False]  1.0 | 1.0 1.0 1.0 1.0 1.0 1.0 1.0 1.0\n",
            "[11, 0, 'From', False]  1.0 | 1.0 1.0 1.0 1.0 1.0 1.0 1.0 1.0\n",
            "[11, 0, 'To', False]  1.0 | 1.0 1.0 1.0 1.0 1.0 1.0 1.0 1.0\n",
            "[11, 0, 'MeanColumns', False]  1.0 | 1.0 1.0 1.0 1.0 1.0 1.0 1.0 1.0\n",
            "[11, 0, 'MaxColumns', False]  1.0 | 1.0 1.0 1.0 1.0 1.0 1.0 1.0 1.0\n",
            "[11, 1, 'From', False]  1.0 | 1.0 1.0 1.0 1.0 1.0 1.0 1.0 1.0\n",
            "[11, 1, 'To', False]  1.0 | 1.0 1.0 1.0 1.0 1.0 1.0 1.0 1.0\n",
            "[11, 1, 'MeanColumns', False]  1.0 | 1.0 1.0 1.0 1.0 1.0 1.0 1.0 1.0\n",
            "[11, 1, 'MaxColumns', False]  1.0 | 1.0 1.0 1.0 1.0 1.0 1.0 1.0 1.0\n",
            "[11, 2, 'From', False]  1.0 | 1.0 1.0 1.0 1.0 1.0 1.0 1.0 1.0\n",
            "[11, 2, 'To', False]  1.0 | 1.0 1.0 1.0 1.0 1.0 1.0 1.0 1.0\n",
            "[11, 2, 'MeanColumns', False]  1.0 | 1.0 1.0 1.0 1.0 1.0 1.0 1.0 1.0\n",
            "[11, 2, 'MaxColumns', False]  1.0 | 1.0 1.0 1.0 1.0 1.0 1.0 1.0 1.0\n",
            "[11, 3, 'From', False]  1.0 | 1.0 1.0 1.0 1.0 1.0 1.0 1.0 1.0\n",
            "[11, 3, 'To', False]  1.0 | 1.0 1.0 1.0 1.0 1.0 1.0 1.0 1.0\n",
            "[11, 3, 'MeanColumns', False]  1.0 | 1.0 1.0 1.0 1.0 1.0 1.0 1.0 1.0\n",
            "[11, 3, 'MaxColumns', False]  1.0 | 1.0 1.0 1.0 1.0 1.0 1.0 1.0 1.0\n",
            "[11, 4, 'From', False]  1.0 | 1.0 1.0 1.0 1.0 1.0 1.0 1.0 1.0\n",
            "[11, 4, 'To', False]  1.0 | 1.0 1.0 1.0 1.0 1.0 1.0 1.0 1.0\n",
            "[11, 4, 'MeanColumns', False]  1.0 | 1.0 1.0 1.0 1.0 1.0 1.0 1.0 1.0\n",
            "[11, 4, 'MaxColumns', False]  1.0 | 1.0 1.0 1.0 1.0 1.0 1.0 1.0 1.0\n",
            "[11, 5, 'From', False]  1.0 | 1.0 1.0 1.0 1.0 1.0 1.0 1.0 1.0\n",
            "[11, 5, 'To', False]  1.0 | 1.0 1.0 1.0 1.0 1.0 1.0 1.0 1.0\n",
            "[11, 5, 'MeanColumns', False]  1.0 | 1.0 1.0 1.0 1.0 1.0 1.0 1.0 1.0\n",
            "[11, 5, 'MaxColumns', False]  1.0 | 1.0 1.0 1.0 1.0 1.0 1.0 1.0 1.0\n",
            "[11, 6, 'From', False]  1.0 | 1.0 1.0 1.0 1.0 1.0 1.0 1.0 1.0\n",
            "[11, 6, 'To', False]  1.0 | 1.0 1.0 1.0 1.0 1.0 1.0 1.0 1.0\n",
            "[11, 6, 'MeanColumns', False]  1.0 | 1.0 1.0 1.0 1.0 1.0 1.0 1.0 1.0\n",
            "[11, 6, 'MaxColumns', False]  1.0 | 1.0 1.0 1.0 1.0 1.0 1.0 1.0 1.0\n",
            "[11, 7, 'From', False]  1.0 | 1.0 1.0 1.0 1.0 1.0 1.0 1.0 1.0\n",
            "[11, 7, 'To', False]  1.0 | 1.0 1.0 1.0 1.0 1.0 1.0 1.0 1.0\n",
            "[11, 7, 'MeanColumns', False]  1.0 | 1.0 1.0 1.0 1.0 1.0 1.0 1.0 1.0\n",
            "[11, 7, 'MaxColumns', False]  1.0 | 1.0 1.0 1.0 1.0 1.0 1.0 1.0 1.0\n",
            "[11, 8, 'From', False]  1.0 | 1.0 1.0 1.0 1.0 1.0 1.0 1.0 1.0\n",
            "[11, 8, 'To', False]  1.0 | 1.0 1.0 1.0 1.0 1.0 1.0 1.0 1.0\n",
            "[11, 8, 'MeanColumns', False]  1.0 | 1.0 1.0 1.0 1.0 1.0 1.0 1.0 1.0\n",
            "[11, 8, 'MaxColumns', False]  1.0 | 1.0 1.0 1.0 1.0 1.0 1.0 1.0 1.0\n",
            "[11, 9, 'From', False]  1.0 | 1.0 1.0 1.0 1.0 1.0 1.0 1.0 1.0\n",
            "[11, 9, 'To', False]  1.0 | 1.0 1.0 1.0 1.0 1.0 1.0 1.0 1.0\n",
            "[11, 9, 'MeanColumns', False]  1.0 | 1.0 1.0 1.0 1.0 1.0 1.0 1.0 1.0\n",
            "[11, 9, 'MaxColumns', False]  1.0 | 1.0 1.0 1.0 1.0 1.0 1.0 1.0 1.0\n",
            "[11, 10, 'From', False]  1.0 | 1.0 1.0 1.0 1.0 1.0 1.0 1.0 1.0\n",
            "[11, 10, 'To', False]  1.0 | 1.0 1.0 1.0 1.0 1.0 1.0 1.0 1.0\n",
            "[11, 10, 'MeanColumns', False]  1.0 | 1.0 1.0 1.0 1.0 1.0 1.0 1.0 1.0\n",
            "[11, 10, 'MaxColumns', False]  1.0 | 1.0 1.0 1.0 1.0 1.0 1.0 1.0 1.0\n",
            "[11, 11, 'From', False]  1.0 | 1.0 1.0 1.0 1.0 1.0 1.0 1.0 1.0\n",
            "[11, 11, 'To', False]  1.0 | 1.0 1.0 1.0 1.0 1.0 1.0 1.0 1.0\n",
            "[11, 11, 'MeanColumns', False]  1.0 | 1.0 1.0 1.0 1.0 1.0 1.0 1.0 1.0\n",
            "[11, 11, 'MaxColumns', False]  1.0 | 1.0 1.0 1.0 1.0 1.0 1.0 1.0 1.0\n"
          ]
        }
      ],
      "source": [
        "print_results(file_name+' (P)', conf, metricsP, label_names)"
      ]
    },
    {
      "cell_type": "markdown",
      "metadata": {
        "id": "tE9pKrMB_CVd"
      },
      "source": [
        "We calculate the best attention setup using Optimus variations (we do not use the Optimus implementation script at this step)."
      ]
    },
    {
      "cell_type": "code",
      "execution_count": null,
      "metadata": {
        "colab": {
          "base_uri": "https://localhost:8080/"
        },
        "id": "cKYT7jQM_GTM",
        "outputId": "f08cd90b-aeee-43e3-8725-7f7ddabcd101"
      },
      "outputs": [
        {
          "output_type": "stream",
          "name": "stdout",
          "text": [
            "Baseline: 0.016184553026464526  and NZW: 1.0\n",
            "Max Across: 0.03431235402967694  and NZW: 1.0\n",
            "Per Label Per Instance: 0.20042428202728987  and NZW:  1.0\n",
            "Per Instance: 0.08858631179198989  and NZW:  1.0\n"
          ]
        }
      ],
      "source": [
        "print_results_ap(metrics, label_names, conf)"
      ]
    },
    {
      "cell_type": "code",
      "execution_count": null,
      "metadata": {
        "colab": {
          "base_uri": "https://localhost:8080/"
        },
        "id": "47-xeziA_Hz0",
        "outputId": "4b9c5c8b-4c03-444b-d9ab-19c730a28b9d"
      },
      "outputs": [
        {
          "output_type": "stream",
          "name": "stdout",
          "text": [
            "Baseline: 0.30973743971886836  and NZW: 1.0\n",
            "Max Across: 0.38302775019284174  and NZW: 1.0\n",
            "Per Label Per Instance: 0.58029645110402  and NZW:  1.0\n"
          ]
        },
        {
          "output_type": "stream",
          "name": "stderr",
          "text": [
            "/usr/local/lib/python3.10/dist-packages/numpy/core/fromnumeric.py:3474: RuntimeWarning: Mean of empty slice.\n",
            "  return _methods._mean(a, axis=axis, dtype=dtype,\n"
          ]
        },
        {
          "output_type": "stream",
          "name": "stdout",
          "text": [
            "Per Instance: 0.47833335912774183  and NZW:  1.0\n"
          ]
        }
      ],
      "source": [
        "print_results_ap(metricsP, label_names, conf)"
      ]
    }
  ],
  "metadata": {
    "accelerator": "GPU",
    "colab": {
      "machine_shape": "hm",
      "provenance": []
    },
    "gpuClass": "standard",
    "kernelspec": {
      "display_name": "Python 3",
      "name": "python3"
    },
    "language_info": {
      "name": "python"
    },
    "widgets": {
      "application/vnd.jupyter.widget-state+json": {
        "1ba3b44c442a40908cdccd6dbc65f748": {
          "model_module": "@jupyter-widgets/controls",
          "model_module_version": "1.5.0",
          "model_name": "DescriptionStyleModel",
          "state": {
            "_model_module": "@jupyter-widgets/controls",
            "_model_module_version": "1.5.0",
            "_model_name": "DescriptionStyleModel",
            "_view_count": null,
            "_view_module": "@jupyter-widgets/base",
            "_view_module_version": "1.2.0",
            "_view_name": "StyleView",
            "description_width": ""
          }
        },
        "32ff092a95524f129f75de77bf47eb2c": {
          "model_module": "@jupyter-widgets/controls",
          "model_module_version": "1.5.0",
          "model_name": "DescriptionStyleModel",
          "state": {
            "_model_module": "@jupyter-widgets/controls",
            "_model_module_version": "1.5.0",
            "_model_name": "DescriptionStyleModel",
            "_view_count": null,
            "_view_module": "@jupyter-widgets/base",
            "_view_module_version": "1.2.0",
            "_view_name": "StyleView",
            "description_width": ""
          }
        },
        "4b5526cc394841bda85ce1097d138b9a": {
          "model_module": "@jupyter-widgets/controls",
          "model_module_version": "1.5.0",
          "model_name": "HTMLModel",
          "state": {
            "_dom_classes": [],
            "_model_module": "@jupyter-widgets/controls",
            "_model_module_version": "1.5.0",
            "_model_name": "HTMLModel",
            "_view_count": null,
            "_view_module": "@jupyter-widgets/controls",
            "_view_module_version": "1.5.0",
            "_view_name": "HTMLView",
            "description": "",
            "description_tooltip": null,
            "layout": "IPY_MODEL_92f9f2be5d774ae48495b86aefd503b0",
            "placeholder": "​",
            "style": "IPY_MODEL_1ba3b44c442a40908cdccd6dbc65f748",
            "value": "Downloading: 100%"
          }
        },
        "92f9f2be5d774ae48495b86aefd503b0": {
          "model_module": "@jupyter-widgets/base",
          "model_module_version": "1.2.0",
          "model_name": "LayoutModel",
          "state": {
            "_model_module": "@jupyter-widgets/base",
            "_model_module_version": "1.2.0",
            "_model_name": "LayoutModel",
            "_view_count": null,
            "_view_module": "@jupyter-widgets/base",
            "_view_module_version": "1.2.0",
            "_view_name": "LayoutView",
            "align_content": null,
            "align_items": null,
            "align_self": null,
            "border": null,
            "bottom": null,
            "display": null,
            "flex": null,
            "flex_flow": null,
            "grid_area": null,
            "grid_auto_columns": null,
            "grid_auto_flow": null,
            "grid_auto_rows": null,
            "grid_column": null,
            "grid_gap": null,
            "grid_row": null,
            "grid_template_areas": null,
            "grid_template_columns": null,
            "grid_template_rows": null,
            "height": null,
            "justify_content": null,
            "justify_items": null,
            "left": null,
            "margin": null,
            "max_height": null,
            "max_width": null,
            "min_height": null,
            "min_width": null,
            "object_fit": null,
            "object_position": null,
            "order": null,
            "overflow": null,
            "overflow_x": null,
            "overflow_y": null,
            "padding": null,
            "right": null,
            "top": null,
            "visibility": null,
            "width": null
          }
        },
        "a3d8c84fbbad4fdd82f8e59729352fc1": {
          "model_module": "@jupyter-widgets/controls",
          "model_module_version": "1.5.0",
          "model_name": "FloatProgressModel",
          "state": {
            "_dom_classes": [],
            "_model_module": "@jupyter-widgets/controls",
            "_model_module_version": "1.5.0",
            "_model_name": "FloatProgressModel",
            "_view_count": null,
            "_view_module": "@jupyter-widgets/controls",
            "_view_module_version": "1.5.0",
            "_view_name": "ProgressView",
            "bar_style": "success",
            "description": "",
            "description_tooltip": null,
            "layout": "IPY_MODEL_bbbe2389be4b4e65ad69222cb7ffa506",
            "max": 501200538,
            "min": 0,
            "orientation": "horizontal",
            "style": "IPY_MODEL_e26cb35a382446a9b051faeed4dec526",
            "value": 501200538
          }
        },
        "b8044cbb6dc3422f98ab7807bb8b134f": {
          "model_module": "@jupyter-widgets/base",
          "model_module_version": "1.2.0",
          "model_name": "LayoutModel",
          "state": {
            "_model_module": "@jupyter-widgets/base",
            "_model_module_version": "1.2.0",
            "_model_name": "LayoutModel",
            "_view_count": null,
            "_view_module": "@jupyter-widgets/base",
            "_view_module_version": "1.2.0",
            "_view_name": "LayoutView",
            "align_content": null,
            "align_items": null,
            "align_self": null,
            "border": null,
            "bottom": null,
            "display": null,
            "flex": null,
            "flex_flow": null,
            "grid_area": null,
            "grid_auto_columns": null,
            "grid_auto_flow": null,
            "grid_auto_rows": null,
            "grid_column": null,
            "grid_gap": null,
            "grid_row": null,
            "grid_template_areas": null,
            "grid_template_columns": null,
            "grid_template_rows": null,
            "height": null,
            "justify_content": null,
            "justify_items": null,
            "left": null,
            "margin": null,
            "max_height": null,
            "max_width": null,
            "min_height": null,
            "min_width": null,
            "object_fit": null,
            "object_position": null,
            "order": null,
            "overflow": null,
            "overflow_x": null,
            "overflow_y": null,
            "padding": null,
            "right": null,
            "top": null,
            "visibility": null,
            "width": null
          }
        },
        "bbbe2389be4b4e65ad69222cb7ffa506": {
          "model_module": "@jupyter-widgets/base",
          "model_module_version": "1.2.0",
          "model_name": "LayoutModel",
          "state": {
            "_model_module": "@jupyter-widgets/base",
            "_model_module_version": "1.2.0",
            "_model_name": "LayoutModel",
            "_view_count": null,
            "_view_module": "@jupyter-widgets/base",
            "_view_module_version": "1.2.0",
            "_view_name": "LayoutView",
            "align_content": null,
            "align_items": null,
            "align_self": null,
            "border": null,
            "bottom": null,
            "display": null,
            "flex": null,
            "flex_flow": null,
            "grid_area": null,
            "grid_auto_columns": null,
            "grid_auto_flow": null,
            "grid_auto_rows": null,
            "grid_column": null,
            "grid_gap": null,
            "grid_row": null,
            "grid_template_areas": null,
            "grid_template_columns": null,
            "grid_template_rows": null,
            "height": null,
            "justify_content": null,
            "justify_items": null,
            "left": null,
            "margin": null,
            "max_height": null,
            "max_width": null,
            "min_height": null,
            "min_width": null,
            "object_fit": null,
            "object_position": null,
            "order": null,
            "overflow": null,
            "overflow_x": null,
            "overflow_y": null,
            "padding": null,
            "right": null,
            "top": null,
            "visibility": null,
            "width": null
          }
        },
        "c289c1bce27d4a3292f62b7e8e3ef8c6": {
          "model_module": "@jupyter-widgets/controls",
          "model_module_version": "1.5.0",
          "model_name": "HBoxModel",
          "state": {
            "_dom_classes": [],
            "_model_module": "@jupyter-widgets/controls",
            "_model_module_version": "1.5.0",
            "_model_name": "HBoxModel",
            "_view_count": null,
            "_view_module": "@jupyter-widgets/controls",
            "_view_module_version": "1.5.0",
            "_view_name": "HBoxView",
            "box_style": "",
            "children": [
              "IPY_MODEL_4b5526cc394841bda85ce1097d138b9a",
              "IPY_MODEL_a3d8c84fbbad4fdd82f8e59729352fc1",
              "IPY_MODEL_ea8a85ad3fb94d4aa66b46656216d63d"
            ],
            "layout": "IPY_MODEL_b8044cbb6dc3422f98ab7807bb8b134f"
          }
        },
        "df3f8afb3d624ae8a1393b82fb4c11fa": {
          "model_module": "@jupyter-widgets/base",
          "model_module_version": "1.2.0",
          "model_name": "LayoutModel",
          "state": {
            "_model_module": "@jupyter-widgets/base",
            "_model_module_version": "1.2.0",
            "_model_name": "LayoutModel",
            "_view_count": null,
            "_view_module": "@jupyter-widgets/base",
            "_view_module_version": "1.2.0",
            "_view_name": "LayoutView",
            "align_content": null,
            "align_items": null,
            "align_self": null,
            "border": null,
            "bottom": null,
            "display": null,
            "flex": null,
            "flex_flow": null,
            "grid_area": null,
            "grid_auto_columns": null,
            "grid_auto_flow": null,
            "grid_auto_rows": null,
            "grid_column": null,
            "grid_gap": null,
            "grid_row": null,
            "grid_template_areas": null,
            "grid_template_columns": null,
            "grid_template_rows": null,
            "height": null,
            "justify_content": null,
            "justify_items": null,
            "left": null,
            "margin": null,
            "max_height": null,
            "max_width": null,
            "min_height": null,
            "min_width": null,
            "object_fit": null,
            "object_position": null,
            "order": null,
            "overflow": null,
            "overflow_x": null,
            "overflow_y": null,
            "padding": null,
            "right": null,
            "top": null,
            "visibility": null,
            "width": null
          }
        },
        "e26cb35a382446a9b051faeed4dec526": {
          "model_module": "@jupyter-widgets/controls",
          "model_module_version": "1.5.0",
          "model_name": "ProgressStyleModel",
          "state": {
            "_model_module": "@jupyter-widgets/controls",
            "_model_module_version": "1.5.0",
            "_model_name": "ProgressStyleModel",
            "_view_count": null,
            "_view_module": "@jupyter-widgets/base",
            "_view_module_version": "1.2.0",
            "_view_name": "StyleView",
            "bar_color": null,
            "description_width": ""
          }
        },
        "ea8a85ad3fb94d4aa66b46656216d63d": {
          "model_module": "@jupyter-widgets/controls",
          "model_module_version": "1.5.0",
          "model_name": "HTMLModel",
          "state": {
            "_dom_classes": [],
            "_model_module": "@jupyter-widgets/controls",
            "_model_module_version": "1.5.0",
            "_model_name": "HTMLModel",
            "_view_count": null,
            "_view_module": "@jupyter-widgets/controls",
            "_view_module_version": "1.5.0",
            "_view_name": "HTMLView",
            "description": "",
            "description_tooltip": null,
            "layout": "IPY_MODEL_df3f8afb3d624ae8a1393b82fb4c11fa",
            "placeholder": "​",
            "style": "IPY_MODEL_32ff092a95524f129f75de77bf47eb2c",
            "value": " 478M/478M [00:06&lt;00:00, 77.3MB/s]"
          }
        }
      }
    }
  },
  "nbformat": 4,
  "nbformat_minor": 0
}